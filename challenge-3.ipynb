{
 "cells": [
  {
   "cell_type": "markdown",
   "id": "0809e785",
   "metadata": {},
   "source": [
    "# 1. Read your exported json file from the data folder"
   ]
  },
  {
   "cell_type": "code",
   "execution_count": 7,
   "id": "19692fe6",
   "metadata": {},
   "outputs": [],
   "source": [
    "import json"
   ]
  },
  {
   "cell_type": "code",
   "execution_count": 8,
   "id": "9b373771",
   "metadata": {},
   "outputs": [],
   "source": [
    "with open('../lab-coffee-shops/data/coffe_shops.json') as f:\n",
    "    data = json.load(f)"
   ]
  },
  {
   "cell_type": "code",
   "execution_count": 9,
   "id": "ea0c2627",
   "metadata": {},
   "outputs": [
    {
     "data": {
      "text/plain": [
       "{'name': {'0': 'Skye coffee co',\n",
       "  '1': 'Cafeteria Botanica',\n",
       "  '2': 'Bar Sancho',\n",
       "  '3': 'Syra Coffee Poblenou',\n",
       "  '4': 'Espai Joliu'},\n",
       " 'geocodes': {'0': {'main': {'latitude': 41.396876, 'longitude': 2.191489},\n",
       "   'roof': {'latitude': 41.396876, 'longitude': 2.191489}},\n",
       "  '1': {'main': {'latitude': 41.398044, 'longitude': 2.191915}},\n",
       "  '2': {'main': {'latitude': 41.397037, 'longitude': 2.187577},\n",
       "   'roof': {'latitude': 41.397037, 'longitude': 2.187577}},\n",
       "  '3': {'main': {'latitude': 41.396518, 'longitude': 2.19417},\n",
       "   'roof': {'latitude': 41.396518, 'longitude': 2.19417}},\n",
       "  '4': {'main': {'latitude': 41.398735, 'longitude': 2.195069},\n",
       "   'roof': {'latitude': 41.398735, 'longitude': 2.195069}}}}"
      ]
     },
     "execution_count": 9,
     "metadata": {},
     "output_type": "execute_result"
    }
   ],
   "source": [
    "data"
   ]
  },
  {
   "cell_type": "markdown",
   "id": "2f3f4a1b",
   "metadata": {},
   "source": [
    "# 2. Plot a map with the coffee shops"
   ]
  },
  {
   "cell_type": "code",
   "execution_count": null,
   "id": "644bbf42",
   "metadata": {},
   "outputs": [],
   "source": [
    "import geopandas as gdp\n",
    "from cartoframes.viz import Map, Layer, popup_element"
   ]
  },
  {
   "cell_type": "code",
   "execution_count": null,
   "id": "0938676d",
   "metadata": {},
   "outputs": [],
   "source": []
  },
  {
   "cell_type": "markdown",
   "id": "9e0764d4",
   "metadata": {},
   "source": [
    "After pushing, view your own notebook on [nbviewer](https://nbviewer.org/)"
   ]
  }
 ],
 "metadata": {
  "kernelspec": {
   "display_name": "ironhack",
   "language": "python",
   "name": "ironhack"
  },
  "language_info": {
   "codemirror_mode": {
    "name": "ipython",
    "version": 3
   },
   "file_extension": ".py",
   "mimetype": "text/x-python",
   "name": "python",
   "nbconvert_exporter": "python",
   "pygments_lexer": "ipython3",
   "version": "3.9.12"
  },
  "toc": {
   "base_numbering": 1,
   "nav_menu": {},
   "number_sections": true,
   "sideBar": true,
   "skip_h1_title": false,
   "title_cell": "Table of Contents",
   "title_sidebar": "Contents",
   "toc_cell": false,
   "toc_position": {},
   "toc_section_display": true,
   "toc_window_display": true
  }
 },
 "nbformat": 4,
 "nbformat_minor": 5
}
