{
 "cells": [
  {
   "cell_type": "markdown",
   "id": "0809e785",
   "metadata": {},
   "source": [
    "# 1. Read your exported json file from the data folder"
   ]
  },
  {
   "cell_type": "code",
   "execution_count": 1,
   "id": "9b373771",
   "metadata": {},
   "outputs": [
    {
     "name": "stdout",
     "output_type": "stream",
     "text": [
      "{'results': [{'fsq_id': '4d0e497a7d28721e9070fd20', 'categories': [{'id': 13145, 'name': 'Fast Food Restaurant', 'icon': {'prefix': 'https://ss3.4sqi.net/img/categories_v2/food/fastfood_', 'suffix': '.png'}}], 'chains': [], 'distance': 7172, 'geocodes': {'main': {'latitude': 35.851613, 'longitude': 14.494035}}, 'link': '/v3/places/4d0e497a7d28721e9070fd20', 'location': {'address': 'Aviation St.', 'country': 'MT', 'cross_street': 'MLA Airport', 'formatted_address': 'Aviation St. (MLA Airport), Kirkop', 'locality': 'Kirkop', 'region': 'Kirkop'}, 'name': \"McDonald's\", 'related_places': {}, 'timezone': 'Europe/Malta'}, {'fsq_id': '533ef5c1498e1eb6bc9bef2b', 'categories': [{'id': 13145, 'name': 'Fast Food Restaurant', 'icon': {'prefix': 'https://ss3.4sqi.net/img/categories_v2/food/fastfood_', 'suffix': '.png'}}], 'chains': [], 'distance': 3759, 'geocodes': {'main': {'latitude': 35.916992, 'longitude': 14.455188}}, 'link': '/v3/places/533ef5c1498e1eb6bc9bef2b', 'location': {'country': 'MT', 'cross_street': '', 'formatted_address': ''}, 'name': \"McDonald's\", 'related_places': {}, 'timezone': 'Europe/Malta'}, {'fsq_id': '5352ac34498ed4c1fd3f1785', 'categories': [{'id': 13145, 'name': 'Fast Food Restaurant', 'icon': {'prefix': 'https://ss3.4sqi.net/img/categories_v2/food/fastfood_', 'suffix': '.png'}}], 'chains': [], 'distance': 1837, 'geocodes': {'main': {'latitude': 35.906162, 'longitude': 14.42568}}, 'link': '/v3/places/5352ac34498ed4c1fd3f1785', 'location': {'address': 'Naxxar Road', 'country': 'MT', 'cross_street': '', 'formatted_address': 'Naxxar Road, Gharghur', 'locality': 'Gharghur'}, 'name': \"McDonald's\", 'related_places': {}, 'timezone': 'Europe/Malta'}, {'fsq_id': '51a14ae7498ec461cfafa1b4', 'categories': [{'id': 13145, 'name': 'Fast Food Restaurant', 'icon': {'prefix': 'https://ss3.4sqi.net/img/categories_v2/food/fastfood_', 'suffix': '.png'}}], 'chains': [], 'distance': 7169, 'geocodes': {'main': {'latitude': 35.90869, 'longitude': 14.50623}}, 'link': '/v3/places/51a14ae7498ec461cfafa1b4', 'location': {'address': 'The Strand', 'country': 'MT', 'formatted_address': 'The Strand, Sliema', 'locality': 'Sliema'}, 'name': \"McDonald's\", 'related_places': {}, 'timezone': 'Europe/Malta'}, {'fsq_id': '4bbf093e82a2ef3b2d1e2cd2', 'categories': [{'id': 13145, 'name': 'Fast Food Restaurant', 'icon': {'prefix': 'https://ss3.4sqi.net/img/categories_v2/food/fastfood_', 'suffix': '.png'}}], 'chains': [], 'distance': 3071, 'geocodes': {'main': {'latitude': 35.896469, 'longitude': 14.463171}}, 'link': '/v3/places/4bbf093e82a2ef3b2d1e2cd2', 'location': {'address': 'Valley Rd', 'country': 'MT', 'cross_street': '', 'formatted_address': 'Valley Rd, Birkirkara', 'locality': 'Birkirkara', 'region': 'Birkirkara'}, 'name': \"McDonald's\", 'related_places': {}, 'timezone': 'Europe/Malta'}], 'context': {'geo_bounds': {'circle': {'center': {'latitude': 35.89, 'longitude': 14.43}, 'radius': 25000}}}}\n"
     ]
    }
   ],
   "source": [
    "import json\n",
    "\n",
    "filename = \"data/McDonald's.json\"\n",
    "\n",
    "with open(filename, \"r\") as file:\n",
    "    data = json.load(file)\n",
    "\n",
    "print(data)\n"
   ]
  },
  {
   "cell_type": "markdown",
   "id": "2f3f4a1b",
   "metadata": {},
   "source": [
    "# 2. Plot a map with the coffee shops"
   ]
  },
  {
   "cell_type": "code",
   "execution_count": 2,
   "id": "644bbf42",
   "metadata": {},
   "outputs": [],
   "source": [
    "import geopandas as gdp\n",
    "from cartoframes.viz import Map, Layer, popup_element\n",
    "import pandas as pd\n"
   ]
  },
  {
   "cell_type": "code",
   "execution_count": 30,
   "id": "d4ec55a8-4139-4031-9962-115ba573d140",
   "metadata": {},
   "outputs": [
    {
     "name": "stdout",
     "output_type": "stream",
     "text": [
      "Name: McDonald's\n",
      "Location: Aviation St. (MLA Airport), Kirkop\n",
      "Distance: 7172 meters\n",
      "Latitude: 35.851613\n",
      "Longitude: 14.494035\n",
      "---\n",
      "Name: McDonald's\n",
      "Location: \n",
      "Distance: 3759 meters\n",
      "Latitude: 35.916992\n",
      "Longitude: 14.455188\n",
      "---\n",
      "Name: McDonald's\n",
      "Location: Naxxar Road, Gharghur\n",
      "Distance: 1837 meters\n",
      "Latitude: 35.906162\n",
      "Longitude: 14.42568\n",
      "---\n",
      "Name: McDonald's\n",
      "Location: The Strand, Sliema\n",
      "Distance: 7169 meters\n",
      "Latitude: 35.90869\n",
      "Longitude: 14.50623\n",
      "---\n",
      "Name: McDonald's\n",
      "Location: Valley Rd, Birkirkara\n",
      "Distance: 3071 meters\n",
      "Latitude: 35.896469\n",
      "Longitude: 14.463171\n",
      "---\n"
     ]
    }
   ],
   "source": [
    "with open(\"data/McDonald's.json\", \"r\") as f:\n",
    "    data = json.load(f)\n",
    "\n",
    "for result in data[\"results\"]:\n",
    "    print(\"Name:\", result[\"name\"])\n",
    "    print(\"Location:\", result[\"location\"][\"formatted_address\"])\n",
    "    print(\"Distance:\", result[\"distance\"], \"meters\")\n",
    "    print(\"Latitude:\", result[\"geocodes\"][\"main\"][\"latitude\"])\n",
    "    print(\"Longitude:\", result[\"geocodes\"][\"main\"][\"longitude\"])\n",
    "    print(\"---\")"
   ]
  },
  {
   "cell_type": "code",
   "execution_count": 33,
   "id": "77ddd12b-1be9-465b-9beb-61ff8d0259c7",
   "metadata": {},
   "outputs": [
    {
     "name": "stdout",
     "output_type": "stream",
     "text": [
      "dict_keys(['results', 'context'])\n"
     ]
    }
   ],
   "source": [
    "print(data.keys())\n"
   ]
  },
  {
   "cell_type": "code",
   "execution_count": 44,
   "id": "cdba8700-3758-4a01-accf-3e7c4cdf8d79",
   "metadata": {},
   "outputs": [],
   "source": [
    "# Create a pandas dataframe from the result\n",
    "df = []\n",
    "for result in data['results']:\n",
    "    lat = result['geocodes']['main']['latitude']\n",
    "    lng = result['geocodes']['main']['longitude']\n",
    "    dist = result['distance']\n",
    "    df.append([lat, lng, dist])\n",
    "\n",
    "df = pd.DataFrame(df, columns=['Latitude', 'Longitude', 'Distance'])\n"
   ]
  },
  {
   "cell_type": "code",
   "execution_count": 45,
   "id": "0a4e9bc7-256e-4fd4-815c-a79bd02a459e",
   "metadata": {},
   "outputs": [
    {
     "data": {
      "text/html": [
       "<div>\n",
       "<style scoped>\n",
       "    .dataframe tbody tr th:only-of-type {\n",
       "        vertical-align: middle;\n",
       "    }\n",
       "\n",
       "    .dataframe tbody tr th {\n",
       "        vertical-align: top;\n",
       "    }\n",
       "\n",
       "    .dataframe thead th {\n",
       "        text-align: right;\n",
       "    }\n",
       "</style>\n",
       "<table border=\"1\" class=\"dataframe\">\n",
       "  <thead>\n",
       "    <tr style=\"text-align: right;\">\n",
       "      <th></th>\n",
       "      <th>Latitude</th>\n",
       "      <th>Longitude</th>\n",
       "      <th>Distance</th>\n",
       "    </tr>\n",
       "  </thead>\n",
       "  <tbody>\n",
       "    <tr>\n",
       "      <th>0</th>\n",
       "      <td>35.851613</td>\n",
       "      <td>14.494035</td>\n",
       "      <td>7172</td>\n",
       "    </tr>\n",
       "    <tr>\n",
       "      <th>1</th>\n",
       "      <td>35.916992</td>\n",
       "      <td>14.455188</td>\n",
       "      <td>3759</td>\n",
       "    </tr>\n",
       "    <tr>\n",
       "      <th>2</th>\n",
       "      <td>35.906162</td>\n",
       "      <td>14.425680</td>\n",
       "      <td>1837</td>\n",
       "    </tr>\n",
       "    <tr>\n",
       "      <th>3</th>\n",
       "      <td>35.908690</td>\n",
       "      <td>14.506230</td>\n",
       "      <td>7169</td>\n",
       "    </tr>\n",
       "    <tr>\n",
       "      <th>4</th>\n",
       "      <td>35.896469</td>\n",
       "      <td>14.463171</td>\n",
       "      <td>3071</td>\n",
       "    </tr>\n",
       "  </tbody>\n",
       "</table>\n",
       "</div>"
      ],
      "text/plain": [
       "    Latitude  Longitude  Distance\n",
       "0  35.851613  14.494035      7172\n",
       "1  35.916992  14.455188      3759\n",
       "2  35.906162  14.425680      1837\n",
       "3  35.908690  14.506230      7169\n",
       "4  35.896469  14.463171      3071"
      ]
     },
     "execution_count": 45,
     "metadata": {},
     "output_type": "execute_result"
    }
   ],
   "source": [
    "df"
   ]
  },
  {
   "cell_type": "code",
   "execution_count": 47,
   "id": "c40b732c-2582-4c91-92e7-24d1be1cc43e",
   "metadata": {},
   "outputs": [],
   "source": [
    "import folium\n",
    "# Create a map centered on the mean latitude and longitude of your data\n",
    "mean_lat = df['Latitude'].mean()\n",
    "mean_lon = df['Longitude'].mean()\n",
    "map = folium.Map(location=[mean_lat, mean_lon], zoom_start=12)\n",
    "\n",
    "# Add markers for each location in your data\n",
    "for lat, lon, label in zip(df['Latitude'], df['Longitude'], df['Distance']):\n",
    "    folium.Marker([lat, lon], popup=label).add_to(map)\n",
    "\n",
    "# Show the map\n",
    "map.save('data/map.html')"
   ]
  },
  {
   "cell_type": "code",
   "execution_count": 11,
   "id": "af8d8337-05fc-444a-a81d-e11966fccab7",
   "metadata": {},
   "outputs": [
    {
     "data": {
      "text/plain": [
       "nan"
      ]
     },
     "execution_count": 11,
     "metadata": {},
     "output_type": "execute_result"
    }
   ],
   "source": []
  },
  {
   "cell_type": "markdown",
   "id": "9e0764d4",
   "metadata": {},
   "source": [
    "After pushing, view your own notebook on [nbviewer](https://nbviewer.org/)"
   ]
  }
 ],
 "metadata": {
  "kernelspec": {
   "display_name": "ironhack",
   "language": "python",
   "name": "ironhack"
  },
  "language_info": {
   "codemirror_mode": {
    "name": "ipython",
    "version": 3
   },
   "file_extension": ".py",
   "mimetype": "text/x-python",
   "name": "python",
   "nbconvert_exporter": "python",
   "pygments_lexer": "ipython3",
   "version": "3.10.4"
  },
  "toc": {
   "base_numbering": 1,
   "nav_menu": {},
   "number_sections": true,
   "sideBar": true,
   "skip_h1_title": false,
   "title_cell": "Table of Contents",
   "title_sidebar": "Contents",
   "toc_cell": false,
   "toc_position": {},
   "toc_section_display": true,
   "toc_window_display": true
  }
 },
 "nbformat": 4,
 "nbformat_minor": 5
}
