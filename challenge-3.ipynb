{
 "cells": [
  {
   "cell_type": "markdown",
   "id": "0809e785",
   "metadata": {},
   "source": [
    "# 1. Read your exported json file from the data folder"
   ]
  },
  {
   "cell_type": "code",
   "execution_count": 14,
   "id": "ee05956b",
   "metadata": {},
   "outputs": [],
   "source": [
    "import json\n"
   ]
  },
  {
   "cell_type": "code",
   "execution_count": 16,
   "id": "9b373771",
   "metadata": {},
   "outputs": [],
   "source": [
    "with open ('../lab-coffee-shops/coffe_shops.json') as f:\n",
    "    coffe_shops = json.load(f)"
   ]
  },
  {
   "cell_type": "code",
   "execution_count": 17,
   "id": "cc7eaeb3",
   "metadata": {},
   "outputs": [
    {
     "data": {
      "text/plain": [
       "'{\"name\":{\"0\":\"Intelligentsia Coffee\",\"1\":\"The Wormhole Coffee\",\"2\":\"Sawada Coffee\",\"3\":\"Intelligentsia Coffee\",\"4\":\"Gaslight Coffee Roasters\",\"5\":\"Dark Matter Coffee\",\"6\":\"Heritage Bicycles\",\"7\":\"Osmium Coffee Bar\",\"8\":\"Metropolis Coffee Comp\",\"9\":\"Ipsento 606\"},\"latitude\":{\"0\":41.88436,\"1\":41.908399,\"2\":41.883765,\"3\":41.938151,\"4\":41.924635,\"5\":41.895049,\"6\":41.935756,\"7\":41.939764,\"8\":41.994457,\"9\":41.914361},\"longitude\":{\"0\":-87.625976,\"1\":-87.674623,\"2\":-87.648842,\"3\":-87.644112,\"4\":-87.69985,\"5\":-87.687121,\"6\":-87.66291,\"7\":-87.657336,\"8\":-87.657227,\"9\":-87.683337}}'"
      ]
     },
     "execution_count": 17,
     "metadata": {},
     "output_type": "execute_result"
    }
   ],
   "source": [
    "coffe_shops"
   ]
  },
  {
   "cell_type": "markdown",
   "id": "2f3f4a1b",
   "metadata": {},
   "source": [
    "# 2. Plot a map with the coffee shops"
   ]
  },
  {
   "cell_type": "code",
   "execution_count": 18,
   "id": "644bbf42",
   "metadata": {},
   "outputs": [],
   "source": [
    "import geopandas as gdp\n",
    "from cartoframes.viz import Map, Layer, popup_element"
   ]
  },
  {
   "cell_type": "code",
   "execution_count": null,
   "id": "781a3eb9",
   "metadata": {},
   "outputs": [],
   "source": []
  },
  {
   "cell_type": "code",
   "execution_count": 22,
   "id": "0938676d",
   "metadata": {},
   "outputs": [
    {
     "ename": "ValueError",
     "evalue": "Credentials attribute is required. Please pass a `Credentials` instance or use the `set_default_credentials` function.",
     "output_type": "error",
     "traceback": [
      "\u001b[1;31m---------------------------------------------------------------------------\u001b[0m",
      "\u001b[1;31mValueError\u001b[0m                                Traceback (most recent call last)",
      "\u001b[1;32mc:\\Users\\Tim_K\\Ironhack\\lab-coffee-shops\\challenge-3.ipynb Cell 8\u001b[0m in \u001b[0;36m<cell line: 1>\u001b[1;34m()\u001b[0m\n\u001b[1;32m----> <a href='vscode-notebook-cell:/c%3A/Users/Tim_K/Ironhack/lab-coffee-shops/challenge-3.ipynb#W4sZmlsZQ%3D%3D?line=0'>1</a>\u001b[0m Map(Layer(coffe_shops, \u001b[39m\"\u001b[39;49m\u001b[39mcolor:brown\u001b[39;49m\u001b[39m\"\u001b[39;49m, popup_hover\u001b[39m=\u001b[39;49m[popup_element(\u001b[39m\"\u001b[39;49m\u001b[39mname\u001b[39;49m\u001b[39m\"\u001b[39;49m, \u001b[39m\"\u001b[39;49m\u001b[39mCoffee shop\u001b[39;49m\u001b[39m\"\u001b[39;49m)]))\n",
      "File \u001b[1;32mc:\\Users\\Tim_K\\miniconda3\\lib\\site-packages\\cartoframes\\viz\\layer.py:112\u001b[0m, in \u001b[0;36mLayer.__init__\u001b[1;34m(self, source, style, legends, widgets, popup_hover, popup_click, credentials, bounds, geom_col, default_legend, default_widget, default_popup_hover, default_popup_click, title, parent_map, encode_data)\u001b[0m\n\u001b[0;32m    110\u001b[0m \u001b[39mself\u001b[39m\u001b[39m.\u001b[39mis_basemap \u001b[39m=\u001b[39m \u001b[39mFalse\u001b[39;00m\n\u001b[0;32m    111\u001b[0m \u001b[39mself\u001b[39m\u001b[39m.\u001b[39mdefault_legend \u001b[39m=\u001b[39m default_legend\n\u001b[1;32m--> 112\u001b[0m \u001b[39mself\u001b[39m\u001b[39m.\u001b[39msource \u001b[39m=\u001b[39m _set_source(source, credentials, geom_col, encode_data)\n\u001b[0;32m    113\u001b[0m \u001b[39mself\u001b[39m\u001b[39m.\u001b[39mstyle \u001b[39m=\u001b[39m _set_style(style)\n\u001b[0;32m    114\u001b[0m \u001b[39mself\u001b[39m\u001b[39m.\u001b[39mencode_data \u001b[39m=\u001b[39m encode_data\n",
      "File \u001b[1;32mc:\\Users\\Tim_K\\miniconda3\\lib\\site-packages\\cartoframes\\viz\\layer.py:237\u001b[0m, in \u001b[0;36m_set_source\u001b[1;34m(source, credentials, geom_col, encode_data)\u001b[0m\n\u001b[0;32m    235\u001b[0m \u001b[39mdef\u001b[39;00m \u001b[39m_set_source\u001b[39m(source, credentials, geom_col, encode_data):\n\u001b[0;32m    236\u001b[0m     \u001b[39mif\u001b[39;00m \u001b[39misinstance\u001b[39m(source, (\u001b[39mstr\u001b[39m, pandas\u001b[39m.\u001b[39mDataFrame)):\n\u001b[1;32m--> 237\u001b[0m         \u001b[39mreturn\u001b[39;00m Source(source, credentials, geom_col, encode_data)\n\u001b[0;32m    238\u001b[0m     \u001b[39melif\u001b[39;00m \u001b[39misinstance\u001b[39m(source, Source):\n\u001b[0;32m    239\u001b[0m         \u001b[39mreturn\u001b[39;00m source\n",
      "File \u001b[1;32mc:\\Users\\Tim_K\\miniconda3\\lib\\site-packages\\cartoframes\\viz\\source.py:72\u001b[0m, in \u001b[0;36mSource.__init__\u001b[1;34m(self, source, credentials, geom_col, encode_data)\u001b[0m\n\u001b[0;32m     69\u001b[0m \u001b[39mif\u001b[39;00m \u001b[39misinstance\u001b[39m(source, \u001b[39mstr\u001b[39m):\n\u001b[0;32m     70\u001b[0m     \u001b[39m# Table, SQL query\u001b[39;00m\n\u001b[0;32m     71\u001b[0m     \u001b[39mself\u001b[39m\u001b[39m.\u001b[39mtype \u001b[39m=\u001b[39m SourceType\u001b[39m.\u001b[39mQUERY\n\u001b[1;32m---> 72\u001b[0m     \u001b[39mself\u001b[39m\u001b[39m.\u001b[39mmanager \u001b[39m=\u001b[39m ContextManager(credentials)\n\u001b[0;32m     73\u001b[0m     \u001b[39mself\u001b[39m\u001b[39m.\u001b[39mquery \u001b[39m=\u001b[39m \u001b[39mself\u001b[39m\u001b[39m.\u001b[39mmanager\u001b[39m.\u001b[39mcompute_query(source)\n\u001b[0;32m     74\u001b[0m     \u001b[39mself\u001b[39m\u001b[39m.\u001b[39mcredentials \u001b[39m=\u001b[39m \u001b[39mself\u001b[39m\u001b[39m.\u001b[39mmanager\u001b[39m.\u001b[39mcredentials\n",
      "File \u001b[1;32mc:\\Users\\Tim_K\\miniconda3\\lib\\site-packages\\cartoframes\\io\\managers\\context_manager.py:67\u001b[0m, in \u001b[0;36mContextManager.__init__\u001b[1;34m(self, credentials)\u001b[0m\n\u001b[0;32m     65\u001b[0m \u001b[39mdef\u001b[39;00m \u001b[39m__init__\u001b[39m(\u001b[39mself\u001b[39m, credentials):\n\u001b[0;32m     66\u001b[0m     \u001b[39mself\u001b[39m\u001b[39m.\u001b[39mcredentials \u001b[39m=\u001b[39m credentials \u001b[39mor\u001b[39;00m get_default_credentials()\n\u001b[1;32m---> 67\u001b[0m     check_credentials(\u001b[39mself\u001b[39;49m\u001b[39m.\u001b[39;49mcredentials)\n\u001b[0;32m     69\u001b[0m     \u001b[39mself\u001b[39m\u001b[39m.\u001b[39mauth_client \u001b[39m=\u001b[39m _create_auth_client(\u001b[39mself\u001b[39m\u001b[39m.\u001b[39mcredentials)\n\u001b[0;32m     70\u001b[0m     \u001b[39mself\u001b[39m\u001b[39m.\u001b[39msql_client \u001b[39m=\u001b[39m SQLClient(\u001b[39mself\u001b[39m\u001b[39m.\u001b[39mauth_client)\n",
      "File \u001b[1;32mc:\\Users\\Tim_K\\miniconda3\\lib\\site-packages\\cartoframes\\utils\\utils.py:353\u001b[0m, in \u001b[0;36mcheck_credentials\u001b[1;34m(credentials)\u001b[0m\n\u001b[0;32m    351\u001b[0m \u001b[39mfrom\u001b[39;00m \u001b[39m.\u001b[39;00m\u001b[39m.\u001b[39;00m\u001b[39mauth\u001b[39;00m\u001b[39m.\u001b[39;00m\u001b[39mcredentials\u001b[39;00m \u001b[39mimport\u001b[39;00m Credentials\n\u001b[0;32m    352\u001b[0m \u001b[39mif\u001b[39;00m \u001b[39mnot\u001b[39;00m \u001b[39misinstance\u001b[39m(credentials, Credentials):\n\u001b[1;32m--> 353\u001b[0m     \u001b[39mraise\u001b[39;00m \u001b[39mValueError\u001b[39;00m(\u001b[39m'\u001b[39m\u001b[39mCredentials attribute is required. \u001b[39m\u001b[39m'\u001b[39m\n\u001b[0;32m    354\u001b[0m                      \u001b[39m'\u001b[39m\u001b[39mPlease pass a `Credentials` instance \u001b[39m\u001b[39m'\u001b[39m\n\u001b[0;32m    355\u001b[0m                      \u001b[39m'\u001b[39m\u001b[39mor use the `set_default_credentials` function.\u001b[39m\u001b[39m'\u001b[39m)\n",
      "\u001b[1;31mValueError\u001b[0m: Credentials attribute is required. Please pass a `Credentials` instance or use the `set_default_credentials` function."
     ]
    }
   ],
   "source": [
    "Map(Layer(coffe_shops, \"color:brown\", popup_hover=[popup_element(\"name\", \"Coffee shop\")]))"
   ]
  },
  {
   "cell_type": "markdown",
   "id": "9e0764d4",
   "metadata": {},
   "source": [
    "After pushing, view your own notebook on [nbviewer](https://nbviewer.org/)"
   ]
  }
 ],
 "metadata": {
  "kernelspec": {
   "display_name": "ironhack",
   "language": "python",
   "name": "ironhack"
  },
  "language_info": {
   "codemirror_mode": {
    "name": "ipython",
    "version": 3
   },
   "file_extension": ".py",
   "mimetype": "text/x-python",
   "name": "python",
   "nbconvert_exporter": "python",
   "pygments_lexer": "ipython3",
   "version": "3.10.8"
  },
  "toc": {
   "base_numbering": 1,
   "nav_menu": {},
   "number_sections": true,
   "sideBar": true,
   "skip_h1_title": false,
   "title_cell": "Table of Contents",
   "title_sidebar": "Contents",
   "toc_cell": false,
   "toc_position": {},
   "toc_section_display": true,
   "toc_window_display": true
  }
 },
 "nbformat": 4,
 "nbformat_minor": 5
}
