{
 "cells": [
  {
   "cell_type": "markdown",
   "id": "e9e71538",
   "metadata": {},
   "source": [
    "# Setup"
   ]
  },
  {
   "cell_type": "markdown",
   "id": "7eac3132",
   "metadata": {},
   "source": [
    "# 1. Sign up as a developer in 4square Places API"
   ]
  },
  {
   "cell_type": "markdown",
   "id": "3f8045b2",
   "metadata": {},
   "source": [
    "[Docs](https://foursquare.com/developers/home)"
   ]
  },
  {
   "cell_type": "markdown",
   "id": "4cb5ca78",
   "metadata": {},
   "source": [
    "# 2. Create a project"
   ]
  },
  {
   "cell_type": "code",
   "execution_count": 2,
   "id": "2650cd14",
   "metadata": {},
   "outputs": [],
   "source": [
    "import os\n",
    "import requests\n",
    "import json\n",
    "from dotenv import load_dotenv\n",
    "import pandas as pd\n",
    "\n",
    "import geopandas as gpd"
   ]
  },
  {
   "cell_type": "code",
   "execution_count": 4,
   "id": "c86677ec",
   "metadata": {},
   "outputs": [],
   "source": [
    "\n",
    "\n",
    "# 3. Get the token from the project"
   ]
  },
  {
   "cell_type": "code",
   "execution_count": null,
   "id": "f578f4fa",
   "metadata": {},
   "outputs": [],
   "source": []
  },
  {
   "cell_type": "markdown",
   "id": "df341f75",
   "metadata": {},
   "source": [
    "# 4. Hide the token using getpass library "
   ]
  },
  {
   "cell_type": "code",
   "execution_count": 5,
   "id": "7d086427",
   "metadata": {},
   "outputs": [
    {
     "data": {
      "text/plain": [
       "True"
      ]
     },
     "execution_count": 5,
     "metadata": {},
     "output_type": "execute_result"
    }
   ],
   "source": [
    "load_dotenv() "
   ]
  },
  {
   "cell_type": "code",
   "execution_count": null,
   "id": "565cd2ab",
   "metadata": {},
   "outputs": [],
   "source": []
  },
  {
   "cell_type": "markdown",
   "id": "df041b10",
   "metadata": {},
   "source": [
    "For projects, you'll use `.env`"
   ]
  },
  {
   "cell_type": "markdown",
   "id": "60a54335",
   "metadata": {},
   "source": [
    "⚠️ DO NOT push your token"
   ]
  }
 ],
 "metadata": {
  "kernelspec": {
   "display_name": "ironhack",
   "language": "python",
   "name": "ironhack"
  },
  "language_info": {
   "codemirror_mode": {
    "name": "ipython",
    "version": 3
   },
   "file_extension": ".py",
   "mimetype": "text/x-python",
   "name": "python",
   "nbconvert_exporter": "python",
   "pygments_lexer": "ipython3",
   "version": "3.9.12"
  },
  "toc": {
   "base_numbering": 1,
   "nav_menu": {},
   "number_sections": true,
   "sideBar": true,
   "skip_h1_title": false,
   "title_cell": "Table of Contents",
   "title_sidebar": "Contents",
   "toc_cell": false,
   "toc_position": {},
   "toc_section_display": true,
   "toc_window_display": true
  }
 },
 "nbformat": 4,
 "nbformat_minor": 5
}
