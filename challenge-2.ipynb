{
 "cells": [
  {
   "cell_type": "markdown",
   "id": "0809e785",
   "metadata": {},
   "source": [
    "# 1. Import the necessary libraries for you to be able to query 4square API"
   ]
  },
  {
   "cell_type": "code",
   "execution_count": 53,
   "id": "9b373771",
   "metadata": {},
   "outputs": [],
   "source": [
    "import requests\n",
    "import json\n",
    "import pandas as pd\n",
    "from getpass import getpass\n",
    "import os\n",
    "\n",
    "#dontenv\n",
    "from dotenv import load_dotenv \n",
    "\n",
    "from getpass import getpass"
   ]
  },
  {
   "cell_type": "code",
   "execution_count": 48,
   "id": "a242ad79-2362-4c45-b2f3-2880600ac8f6",
   "metadata": {},
   "outputs": [],
   "source": [
    "load_dotenv()\n",
    "\n",
    "api_key = os.getenv('foursquare_api_key') "
   ]
  },
  {
   "cell_type": "code",
   "execution_count": 54,
   "id": "4602a03f-7c3f-4814-8abf-18331b6f3672",
   "metadata": {},
   "outputs": [
    {
     "name": "stdin",
     "output_type": "stream",
     "text": [
      " ················································\n"
     ]
    }
   ],
   "source": [
    "token = getpass()"
   ]
  },
  {
   "cell_type": "markdown",
   "id": "e94dce92",
   "metadata": {},
   "source": [
    "# 2. Get names and location of the 10 coffee places by passing Ironhack as your location"
   ]
  },
  {
   "cell_type": "code",
   "execution_count": 55,
   "id": "1d72f571",
   "metadata": {},
   "outputs": [
    {
     "name": "stdout",
     "output_type": "stream",
     "text": [
      "{\"results\":[{\"fsq_id\":\"4b659ce3f964a52071f62ae3\",\"categories\":[{\"id\":13003,\"name\":\"Bar\",\"icon\":{\"prefix\":\"https://ss3.4sqi.net/img/categories_v2/nightlife/pub_\",\"suffix\":\".png\"}},{\"id\":13034,\"name\":\"Café\",\"icon\":{\"prefix\":\"https://ss3.4sqi.net/img/categories_v2/food/cafe_\",\"suffix\":\".png\"}},{\"id\":13065,\"name\":\"Restaurant\",\"icon\":{\"prefix\":\"https://ss3.4sqi.net/img/categories_v2/food/default_\",\"suffix\":\".png\"}}],\"chains\":[],\"distance\":221,\"geocodes\":{\"main\":{\"latitude\":41.388631,\"longitude\":2.195668},\"roof\":{\"latitude\":41.388631,\"longitude\":2.195668}},\"link\":\"/v3/places/4b659ce3f964a52071f62ae3\",\"location\":{\"address\":\"Calle Marina, 20\",\"admin_region\":\"Cataluña\",\"country\":\"ES\",\"formatted_address\":\"Calle Marina, 20, 08005 Barcelona Catalonia\",\"locality\":\"Barcelona\",\"postcode\":\"08005\",\"region\":\"Catalonia\"},\"name\":\"Rembrandt Cafe\",\"related_places\":{},\"timezone\":\"Europe/Madrid\"},{\"fsq_id\":\"4bc56b0d0a30d13a200b5a9c\",\"categories\":[{\"id\":13003,\"name\":\"Bar\",\"icon\":{\"prefix\":\"https://ss3.4sqi.net/img/categories_v2/nightlife/pub_\",\"suffix\":\".png\"}},{\"id\":13034,\"name\":\"Café\",\"icon\":{\"prefix\":\"https://ss3.4sqi.net/img/categories_v2/food/cafe_\",\"suffix\":\".png\"}},{\"id\":13065,\"name\":\"Restaurant\",\"icon\":{\"prefix\":\"https://ss3.4sqi.net/img/categories_v2/food/default_\",\"suffix\":\".png\"}}],\"chains\":[],\"distance\":622,\"geocodes\":{\"main\":{\"latitude\":41.395878,\"longitude\":2.195428},\"roof\":{\"latitude\":41.395878,\"longitude\":2.195428}},\"link\":\"/v3/places/4bc56b0d0a30d13a200b5a9c\",\"location\":{\"address\":\"Calle Llul, 94\",\"admin_region\":\"Cataluña\",\"country\":\"ES\",\"cross_street\":\"\",\"formatted_address\":\"Calle Llul, 94, 08005 Barcelona Catalonia\",\"locality\":\"Barcelona\",\"postcode\":\"08005\",\"region\":\"Catalonia\"},\"name\":\"Oli+Café\",\"related_places\":{},\"timezone\":\"Europe/Madrid\"},{\"fsq_id\":\"4b9a82e1f964a52052bc35e3\",\"categories\":[{\"id\":13034,\"name\":\"Café\",\"icon\":{\"prefix\":\"https://ss3.4sqi.net/img/categories_v2/food/cafe_\",\"suffix\":\".png\"}},{\"id\":13035,\"name\":\"Coffee Shop\",\"icon\":{\"prefix\":\"https://ss3.4sqi.net/img/categories_v2/food/coffeeshop_\",\"suffix\":\".png\"}},{\"id\":13065,\"name\":\"Restaurant\",\"icon\":{\"prefix\":\"https://ss3.4sqi.net/img/categories_v2/food/default_\",\"suffix\":\".png\"}}],\"chains\":[],\"distance\":268,\"geocodes\":{\"main\":{\"latitude\":41.390286,\"longitude\":2.190933},\"roof\":{\"latitude\":41.390286,\"longitude\":2.190933}},\"link\":\"/v3/places/4b9a82e1f964a52052bc35e3\",\"location\":{\"address\":\"Carrer de Ramon Trias Fargas, 42\",\"admin_region\":\"Cataluña\",\"country\":\"ES\",\"formatted_address\":\"Carrer de Ramon Trias Fargas, 42, 08005 Barcelona Catalonia\",\"locality\":\"Barcelona\",\"postcode\":\"08005\",\"region\":\"Catalonia\"},\"name\":\"El Cafe de la Pompeu\",\"related_places\":{},\"timezone\":\"Europe/Madrid\"},{\"fsq_id\":\"4dfcf0d2aeb7594e8621dd87\",\"categories\":[{\"id\":13034,\"name\":\"Café\",\"icon\":{\"prefix\":\"https://ss3.4sqi.net/img/categories_v2/food/cafe_\",\"suffix\":\".png\"}}],\"chains\":[],\"distance\":283,\"geocodes\":{\"main\":{\"latitude\":41.387816,\"longitude\":2.193371},\"roof\":{\"latitude\":41.387816,\"longitude\":2.193371}},\"link\":\"/v3/places/4dfcf0d2aeb7594e8621dd87\",\"location\":{\"address\":\"Dr. Trueta, 81\",\"admin_region\":\"Cataluña\",\"country\":\"ES\",\"formatted_address\":\"Dr. Trueta, 81, 08005 Barcelona Catalonia\",\"locality\":\"Barcelona\",\"postcode\":\"08005\",\"region\":\"Catalonia\"},\"name\":\"Café Icaria\",\"related_places\":{},\"timezone\":\"Europe/Madrid\"},{\"fsq_id\":\"60f1303524c7a62a61008544\",\"categories\":[{\"id\":13034,\"name\":\"Café\",\"icon\":{\"prefix\":\"https://ss3.4sqi.net/img/categories_v2/food/cafe_\",\"suffix\":\".png\"}}],\"chains\":[],\"distance\":398,\"geocodes\":{\"main\":{\"latitude\":41.391819,\"longitude\":2.189802}},\"link\":\"/v3/places/60f1303524c7a62a61008544\",\"location\":{\"address\":\"Llul, 20\",\"admin_region\":\"Cataluña\",\"country\":\"ES\",\"cross_street\":\"\",\"formatted_address\":\"Llul, 20, 08005 Barcelona Catalonia\",\"locality\":\"Barcelona\",\"postcode\":\"08005\",\"region\":\"Catalonia\"},\"name\":\"Couleur Café\",\"related_places\":{},\"timezone\":\"Europe/Madrid\"},{\"fsq_id\":\"576e36c5498e2db45e86c026\",\"categories\":[{\"id\":13034,\"name\":\"Café\",\"icon\":{\"prefix\":\"https://ss3.4sqi.net/img/categories_v2/food/cafe_\",\"suffix\":\".png\"}},{\"id\":13065,\"name\":\"Restaurant\",\"icon\":{\"prefix\":\"https://ss3.4sqi.net/img/categories_v2/food/default_\",\"suffix\":\".png\"}}],\"chains\":[],\"distance\":398,\"geocodes\":{\"main\":{\"latitude\":41.391657,\"longitude\":2.198485},\"roof\":{\"latitude\":41.391657,\"longitude\":2.198485}},\"link\":\"/v3/places/576e36c5498e2db45e86c026\",\"location\":{\"address\":\"Carrer de l'Arquitecte Sert, 18\",\"admin_region\":\"Cataluña\",\"country\":\"ES\",\"cross_street\":\"\",\"formatted_address\":\"Carrer de l'Arquitecte Sert, 18, 08005 Barcelona Catalonia\",\"locality\":\"Barcelona\",\"postcode\":\"08005\",\"region\":\"Catalonia\"},\"name\":\"Divuit 18 Cafè\",\"related_places\":{},\"timezone\":\"Europe/Madrid\"},{\"fsq_id\":\"4f7176cde4b0d1b3a40615ff\",\"categories\":[{\"id\":13034,\"name\":\"Café\",\"icon\":{\"prefix\":\"https://ss3.4sqi.net/img/categories_v2/food/cafe_\",\"suffix\":\".png\"}},{\"id\":13039,\"name\":\"Deli\",\"icon\":{\"prefix\":\"https://ss3.4sqi.net/img/categories_v2/food/deli_\",\"suffix\":\".png\"}},{\"id\":13079,\"name\":\"Brazilian Restaurant\",\"icon\":{\"prefix\":\"https://ss3.4sqi.net/img/categories_v2/food/argentinian_\",\"suffix\":\".png\"}}],\"chains\":[],\"distance\":726,\"geocodes\":{\"main\":{\"latitude\":41.392081,\"longitude\":2.185666},\"roof\":{\"latitude\":41.392081,\"longitude\":2.185666}},\"link\":\"/v3/places/4f7176cde4b0d1b3a40615ff\",\"location\":{\"address\":\"Lington, 17\",\"admin_region\":\"Cataluña\",\"country\":\"ES\",\"cross_street\":\"Wellington\",\"formatted_address\":\"Lington, 17 (Wellington), 08018 Barcelona Catalonia\",\"locality\":\"Barcelona\",\"postcode\":\"08018\",\"region\":\"Catalonia\"},\"name\":\"Santa Fe\",\"related_places\":{},\"timezone\":\"Europe/Madrid\"},{\"fsq_id\":\"555f2357498ee6528074710b\",\"categories\":[{\"id\":13034,\"name\":\"Café\",\"icon\":{\"prefix\":\"https://ss3.4sqi.net/img/categories_v2/food/cafe_\",\"suffix\":\".png\"}},{\"id\":13035,\"name\":\"Coffee Shop\",\"icon\":{\"prefix\":\"https://ss3.4sqi.net/img/categories_v2/food/coffeeshop_\",\"suffix\":\".png\"}},{\"id\":13065,\"name\":\"Restaurant\",\"icon\":{\"prefix\":\"https://ss3.4sqi.net/img/categories_v2/food/default_\",\"suffix\":\".png\"}}],\"chains\":[],\"distance\":948,\"geocodes\":{\"main\":{\"latitude\":41.398735,\"longitude\":2.195069},\"roof\":{\"latitude\":41.398735,\"longitude\":2.195069}},\"link\":\"/v3/places/555f2357498ee6528074710b\",\"location\":{\"address\":\"Carrer Badajoz, 95\",\"admin_region\":\"Cataluña\",\"country\":\"ES\",\"cross_street\":\"\",\"formatted_address\":\"Carrer Badajoz, 95, 08005 Barcelona Catalonia\",\"locality\":\"Barcelona\",\"postcode\":\"08005\",\"region\":\"Catalonia\"},\"name\":\"Espai Joliu\",\"related_places\":{},\"timezone\":\"Europe/Madrid\"},{\"fsq_id\":\"5d4f2d40833f8300086149ea\",\"categories\":[{\"id\":13034,\"name\":\"Café\",\"icon\":{\"prefix\":\"https://ss3.4sqi.net/img/categories_v2/food/cafe_\",\"suffix\":\".png\"}},{\"id\":13065,\"name\":\"Restaurant\",\"icon\":{\"prefix\":\"https://ss3.4sqi.net/img/categories_v2/food/default_\",\"suffix\":\".png\"}}],\"chains\":[],\"distance\":716,\"geocodes\":{\"main\":{\"latitude\":41.390444,\"longitude\":2.185588}},\"link\":\"/v3/places/5d4f2d40833f8300086149ea\",\"location\":{\"address\":\"Pujades, 21\",\"admin_region\":\"Cataluña\",\"country\":\"ES\",\"cross_street\":\"\",\"formatted_address\":\"Pujades, 21, 08018 Barcelona Catalonia\",\"locality\":\"Barcelona\",\"postcode\":\"08018\",\"region\":\"Catalonia\"},\"name\":\"Flora Cafe\",\"related_places\":{},\"timezone\":\"Europe/Madrid\"},{\"fsq_id\":\"4d79fa370ceba1cdccefb958\",\"categories\":[{\"id\":13034,\"name\":\"Café\",\"icon\":{\"prefix\":\"https://ss3.4sqi.net/img/categories_v2/food/cafe_\",\"suffix\":\".png\"}}],\"chains\":[],\"distance\":814,\"geocodes\":{\"main\":{\"latitude\":41.397524,\"longitude\":2.196263},\"roof\":{\"latitude\":41.397524,\"longitude\":2.196263}},\"link\":\"/v3/places/4d79fa370ceba1cdccefb958\",\"location\":{\"address\":\"Pujades, 118\",\"admin_region\":\"Cataluña\",\"country\":\"ES\",\"cross_street\":\"\",\"formatted_address\":\"Pujades, 118, Barcelona Catalonia\",\"locality\":\"Barcelona\",\"region\":\"Catalonia\"},\"name\":\"Cafeteria Bar BAU\",\"related_places\":{},\"timezone\":\"Europe/Madrid\"}],\"context\":{\"geo_bounds\":{\"circle\":{\"center\":{\"latitude\":41.3903565,\"longitude\":2.1941694},\"radius\":1000}}}}\n"
     ]
    }
   ],
   "source": [
    "\n",
    "url = \"https://api.foursquare.com/v3/places/search?query=cafe&ll=41.3903565%2C2.1941694&radius=1000&limit=10\"\n",
    "\n",
    "headers = {\n",
    "    \"accept\": \"application/json\",\n",
    "    \"Authorization\": f\"{token}\"\n",
    "}\n",
    "\n",
    "response = requests.get(url, headers=headers)\n",
    "\n",
    "print(response.text)"
   ]
  },
  {
   "cell_type": "code",
   "execution_count": 56,
   "id": "b4783484-97a2-48f9-8b3c-5b06864d06f1",
   "metadata": {},
   "outputs": [
    {
     "data": {
      "text/plain": [
       "10"
      ]
     },
     "execution_count": 56,
     "metadata": {},
     "output_type": "execute_result"
    }
   ],
   "source": [
    "len(response.json()[\"results\"])"
   ]
  },
  {
   "cell_type": "code",
   "execution_count": 57,
   "id": "a6092a13-ef30-4a68-b1d1-b31be3efb4bf",
   "metadata": {},
   "outputs": [
    {
     "data": {
      "text/plain": [
       "{'fsq_id': '555f2357498ee6528074710b',\n",
       " 'categories': [{'id': 13034,\n",
       "   'name': 'Café',\n",
       "   'icon': {'prefix': 'https://ss3.4sqi.net/img/categories_v2/food/cafe_',\n",
       "    'suffix': '.png'}},\n",
       "  {'id': 13035,\n",
       "   'name': 'Coffee Shop',\n",
       "   'icon': {'prefix': 'https://ss3.4sqi.net/img/categories_v2/food/coffeeshop_',\n",
       "    'suffix': '.png'}},\n",
       "  {'id': 13065,\n",
       "   'name': 'Restaurant',\n",
       "   'icon': {'prefix': 'https://ss3.4sqi.net/img/categories_v2/food/default_',\n",
       "    'suffix': '.png'}}],\n",
       " 'chains': [],\n",
       " 'distance': 948,\n",
       " 'geocodes': {'main': {'latitude': 41.398735, 'longitude': 2.195069},\n",
       "  'roof': {'latitude': 41.398735, 'longitude': 2.195069}},\n",
       " 'link': '/v3/places/555f2357498ee6528074710b',\n",
       " 'location': {'address': 'Carrer Badajoz, 95',\n",
       "  'admin_region': 'Cataluña',\n",
       "  'country': 'ES',\n",
       "  'cross_street': '',\n",
       "  'formatted_address': 'Carrer Badajoz, 95, 08005 Barcelona Catalonia',\n",
       "  'locality': 'Barcelona',\n",
       "  'postcode': '08005',\n",
       "  'region': 'Catalonia'},\n",
       " 'name': 'Espai Joliu',\n",
       " 'related_places': {},\n",
       " 'timezone': 'Europe/Madrid'}"
      ]
     },
     "execution_count": 57,
     "metadata": {},
     "output_type": "execute_result"
    }
   ],
   "source": [
    "response.json()[\"results\"][7]"
   ]
  },
  {
   "cell_type": "code",
   "execution_count": 58,
   "id": "98c33c80-bf51-40b8-9083-9d1f5c1a7d1a",
   "metadata": {},
   "outputs": [
    {
     "data": {
      "text/plain": [
       "dict_keys(['results', 'context'])"
      ]
     },
     "execution_count": 58,
     "metadata": {},
     "output_type": "execute_result"
    }
   ],
   "source": [
    "response.json().keys()"
   ]
  },
  {
   "cell_type": "code",
   "execution_count": 59,
   "id": "ed00ae73-1974-487b-b426-7f022582104d",
   "metadata": {},
   "outputs": [
    {
     "data": {
      "text/plain": [
       "{'latitude': 41.388631, 'longitude': 2.195668}"
      ]
     },
     "execution_count": 59,
     "metadata": {},
     "output_type": "execute_result"
    }
   ],
   "source": [
    "coordinates = response.json()[\"results\"][0][\"geocodes\"][\"main\"]\n",
    "coordinates"
   ]
  },
  {
   "cell_type": "code",
   "execution_count": 60,
   "id": "d72985f7-1fc1-4cef-832a-ccc419d8a282",
   "metadata": {},
   "outputs": [],
   "source": [
    "lat, lon = coordinates[\"latitude\"], coordinates[\"longitude\"]"
   ]
  },
  {
   "cell_type": "code",
   "execution_count": 61,
   "id": "d7f6724a-1aaa-483b-9139-9c229674a39f",
   "metadata": {},
   "outputs": [
    {
     "data": {
      "text/plain": [
       "'Rembrandt Cafe'"
      ]
     },
     "execution_count": 61,
     "metadata": {},
     "output_type": "execute_result"
    }
   ],
   "source": [
    "name = response.json()[\"results\"][0][\"name\"]\n",
    "name"
   ]
  },
  {
   "cell_type": "code",
   "execution_count": 62,
   "id": "a14b8589-3789-4e43-89d2-14b8bc6733fe",
   "metadata": {},
   "outputs": [],
   "source": [
    "def name_coordinates (dict_):\n",
    "    \n",
    "    processed_dict = {\"name\": dict_[\"name\"],\n",
    "                     \"lat\": dict_[\"geocodes\"][\"main\"][\"latitude\"],\n",
    "                     \"lon\": dict_[\"geocodes\"][\"main\"][\"longitude\"]}\n",
    "    \n",
    "    return processed_dict"
   ]
  },
  {
   "cell_type": "code",
   "execution_count": 63,
   "id": "81b0b8f8-30ff-41b8-9bf5-b12a75442a59",
   "metadata": {},
   "outputs": [
    {
     "data": {
      "text/plain": [
       "{'name': 'Rembrandt Cafe', 'lat': 41.388631, 'lon': 2.195668}"
      ]
     },
     "execution_count": 63,
     "metadata": {},
     "output_type": "execute_result"
    }
   ],
   "source": [
    "name_coordinates (response.json()[\"results\"][0])"
   ]
  },
  {
   "cell_type": "code",
   "execution_count": 64,
   "id": "07eda1a2-8980-4411-891b-ae29b7233301",
   "metadata": {},
   "outputs": [],
   "source": [
    "new_list = []\n",
    "for i in response.json()[\"results\"]:\n",
    "    new_list.append(name_coordinates(i))"
   ]
  },
  {
   "cell_type": "code",
   "execution_count": 65,
   "id": "4e49f423-89e7-41b4-bab7-482369a6dcfd",
   "metadata": {},
   "outputs": [
    {
     "data": {
      "text/plain": [
       "[{'name': 'Rembrandt Cafe', 'lat': 41.388631, 'lon': 2.195668},\n",
       " {'name': 'Oli+Café', 'lat': 41.395878, 'lon': 2.195428},\n",
       " {'name': 'El Cafe de la Pompeu', 'lat': 41.390286, 'lon': 2.190933},\n",
       " {'name': 'Café Icaria', 'lat': 41.387816, 'lon': 2.193371},\n",
       " {'name': 'Couleur Café', 'lat': 41.391819, 'lon': 2.189802},\n",
       " {'name': 'Divuit 18 Cafè', 'lat': 41.391657, 'lon': 2.198485},\n",
       " {'name': 'Santa Fe', 'lat': 41.392081, 'lon': 2.185666},\n",
       " {'name': 'Espai Joliu', 'lat': 41.398735, 'lon': 2.195069},\n",
       " {'name': 'Flora Cafe', 'lat': 41.390444, 'lon': 2.185588},\n",
       " {'name': 'Cafeteria Bar BAU', 'lat': 41.397524, 'lon': 2.196263}]"
      ]
     },
     "execution_count": 65,
     "metadata": {},
     "output_type": "execute_result"
    }
   ],
   "source": [
    "new_list"
   ]
  },
  {
   "cell_type": "code",
   "execution_count": 66,
   "id": "6f5b2d99-e588-4bf2-b4f1-e9fc4f48093d",
   "metadata": {},
   "outputs": [
    {
     "data": {
      "text/html": [
       "<div>\n",
       "<style scoped>\n",
       "    .dataframe tbody tr th:only-of-type {\n",
       "        vertical-align: middle;\n",
       "    }\n",
       "\n",
       "    .dataframe tbody tr th {\n",
       "        vertical-align: top;\n",
       "    }\n",
       "\n",
       "    .dataframe thead th {\n",
       "        text-align: right;\n",
       "    }\n",
       "</style>\n",
       "<table border=\"1\" class=\"dataframe\">\n",
       "  <thead>\n",
       "    <tr style=\"text-align: right;\">\n",
       "      <th></th>\n",
       "      <th>name</th>\n",
       "      <th>lat</th>\n",
       "      <th>lon</th>\n",
       "    </tr>\n",
       "  </thead>\n",
       "  <tbody>\n",
       "    <tr>\n",
       "      <th>0</th>\n",
       "      <td>Rembrandt Cafe</td>\n",
       "      <td>41.388631</td>\n",
       "      <td>2.195668</td>\n",
       "    </tr>\n",
       "    <tr>\n",
       "      <th>1</th>\n",
       "      <td>Oli+Café</td>\n",
       "      <td>41.395878</td>\n",
       "      <td>2.195428</td>\n",
       "    </tr>\n",
       "    <tr>\n",
       "      <th>2</th>\n",
       "      <td>El Cafe de la Pompeu</td>\n",
       "      <td>41.390286</td>\n",
       "      <td>2.190933</td>\n",
       "    </tr>\n",
       "    <tr>\n",
       "      <th>3</th>\n",
       "      <td>Café Icaria</td>\n",
       "      <td>41.387816</td>\n",
       "      <td>2.193371</td>\n",
       "    </tr>\n",
       "    <tr>\n",
       "      <th>4</th>\n",
       "      <td>Couleur Café</td>\n",
       "      <td>41.391819</td>\n",
       "      <td>2.189802</td>\n",
       "    </tr>\n",
       "    <tr>\n",
       "      <th>5</th>\n",
       "      <td>Divuit 18 Cafè</td>\n",
       "      <td>41.391657</td>\n",
       "      <td>2.198485</td>\n",
       "    </tr>\n",
       "    <tr>\n",
       "      <th>6</th>\n",
       "      <td>Santa Fe</td>\n",
       "      <td>41.392081</td>\n",
       "      <td>2.185666</td>\n",
       "    </tr>\n",
       "    <tr>\n",
       "      <th>7</th>\n",
       "      <td>Espai Joliu</td>\n",
       "      <td>41.398735</td>\n",
       "      <td>2.195069</td>\n",
       "    </tr>\n",
       "    <tr>\n",
       "      <th>8</th>\n",
       "      <td>Flora Cafe</td>\n",
       "      <td>41.390444</td>\n",
       "      <td>2.185588</td>\n",
       "    </tr>\n",
       "    <tr>\n",
       "      <th>9</th>\n",
       "      <td>Cafeteria Bar BAU</td>\n",
       "      <td>41.397524</td>\n",
       "      <td>2.196263</td>\n",
       "    </tr>\n",
       "  </tbody>\n",
       "</table>\n",
       "</div>"
      ],
      "text/plain": [
       "                   name        lat       lon\n",
       "0        Rembrandt Cafe  41.388631  2.195668\n",
       "1              Oli+Café  41.395878  2.195428\n",
       "2  El Cafe de la Pompeu  41.390286  2.190933\n",
       "3           Café Icaria  41.387816  2.193371\n",
       "4          Couleur Café  41.391819  2.189802\n",
       "5        Divuit 18 Cafè  41.391657  2.198485\n",
       "6              Santa Fe  41.392081  2.185666\n",
       "7           Espai Joliu  41.398735  2.195069\n",
       "8            Flora Cafe  41.390444  2.185588\n",
       "9     Cafeteria Bar BAU  41.397524  2.196263"
      ]
     },
     "execution_count": 66,
     "metadata": {},
     "output_type": "execute_result"
    }
   ],
   "source": [
    "cafe_df = pd.DataFrame(new_list)\n",
    "cafe_df"
   ]
  },
  {
   "cell_type": "markdown",
   "id": "941b5dbf",
   "metadata": {},
   "source": [
    "# 3. Now get the 5 CLOSEST coffe places. Make use of params: limit, near?"
   ]
  },
  {
   "cell_type": "code",
   "execution_count": 69,
   "id": "fda8ddff",
   "metadata": {},
   "outputs": [
    {
     "name": "stdout",
     "output_type": "stream",
     "text": [
      "{\"results\":[{\"fsq_id\":\"4cf147e31d18a143f13652ec\",\"categories\":[{\"id\":13322,\"name\":\"Peruvian Restaurant\",\"icon\":{\"prefix\":\"https://ss3.4sqi.net/img/categories_v2/food/peruvian_\",\"suffix\":\".png\"}},{\"id\":13338,\"name\":\"Seafood Restaurant\",\"icon\":{\"prefix\":\"https://ss3.4sqi.net/img/categories_v2/food/seafood_\",\"suffix\":\".png\"}},{\"id\":13343,\"name\":\"South American Restaurant\",\"icon\":{\"prefix\":\"https://ss3.4sqi.net/img/categories_v2/food/argentinian_\",\"suffix\":\".png\"}}],\"chains\":[],\"distance\":104,\"geocodes\":{\"main\":{\"latitude\":41.389885,\"longitude\":2.195099},\"roof\":{\"latitude\":41.389885,\"longitude\":2.195099}},\"link\":\"/v3/places/4cf147e31d18a143f13652ec\",\"location\":{\"address\":\"Avenida Icària, 131\",\"admin_region\":\"Cataluña\",\"country\":\"ES\",\"cross_street\":\"\",\"formatted_address\":\"Avenida Icària, 131, 08005 Barcelona Catalonia\",\"locality\":\"Barcelona\",\"postcode\":\"08005\",\"region\":\"Catalonia\"},\"name\":\"Café Ninoska\",\"related_places\":{},\"timezone\":\"Europe/Madrid\"},{\"fsq_id\":\"4b659ce3f964a52071f62ae3\",\"categories\":[{\"id\":13003,\"name\":\"Bar\",\"icon\":{\"prefix\":\"https://ss3.4sqi.net/img/categories_v2/nightlife/pub_\",\"suffix\":\".png\"}},{\"id\":13034,\"name\":\"Café\",\"icon\":{\"prefix\":\"https://ss3.4sqi.net/img/categories_v2/food/cafe_\",\"suffix\":\".png\"}},{\"id\":13065,\"name\":\"Restaurant\",\"icon\":{\"prefix\":\"https://ss3.4sqi.net/img/categories_v2/food/default_\",\"suffix\":\".png\"}}],\"chains\":[],\"distance\":221,\"geocodes\":{\"main\":{\"latitude\":41.388631,\"longitude\":2.195668},\"roof\":{\"latitude\":41.388631,\"longitude\":2.195668}},\"link\":\"/v3/places/4b659ce3f964a52071f62ae3\",\"location\":{\"address\":\"Calle Marina, 20\",\"admin_region\":\"Cataluña\",\"country\":\"ES\",\"formatted_address\":\"Calle Marina, 20, 08005 Barcelona Catalonia\",\"locality\":\"Barcelona\",\"postcode\":\"08005\",\"region\":\"Catalonia\"},\"name\":\"Rembrandt Cafe\",\"related_places\":{},\"timezone\":\"Europe/Madrid\"},{\"fsq_id\":\"4b9a82e1f964a52052bc35e3\",\"categories\":[{\"id\":13034,\"name\":\"Café\",\"icon\":{\"prefix\":\"https://ss3.4sqi.net/img/categories_v2/food/cafe_\",\"suffix\":\".png\"}},{\"id\":13035,\"name\":\"Coffee Shop\",\"icon\":{\"prefix\":\"https://ss3.4sqi.net/img/categories_v2/food/coffeeshop_\",\"suffix\":\".png\"}},{\"id\":13065,\"name\":\"Restaurant\",\"icon\":{\"prefix\":\"https://ss3.4sqi.net/img/categories_v2/food/default_\",\"suffix\":\".png\"}}],\"chains\":[],\"distance\":268,\"geocodes\":{\"main\":{\"latitude\":41.390286,\"longitude\":2.190933},\"roof\":{\"latitude\":41.390286,\"longitude\":2.190933}},\"link\":\"/v3/places/4b9a82e1f964a52052bc35e3\",\"location\":{\"address\":\"Carrer de Ramon Trias Fargas, 42\",\"admin_region\":\"Cataluña\",\"country\":\"ES\",\"formatted_address\":\"Carrer de Ramon Trias Fargas, 42, 08005 Barcelona Catalonia\",\"locality\":\"Barcelona\",\"postcode\":\"08005\",\"region\":\"Catalonia\"},\"name\":\"El Cafe de la Pompeu\",\"related_places\":{},\"timezone\":\"Europe/Madrid\"},{\"fsq_id\":\"4dfcf0d2aeb7594e8621dd87\",\"categories\":[{\"id\":13034,\"name\":\"Café\",\"icon\":{\"prefix\":\"https://ss3.4sqi.net/img/categories_v2/food/cafe_\",\"suffix\":\".png\"}}],\"chains\":[],\"distance\":283,\"geocodes\":{\"main\":{\"latitude\":41.387816,\"longitude\":2.193371},\"roof\":{\"latitude\":41.387816,\"longitude\":2.193371}},\"link\":\"/v3/places/4dfcf0d2aeb7594e8621dd87\",\"location\":{\"address\":\"Dr. Trueta, 81\",\"admin_region\":\"Cataluña\",\"country\":\"ES\",\"formatted_address\":\"Dr. Trueta, 81, 08005 Barcelona Catalonia\",\"locality\":\"Barcelona\",\"postcode\":\"08005\",\"region\":\"Catalonia\"},\"name\":\"Café Icaria\",\"related_places\":{},\"timezone\":\"Europe/Madrid\"},{\"fsq_id\":\"55aaa570498e61368347efa9\",\"categories\":[{\"id\":13031,\"name\":\"Burger Joint\",\"icon\":{\"prefix\":\"https://ss3.4sqi.net/img/categories_v2/food/burger_\",\"suffix\":\".png\"}},{\"id\":13302,\"name\":\"Mediterranean Restaurant\",\"icon\":{\"prefix\":\"https://ss3.4sqi.net/img/categories_v2/food/mediterranean_\",\"suffix\":\".png\"}},{\"id\":13377,\"name\":\"Vegan and Vegetarian Restaurant\",\"icon\":{\"prefix\":\"https://ss3.4sqi.net/img/categories_v2/food/vegetarian_\",\"suffix\":\".png\"}}],\"chains\":[],\"distance\":316,\"geocodes\":{\"main\":{\"latitude\":41.390752,\"longitude\":2.190341},\"roof\":{\"latitude\":41.390752,\"longitude\":2.190341}},\"link\":\"/v3/places/55aaa570498e61368347efa9\",\"location\":{\"address\":\"Carrer Sardenya, 48\",\"admin_region\":\"Cataluña\",\"country\":\"ES\",\"cross_street\":\"Ramon Turró\",\"formatted_address\":\"Carrer Sardenya, 48 (Ramon Turró), 08005 Barcelona Catalonia\",\"locality\":\"Barcelona\",\"postcode\":\"08005\",\"region\":\"Catalonia\"},\"name\":\"Menssana\",\"related_places\":{},\"timezone\":\"Europe/Madrid\"}],\"context\":{\"geo_bounds\":{\"circle\":{\"center\":{\"latitude\":41.3903565,\"longitude\":2.1941694},\"radius\":22000}}}}\n"
     ]
    }
   ],
   "source": [
    "\n",
    "url = \"https://api.foursquare.com/v3/places/search?query=cafe&ll=41.3903565%2C2.1941694&sort=DISTANCE&limit=5\"\n",
    "\n",
    "headers = {\n",
    "    \"accept\": \"application/json\",\n",
    "    \"Authorization\": f\"{token}\"\n",
    "}\n",
    "\n",
    "response = requests.get(url, headers=headers)\n",
    "\n",
    "print(response.text)"
   ]
  },
  {
   "cell_type": "code",
   "execution_count": 70,
   "id": "11be4da6-80c0-40c7-bdfe-2129b4320b1a",
   "metadata": {},
   "outputs": [
    {
     "data": {
      "text/plain": [
       "[{'fsq_id': '4cf147e31d18a143f13652ec',\n",
       "  'categories': [{'id': 13322,\n",
       "    'name': 'Peruvian Restaurant',\n",
       "    'icon': {'prefix': 'https://ss3.4sqi.net/img/categories_v2/food/peruvian_',\n",
       "     'suffix': '.png'}},\n",
       "   {'id': 13338,\n",
       "    'name': 'Seafood Restaurant',\n",
       "    'icon': {'prefix': 'https://ss3.4sqi.net/img/categories_v2/food/seafood_',\n",
       "     'suffix': '.png'}},\n",
       "   {'id': 13343,\n",
       "    'name': 'South American Restaurant',\n",
       "    'icon': {'prefix': 'https://ss3.4sqi.net/img/categories_v2/food/argentinian_',\n",
       "     'suffix': '.png'}}],\n",
       "  'chains': [],\n",
       "  'distance': 104,\n",
       "  'geocodes': {'main': {'latitude': 41.389885, 'longitude': 2.195099},\n",
       "   'roof': {'latitude': 41.389885, 'longitude': 2.195099}},\n",
       "  'link': '/v3/places/4cf147e31d18a143f13652ec',\n",
       "  'location': {'address': 'Avenida Icària, 131',\n",
       "   'admin_region': 'Cataluña',\n",
       "   'country': 'ES',\n",
       "   'cross_street': '',\n",
       "   'formatted_address': 'Avenida Icària, 131, 08005 Barcelona Catalonia',\n",
       "   'locality': 'Barcelona',\n",
       "   'postcode': '08005',\n",
       "   'region': 'Catalonia'},\n",
       "  'name': 'Café Ninoska',\n",
       "  'related_places': {},\n",
       "  'timezone': 'Europe/Madrid'},\n",
       " {'fsq_id': '4b659ce3f964a52071f62ae3',\n",
       "  'categories': [{'id': 13003,\n",
       "    'name': 'Bar',\n",
       "    'icon': {'prefix': 'https://ss3.4sqi.net/img/categories_v2/nightlife/pub_',\n",
       "     'suffix': '.png'}},\n",
       "   {'id': 13034,\n",
       "    'name': 'Café',\n",
       "    'icon': {'prefix': 'https://ss3.4sqi.net/img/categories_v2/food/cafe_',\n",
       "     'suffix': '.png'}},\n",
       "   {'id': 13065,\n",
       "    'name': 'Restaurant',\n",
       "    'icon': {'prefix': 'https://ss3.4sqi.net/img/categories_v2/food/default_',\n",
       "     'suffix': '.png'}}],\n",
       "  'chains': [],\n",
       "  'distance': 221,\n",
       "  'geocodes': {'main': {'latitude': 41.388631, 'longitude': 2.195668},\n",
       "   'roof': {'latitude': 41.388631, 'longitude': 2.195668}},\n",
       "  'link': '/v3/places/4b659ce3f964a52071f62ae3',\n",
       "  'location': {'address': 'Calle Marina, 20',\n",
       "   'admin_region': 'Cataluña',\n",
       "   'country': 'ES',\n",
       "   'formatted_address': 'Calle Marina, 20, 08005 Barcelona Catalonia',\n",
       "   'locality': 'Barcelona',\n",
       "   'postcode': '08005',\n",
       "   'region': 'Catalonia'},\n",
       "  'name': 'Rembrandt Cafe',\n",
       "  'related_places': {},\n",
       "  'timezone': 'Europe/Madrid'},\n",
       " {'fsq_id': '4b9a82e1f964a52052bc35e3',\n",
       "  'categories': [{'id': 13034,\n",
       "    'name': 'Café',\n",
       "    'icon': {'prefix': 'https://ss3.4sqi.net/img/categories_v2/food/cafe_',\n",
       "     'suffix': '.png'}},\n",
       "   {'id': 13035,\n",
       "    'name': 'Coffee Shop',\n",
       "    'icon': {'prefix': 'https://ss3.4sqi.net/img/categories_v2/food/coffeeshop_',\n",
       "     'suffix': '.png'}},\n",
       "   {'id': 13065,\n",
       "    'name': 'Restaurant',\n",
       "    'icon': {'prefix': 'https://ss3.4sqi.net/img/categories_v2/food/default_',\n",
       "     'suffix': '.png'}}],\n",
       "  'chains': [],\n",
       "  'distance': 268,\n",
       "  'geocodes': {'main': {'latitude': 41.390286, 'longitude': 2.190933},\n",
       "   'roof': {'latitude': 41.390286, 'longitude': 2.190933}},\n",
       "  'link': '/v3/places/4b9a82e1f964a52052bc35e3',\n",
       "  'location': {'address': 'Carrer de Ramon Trias Fargas, 42',\n",
       "   'admin_region': 'Cataluña',\n",
       "   'country': 'ES',\n",
       "   'formatted_address': 'Carrer de Ramon Trias Fargas, 42, 08005 Barcelona Catalonia',\n",
       "   'locality': 'Barcelona',\n",
       "   'postcode': '08005',\n",
       "   'region': 'Catalonia'},\n",
       "  'name': 'El Cafe de la Pompeu',\n",
       "  'related_places': {},\n",
       "  'timezone': 'Europe/Madrid'},\n",
       " {'fsq_id': '4dfcf0d2aeb7594e8621dd87',\n",
       "  'categories': [{'id': 13034,\n",
       "    'name': 'Café',\n",
       "    'icon': {'prefix': 'https://ss3.4sqi.net/img/categories_v2/food/cafe_',\n",
       "     'suffix': '.png'}}],\n",
       "  'chains': [],\n",
       "  'distance': 283,\n",
       "  'geocodes': {'main': {'latitude': 41.387816, 'longitude': 2.193371},\n",
       "   'roof': {'latitude': 41.387816, 'longitude': 2.193371}},\n",
       "  'link': '/v3/places/4dfcf0d2aeb7594e8621dd87',\n",
       "  'location': {'address': 'Dr. Trueta, 81',\n",
       "   'admin_region': 'Cataluña',\n",
       "   'country': 'ES',\n",
       "   'formatted_address': 'Dr. Trueta, 81, 08005 Barcelona Catalonia',\n",
       "   'locality': 'Barcelona',\n",
       "   'postcode': '08005',\n",
       "   'region': 'Catalonia'},\n",
       "  'name': 'Café Icaria',\n",
       "  'related_places': {},\n",
       "  'timezone': 'Europe/Madrid'},\n",
       " {'fsq_id': '55aaa570498e61368347efa9',\n",
       "  'categories': [{'id': 13031,\n",
       "    'name': 'Burger Joint',\n",
       "    'icon': {'prefix': 'https://ss3.4sqi.net/img/categories_v2/food/burger_',\n",
       "     'suffix': '.png'}},\n",
       "   {'id': 13302,\n",
       "    'name': 'Mediterranean Restaurant',\n",
       "    'icon': {'prefix': 'https://ss3.4sqi.net/img/categories_v2/food/mediterranean_',\n",
       "     'suffix': '.png'}},\n",
       "   {'id': 13377,\n",
       "    'name': 'Vegan and Vegetarian Restaurant',\n",
       "    'icon': {'prefix': 'https://ss3.4sqi.net/img/categories_v2/food/vegetarian_',\n",
       "     'suffix': '.png'}}],\n",
       "  'chains': [],\n",
       "  'distance': 316,\n",
       "  'geocodes': {'main': {'latitude': 41.390752, 'longitude': 2.190341},\n",
       "   'roof': {'latitude': 41.390752, 'longitude': 2.190341}},\n",
       "  'link': '/v3/places/55aaa570498e61368347efa9',\n",
       "  'location': {'address': 'Carrer Sardenya, 48',\n",
       "   'admin_region': 'Cataluña',\n",
       "   'country': 'ES',\n",
       "   'cross_street': 'Ramon Turró',\n",
       "   'formatted_address': 'Carrer Sardenya, 48 (Ramon Turró), 08005 Barcelona Catalonia',\n",
       "   'locality': 'Barcelona',\n",
       "   'postcode': '08005',\n",
       "   'region': 'Catalonia'},\n",
       "  'name': 'Menssana',\n",
       "  'related_places': {},\n",
       "  'timezone': 'Europe/Madrid'}]"
      ]
     },
     "execution_count": 70,
     "metadata": {},
     "output_type": "execute_result"
    }
   ],
   "source": [
    "response.json()[\"results\"]"
   ]
  },
  {
   "cell_type": "code",
   "execution_count": 71,
   "id": "638e588d-f1cd-4045-b2cd-61759e81d605",
   "metadata": {},
   "outputs": [
    {
     "data": {
      "text/plain": [
       "{'latitude': 41.389885, 'longitude': 2.195099}"
      ]
     },
     "execution_count": 71,
     "metadata": {},
     "output_type": "execute_result"
    }
   ],
   "source": [
    "coordinates = response.json()[\"results\"][0][\"geocodes\"][\"main\"]\n",
    "coordinates"
   ]
  },
  {
   "cell_type": "code",
   "execution_count": 72,
   "id": "dd20c2ef-f09d-49e3-b830-e8ce2a2cde82",
   "metadata": {},
   "outputs": [],
   "source": [
    "lat, lon = coordinates[\"latitude\"], coordinates[\"longitude\"]"
   ]
  },
  {
   "cell_type": "code",
   "execution_count": 73,
   "id": "0c11c39f-2b30-4e10-8146-e03855bac3ad",
   "metadata": {},
   "outputs": [
    {
     "data": {
      "text/plain": [
       "'Café Ninoska'"
      ]
     },
     "execution_count": 73,
     "metadata": {},
     "output_type": "execute_result"
    }
   ],
   "source": [
    "name = response.json()[\"results\"][0][\"name\"]\n",
    "name"
   ]
  },
  {
   "cell_type": "code",
   "execution_count": 74,
   "id": "c940bae0-7f5a-4cad-91fe-d95772a6e381",
   "metadata": {},
   "outputs": [],
   "source": [
    "def name_coordinates (dict_):\n",
    "    \n",
    "    processed_dict = {\"name\": dict_[\"name\"],\n",
    "                     \"lat\": dict_[\"geocodes\"][\"main\"][\"latitude\"],\n",
    "                     \"lon\": dict_[\"geocodes\"][\"main\"][\"longitude\"]}\n",
    "    \n",
    "    return processed_dict"
   ]
  },
  {
   "cell_type": "code",
   "execution_count": 75,
   "id": "29d2277f-dbd7-4049-bdaa-69a41d7ef3fd",
   "metadata": {},
   "outputs": [
    {
     "data": {
      "text/plain": [
       "{'name': 'Café Ninoska', 'lat': 41.389885, 'lon': 2.195099}"
      ]
     },
     "execution_count": 75,
     "metadata": {},
     "output_type": "execute_result"
    }
   ],
   "source": [
    "name_coordinates (response.json()[\"results\"][0])"
   ]
  },
  {
   "cell_type": "code",
   "execution_count": 77,
   "id": "2959fe39-67dc-4de2-80d2-037ac364fe37",
   "metadata": {},
   "outputs": [
    {
     "data": {
      "text/plain": [
       "[{'name': 'Café Ninoska', 'lat': 41.389885, 'lon': 2.195099},\n",
       " {'name': 'Rembrandt Cafe', 'lat': 41.388631, 'lon': 2.195668},\n",
       " {'name': 'El Cafe de la Pompeu', 'lat': 41.390286, 'lon': 2.190933},\n",
       " {'name': 'Café Icaria', 'lat': 41.387816, 'lon': 2.193371},\n",
       " {'name': 'Menssana', 'lat': 41.390752, 'lon': 2.190341}]"
      ]
     },
     "execution_count": 77,
     "metadata": {},
     "output_type": "execute_result"
    }
   ],
   "source": [
    "new_list = []\n",
    "for i in response.json()[\"results\"]:\n",
    "    new_list.append(name_coordinates(i))\n",
    "new_list"
   ]
  },
  {
   "cell_type": "code",
   "execution_count": 78,
   "id": "63ac81ea-c2ab-4d34-8854-821d116e8237",
   "metadata": {},
   "outputs": [
    {
     "data": {
      "text/html": [
       "<div>\n",
       "<style scoped>\n",
       "    .dataframe tbody tr th:only-of-type {\n",
       "        vertical-align: middle;\n",
       "    }\n",
       "\n",
       "    .dataframe tbody tr th {\n",
       "        vertical-align: top;\n",
       "    }\n",
       "\n",
       "    .dataframe thead th {\n",
       "        text-align: right;\n",
       "    }\n",
       "</style>\n",
       "<table border=\"1\" class=\"dataframe\">\n",
       "  <thead>\n",
       "    <tr style=\"text-align: right;\">\n",
       "      <th></th>\n",
       "      <th>name</th>\n",
       "      <th>lat</th>\n",
       "      <th>lon</th>\n",
       "    </tr>\n",
       "  </thead>\n",
       "  <tbody>\n",
       "    <tr>\n",
       "      <th>0</th>\n",
       "      <td>Café Ninoska</td>\n",
       "      <td>41.389885</td>\n",
       "      <td>2.195099</td>\n",
       "    </tr>\n",
       "    <tr>\n",
       "      <th>1</th>\n",
       "      <td>Rembrandt Cafe</td>\n",
       "      <td>41.388631</td>\n",
       "      <td>2.195668</td>\n",
       "    </tr>\n",
       "    <tr>\n",
       "      <th>2</th>\n",
       "      <td>El Cafe de la Pompeu</td>\n",
       "      <td>41.390286</td>\n",
       "      <td>2.190933</td>\n",
       "    </tr>\n",
       "    <tr>\n",
       "      <th>3</th>\n",
       "      <td>Café Icaria</td>\n",
       "      <td>41.387816</td>\n",
       "      <td>2.193371</td>\n",
       "    </tr>\n",
       "    <tr>\n",
       "      <th>4</th>\n",
       "      <td>Menssana</td>\n",
       "      <td>41.390752</td>\n",
       "      <td>2.190341</td>\n",
       "    </tr>\n",
       "  </tbody>\n",
       "</table>\n",
       "</div>"
      ],
      "text/plain": [
       "                   name        lat       lon\n",
       "0          Café Ninoska  41.389885  2.195099\n",
       "1        Rembrandt Cafe  41.388631  2.195668\n",
       "2  El Cafe de la Pompeu  41.390286  2.190933\n",
       "3           Café Icaria  41.387816  2.193371\n",
       "4              Menssana  41.390752  2.190341"
      ]
     },
     "execution_count": 78,
     "metadata": {},
     "output_type": "execute_result"
    }
   ],
   "source": [
    "top_5_cafe_df = pd.DataFrame(new_list)\n",
    "top_5_cafe_df"
   ]
  },
  {
   "cell_type": "code",
   "execution_count": null,
   "id": "e4c4da19-da9b-4951-b1a7-04575866d2b1",
   "metadata": {},
   "outputs": [],
   "source": []
  },
  {
   "cell_type": "markdown",
   "id": "d19904e8",
   "metadata": {},
   "source": [
    "# 4. Define a function that returns name, lat, long for starbucks OR restaurants AND for any given location"
   ]
  },
  {
   "cell_type": "code",
   "execution_count": 79,
   "id": "1fad5153",
   "metadata": {},
   "outputs": [],
   "source": [
    "def foursquare_places (venue, coordinates):\n",
    "    import requests\n",
    "\n",
    "    url = f\"https://api.foursquare.com/v3/places/search?query={venue}&ll={coordinates}&sort=DISTANCE&limit=5\"\n",
    "\n",
    "    headers = {\n",
    "        \"accept\": \"application/json\",\n",
    "        \"Authorization\": \"fsq3m5AWFLg0cJa50Q1XjCojp3IpsdrNo8XSKCoCI30gFIc=\"\n",
    "    }\n",
    "\n",
    "    response = requests.get(url, headers=headers)\n",
    "    response.json()[\"results\"]\n",
    "    coordinates = response.json()[\"results\"][0][\"geocodes\"][\"main\"]\n",
    "    lat, lon = coordinates[\"latitude\"], coordinates[\"longitude\"]\n",
    "    name = response.json()[\"results\"][0][\"name\"]\n",
    "    name_coordinates (response.json()[\"results\"][0])\n",
    "    new_list_3 = []\n",
    "    for i in response.json()[\"results\"]:\n",
    "        new_list.append(name_coordinates(i))\n",
    "    starbucks_df = pd.DataFrame(new_list)\n",
    "\n",
    "    \n",
    "    return starbucks_df\n"
   ]
  },
  {
   "cell_type": "code",
   "execution_count": 86,
   "id": "41d30947-2f5c-4a0e-8c15-97c81afeaf21",
   "metadata": {},
   "outputs": [],
   "source": [
    "x = foursquare_places (\"starbucks\", \"41.3903565,2.1941694\")"
   ]
  },
  {
   "cell_type": "code",
   "execution_count": 87,
   "id": "87727c5b-9f40-4ce5-91a6-c677f465cb7a",
   "metadata": {},
   "outputs": [
    {
     "data": {
      "text/html": [
       "<div>\n",
       "<style scoped>\n",
       "    .dataframe tbody tr th:only-of-type {\n",
       "        vertical-align: middle;\n",
       "    }\n",
       "\n",
       "    .dataframe tbody tr th {\n",
       "        vertical-align: top;\n",
       "    }\n",
       "\n",
       "    .dataframe thead th {\n",
       "        text-align: right;\n",
       "    }\n",
       "</style>\n",
       "<table border=\"1\" class=\"dataframe\">\n",
       "  <thead>\n",
       "    <tr style=\"text-align: right;\">\n",
       "      <th></th>\n",
       "      <th>name</th>\n",
       "      <th>lat</th>\n",
       "      <th>lon</th>\n",
       "    </tr>\n",
       "  </thead>\n",
       "  <tbody>\n",
       "    <tr>\n",
       "      <th>0</th>\n",
       "      <td>Café Ninoska</td>\n",
       "      <td>41.389885</td>\n",
       "      <td>2.195099</td>\n",
       "    </tr>\n",
       "    <tr>\n",
       "      <th>1</th>\n",
       "      <td>Rembrandt Cafe</td>\n",
       "      <td>41.388631</td>\n",
       "      <td>2.195668</td>\n",
       "    </tr>\n",
       "    <tr>\n",
       "      <th>2</th>\n",
       "      <td>El Cafe de la Pompeu</td>\n",
       "      <td>41.390286</td>\n",
       "      <td>2.190933</td>\n",
       "    </tr>\n",
       "    <tr>\n",
       "      <th>3</th>\n",
       "      <td>Café Icaria</td>\n",
       "      <td>41.387816</td>\n",
       "      <td>2.193371</td>\n",
       "    </tr>\n",
       "    <tr>\n",
       "      <th>4</th>\n",
       "      <td>Menssana</td>\n",
       "      <td>41.390752</td>\n",
       "      <td>2.190341</td>\n",
       "    </tr>\n",
       "    <tr>\n",
       "      <th>5</th>\n",
       "      <td>Starbucks</td>\n",
       "      <td>41.383506</td>\n",
       "      <td>2.181090</td>\n",
       "    </tr>\n",
       "    <tr>\n",
       "      <th>6</th>\n",
       "      <td>Starbucks</td>\n",
       "      <td>41.385209</td>\n",
       "      <td>2.177359</td>\n",
       "    </tr>\n",
       "    <tr>\n",
       "      <th>7</th>\n",
       "      <td>Starbucks</td>\n",
       "      <td>41.404985</td>\n",
       "      <td>2.192439</td>\n",
       "    </tr>\n",
       "    <tr>\n",
       "      <th>8</th>\n",
       "      <td>Starbucks</td>\n",
       "      <td>41.382413</td>\n",
       "      <td>2.176695</td>\n",
       "    </tr>\n",
       "    <tr>\n",
       "      <th>9</th>\n",
       "      <td>Starbucks</td>\n",
       "      <td>41.388819</td>\n",
       "      <td>2.171884</td>\n",
       "    </tr>\n",
       "    <tr>\n",
       "      <th>10</th>\n",
       "      <td>Starbucks</td>\n",
       "      <td>41.383506</td>\n",
       "      <td>2.181090</td>\n",
       "    </tr>\n",
       "    <tr>\n",
       "      <th>11</th>\n",
       "      <td>Starbucks</td>\n",
       "      <td>41.385209</td>\n",
       "      <td>2.177359</td>\n",
       "    </tr>\n",
       "    <tr>\n",
       "      <th>12</th>\n",
       "      <td>Starbucks</td>\n",
       "      <td>41.404985</td>\n",
       "      <td>2.192439</td>\n",
       "    </tr>\n",
       "    <tr>\n",
       "      <th>13</th>\n",
       "      <td>Starbucks</td>\n",
       "      <td>41.382413</td>\n",
       "      <td>2.176695</td>\n",
       "    </tr>\n",
       "    <tr>\n",
       "      <th>14</th>\n",
       "      <td>Starbucks</td>\n",
       "      <td>41.388819</td>\n",
       "      <td>2.171884</td>\n",
       "    </tr>\n",
       "  </tbody>\n",
       "</table>\n",
       "</div>"
      ],
      "text/plain": [
       "                    name        lat       lon\n",
       "0           Café Ninoska  41.389885  2.195099\n",
       "1         Rembrandt Cafe  41.388631  2.195668\n",
       "2   El Cafe de la Pompeu  41.390286  2.190933\n",
       "3            Café Icaria  41.387816  2.193371\n",
       "4               Menssana  41.390752  2.190341\n",
       "5              Starbucks  41.383506  2.181090\n",
       "6              Starbucks  41.385209  2.177359\n",
       "7              Starbucks  41.404985  2.192439\n",
       "8              Starbucks  41.382413  2.176695\n",
       "9              Starbucks  41.388819  2.171884\n",
       "10             Starbucks  41.383506  2.181090\n",
       "11             Starbucks  41.385209  2.177359\n",
       "12             Starbucks  41.404985  2.192439\n",
       "13             Starbucks  41.382413  2.176695\n",
       "14             Starbucks  41.388819  2.171884"
      ]
     },
     "execution_count": 87,
     "metadata": {},
     "output_type": "execute_result"
    }
   ],
   "source": [
    "x"
   ]
  },
  {
   "cell_type": "markdown",
   "id": "1836c1a1",
   "metadata": {},
   "source": [
    "# 5. Export it into data folder as a json: `data/coffe_shops.json`"
   ]
  },
  {
   "cell_type": "code",
   "execution_count": 88,
   "id": "7ac5f2a8",
   "metadata": {},
   "outputs": [],
   "source": [
    "x.to_json('coffe_shops.json')\n"
   ]
  },
  {
   "cell_type": "markdown",
   "id": "2d77e99d",
   "metadata": {},
   "source": [
    "# BONUS: load it into MongoDB in a collection named \"ironcoffee\" using pymongo"
   ]
  },
  {
   "cell_type": "code",
   "execution_count": null,
   "id": "85b94955",
   "metadata": {},
   "outputs": [],
   "source": [
    "# your code here"
   ]
  }
 ],
 "metadata": {
  "kernelspec": {
   "display_name": "ironhack",
   "language": "python",
   "name": "ironhack"
  },
  "language_info": {
   "codemirror_mode": {
    "name": "ipython",
    "version": 3
   },
   "file_extension": ".py",
   "mimetype": "text/x-python",
   "name": "python",
   "nbconvert_exporter": "python",
   "pygments_lexer": "ipython3",
   "version": "3.10.8"
  },
  "toc": {
   "base_numbering": 1,
   "nav_menu": {},
   "number_sections": true,
   "sideBar": true,
   "skip_h1_title": false,
   "title_cell": "Table of Contents",
   "title_sidebar": "Contents",
   "toc_cell": false,
   "toc_position": {},
   "toc_section_display": true,
   "toc_window_display": true
  }
 },
 "nbformat": 4,
 "nbformat_minor": 5
}
