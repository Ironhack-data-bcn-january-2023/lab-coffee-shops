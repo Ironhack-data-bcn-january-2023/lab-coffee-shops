{
 "cells": [
  {
   "cell_type": "markdown",
   "id": "0809e785",
   "metadata": {},
   "source": [
    "# 1. Import the necessary libraries for you to be able to query 4square API"
   ]
  },
  {
   "cell_type": "code",
   "execution_count": 5,
   "id": "9b373771",
   "metadata": {},
   "outputs": [],
   "source": [
    "import requests\n",
    "import json\n",
    "import pandas as pd\n",
    "from getpass import getpass\n",
    "import os\n",
    "import requests\n",
    "import json\n",
    "from dotenv import load_dotenv\n",
    "import pandas as pd\n",
    "\n",
    "import geopandas as gpd"
   ]
  },
  {
   "cell_type": "markdown",
   "id": "e94dce92",
   "metadata": {},
   "source": [
    "# 2. Get names and location of the 10 coffee places by passing Ironhack as your location"
   ]
  },
  {
   "cell_type": "code",
   "execution_count": 54,
   "id": "1d72f571",
   "metadata": {},
   "outputs": [],
   "source": [
    "load_dotenv() \n",
    "\n",
    "token = os.getenv(\"token\")"
   ]
  },
  {
   "cell_type": "code",
   "execution_count": null,
   "id": "84d38440",
   "metadata": {},
   "outputs": [],
   "source": []
  },
  {
   "cell_type": "code",
   "execution_count": 100,
   "id": "4221dd9d",
   "metadata": {},
   "outputs": [
    {
     "name": "stdout",
     "output_type": "stream",
     "text": [
      "{\"results\":[{\"fsq_id\":\"530c5e6911d2be0b8d22e27a\",\"categories\":[{\"id\":13034,\"name\":\"Café\",\"icon\":{\"prefix\":\"https://ss3.4sqi.net/img/categories_v2/food/cafe_\",\"suffix\":\".png\"}},{\"id\":13035,\"name\":\"Coffee Shop\",\"icon\":{\"prefix\":\"https://ss3.4sqi.net/img/categories_v2/food/coffeeshop_\",\"suffix\":\".png\"}},{\"id\":13065,\"name\":\"Restaurant\",\"icon\":{\"prefix\":\"https://ss3.4sqi.net/img/categories_v2/food/default_\",\"suffix\":\".png\"}}],\"chains\":[],\"distance\":289,\"geocodes\":{\"main\":{\"latitude\":41.396876,\"longitude\":2.191489},\"roof\":{\"latitude\":41.396876,\"longitude\":2.191489}},\"link\":\"/v3/places/530c5e6911d2be0b8d22e27a\",\"location\":{\"address\":\"Calle Pamplona, 88\",\"admin_region\":\"Cataluña\",\"country\":\"ES\",\"cross_street\":\"C. de Pallars\",\"formatted_address\":\"Calle Pamplona, 88 (C. de Pallars), 08018 Barcelona Catalonia\",\"locality\":\"Barcelona\",\"postcode\":\"08018\",\"region\":\"Catalonia\"},\"name\":\"Skye coffee co\",\"related_places\":{},\"timezone\":\"Europe/Madrid\"},{\"fsq_id\":\"4dcd073e52b1f8915b725665\",\"categories\":[{\"id\":13003,\"name\":\"Bar\",\"icon\":{\"prefix\":\"https://ss3.4sqi.net/img/categories_v2/nightlife/pub_\",\"suffix\":\".png\"}},{\"id\":13034,\"name\":\"Café\",\"icon\":{\"prefix\":\"https://ss3.4sqi.net/img/categories_v2/food/cafe_\",\"suffix\":\".png\"}},{\"id\":13065,\"name\":\"Restaurant\",\"icon\":{\"prefix\":\"https://ss3.4sqi.net/img/categories_v2/food/default_\",\"suffix\":\".png\"}}],\"chains\":[],\"distance\":80,\"geocodes\":{\"main\":{\"latitude\":41.397037,\"longitude\":2.187577},\"roof\":{\"latitude\":41.397037,\"longitude\":2.187577}},\"link\":\"/v3/places/4dcd073e52b1f8915b725665\",\"location\":{\"address\":\"Sancho de Ávila, 7\",\"admin_region\":\"Cataluña\",\"country\":\"ES\",\"cross_street\":\"\",\"formatted_address\":\"Sancho de Ávila, 7, 08018 Barcelona Catalonia\",\"locality\":\"Barcelona\",\"postcode\":\"08018\",\"region\":\"Catalonia\"},\"name\":\"Bar Sancho\",\"related_places\":{},\"timezone\":\"Europe/Madrid\"},{\"fsq_id\":\"5b8521d489e490002cefef18\",\"categories\":[{\"id\":13035,\"name\":\"Coffee Shop\",\"icon\":{\"prefix\":\"https://ss3.4sqi.net/img/categories_v2/food/coffeeshop_\",\"suffix\":\".png\"}},{\"id\":13065,\"name\":\"Restaurant\",\"icon\":{\"prefix\":\"https://ss3.4sqi.net/img/categories_v2/food/default_\",\"suffix\":\".png\"}}],\"chains\":[],\"distance\":386,\"geocodes\":{\"main\":{\"latitude\":41.396989,\"longitude\":2.183409},\"roof\":{\"latitude\":41.396989,\"longitude\":2.183409}},\"link\":\"/v3/places/5b8521d489e490002cefef18\",\"location\":{\"address\":\"Ausiàs Marc, 151\",\"admin_region\":\"Cataluña\",\"country\":\"ES\",\"formatted_address\":\"Ausiàs Marc, 151, 08013 Barcelona Catalonia\",\"locality\":\"Barcelona\",\"postcode\":\"08013\",\"region\":\"Catalonia\"},\"name\":\"Three Marks Coffee\",\"related_places\":{},\"timezone\":\"Europe/Madrid\"},{\"fsq_id\":\"5d4bd14db633a60008a721b0\",\"categories\":[{\"id\":13035,\"name\":\"Coffee Shop\",\"icon\":{\"prefix\":\"https://ss3.4sqi.net/img/categories_v2/food/coffeeshop_\",\"suffix\":\".png\"}}],\"chains\":[],\"distance\":520,\"geocodes\":{\"main\":{\"latitude\":41.396518,\"longitude\":2.19417},\"roof\":{\"latitude\":41.396518,\"longitude\":2.19417}},\"link\":\"/v3/places/5d4bd14db633a60008a721b0\",\"location\":{\"address\":\"Calle de Pujades, 100\",\"admin_region\":\"Cataluña\",\"country\":\"ES\",\"cross_street\":\"C. d'Àlaba\",\"formatted_address\":\"Calle de Pujades, 100 (C. d'Àlaba), 08005 Barcelona Catalonia\",\"locality\":\"Barcelona\",\"postcode\":\"08005\",\"region\":\"Catalonia\"},\"name\":\"Syra Coffee Poblenou\",\"related_places\":{},\"timezone\":\"Europe/Madrid\"},{\"fsq_id\":\"555f2357498ee6528074710b\",\"categories\":[{\"id\":13034,\"name\":\"Café\",\"icon\":{\"prefix\":\"https://ss3.4sqi.net/img/categories_v2/food/cafe_\",\"suffix\":\".png\"}},{\"id\":13035,\"name\":\"Coffee Shop\",\"icon\":{\"prefix\":\"https://ss3.4sqi.net/img/categories_v2/food/coffeeshop_\",\"suffix\":\".png\"}},{\"id\":13065,\"name\":\"Restaurant\",\"icon\":{\"prefix\":\"https://ss3.4sqi.net/img/categories_v2/food/default_\",\"suffix\":\".png\"}}],\"chains\":[],\"distance\":586,\"geocodes\":{\"main\":{\"latitude\":41.398735,\"longitude\":2.195069},\"roof\":{\"latitude\":41.398735,\"longitude\":2.195069}},\"link\":\"/v3/places/555f2357498ee6528074710b\",\"location\":{\"address\":\"Carrer Badajoz, 95\",\"admin_region\":\"Cataluña\",\"country\":\"ES\",\"cross_street\":\"\",\"formatted_address\":\"Carrer Badajoz, 95, 08005 Barcelona Catalonia\",\"locality\":\"Barcelona\",\"postcode\":\"08005\",\"region\":\"Catalonia\"},\"name\":\"Espai Joliu\",\"related_places\":{},\"timezone\":\"Europe/Madrid\"},{\"fsq_id\":\"4cac6c632776b60c043a510d\",\"categories\":[{\"id\":13034,\"name\":\"Café\",\"icon\":{\"prefix\":\"https://ss3.4sqi.net/img/categories_v2/food/cafe_\",\"suffix\":\".png\"}},{\"id\":13065,\"name\":\"Restaurant\",\"icon\":{\"prefix\":\"https://ss3.4sqi.net/img/categories_v2/food/default_\",\"suffix\":\".png\"}}],\"chains\":[],\"distance\":262,\"geocodes\":{\"main\":{\"latitude\":41.395408,\"longitude\":2.187203},\"roof\":{\"latitude\":41.395408,\"longitude\":2.187203}},\"link\":\"/v3/places/4cac6c632776b60c043a510d\",\"location\":{\"address\":\"Avenida Meridiana, 34\",\"admin_region\":\"Cataluña\",\"country\":\"ES\",\"cross_street\":\"\",\"formatted_address\":\"Avenida Meridiana, 34, 08018 Barcelona Catalonia\",\"locality\":\"Barcelona\",\"postcode\":\"08018\",\"region\":\"Catalonia\"},\"name\":\"Classic Bar Cafeteria\",\"related_places\":{},\"timezone\":\"Europe/Madrid\"},{\"fsq_id\":\"4dbae0930cb691071c7be6bf\",\"categories\":[{\"id\":13034,\"name\":\"Café\",\"icon\":{\"prefix\":\"https://ss3.4sqi.net/img/categories_v2/food/cafe_\",\"suffix\":\".png\"}}],\"chains\":[],\"distance\":273,\"geocodes\":{\"main\":{\"latitude\":41.397517,\"longitude\":2.184792}},\"link\":\"/v3/places/4dbae0930cb691071c7be6bf\",\"location\":{\"address\":\"Lepant, 150\",\"admin_region\":\"Cataluña\",\"country\":\"ES\",\"cross_street\":\"\",\"formatted_address\":\"Lepant, 150, 08013 Barcelona Catalonia\",\"locality\":\"Barcelona\",\"postcode\":\"08013\",\"region\":\"Catalonia\"},\"name\":\"Laie Auditori\",\"related_places\":{},\"timezone\":\"Europe/Madrid\"},{\"fsq_id\":\"556d6217498ef50c5d323048\",\"categories\":[{\"id\":13003,\"name\":\"Bar\",\"icon\":{\"prefix\":\"https://ss3.4sqi.net/img/categories_v2/nightlife/pub_\",\"suffix\":\".png\"}},{\"id\":13035,\"name\":\"Coffee Shop\",\"icon\":{\"prefix\":\"https://ss3.4sqi.net/img/categories_v2/food/coffeeshop_\",\"suffix\":\".png\"}}],\"chains\":[],\"distance\":641,\"geocodes\":{\"main\":{\"latitude\":41.397977,\"longitude\":2.195589},\"roof\":{\"latitude\":41.397977,\"longitude\":2.195589}},\"link\":\"/v3/places/556d6217498ef50c5d323048\",\"location\":{\"address\":\"Calle de Pujades, 95\",\"admin_region\":\"Cataluña\",\"country\":\"ES\",\"cross_street\":\"C. de Badajoz\",\"formatted_address\":\"Calle de Pujades, 95 (C. de Badajoz), 08005 Barcelona\",\"locality\":\"Barcelona\",\"postcode\":\"08005\"},\"name\":\"Nømad Roaster's Home\",\"related_places\":{},\"timezone\":\"Europe/Madrid\"},{\"fsq_id\":\"5cf510f0031320002cbd5af8\",\"categories\":[{\"id\":13035,\"name\":\"Coffee Shop\",\"icon\":{\"prefix\":\"https://ss3.4sqi.net/img/categories_v2/food/coffeeshop_\",\"suffix\":\".png\"}},{\"id\":13065,\"name\":\"Restaurant\",\"icon\":{\"prefix\":\"https://ss3.4sqi.net/img/categories_v2/food/default_\",\"suffix\":\".png\"}}],\"chains\":[],\"distance\":609,\"geocodes\":{\"main\":{\"latitude\":41.392543,\"longitude\":2.185749},\"roof\":{\"latitude\":41.392543,\"longitude\":2.185749}},\"link\":\"/v3/places/5cf510f0031320002cbd5af8\",\"location\":{\"address\":\"Calle de Buenaventura Muñoz, 31\",\"admin_region\":\"Cataluña\",\"country\":\"ES\",\"cross_street\":\"\",\"formatted_address\":\"Calle de Buenaventura Muñoz, 31, 08018 Barcelona Catalonia\",\"locality\":\"Barcelona\",\"postcode\":\"08018\",\"region\":\"Catalonia\"},\"name\":\"Orval\",\"related_places\":{},\"timezone\":\"Europe/Madrid\"},{\"fsq_id\":\"4c3c33d886ce328f0567ab2d\",\"categories\":[{\"id\":13345,\"name\":\"Spanish Restaurant\",\"icon\":{\"prefix\":\"https://ss3.4sqi.net/img/categories_v2/food/spanish_\",\"suffix\":\".png\"}}],\"chains\":[],\"distance\":287,\"geocodes\":{\"main\":{\"latitude\":41.395239,\"longitude\":2.187192},\"roof\":{\"latitude\":41.395239,\"longitude\":2.187192}},\"link\":\"/v3/places/4c3c33d886ce328f0567ab2d\",\"location\":{\"address\":\"Avenida Meridiana, 30-32\",\"admin_region\":\"Cataluña\",\"country\":\"ES\",\"cross_street\":\"\",\"formatted_address\":\"Avenida Meridiana, 30-32, 08018 Barcelona Barcelona\",\"locality\":\"Barcelona\",\"postcode\":\"08018\",\"region\":\"Barcelona\"},\"name\":\"Andalucia Restaurante\",\"related_places\":{},\"timezone\":\"Europe/Madrid\"}],\"context\":{\"geo_bounds\":{\"circle\":{\"center\":{\"latitude\":41.3977421,\"longitude\":2.1880606},\"radius\":1000}}}}\n"
     ]
    }
   ],
   "source": [
    "import requests\n",
    "\n",
    "url = \"https://api.foursquare.com/v3/places/search?query=coffee&ll=41.3977421%2C2.1880606&radius=1000&limit=10\"\n",
    "\n",
    "headers = {\n",
    "    \"accept\": \"application/json\",\n",
    "    \"Authorization\": token\n",
    "}\n",
    "\n",
    "response = requests.get(url, headers=headers)\n",
    "\n",
    "print(response.text)"
   ]
  },
  {
   "cell_type": "code",
   "execution_count": 101,
   "id": "a434d180",
   "metadata": {},
   "outputs": [
    {
     "data": {
      "text/plain": [
       "[{'fsq_id': '530c5e6911d2be0b8d22e27a',\n",
       "  'categories': [{'id': 13034,\n",
       "    'name': 'Café',\n",
       "    'icon': {'prefix': 'https://ss3.4sqi.net/img/categories_v2/food/cafe_',\n",
       "     'suffix': '.png'}},\n",
       "   {'id': 13035,\n",
       "    'name': 'Coffee Shop',\n",
       "    'icon': {'prefix': 'https://ss3.4sqi.net/img/categories_v2/food/coffeeshop_',\n",
       "     'suffix': '.png'}},\n",
       "   {'id': 13065,\n",
       "    'name': 'Restaurant',\n",
       "    'icon': {'prefix': 'https://ss3.4sqi.net/img/categories_v2/food/default_',\n",
       "     'suffix': '.png'}}],\n",
       "  'chains': [],\n",
       "  'distance': 289,\n",
       "  'geocodes': {'main': {'latitude': 41.396876, 'longitude': 2.191489},\n",
       "   'roof': {'latitude': 41.396876, 'longitude': 2.191489}},\n",
       "  'link': '/v3/places/530c5e6911d2be0b8d22e27a',\n",
       "  'location': {'address': 'Calle Pamplona, 88',\n",
       "   'admin_region': 'Cataluña',\n",
       "   'country': 'ES',\n",
       "   'cross_street': 'C. de Pallars',\n",
       "   'formatted_address': 'Calle Pamplona, 88 (C. de Pallars), 08018 Barcelona Catalonia',\n",
       "   'locality': 'Barcelona',\n",
       "   'postcode': '08018',\n",
       "   'region': 'Catalonia'},\n",
       "  'name': 'Skye coffee co',\n",
       "  'related_places': {},\n",
       "  'timezone': 'Europe/Madrid'},\n",
       " {'fsq_id': '4dcd073e52b1f8915b725665',\n",
       "  'categories': [{'id': 13003,\n",
       "    'name': 'Bar',\n",
       "    'icon': {'prefix': 'https://ss3.4sqi.net/img/categories_v2/nightlife/pub_',\n",
       "     'suffix': '.png'}},\n",
       "   {'id': 13034,\n",
       "    'name': 'Café',\n",
       "    'icon': {'prefix': 'https://ss3.4sqi.net/img/categories_v2/food/cafe_',\n",
       "     'suffix': '.png'}},\n",
       "   {'id': 13065,\n",
       "    'name': 'Restaurant',\n",
       "    'icon': {'prefix': 'https://ss3.4sqi.net/img/categories_v2/food/default_',\n",
       "     'suffix': '.png'}}],\n",
       "  'chains': [],\n",
       "  'distance': 80,\n",
       "  'geocodes': {'main': {'latitude': 41.397037, 'longitude': 2.187577},\n",
       "   'roof': {'latitude': 41.397037, 'longitude': 2.187577}},\n",
       "  'link': '/v3/places/4dcd073e52b1f8915b725665',\n",
       "  'location': {'address': 'Sancho de Ávila, 7',\n",
       "   'admin_region': 'Cataluña',\n",
       "   'country': 'ES',\n",
       "   'cross_street': '',\n",
       "   'formatted_address': 'Sancho de Ávila, 7, 08018 Barcelona Catalonia',\n",
       "   'locality': 'Barcelona',\n",
       "   'postcode': '08018',\n",
       "   'region': 'Catalonia'},\n",
       "  'name': 'Bar Sancho',\n",
       "  'related_places': {},\n",
       "  'timezone': 'Europe/Madrid'},\n",
       " {'fsq_id': '5b8521d489e490002cefef18',\n",
       "  'categories': [{'id': 13035,\n",
       "    'name': 'Coffee Shop',\n",
       "    'icon': {'prefix': 'https://ss3.4sqi.net/img/categories_v2/food/coffeeshop_',\n",
       "     'suffix': '.png'}},\n",
       "   {'id': 13065,\n",
       "    'name': 'Restaurant',\n",
       "    'icon': {'prefix': 'https://ss3.4sqi.net/img/categories_v2/food/default_',\n",
       "     'suffix': '.png'}}],\n",
       "  'chains': [],\n",
       "  'distance': 386,\n",
       "  'geocodes': {'main': {'latitude': 41.396989, 'longitude': 2.183409},\n",
       "   'roof': {'latitude': 41.396989, 'longitude': 2.183409}},\n",
       "  'link': '/v3/places/5b8521d489e490002cefef18',\n",
       "  'location': {'address': 'Ausiàs Marc, 151',\n",
       "   'admin_region': 'Cataluña',\n",
       "   'country': 'ES',\n",
       "   'formatted_address': 'Ausiàs Marc, 151, 08013 Barcelona Catalonia',\n",
       "   'locality': 'Barcelona',\n",
       "   'postcode': '08013',\n",
       "   'region': 'Catalonia'},\n",
       "  'name': 'Three Marks Coffee',\n",
       "  'related_places': {},\n",
       "  'timezone': 'Europe/Madrid'},\n",
       " {'fsq_id': '5d4bd14db633a60008a721b0',\n",
       "  'categories': [{'id': 13035,\n",
       "    'name': 'Coffee Shop',\n",
       "    'icon': {'prefix': 'https://ss3.4sqi.net/img/categories_v2/food/coffeeshop_',\n",
       "     'suffix': '.png'}}],\n",
       "  'chains': [],\n",
       "  'distance': 520,\n",
       "  'geocodes': {'main': {'latitude': 41.396518, 'longitude': 2.19417},\n",
       "   'roof': {'latitude': 41.396518, 'longitude': 2.19417}},\n",
       "  'link': '/v3/places/5d4bd14db633a60008a721b0',\n",
       "  'location': {'address': 'Calle de Pujades, 100',\n",
       "   'admin_region': 'Cataluña',\n",
       "   'country': 'ES',\n",
       "   'cross_street': \"C. d'Àlaba\",\n",
       "   'formatted_address': \"Calle de Pujades, 100 (C. d'Àlaba), 08005 Barcelona Catalonia\",\n",
       "   'locality': 'Barcelona',\n",
       "   'postcode': '08005',\n",
       "   'region': 'Catalonia'},\n",
       "  'name': 'Syra Coffee Poblenou',\n",
       "  'related_places': {},\n",
       "  'timezone': 'Europe/Madrid'},\n",
       " {'fsq_id': '555f2357498ee6528074710b',\n",
       "  'categories': [{'id': 13034,\n",
       "    'name': 'Café',\n",
       "    'icon': {'prefix': 'https://ss3.4sqi.net/img/categories_v2/food/cafe_',\n",
       "     'suffix': '.png'}},\n",
       "   {'id': 13035,\n",
       "    'name': 'Coffee Shop',\n",
       "    'icon': {'prefix': 'https://ss3.4sqi.net/img/categories_v2/food/coffeeshop_',\n",
       "     'suffix': '.png'}},\n",
       "   {'id': 13065,\n",
       "    'name': 'Restaurant',\n",
       "    'icon': {'prefix': 'https://ss3.4sqi.net/img/categories_v2/food/default_',\n",
       "     'suffix': '.png'}}],\n",
       "  'chains': [],\n",
       "  'distance': 586,\n",
       "  'geocodes': {'main': {'latitude': 41.398735, 'longitude': 2.195069},\n",
       "   'roof': {'latitude': 41.398735, 'longitude': 2.195069}},\n",
       "  'link': '/v3/places/555f2357498ee6528074710b',\n",
       "  'location': {'address': 'Carrer Badajoz, 95',\n",
       "   'admin_region': 'Cataluña',\n",
       "   'country': 'ES',\n",
       "   'cross_street': '',\n",
       "   'formatted_address': 'Carrer Badajoz, 95, 08005 Barcelona Catalonia',\n",
       "   'locality': 'Barcelona',\n",
       "   'postcode': '08005',\n",
       "   'region': 'Catalonia'},\n",
       "  'name': 'Espai Joliu',\n",
       "  'related_places': {},\n",
       "  'timezone': 'Europe/Madrid'},\n",
       " {'fsq_id': '4cac6c632776b60c043a510d',\n",
       "  'categories': [{'id': 13034,\n",
       "    'name': 'Café',\n",
       "    'icon': {'prefix': 'https://ss3.4sqi.net/img/categories_v2/food/cafe_',\n",
       "     'suffix': '.png'}},\n",
       "   {'id': 13065,\n",
       "    'name': 'Restaurant',\n",
       "    'icon': {'prefix': 'https://ss3.4sqi.net/img/categories_v2/food/default_',\n",
       "     'suffix': '.png'}}],\n",
       "  'chains': [],\n",
       "  'distance': 262,\n",
       "  'geocodes': {'main': {'latitude': 41.395408, 'longitude': 2.187203},\n",
       "   'roof': {'latitude': 41.395408, 'longitude': 2.187203}},\n",
       "  'link': '/v3/places/4cac6c632776b60c043a510d',\n",
       "  'location': {'address': 'Avenida Meridiana, 34',\n",
       "   'admin_region': 'Cataluña',\n",
       "   'country': 'ES',\n",
       "   'cross_street': '',\n",
       "   'formatted_address': 'Avenida Meridiana, 34, 08018 Barcelona Catalonia',\n",
       "   'locality': 'Barcelona',\n",
       "   'postcode': '08018',\n",
       "   'region': 'Catalonia'},\n",
       "  'name': 'Classic Bar Cafeteria',\n",
       "  'related_places': {},\n",
       "  'timezone': 'Europe/Madrid'},\n",
       " {'fsq_id': '4dbae0930cb691071c7be6bf',\n",
       "  'categories': [{'id': 13034,\n",
       "    'name': 'Café',\n",
       "    'icon': {'prefix': 'https://ss3.4sqi.net/img/categories_v2/food/cafe_',\n",
       "     'suffix': '.png'}}],\n",
       "  'chains': [],\n",
       "  'distance': 273,\n",
       "  'geocodes': {'main': {'latitude': 41.397517, 'longitude': 2.184792}},\n",
       "  'link': '/v3/places/4dbae0930cb691071c7be6bf',\n",
       "  'location': {'address': 'Lepant, 150',\n",
       "   'admin_region': 'Cataluña',\n",
       "   'country': 'ES',\n",
       "   'cross_street': '',\n",
       "   'formatted_address': 'Lepant, 150, 08013 Barcelona Catalonia',\n",
       "   'locality': 'Barcelona',\n",
       "   'postcode': '08013',\n",
       "   'region': 'Catalonia'},\n",
       "  'name': 'Laie Auditori',\n",
       "  'related_places': {},\n",
       "  'timezone': 'Europe/Madrid'},\n",
       " {'fsq_id': '556d6217498ef50c5d323048',\n",
       "  'categories': [{'id': 13003,\n",
       "    'name': 'Bar',\n",
       "    'icon': {'prefix': 'https://ss3.4sqi.net/img/categories_v2/nightlife/pub_',\n",
       "     'suffix': '.png'}},\n",
       "   {'id': 13035,\n",
       "    'name': 'Coffee Shop',\n",
       "    'icon': {'prefix': 'https://ss3.4sqi.net/img/categories_v2/food/coffeeshop_',\n",
       "     'suffix': '.png'}}],\n",
       "  'chains': [],\n",
       "  'distance': 641,\n",
       "  'geocodes': {'main': {'latitude': 41.397977, 'longitude': 2.195589},\n",
       "   'roof': {'latitude': 41.397977, 'longitude': 2.195589}},\n",
       "  'link': '/v3/places/556d6217498ef50c5d323048',\n",
       "  'location': {'address': 'Calle de Pujades, 95',\n",
       "   'admin_region': 'Cataluña',\n",
       "   'country': 'ES',\n",
       "   'cross_street': 'C. de Badajoz',\n",
       "   'formatted_address': 'Calle de Pujades, 95 (C. de Badajoz), 08005 Barcelona',\n",
       "   'locality': 'Barcelona',\n",
       "   'postcode': '08005'},\n",
       "  'name': \"Nømad Roaster's Home\",\n",
       "  'related_places': {},\n",
       "  'timezone': 'Europe/Madrid'},\n",
       " {'fsq_id': '5cf510f0031320002cbd5af8',\n",
       "  'categories': [{'id': 13035,\n",
       "    'name': 'Coffee Shop',\n",
       "    'icon': {'prefix': 'https://ss3.4sqi.net/img/categories_v2/food/coffeeshop_',\n",
       "     'suffix': '.png'}},\n",
       "   {'id': 13065,\n",
       "    'name': 'Restaurant',\n",
       "    'icon': {'prefix': 'https://ss3.4sqi.net/img/categories_v2/food/default_',\n",
       "     'suffix': '.png'}}],\n",
       "  'chains': [],\n",
       "  'distance': 609,\n",
       "  'geocodes': {'main': {'latitude': 41.392543, 'longitude': 2.185749},\n",
       "   'roof': {'latitude': 41.392543, 'longitude': 2.185749}},\n",
       "  'link': '/v3/places/5cf510f0031320002cbd5af8',\n",
       "  'location': {'address': 'Calle de Buenaventura Muñoz, 31',\n",
       "   'admin_region': 'Cataluña',\n",
       "   'country': 'ES',\n",
       "   'cross_street': '',\n",
       "   'formatted_address': 'Calle de Buenaventura Muñoz, 31, 08018 Barcelona Catalonia',\n",
       "   'locality': 'Barcelona',\n",
       "   'postcode': '08018',\n",
       "   'region': 'Catalonia'},\n",
       "  'name': 'Orval',\n",
       "  'related_places': {},\n",
       "  'timezone': 'Europe/Madrid'},\n",
       " {'fsq_id': '4c3c33d886ce328f0567ab2d',\n",
       "  'categories': [{'id': 13345,\n",
       "    'name': 'Spanish Restaurant',\n",
       "    'icon': {'prefix': 'https://ss3.4sqi.net/img/categories_v2/food/spanish_',\n",
       "     'suffix': '.png'}}],\n",
       "  'chains': [],\n",
       "  'distance': 287,\n",
       "  'geocodes': {'main': {'latitude': 41.395239, 'longitude': 2.187192},\n",
       "   'roof': {'latitude': 41.395239, 'longitude': 2.187192}},\n",
       "  'link': '/v3/places/4c3c33d886ce328f0567ab2d',\n",
       "  'location': {'address': 'Avenida Meridiana, 30-32',\n",
       "   'admin_region': 'Cataluña',\n",
       "   'country': 'ES',\n",
       "   'cross_street': '',\n",
       "   'formatted_address': 'Avenida Meridiana, 30-32, 08018 Barcelona Barcelona',\n",
       "   'locality': 'Barcelona',\n",
       "   'postcode': '08018',\n",
       "   'region': 'Barcelona'},\n",
       "  'name': 'Andalucia Restaurante',\n",
       "  'related_places': {},\n",
       "  'timezone': 'Europe/Madrid'}]"
      ]
     },
     "execution_count": 101,
     "metadata": {},
     "output_type": "execute_result"
    }
   ],
   "source": [
    "response.json()[\"results\"]"
   ]
  },
  {
   "cell_type": "code",
   "execution_count": 102,
   "id": "56554e49",
   "metadata": {},
   "outputs": [
    {
     "data": {
      "text/plain": [
       "10"
      ]
     },
     "execution_count": 102,
     "metadata": {},
     "output_type": "execute_result"
    }
   ],
   "source": [
    "len(response.json()[\"results\"][0])"
   ]
  },
  {
   "cell_type": "code",
   "execution_count": 103,
   "id": "bf0d4891",
   "metadata": {},
   "outputs": [],
   "source": [
    "coordinates = response.json()[\"results\"][0][\"geocodes\"][\"main\"]"
   ]
  },
  {
   "cell_type": "code",
   "execution_count": 104,
   "id": "ba47cbaf",
   "metadata": {},
   "outputs": [],
   "source": [
    "lat, lon = coordinates[\"latitude\"], coordinates[\"longitude\"]"
   ]
  },
  {
   "cell_type": "code",
   "execution_count": 105,
   "id": "b7b030d5",
   "metadata": {},
   "outputs": [
    {
     "data": {
      "text/plain": [
       "'Skye coffee co'"
      ]
     },
     "execution_count": 105,
     "metadata": {},
     "output_type": "execute_result"
    }
   ],
   "source": [
    "name = response.json()[\"results\"][0][\"name\"]\n",
    "name"
   ]
  },
  {
   "cell_type": "code",
   "execution_count": 106,
   "id": "29d99ad2",
   "metadata": {},
   "outputs": [],
   "source": [
    "def name_coordinates (dict_):\n",
    "    \n",
    "    processed_dict = {\"name\": dict_[\"name\"],\n",
    "                     \"lat\": dict_[\"geocodes\"][\"main\"][\"latitude\"],\n",
    "                     \"lon\": dict_[\"geocodes\"][\"main\"][\"longitude\"]}\n",
    "    \n",
    "    return processed_dict"
   ]
  },
  {
   "cell_type": "code",
   "execution_count": 107,
   "id": "ddc4c412",
   "metadata": {},
   "outputs": [
    {
     "data": {
      "text/plain": [
       "{'name': 'Skye coffee co', 'lat': 41.396876, 'lon': 2.191489}"
      ]
     },
     "execution_count": 107,
     "metadata": {},
     "output_type": "execute_result"
    }
   ],
   "source": [
    "name_coordinates (response.json()[\"results\"][0])"
   ]
  },
  {
   "cell_type": "code",
   "execution_count": 108,
   "id": "0b95095d",
   "metadata": {},
   "outputs": [],
   "source": [
    "new_list = []\n",
    "for i in response.json()[\"results\"]:\n",
    "    new_list.append(name_coordinates(i))"
   ]
  },
  {
   "cell_type": "code",
   "execution_count": 109,
   "id": "8cf6bd85",
   "metadata": {},
   "outputs": [
    {
     "data": {
      "text/plain": [
       "[{'name': 'Skye coffee co', 'lat': 41.396876, 'lon': 2.191489},\n",
       " {'name': 'Bar Sancho', 'lat': 41.397037, 'lon': 2.187577},\n",
       " {'name': 'Three Marks Coffee', 'lat': 41.396989, 'lon': 2.183409},\n",
       " {'name': 'Syra Coffee Poblenou', 'lat': 41.396518, 'lon': 2.19417},\n",
       " {'name': 'Espai Joliu', 'lat': 41.398735, 'lon': 2.195069},\n",
       " {'name': 'Classic Bar Cafeteria', 'lat': 41.395408, 'lon': 2.187203},\n",
       " {'name': 'Laie Auditori', 'lat': 41.397517, 'lon': 2.184792},\n",
       " {'name': \"Nømad Roaster's Home\", 'lat': 41.397977, 'lon': 2.195589},\n",
       " {'name': 'Orval', 'lat': 41.392543, 'lon': 2.185749},\n",
       " {'name': 'Andalucia Restaurante', 'lat': 41.395239, 'lon': 2.187192}]"
      ]
     },
     "execution_count": 109,
     "metadata": {},
     "output_type": "execute_result"
    }
   ],
   "source": [
    "new_list"
   ]
  },
  {
   "cell_type": "code",
   "execution_count": 110,
   "id": "47f552bf",
   "metadata": {},
   "outputs": [
    {
     "data": {
      "text/html": [
       "<div>\n",
       "<style scoped>\n",
       "    .dataframe tbody tr th:only-of-type {\n",
       "        vertical-align: middle;\n",
       "    }\n",
       "\n",
       "    .dataframe tbody tr th {\n",
       "        vertical-align: top;\n",
       "    }\n",
       "\n",
       "    .dataframe thead th {\n",
       "        text-align: right;\n",
       "    }\n",
       "</style>\n",
       "<table border=\"1\" class=\"dataframe\">\n",
       "  <thead>\n",
       "    <tr style=\"text-align: right;\">\n",
       "      <th></th>\n",
       "      <th>name</th>\n",
       "      <th>lat</th>\n",
       "      <th>lon</th>\n",
       "    </tr>\n",
       "  </thead>\n",
       "  <tbody>\n",
       "    <tr>\n",
       "      <th>0</th>\n",
       "      <td>Skye coffee co</td>\n",
       "      <td>41.396876</td>\n",
       "      <td>2.191489</td>\n",
       "    </tr>\n",
       "    <tr>\n",
       "      <th>1</th>\n",
       "      <td>Bar Sancho</td>\n",
       "      <td>41.397037</td>\n",
       "      <td>2.187577</td>\n",
       "    </tr>\n",
       "    <tr>\n",
       "      <th>2</th>\n",
       "      <td>Three Marks Coffee</td>\n",
       "      <td>41.396989</td>\n",
       "      <td>2.183409</td>\n",
       "    </tr>\n",
       "    <tr>\n",
       "      <th>3</th>\n",
       "      <td>Syra Coffee Poblenou</td>\n",
       "      <td>41.396518</td>\n",
       "      <td>2.194170</td>\n",
       "    </tr>\n",
       "    <tr>\n",
       "      <th>4</th>\n",
       "      <td>Espai Joliu</td>\n",
       "      <td>41.398735</td>\n",
       "      <td>2.195069</td>\n",
       "    </tr>\n",
       "    <tr>\n",
       "      <th>5</th>\n",
       "      <td>Classic Bar Cafeteria</td>\n",
       "      <td>41.395408</td>\n",
       "      <td>2.187203</td>\n",
       "    </tr>\n",
       "    <tr>\n",
       "      <th>6</th>\n",
       "      <td>Laie Auditori</td>\n",
       "      <td>41.397517</td>\n",
       "      <td>2.184792</td>\n",
       "    </tr>\n",
       "    <tr>\n",
       "      <th>7</th>\n",
       "      <td>Nømad Roaster's Home</td>\n",
       "      <td>41.397977</td>\n",
       "      <td>2.195589</td>\n",
       "    </tr>\n",
       "    <tr>\n",
       "      <th>8</th>\n",
       "      <td>Orval</td>\n",
       "      <td>41.392543</td>\n",
       "      <td>2.185749</td>\n",
       "    </tr>\n",
       "    <tr>\n",
       "      <th>9</th>\n",
       "      <td>Andalucia Restaurante</td>\n",
       "      <td>41.395239</td>\n",
       "      <td>2.187192</td>\n",
       "    </tr>\n",
       "  </tbody>\n",
       "</table>\n",
       "</div>"
      ],
      "text/plain": [
       "                    name        lat       lon\n",
       "0         Skye coffee co  41.396876  2.191489\n",
       "1             Bar Sancho  41.397037  2.187577\n",
       "2     Three Marks Coffee  41.396989  2.183409\n",
       "3   Syra Coffee Poblenou  41.396518  2.194170\n",
       "4            Espai Joliu  41.398735  2.195069\n",
       "5  Classic Bar Cafeteria  41.395408  2.187203\n",
       "6          Laie Auditori  41.397517  2.184792\n",
       "7   Nømad Roaster's Home  41.397977  2.195589\n",
       "8                  Orval  41.392543  2.185749\n",
       "9  Andalucia Restaurante  41.395239  2.187192"
      ]
     },
     "execution_count": 110,
     "metadata": {},
     "output_type": "execute_result"
    }
   ],
   "source": [
    "df = pd.DataFrame(new_list)\n",
    "df"
   ]
  },
  {
   "cell_type": "markdown",
   "id": "941b5dbf",
   "metadata": {},
   "source": [
    "# 3. Now get the 5 CLOSEST coffe places. Make use of params: limit, near?"
   ]
  },
  {
   "cell_type": "code",
   "execution_count": 111,
   "id": "fda8ddff",
   "metadata": {},
   "outputs": [
    {
     "name": "stdout",
     "output_type": "stream",
     "text": [
      "{\"results\":[{\"fsq_id\":\"53e1ef97498e1c99b383dc75\",\"categories\":[{\"id\":11130,\"name\":\"Office Building\",\"icon\":{\"prefix\":\"https://ss3.4sqi.net/img/categories_v2/building/default_\",\"suffix\":\".png\"}}],\"chains\":[],\"distance\":280,\"geocodes\":{\"main\":{\"latitude\":41.396993,\"longitude\":2.191171},\"roof\":{\"latitude\":41.396993,\"longitude\":2.191171}},\"link\":\"/v3/places/53e1ef97498e1c99b383dc75\",\"location\":{\"address\":\"Carrer Pamplona, 88\",\"admin_region\":\"Cataluña\",\"country\":\"ES\",\"cross_street\":\"\",\"formatted_address\":\"Carrer Pamplona, 88, 08018 Barcelona Catalonia\",\"locality\":\"Barcelona\",\"postcode\":\"08018\",\"region\":\"Catalonia\"},\"name\":\"Espacio 88\",\"related_places\":{},\"timezone\":\"Europe/Madrid\"},{\"fsq_id\":\"530c5e6911d2be0b8d22e27a\",\"categories\":[{\"id\":13034,\"name\":\"Café\",\"icon\":{\"prefix\":\"https://ss3.4sqi.net/img/categories_v2/food/cafe_\",\"suffix\":\".png\"}},{\"id\":13035,\"name\":\"Coffee Shop\",\"icon\":{\"prefix\":\"https://ss3.4sqi.net/img/categories_v2/food/coffeeshop_\",\"suffix\":\".png\"}},{\"id\":13065,\"name\":\"Restaurant\",\"icon\":{\"prefix\":\"https://ss3.4sqi.net/img/categories_v2/food/default_\",\"suffix\":\".png\"}}],\"chains\":[],\"distance\":289,\"geocodes\":{\"main\":{\"latitude\":41.396876,\"longitude\":2.191489},\"roof\":{\"latitude\":41.396876,\"longitude\":2.191489}},\"link\":\"/v3/places/530c5e6911d2be0b8d22e27a\",\"location\":{\"address\":\"Calle Pamplona, 88\",\"admin_region\":\"Cataluña\",\"country\":\"ES\",\"cross_street\":\"C. de Pallars\",\"formatted_address\":\"Calle Pamplona, 88 (C. de Pallars), 08018 Barcelona Catalonia\",\"locality\":\"Barcelona\",\"postcode\":\"08018\",\"region\":\"Catalonia\"},\"name\":\"Skye coffee co\",\"related_places\":{},\"timezone\":\"Europe/Madrid\"},{\"fsq_id\":\"4d0b2fe9109d6dcb8d9b8d8d\",\"categories\":[{\"id\":13003,\"name\":\"Bar\",\"icon\":{\"prefix\":\"https://ss3.4sqi.net/img/categories_v2/nightlife/pub_\",\"suffix\":\".png\"}},{\"id\":13035,\"name\":\"Coffee Shop\",\"icon\":{\"prefix\":\"https://ss3.4sqi.net/img/categories_v2/food/coffeeshop_\",\"suffix\":\".png\"}},{\"id\":13065,\"name\":\"Restaurant\",\"icon\":{\"prefix\":\"https://ss3.4sqi.net/img/categories_v2/food/default_\",\"suffix\":\".png\"}}],\"chains\":[],\"distance\":331,\"geocodes\":{\"main\":{\"latitude\":41.394816,\"longitude\":2.187354},\"roof\":{\"latitude\":41.394816,\"longitude\":2.187354}},\"link\":\"/v3/places/4d0b2fe9109d6dcb8d9b8d8d\",\"location\":{\"address\":\"Marina, 114-116\",\"admin_region\":\"Cataluña\",\"country\":\"ES\",\"cross_street\":\"\",\"formatted_address\":\"Marina, 114-116, 08018 Barcelona Catalonia\",\"locality\":\"Barcelona\",\"postcode\":\"08018\",\"region\":\"Catalonia\"},\"name\":\"Granja Mabel\",\"related_places\":{},\"timezone\":\"Europe/Madrid\"},{\"fsq_id\":\"5b8521d489e490002cefef18\",\"categories\":[{\"id\":13035,\"name\":\"Coffee Shop\",\"icon\":{\"prefix\":\"https://ss3.4sqi.net/img/categories_v2/food/coffeeshop_\",\"suffix\":\".png\"}},{\"id\":13065,\"name\":\"Restaurant\",\"icon\":{\"prefix\":\"https://ss3.4sqi.net/img/categories_v2/food/default_\",\"suffix\":\".png\"}}],\"chains\":[],\"distance\":386,\"geocodes\":{\"main\":{\"latitude\":41.396989,\"longitude\":2.183409},\"roof\":{\"latitude\":41.396989,\"longitude\":2.183409}},\"link\":\"/v3/places/5b8521d489e490002cefef18\",\"location\":{\"address\":\"Ausiàs Marc, 151\",\"admin_region\":\"Cataluña\",\"country\":\"ES\",\"formatted_address\":\"Ausiàs Marc, 151, 08013 Barcelona Catalonia\",\"locality\":\"Barcelona\",\"postcode\":\"08013\",\"region\":\"Catalonia\"},\"name\":\"Three Marks Coffee\",\"related_places\":{},\"timezone\":\"Europe/Madrid\"},{\"fsq_id\":\"4ba8c9adf964a520deee39e3\",\"categories\":[{\"id\":13002,\"name\":\"Bakery\",\"icon\":{\"prefix\":\"https://ss3.4sqi.net/img/categories_v2/food/bakery_\",\"suffix\":\".png\"}},{\"id\":13065,\"name\":\"Restaurant\",\"icon\":{\"prefix\":\"https://ss3.4sqi.net/img/categories_v2/food/default_\",\"suffix\":\".png\"}}],\"chains\":[],\"distance\":465,\"geocodes\":{\"main\":{\"latitude\":41.393705,\"longitude\":2.188825},\"roof\":{\"latitude\":41.393705,\"longitude\":2.188825}},\"link\":\"/v3/places/4ba8c9adf964a520deee39e3\",\"location\":{\"address\":\"Carrer de la Marina, 92\",\"admin_region\":\"Cataluña\",\"country\":\"ES\",\"cross_street\":\"\",\"formatted_address\":\"Carrer de la Marina, 92, 08018 Barcelona Catalonia\",\"locality\":\"Barcelona\",\"postcode\":\"08018\",\"region\":\"Catalonia\"},\"name\":\"De Pa i Xocolata\",\"related_places\":{},\"timezone\":\"Europe/Madrid\"}],\"context\":{\"geo_bounds\":{\"circle\":{\"center\":{\"latitude\":41.3977421,\"longitude\":2.1880606},\"radius\":22000}}}}\n"
     ]
    }
   ],
   "source": [
    "import requests\n",
    "\n",
    "url = \"https://api.foursquare.com/v3/places/search?query=coffee&ll=41.3977421%2C2.1880606&sort=DISTANCE&limit=5\"\n",
    "\n",
    "headers = {\n",
    "    \"accept\": \"application/json\",\n",
    "    \"Authorization\": token\n",
    "}\n",
    "\n",
    "response = requests.get(url, headers=headers)\n",
    "\n",
    "print(response.text)"
   ]
  },
  {
   "cell_type": "code",
   "execution_count": 112,
   "id": "7b903ca7",
   "metadata": {},
   "outputs": [],
   "source": [
    "coordinates = response.json()[\"results\"][0][\"geocodes\"][\"main\"]"
   ]
  },
  {
   "cell_type": "code",
   "execution_count": 113,
   "id": "0a1aa416",
   "metadata": {},
   "outputs": [],
   "source": [
    "lat, lon = coordinates[\"latitude\"], coordinates[\"longitude\"]"
   ]
  },
  {
   "cell_type": "code",
   "execution_count": 114,
   "id": "ef1ec875",
   "metadata": {},
   "outputs": [
    {
     "data": {
      "text/plain": [
       "'Espacio 88'"
      ]
     },
     "execution_count": 114,
     "metadata": {},
     "output_type": "execute_result"
    }
   ],
   "source": [
    "name = response.json()[\"results\"][0][\"name\"]\n",
    "name"
   ]
  },
  {
   "cell_type": "code",
   "execution_count": 115,
   "id": "59fbd439",
   "metadata": {},
   "outputs": [
    {
     "data": {
      "text/plain": [
       "{'name': 'Espacio 88', 'lat': 41.396993, 'lon': 2.191171}"
      ]
     },
     "execution_count": 115,
     "metadata": {},
     "output_type": "execute_result"
    }
   ],
   "source": [
    "name_coordinates (response.json()[\"results\"][0])"
   ]
  },
  {
   "cell_type": "code",
   "execution_count": 116,
   "id": "0276f1ed",
   "metadata": {},
   "outputs": [],
   "source": [
    "new_list_2 = []\n",
    "for i in response.json()[\"results\"]:\n",
    "    new_list_2.append(name_coordinates(i))"
   ]
  },
  {
   "cell_type": "code",
   "execution_count": 117,
   "id": "e1ebeb71",
   "metadata": {},
   "outputs": [
    {
     "data": {
      "text/plain": [
       "[{'name': 'Espacio 88', 'lat': 41.396993, 'lon': 2.191171},\n",
       " {'name': 'Skye coffee co', 'lat': 41.396876, 'lon': 2.191489},\n",
       " {'name': 'Granja Mabel', 'lat': 41.394816, 'lon': 2.187354},\n",
       " {'name': 'Three Marks Coffee', 'lat': 41.396989, 'lon': 2.183409},\n",
       " {'name': 'De Pa i Xocolata', 'lat': 41.393705, 'lon': 2.188825}]"
      ]
     },
     "execution_count": 117,
     "metadata": {},
     "output_type": "execute_result"
    }
   ],
   "source": [
    "new_list_2"
   ]
  },
  {
   "cell_type": "markdown",
   "id": "d19904e8",
   "metadata": {},
   "source": [
    "# 4. Define a function that returns name, lat, long for starbucks OR restaurants AND for any given location"
   ]
  },
  {
   "cell_type": "code",
   "execution_count": 136,
   "id": "1fad5153",
   "metadata": {},
   "outputs": [],
   "source": [
    "def foursquare_places (venue, coordinates):\n",
    "\n",
    "    url = f\"https://api.foursquare.com/v3/places/search?query={venue}&ll={coordinates}&sort=DISTANCE&limit=10\"\n",
    "\n",
    "    headers = {\n",
    "        \"accept\": \"application/json\",\n",
    "        \"Authorization\": token\n",
    "    }\n",
    "\n",
    "    response = requests.get(url, headers=headers)\n",
    "    coordinates = response.json()[\"results\"][0][\"geocodes\"][\"main\"]\n",
    "    lat, lon = coordinates[\"latitude\"], coordinates[\"longitude\"]\n",
    "    name = response.json()[\"results\"][0][\"name\"]\n",
    "    name_coordinates (response.json()[\"results\"][0])\n",
    "    new_list_3 = []\n",
    "    for i in response.json()[\"results\"]:\n",
    "        new_list_3.append(name_coordinates(i))\n",
    "        \n",
    "    return pd.DataFrame(new_list_3)\n",
    "     \n",
    "        \n",
    "    \n",
    "\n",
    "    \n"
   ]
  },
  {
   "cell_type": "code",
   "execution_count": 137,
   "id": "61b7aae4",
   "metadata": {},
   "outputs": [
    {
     "data": {
      "text/html": [
       "<div>\n",
       "<style scoped>\n",
       "    .dataframe tbody tr th:only-of-type {\n",
       "        vertical-align: middle;\n",
       "    }\n",
       "\n",
       "    .dataframe tbody tr th {\n",
       "        vertical-align: top;\n",
       "    }\n",
       "\n",
       "    .dataframe thead th {\n",
       "        text-align: right;\n",
       "    }\n",
       "</style>\n",
       "<table border=\"1\" class=\"dataframe\">\n",
       "  <thead>\n",
       "    <tr style=\"text-align: right;\">\n",
       "      <th></th>\n",
       "      <th>name</th>\n",
       "      <th>lat</th>\n",
       "      <th>lon</th>\n",
       "    </tr>\n",
       "  </thead>\n",
       "  <tbody>\n",
       "    <tr>\n",
       "      <th>0</th>\n",
       "      <td>Espacio 88</td>\n",
       "      <td>41.396993</td>\n",
       "      <td>2.191171</td>\n",
       "    </tr>\n",
       "    <tr>\n",
       "      <th>1</th>\n",
       "      <td>Skye coffee co</td>\n",
       "      <td>41.396876</td>\n",
       "      <td>2.191489</td>\n",
       "    </tr>\n",
       "    <tr>\n",
       "      <th>2</th>\n",
       "      <td>Granja Mabel</td>\n",
       "      <td>41.394816</td>\n",
       "      <td>2.187354</td>\n",
       "    </tr>\n",
       "    <tr>\n",
       "      <th>3</th>\n",
       "      <td>Three Marks Coffee</td>\n",
       "      <td>41.396989</td>\n",
       "      <td>2.183409</td>\n",
       "    </tr>\n",
       "    <tr>\n",
       "      <th>4</th>\n",
       "      <td>De Pa i Xocolata</td>\n",
       "      <td>41.393705</td>\n",
       "      <td>2.188825</td>\n",
       "    </tr>\n",
       "    <tr>\n",
       "      <th>5</th>\n",
       "      <td>Cantina Restobar</td>\n",
       "      <td>41.398579</td>\n",
       "      <td>2.182483</td>\n",
       "    </tr>\n",
       "    <tr>\n",
       "      <th>6</th>\n",
       "      <td>Syra Coffee Poblenou</td>\n",
       "      <td>41.396518</td>\n",
       "      <td>2.194170</td>\n",
       "    </tr>\n",
       "    <tr>\n",
       "      <th>7</th>\n",
       "      <td>Cacho</td>\n",
       "      <td>41.393075</td>\n",
       "      <td>2.191050</td>\n",
       "    </tr>\n",
       "    <tr>\n",
       "      <th>8</th>\n",
       "      <td>Espai Joliu</td>\n",
       "      <td>41.398735</td>\n",
       "      <td>2.195069</td>\n",
       "    </tr>\n",
       "    <tr>\n",
       "      <th>9</th>\n",
       "      <td>Orval</td>\n",
       "      <td>41.392543</td>\n",
       "      <td>2.185749</td>\n",
       "    </tr>\n",
       "  </tbody>\n",
       "</table>\n",
       "</div>"
      ],
      "text/plain": [
       "                   name        lat       lon\n",
       "0            Espacio 88  41.396993  2.191171\n",
       "1        Skye coffee co  41.396876  2.191489\n",
       "2          Granja Mabel  41.394816  2.187354\n",
       "3    Three Marks Coffee  41.396989  2.183409\n",
       "4      De Pa i Xocolata  41.393705  2.188825\n",
       "5      Cantina Restobar  41.398579  2.182483\n",
       "6  Syra Coffee Poblenou  41.396518  2.194170\n",
       "7                 Cacho  41.393075  2.191050\n",
       "8           Espai Joliu  41.398735  2.195069\n",
       "9                 Orval  41.392543  2.185749"
      ]
     },
     "execution_count": 137,
     "metadata": {},
     "output_type": "execute_result"
    }
   ],
   "source": [
    "x = foursquare_places(\"coffee\",\"41.3977421%2C2.1880606\")\n",
    "x"
   ]
  },
  {
   "cell_type": "markdown",
   "id": "1836c1a1",
   "metadata": {},
   "source": [
    "# 5. Export it into data folder as a json: `data/coffe_shops.json`"
   ]
  },
  {
   "cell_type": "code",
   "execution_count": 135,
   "id": "7ac5f2a8",
   "metadata": {},
   "outputs": [],
   "source": [
    "x.to_json(\"data/coffe_shops.json\")"
   ]
  },
  {
   "cell_type": "markdown",
   "id": "2d77e99d",
   "metadata": {},
   "source": [
    "# BONUS: load it into MongoDB in a collection named \"ironcoffee\" using pymongo"
   ]
  },
  {
   "cell_type": "code",
   "execution_count": 121,
   "id": "85b94955",
   "metadata": {},
   "outputs": [],
   "source": [
    "# your code here"
   ]
  },
  {
   "cell_type": "code",
   "execution_count": null,
   "id": "06a52998",
   "metadata": {},
   "outputs": [],
   "source": []
  }
 ],
 "metadata": {
  "kernelspec": {
   "display_name": "ironhack",
   "language": "python",
   "name": "ironhack"
  },
  "language_info": {
   "codemirror_mode": {
    "name": "ipython",
    "version": 3
   },
   "file_extension": ".py",
   "mimetype": "text/x-python",
   "name": "python",
   "nbconvert_exporter": "python",
   "pygments_lexer": "ipython3",
   "version": "3.9.12"
  },
  "toc": {
   "base_numbering": 1,
   "nav_menu": {},
   "number_sections": true,
   "sideBar": true,
   "skip_h1_title": false,
   "title_cell": "Table of Contents",
   "title_sidebar": "Contents",
   "toc_cell": false,
   "toc_position": {},
   "toc_section_display": true,
   "toc_window_display": true
  }
 },
 "nbformat": 4,
 "nbformat_minor": 5
}
