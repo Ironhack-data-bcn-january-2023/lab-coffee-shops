{
 "cells": [
  {
   "cell_type": "markdown",
   "id": "0809e785",
   "metadata": {},
   "source": [
    "# 1. Import the necessary libraries for you to be able to query 4square API"
   ]
  },
  {
   "cell_type": "code",
   "execution_count": 1,
   "id": "9b373771",
   "metadata": {},
   "outputs": [],
   "source": [
    "import requests\n",
    "import json\n",
    "import pandas as pd\n",
    "from getpass import getpass"
   ]
  },
  {
   "cell_type": "markdown",
   "id": "e94dce92",
   "metadata": {},
   "source": [
    "# 2. Get names and location of the 10 coffee places by passing Ironhack as your location"
   ]
  },
  {
   "cell_type": "code",
   "execution_count": 3,
   "id": "1d72f571",
   "metadata": {},
   "outputs": [
    {
     "name": "stdout",
     "output_type": "stream",
     "text": [
      "········\n"
     ]
    }
   ],
   "source": [
    "token = getpass()\n"
   ]
  },
  {
   "cell_type": "code",
   "execution_count": 9,
   "id": "cb92709e",
   "metadata": {},
   "outputs": [
    {
     "data": {
      "text/plain": [
       "<Response [200]>"
      ]
     },
     "execution_count": 9,
     "metadata": {},
     "output_type": "execute_result"
    }
   ],
   "source": [
    "url = 'https://api.foursquare.com/v3/places/search?query=coffee&ll=41.3977421%2C2.190249315&limit=10'\n",
    "headers = {\n",
    "    \"accept\": \"application/json\",\n",
    "    \"Authorization\": token\n",
    "}\n",
    "res = requests.get(url, headers=headers)\n",
    "res"
   ]
  },
  {
   "cell_type": "code",
   "execution_count": 10,
   "id": "804ec3b7",
   "metadata": {},
   "outputs": [
    {
     "data": {
      "text/plain": [
       "{'fsq_id': '555f2357498ee6528074710b',\n",
       " 'categories': [{'id': 13034,\n",
       "   'name': 'Café',\n",
       "   'icon': {'prefix': 'https://ss3.4sqi.net/img/categories_v2/food/cafe_',\n",
       "    'suffix': '.png'}},\n",
       "  {'id': 13035,\n",
       "   'name': 'Coffee Shop',\n",
       "   'icon': {'prefix': 'https://ss3.4sqi.net/img/categories_v2/food/coffeeshop_',\n",
       "    'suffix': '.png'}},\n",
       "  {'id': 13065,\n",
       "   'name': 'Restaurant',\n",
       "   'icon': {'prefix': 'https://ss3.4sqi.net/img/categories_v2/food/default_',\n",
       "    'suffix': '.png'}}],\n",
       " 'chains': [],\n",
       " 'distance': 409,\n",
       " 'geocodes': {'main': {'latitude': 41.398735, 'longitude': 2.195069},\n",
       "  'roof': {'latitude': 41.398735, 'longitude': 2.195069}},\n",
       " 'link': '/v3/places/555f2357498ee6528074710b',\n",
       " 'location': {'address': 'Carrer Badajoz, 95',\n",
       "  'admin_region': 'Cataluña',\n",
       "  'country': 'ES',\n",
       "  'cross_street': '',\n",
       "  'formatted_address': 'Carrer Badajoz, 95, 08005 Barcelona Catalonia',\n",
       "  'locality': 'Barcelona',\n",
       "  'postcode': '08005',\n",
       "  'region': 'Catalonia'},\n",
       " 'name': 'Espai Joliu',\n",
       " 'related_places': {},\n",
       " 'timezone': 'Europe/Madrid'}"
      ]
     },
     "execution_count": 10,
     "metadata": {},
     "output_type": "execute_result"
    }
   ],
   "source": [
    "res.json()['results'][0]\n",
    "\n"
   ]
  },
  {
   "cell_type": "code",
   "execution_count": 12,
   "id": "3f7a9613",
   "metadata": {},
   "outputs": [
    {
     "data": {
      "text/plain": [
       "10"
      ]
     },
     "execution_count": 12,
     "metadata": {},
     "output_type": "execute_result"
    }
   ],
   "source": [
    "len(res.json()['results'][0])"
   ]
  },
  {
   "cell_type": "markdown",
   "id": "941b5dbf",
   "metadata": {},
   "source": [
    "# 3. Now get the 5 CLOSEST coffe places. Make use of params: limit, near?"
   ]
  },
  {
   "cell_type": "code",
   "execution_count": 14,
   "id": "fda8ddff",
   "metadata": {},
   "outputs": [
    {
     "data": {
      "text/plain": [
       "<Response [200]>"
      ]
     },
     "execution_count": 14,
     "metadata": {},
     "output_type": "execute_result"
    }
   ],
   "source": [
    "url = 'https://api.foursquare.com/v3/places/search?query=coffee&radius=500&limit=5' \n",
    "\n",
    "res = requests.get(url, headers=headers)\n",
    "res"
   ]
  },
  {
   "cell_type": "code",
   "execution_count": 15,
   "id": "3b81d9f9",
   "metadata": {},
   "outputs": [
    {
     "data": {
      "text/plain": [
       "{'fsq_id': '4cb5a6401b0af04d9384ca25',\n",
       " 'categories': [{'id': 13035,\n",
       "   'name': 'Coffee Shop',\n",
       "   'icon': {'prefix': 'https://ss3.4sqi.net/img/categories_v2/food/coffeeshop_',\n",
       "    'suffix': '.png'}}],\n",
       " 'chains': [{'id': 'ab4c54c0-d68a-012e-5619-003048cad9da',\n",
       "   'name': 'Starbucks'}],\n",
       " 'distance': 101,\n",
       " 'geocodes': {'main': {'latitude': 41.387848, 'longitude': 2.169634}},\n",
       " 'link': '/v3/places/4cb5a6401b0af04d9384ca25',\n",
       " 'location': {'admin_region': 'Cataluña',\n",
       "  'country': 'ES',\n",
       "  'formatted_address': 'Barcelona Catalonia',\n",
       "  'locality': 'Barcelona',\n",
       "  'region': 'Catalonia'},\n",
       " 'name': 'Starbucks',\n",
       " 'related_places': {},\n",
       " 'timezone': 'Europe/Madrid'}"
      ]
     },
     "execution_count": 15,
     "metadata": {},
     "output_type": "execute_result"
    }
   ],
   "source": [
    "res.json()['results'][0]\n"
   ]
  },
  {
   "cell_type": "markdown",
   "id": "d19904e8",
   "metadata": {},
   "source": [
    "# 4. Define a function that returns name, lat, long for starbucks OR restaurants AND for any given location"
   ]
  },
  {
   "cell_type": "code",
   "execution_count": 31,
   "id": "1fad5153",
   "metadata": {},
   "outputs": [],
   "source": [
    "def foursquare_places (venue, coordinates):\n",
    "    url = f\"https://api.foursquare.com/v3/places/search?query={venue}&ll={coordinates[0]}%2C{coordinates[1]}&limit=5\"\n",
    "    headers = {\n",
    "        \"accept\": \"application/json\",\n",
    "        \"Authorization\": token\n",
    "    }\n",
    "    response = requests.get(url, headers=headers)\n",
    "    full_response = response.json()\n",
    "    location_data = pd.DataFrame(full_response[\"results\"])\n",
    "    \n",
    "    return location_data[['name','location']]"
   ]
  },
  {
   "cell_type": "code",
   "execution_count": 35,
   "id": "78bb2090",
   "metadata": {},
   "outputs": [
    {
     "data": {
      "text/html": [
       "<div>\n",
       "<style scoped>\n",
       "    .dataframe tbody tr th:only-of-type {\n",
       "        vertical-align: middle;\n",
       "    }\n",
       "\n",
       "    .dataframe tbody tr th {\n",
       "        vertical-align: top;\n",
       "    }\n",
       "\n",
       "    .dataframe thead th {\n",
       "        text-align: right;\n",
       "    }\n",
       "</style>\n",
       "<table border=\"1\" class=\"dataframe\">\n",
       "  <thead>\n",
       "    <tr style=\"text-align: right;\">\n",
       "      <th></th>\n",
       "      <th>name</th>\n",
       "      <th>location</th>\n",
       "    </tr>\n",
       "  </thead>\n",
       "  <tbody>\n",
       "    <tr>\n",
       "      <th>0</th>\n",
       "      <td>Toma Café</td>\n",
       "      <td>{'address': 'Calle la Palma, 49', 'admin_regio...</td>\n",
       "    </tr>\n",
       "    <tr>\n",
       "      <th>1</th>\n",
       "      <td>HanSo Café</td>\n",
       "      <td>{'address': 'Calle del Pez, 20', 'admin_region...</td>\n",
       "    </tr>\n",
       "    <tr>\n",
       "      <th>2</th>\n",
       "      <td>Hola Coffee</td>\n",
       "      <td>{'address': 'Calle Doctor Fourquet, 33', 'admi...</td>\n",
       "    </tr>\n",
       "    <tr>\n",
       "      <th>3</th>\n",
       "      <td>Ruda Café</td>\n",
       "      <td>{'address': 'Calle Ruda, 11', 'admin_region': ...</td>\n",
       "    </tr>\n",
       "    <tr>\n",
       "      <th>4</th>\n",
       "      <td>Café de la Luz</td>\n",
       "      <td>{'address': 'Calle Puebla, 8', 'admin_region':...</td>\n",
       "    </tr>\n",
       "  </tbody>\n",
       "</table>\n",
       "</div>"
      ],
      "text/plain": [
       "             name                                           location\n",
       "0       Toma Café  {'address': 'Calle la Palma, 49', 'admin_regio...\n",
       "1      HanSo Café  {'address': 'Calle del Pez, 20', 'admin_region...\n",
       "2     Hola Coffee  {'address': 'Calle Doctor Fourquet, 33', 'admi...\n",
       "3       Ruda Café  {'address': 'Calle Ruda, 11', 'admin_region': ...\n",
       "4  Café de la Luz  {'address': 'Calle Puebla, 8', 'admin_region':..."
      ]
     },
     "execution_count": 35,
     "metadata": {},
     "output_type": "execute_result"
    }
   ],
   "source": [
    "foursquare_places ('coffee shops', [40.4169376,-3.706187217])"
   ]
  },
  {
   "cell_type": "code",
   "execution_count": null,
   "id": "49701561",
   "metadata": {},
   "outputs": [],
   "source": [
    " "
   ]
  },
  {
   "cell_type": "markdown",
   "id": "1836c1a1",
   "metadata": {},
   "source": [
    "# 5. Export it into data folder as a json: `data/coffe_shops.json`"
   ]
  },
  {
   "cell_type": "code",
   "execution_count": 36,
   "id": "7ac5f2a8",
   "metadata": {},
   "outputs": [],
   "source": [
    "coffee_shops = foursquare_places ('coffee shops', [40.4169376,-3.706187217])"
   ]
  },
  {
   "cell_type": "code",
   "execution_count": 42,
   "id": "ca1835a8",
   "metadata": {},
   "outputs": [],
   "source": [
    "! mkdir data"
   ]
  },
  {
   "cell_type": "code",
   "execution_count": 43,
   "id": "59893c0c",
   "metadata": {},
   "outputs": [],
   "source": [
    "json_ = coffee_shops.to_json('data/places.json', orient=\"records\")\n",
    "json_"
   ]
  },
  {
   "cell_type": "markdown",
   "id": "2d77e99d",
   "metadata": {},
   "source": [
    "# BONUS: load it into MongoDB in a collection named \"ironcoffee\" using pymongo"
   ]
  },
  {
   "cell_type": "code",
   "execution_count": 47,
   "id": "85b94955",
   "metadata": {},
   "outputs": [
    {
     "ename": "ServerSelectionTimeoutError",
     "evalue": "localhost:27017: [WinError 10061] No connection could be made because the target machine actively refused it, Timeout: 30s, Topology Description: <TopologyDescription id: 63e51bffe3b020f9f5a0d655, topology_type: Unknown, servers: [<ServerDescription ('localhost', 27017) server_type: Unknown, rtt: None, error=AutoReconnect('localhost:27017: [WinError 10061] No connection could be made because the target machine actively refused it')>]>",
     "output_type": "error",
     "traceback": [
      "\u001b[1;31m---------------------------------------------------------------------------\u001b[0m",
      "\u001b[1;31mServerSelectionTimeoutError\u001b[0m               Traceback (most recent call last)",
      "Cell \u001b[1;32mIn[47], line 5\u001b[0m\n\u001b[0;32m      3\u001b[0m db \u001b[38;5;241m=\u001b[39m client[\u001b[38;5;124m'\u001b[39m\u001b[38;5;124mironcoffee\u001b[39m\u001b[38;5;124m'\u001b[39m]\n\u001b[0;32m      4\u001b[0m c \u001b[38;5;241m=\u001b[39m db\u001b[38;5;241m.\u001b[39mget_collection(\u001b[38;5;124m'\u001b[39m\u001b[38;5;124mironcoffee\u001b[39m\u001b[38;5;124m'\u001b[39m)\n\u001b[1;32m----> 5\u001b[0m \u001b[43mc\u001b[49m\u001b[38;5;241;43m.\u001b[39;49m\u001b[43mfind_one\u001b[49m\u001b[43m(\u001b[49m\u001b[43m)\u001b[49m\n",
      "File \u001b[1;32m~\\miniconda3\\envs\\ironhack\\lib\\site-packages\\pymongo\\collection.py:1459\u001b[0m, in \u001b[0;36mCollection.find_one\u001b[1;34m(self, filter, *args, **kwargs)\u001b[0m\n\u001b[0;32m   1457\u001b[0m     \u001b[38;5;28mfilter\u001b[39m \u001b[38;5;241m=\u001b[39m {\u001b[38;5;124m\"\u001b[39m\u001b[38;5;124m_id\u001b[39m\u001b[38;5;124m\"\u001b[39m: \u001b[38;5;28mfilter\u001b[39m}\n\u001b[0;32m   1458\u001b[0m cursor \u001b[38;5;241m=\u001b[39m \u001b[38;5;28mself\u001b[39m\u001b[38;5;241m.\u001b[39mfind(\u001b[38;5;28mfilter\u001b[39m, \u001b[38;5;241m*\u001b[39margs, \u001b[38;5;241m*\u001b[39m\u001b[38;5;241m*\u001b[39mkwargs)\n\u001b[1;32m-> 1459\u001b[0m \u001b[38;5;28;01mfor\u001b[39;00m result \u001b[38;5;129;01min\u001b[39;00m cursor\u001b[38;5;241m.\u001b[39mlimit(\u001b[38;5;241m-\u001b[39m\u001b[38;5;241m1\u001b[39m):\n\u001b[0;32m   1460\u001b[0m     \u001b[38;5;28;01mreturn\u001b[39;00m result\n\u001b[0;32m   1461\u001b[0m \u001b[38;5;28;01mreturn\u001b[39;00m \u001b[38;5;28;01mNone\u001b[39;00m\n",
      "File \u001b[1;32m~\\miniconda3\\envs\\ironhack\\lib\\site-packages\\pymongo\\cursor.py:1248\u001b[0m, in \u001b[0;36mCursor.next\u001b[1;34m(self)\u001b[0m\n\u001b[0;32m   1246\u001b[0m \u001b[38;5;28;01mif\u001b[39;00m \u001b[38;5;28mself\u001b[39m\u001b[38;5;241m.\u001b[39m__empty:\n\u001b[0;32m   1247\u001b[0m     \u001b[38;5;28;01mraise\u001b[39;00m \u001b[38;5;167;01mStopIteration\u001b[39;00m\n\u001b[1;32m-> 1248\u001b[0m \u001b[38;5;28;01mif\u001b[39;00m \u001b[38;5;28mlen\u001b[39m(\u001b[38;5;28mself\u001b[39m\u001b[38;5;241m.\u001b[39m__data) \u001b[38;5;129;01mor\u001b[39;00m \u001b[38;5;28;43mself\u001b[39;49m\u001b[38;5;241;43m.\u001b[39;49m\u001b[43m_refresh\u001b[49m\u001b[43m(\u001b[49m\u001b[43m)\u001b[49m:\n\u001b[0;32m   1249\u001b[0m     \u001b[38;5;28;01mreturn\u001b[39;00m \u001b[38;5;28mself\u001b[39m\u001b[38;5;241m.\u001b[39m__data\u001b[38;5;241m.\u001b[39mpopleft()\n\u001b[0;32m   1250\u001b[0m \u001b[38;5;28;01melse\u001b[39;00m:\n",
      "File \u001b[1;32m~\\miniconda3\\envs\\ironhack\\lib\\site-packages\\pymongo\\cursor.py:1139\u001b[0m, in \u001b[0;36mCursor._refresh\u001b[1;34m(self)\u001b[0m\n\u001b[0;32m   1136\u001b[0m     \u001b[38;5;28;01mreturn\u001b[39;00m \u001b[38;5;28mlen\u001b[39m(\u001b[38;5;28mself\u001b[39m\u001b[38;5;241m.\u001b[39m__data)\n\u001b[0;32m   1138\u001b[0m \u001b[38;5;28;01mif\u001b[39;00m \u001b[38;5;129;01mnot\u001b[39;00m \u001b[38;5;28mself\u001b[39m\u001b[38;5;241m.\u001b[39m__session:\n\u001b[1;32m-> 1139\u001b[0m     \u001b[38;5;28mself\u001b[39m\u001b[38;5;241m.\u001b[39m__session \u001b[38;5;241m=\u001b[39m \u001b[38;5;28;43mself\u001b[39;49m\u001b[38;5;241;43m.\u001b[39;49m\u001b[43m__collection\u001b[49m\u001b[38;5;241;43m.\u001b[39;49m\u001b[43mdatabase\u001b[49m\u001b[38;5;241;43m.\u001b[39;49m\u001b[43mclient\u001b[49m\u001b[38;5;241;43m.\u001b[39;49m\u001b[43m_ensure_session\u001b[49m\u001b[43m(\u001b[49m\u001b[43m)\u001b[49m\n\u001b[0;32m   1141\u001b[0m \u001b[38;5;28;01mif\u001b[39;00m \u001b[38;5;28mself\u001b[39m\u001b[38;5;241m.\u001b[39m__id \u001b[38;5;129;01mis\u001b[39;00m \u001b[38;5;28;01mNone\u001b[39;00m:  \u001b[38;5;66;03m# Query\u001b[39;00m\n\u001b[0;32m   1142\u001b[0m     \u001b[38;5;28;01mif\u001b[39;00m (\u001b[38;5;28mself\u001b[39m\u001b[38;5;241m.\u001b[39m__min \u001b[38;5;129;01mor\u001b[39;00m \u001b[38;5;28mself\u001b[39m\u001b[38;5;241m.\u001b[39m__max) \u001b[38;5;129;01mand\u001b[39;00m \u001b[38;5;129;01mnot\u001b[39;00m \u001b[38;5;28mself\u001b[39m\u001b[38;5;241m.\u001b[39m__hint:\n",
      "File \u001b[1;32m~\\miniconda3\\envs\\ironhack\\lib\\site-packages\\pymongo\\mongo_client.py:1740\u001b[0m, in \u001b[0;36mMongoClient._ensure_session\u001b[1;34m(self, session)\u001b[0m\n\u001b[0;32m   1735\u001b[0m     \u001b[38;5;28;01mreturn\u001b[39;00m session\n\u001b[0;32m   1737\u001b[0m \u001b[38;5;28;01mtry\u001b[39;00m:\n\u001b[0;32m   1738\u001b[0m     \u001b[38;5;66;03m# Don't make implicit sessions causally consistent. Applications\u001b[39;00m\n\u001b[0;32m   1739\u001b[0m     \u001b[38;5;66;03m# should always opt-in.\u001b[39;00m\n\u001b[1;32m-> 1740\u001b[0m     \u001b[38;5;28;01mreturn\u001b[39;00m \u001b[38;5;28;43mself\u001b[39;49m\u001b[38;5;241;43m.\u001b[39;49m\u001b[43m__start_session\u001b[49m\u001b[43m(\u001b[49m\u001b[38;5;28;43;01mTrue\u001b[39;49;00m\u001b[43m,\u001b[49m\u001b[43m \u001b[49m\u001b[43mcausal_consistency\u001b[49m\u001b[38;5;241;43m=\u001b[39;49m\u001b[38;5;28;43;01mFalse\u001b[39;49;00m\u001b[43m)\u001b[49m\n\u001b[0;32m   1741\u001b[0m \u001b[38;5;28;01mexcept\u001b[39;00m (ConfigurationError, InvalidOperation):\n\u001b[0;32m   1742\u001b[0m     \u001b[38;5;66;03m# Sessions not supported.\u001b[39;00m\n\u001b[0;32m   1743\u001b[0m     \u001b[38;5;28;01mreturn\u001b[39;00m \u001b[38;5;28;01mNone\u001b[39;00m\n",
      "File \u001b[1;32m~\\miniconda3\\envs\\ironhack\\lib\\site-packages\\pymongo\\mongo_client.py:1685\u001b[0m, in \u001b[0;36mMongoClient.__start_session\u001b[1;34m(self, implicit, **kwargs)\u001b[0m\n\u001b[0;32m   1682\u001b[0m \u001b[38;5;28;01mdef\u001b[39;00m \u001b[38;5;21m__start_session\u001b[39m(\u001b[38;5;28mself\u001b[39m, implicit, \u001b[38;5;241m*\u001b[39m\u001b[38;5;241m*\u001b[39mkwargs):\n\u001b[0;32m   1683\u001b[0m     \u001b[38;5;66;03m# Raises ConfigurationError if sessions are not supported.\u001b[39;00m\n\u001b[0;32m   1684\u001b[0m     \u001b[38;5;28;01mif\u001b[39;00m implicit:\n\u001b[1;32m-> 1685\u001b[0m         \u001b[38;5;28;43mself\u001b[39;49m\u001b[38;5;241;43m.\u001b[39;49m\u001b[43m_topology\u001b[49m\u001b[38;5;241;43m.\u001b[39;49m\u001b[43m_check_implicit_session_support\u001b[49m\u001b[43m(\u001b[49m\u001b[43m)\u001b[49m\n\u001b[0;32m   1686\u001b[0m         server_session \u001b[38;5;241m=\u001b[39m _EmptyServerSession()\n\u001b[0;32m   1687\u001b[0m     \u001b[38;5;28;01melse\u001b[39;00m:\n",
      "File \u001b[1;32m~\\miniconda3\\envs\\ironhack\\lib\\site-packages\\pymongo\\topology.py:538\u001b[0m, in \u001b[0;36mTopology._check_implicit_session_support\u001b[1;34m(self)\u001b[0m\n\u001b[0;32m    536\u001b[0m \u001b[38;5;28;01mdef\u001b[39;00m \u001b[38;5;21m_check_implicit_session_support\u001b[39m(\u001b[38;5;28mself\u001b[39m):\n\u001b[0;32m    537\u001b[0m     \u001b[38;5;28;01mwith\u001b[39;00m \u001b[38;5;28mself\u001b[39m\u001b[38;5;241m.\u001b[39m_lock:\n\u001b[1;32m--> 538\u001b[0m         \u001b[38;5;28;43mself\u001b[39;49m\u001b[38;5;241;43m.\u001b[39;49m\u001b[43m_check_session_support\u001b[49m\u001b[43m(\u001b[49m\u001b[43m)\u001b[49m\n",
      "File \u001b[1;32m~\\miniconda3\\envs\\ironhack\\lib\\site-packages\\pymongo\\topology.py:554\u001b[0m, in \u001b[0;36mTopology._check_session_support\u001b[1;34m(self)\u001b[0m\n\u001b[0;32m    550\u001b[0m         \u001b[38;5;28mself\u001b[39m\u001b[38;5;241m.\u001b[39m_select_servers_loop(\n\u001b[0;32m    551\u001b[0m             any_server_selector, \u001b[38;5;28mself\u001b[39m\u001b[38;5;241m.\u001b[39mget_server_selection_timeout(), \u001b[38;5;28;01mNone\u001b[39;00m\n\u001b[0;32m    552\u001b[0m         )\n\u001b[0;32m    553\u001b[0m \u001b[38;5;28;01melif\u001b[39;00m \u001b[38;5;129;01mnot\u001b[39;00m \u001b[38;5;28mself\u001b[39m\u001b[38;5;241m.\u001b[39m_description\u001b[38;5;241m.\u001b[39mreadable_servers:\n\u001b[1;32m--> 554\u001b[0m     \u001b[38;5;28;43mself\u001b[39;49m\u001b[38;5;241;43m.\u001b[39;49m\u001b[43m_select_servers_loop\u001b[49m\u001b[43m(\u001b[49m\n\u001b[0;32m    555\u001b[0m \u001b[43m        \u001b[49m\u001b[43mreadable_server_selector\u001b[49m\u001b[43m,\u001b[49m\u001b[43m \u001b[49m\u001b[38;5;28;43mself\u001b[39;49m\u001b[38;5;241;43m.\u001b[39;49m\u001b[43mget_server_selection_timeout\u001b[49m\u001b[43m(\u001b[49m\u001b[43m)\u001b[49m\u001b[43m,\u001b[49m\u001b[43m \u001b[49m\u001b[38;5;28;43;01mNone\u001b[39;49;00m\n\u001b[0;32m    556\u001b[0m \u001b[43m    \u001b[49m\u001b[43m)\u001b[49m\n\u001b[0;32m    558\u001b[0m session_timeout \u001b[38;5;241m=\u001b[39m \u001b[38;5;28mself\u001b[39m\u001b[38;5;241m.\u001b[39m_description\u001b[38;5;241m.\u001b[39mlogical_session_timeout_minutes\n\u001b[0;32m    559\u001b[0m \u001b[38;5;28;01mif\u001b[39;00m session_timeout \u001b[38;5;129;01mis\u001b[39;00m \u001b[38;5;28;01mNone\u001b[39;00m:\n",
      "File \u001b[1;32m~\\miniconda3\\envs\\ironhack\\lib\\site-packages\\pymongo\\topology.py:238\u001b[0m, in \u001b[0;36mTopology._select_servers_loop\u001b[1;34m(self, selector, timeout, address)\u001b[0m\n\u001b[0;32m    235\u001b[0m \u001b[38;5;28;01mwhile\u001b[39;00m \u001b[38;5;129;01mnot\u001b[39;00m server_descriptions:\n\u001b[0;32m    236\u001b[0m     \u001b[38;5;66;03m# No suitable servers.\u001b[39;00m\n\u001b[0;32m    237\u001b[0m     \u001b[38;5;28;01mif\u001b[39;00m timeout \u001b[38;5;241m==\u001b[39m \u001b[38;5;241m0\u001b[39m \u001b[38;5;129;01mor\u001b[39;00m now \u001b[38;5;241m>\u001b[39m end_time:\n\u001b[1;32m--> 238\u001b[0m         \u001b[38;5;28;01mraise\u001b[39;00m ServerSelectionTimeoutError(\n\u001b[0;32m    239\u001b[0m             \u001b[38;5;124m\"\u001b[39m\u001b[38;5;132;01m%s\u001b[39;00m\u001b[38;5;124m, Timeout: \u001b[39m\u001b[38;5;132;01m%s\u001b[39;00m\u001b[38;5;124ms, Topology Description: \u001b[39m\u001b[38;5;132;01m%r\u001b[39;00m\u001b[38;5;124m\"\u001b[39m\n\u001b[0;32m    240\u001b[0m             \u001b[38;5;241m%\u001b[39m (\u001b[38;5;28mself\u001b[39m\u001b[38;5;241m.\u001b[39m_error_message(selector), timeout, \u001b[38;5;28mself\u001b[39m\u001b[38;5;241m.\u001b[39mdescription)\n\u001b[0;32m    241\u001b[0m         )\n\u001b[0;32m    243\u001b[0m     \u001b[38;5;28mself\u001b[39m\u001b[38;5;241m.\u001b[39m_ensure_opened()\n\u001b[0;32m    244\u001b[0m     \u001b[38;5;28mself\u001b[39m\u001b[38;5;241m.\u001b[39m_request_check_all()\n",
      "\u001b[1;31mServerSelectionTimeoutError\u001b[0m: localhost:27017: [WinError 10061] No connection could be made because the target machine actively refused it, Timeout: 30s, Topology Description: <TopologyDescription id: 63e51bffe3b020f9f5a0d655, topology_type: Unknown, servers: [<ServerDescription ('localhost', 27017) server_type: Unknown, rtt: None, error=AutoReconnect('localhost:27017: [WinError 10061] No connection could be made because the target machine actively refused it')>]>"
     ]
    }
   ],
   "source": [
    "import pymongo\n",
    "client = pymongo.MongoClient('mongodb://localhost:27017/')\n",
    "db = client['ironcoffee']\n",
    "c = db.get_collection('ironcoffee')\n",
    "c.find_one()"
   ]
  },
  {
   "cell_type": "code",
   "execution_count": null,
   "id": "9aaff02a",
   "metadata": {},
   "outputs": [],
   "source": []
  }
 ],
 "metadata": {
  "kernelspec": {
   "display_name": "ironhack",
   "language": "python",
   "name": "pandas"
  },
  "language_info": {
   "codemirror_mode": {
    "name": "ipython",
    "version": 3
   },
   "file_extension": ".py",
   "mimetype": "text/x-python",
   "name": "python",
   "nbconvert_exporter": "python",
   "pygments_lexer": "ipython3",
   "version": "3.10.9"
  },
  "toc": {
   "base_numbering": 1,
   "nav_menu": {},
   "number_sections": true,
   "sideBar": true,
   "skip_h1_title": false,
   "title_cell": "Table of Contents",
   "title_sidebar": "Contents",
   "toc_cell": false,
   "toc_position": {},
   "toc_section_display": true,
   "toc_window_display": true
  }
 },
 "nbformat": 4,
 "nbformat_minor": 5
}
