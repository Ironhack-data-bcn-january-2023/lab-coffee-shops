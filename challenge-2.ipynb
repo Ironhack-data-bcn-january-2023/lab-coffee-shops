{
 "cells": [
  {
   "cell_type": "markdown",
   "id": "0809e785",
   "metadata": {},
   "source": [
    "# 1. Import the necessary libraries for you to be able to query 4square API"
   ]
  },
  {
   "cell_type": "code",
   "execution_count": 1,
   "id": "9b373771",
   "metadata": {},
   "outputs": [],
   "source": [
    "import requests\n",
    "import json\n",
    "import pandas as pd\n",
    "from getpass import getpass"
   ]
  },
  {
   "cell_type": "markdown",
   "id": "e94dce92",
   "metadata": {},
   "source": [
    "# 2. Get names and location of the 10 coffee places by passing Ironhack as your location"
   ]
  },
  {
   "cell_type": "code",
   "execution_count": 14,
   "id": "950f9bf3",
   "metadata": {},
   "outputs": [
    {
     "name": "stdout",
     "output_type": "stream",
     "text": [
      "{\"results\":[{\"fsq_id\":\"ba6b948a1e5449b288c64a96\",\"categories\":[{\"id\":13029,\"name\":\"Brewery\",\"icon\":{\"prefix\":\"https://ss3.4sqi.net/img/categories_v2/food/brewery_\",\"suffix\":\".png\"}},{\"id\":13035,\"name\":\"Coffee Shop\",\"icon\":{\"prefix\":\"https://ss3.4sqi.net/img/categories_v2/food/coffeeshop_\",\"suffix\":\".png\"}},{\"id\":13065,\"name\":\"Restaurant\",\"icon\":{\"prefix\":\"https://ss3.4sqi.net/img/categories_v2/food/default_\",\"suffix\":\".png\"}}],\"chains\":[],\"distance\":931,\"geocodes\":{\"main\":{\"latitude\":41.392707,\"longitude\":2.196983},\"roof\":{\"latitude\":41.392707,\"longitude\":2.196983}},\"link\":\"/v3/places/ba6b948a1e5449b288c64a96\",\"location\":{\"address\":\"Calle Arquitecte Sert, 12\",\"admin_region\":\"Cataluña\",\"country\":\"ES\",\"formatted_address\":\"Calle Arquitecte Sert, 12, 08005 Barcelona Barcelona\",\"locality\":\"Barcelona\",\"postcode\":\"08005\",\"region\":\"Barcelona\"},\"name\":\"Caffe Da Giotto\",\"related_places\":{}},{\"fsq_id\":\"56730ba0498ea77d7cc095a0\",\"categories\":[{\"id\":13065,\"name\":\"Restaurant\",\"icon\":{\"prefix\":\"https://ss3.4sqi.net/img/categories_v2/food/default_\",\"suffix\":\".png\"}}],\"chains\":[],\"distance\":1199,\"geocodes\":{\"main\":{\"latitude\":41.392576,\"longitude\":2.200383},\"roof\":{\"latitude\":41.392576,\"longitude\":2.200383}},\"link\":\"/v3/places/56730ba0498ea77d7cc095a0\",\"location\":{\"address\":\"Plaza Tirant Lo Blanc, 2\",\"admin_region\":\"Cataluña\",\"country\":\"ES\",\"cross_street\":\"\",\"formatted_address\":\"Plaza Tirant Lo Blanc, 2, 08005 Barcelona Catalonia\",\"locality\":\"Barcelona\",\"postcode\":\"08005\",\"region\":\"Catalonia\"},\"name\":\"Garden Caffé\",\"related_places\":{},\"timezone\":\"Europe/Madrid\"},{\"fsq_id\":\"5a683866f8cbd43a1956ab7b\",\"categories\":[{\"id\":13035,\"name\":\"Coffee Shop\",\"icon\":{\"prefix\":\"https://ss3.4sqi.net/img/categories_v2/food/coffeeshop_\",\"suffix\":\".png\"}},{\"id\":13065,\"name\":\"Restaurant\",\"icon\":{\"prefix\":\"https://ss3.4sqi.net/img/categories_v2/food/default_\",\"suffix\":\".png\"}}],\"chains\":[],\"distance\":1325,\"geocodes\":{\"main\":{\"latitude\":41.405402,\"longitude\":2.200337},\"roof\":{\"latitude\":41.405402,\"longitude\":2.200337}},\"link\":\"/v3/places/5a683866f8cbd43a1956ab7b\",\"location\":{\"address\":\"Calle de Bilbao, 98\",\"admin_region\":\"Cataluña\",\"country\":\"ES\",\"cross_street\":\"C. de Pere IV\",\"formatted_address\":\"Calle de Bilbao, 98 (C. de Pere IV), 08005 Barcelona Catalonia\",\"locality\":\"Barcelona\",\"postcode\":\"08005\",\"region\":\"Catalonia\"},\"name\":\"Caffeine\",\"related_places\":{},\"timezone\":\"Europe/Madrid\"},{\"fsq_id\":\"4e5b5e3e18a8c204752408f9\",\"categories\":[{\"id\":13034,\"name\":\"Café\",\"icon\":{\"prefix\":\"https://ss3.4sqi.net/img/categories_v2/food/cafe_\",\"suffix\":\".png\"}},{\"id\":13065,\"name\":\"Restaurant\",\"icon\":{\"prefix\":\"https://ss3.4sqi.net/img/categories_v2/food/default_\",\"suffix\":\".png\"}}],\"chains\":[],\"distance\":1344,\"geocodes\":{\"main\":{\"latitude\":41.392874,\"longitude\":2.173412},\"roof\":{\"latitude\":41.392874,\"longitude\":2.173412}},\"link\":\"/v3/places/4e5b5e3e18a8c204752408f9\",\"location\":{\"address\":\"Gran Vía de Les Corts Catalanes, 686\",\"admin_region\":\"Cataluña\",\"country\":\"ES\",\"cross_street\":\"C. Girona\",\"formatted_address\":\"Gran Vía de Les Corts Catalanes, 686 (C. Girona), 08010 Barcelona Catalonia\",\"locality\":\"Barcelona\",\"postcode\":\"08010\",\"region\":\"Catalonia\"},\"name\":\"Mo'no Caffè\",\"related_places\":{},\"timezone\":\"Europe/Madrid\"},{\"fsq_id\":\"4bfeda76369476b0adf58c1f\",\"categories\":[{\"id\":13003,\"name\":\"Bar\",\"icon\":{\"prefix\":\"https://ss3.4sqi.net/img/categories_v2/nightlife/pub_\",\"suffix\":\".png\"}},{\"id\":13035,\"name\":\"Coffee Shop\",\"icon\":{\"prefix\":\"https://ss3.4sqi.net/img/categories_v2/food/coffeeshop_\",\"suffix\":\".png\"}},{\"id\":13236,\"name\":\"Italian Restaurant\",\"icon\":{\"prefix\":\"https://ss3.4sqi.net/img/categories_v2/food/italian_\",\"suffix\":\".png\"}}],\"chains\":[],\"distance\":1375,\"geocodes\":{\"main\":{\"latitude\":41.398202,\"longitude\":2.204745},\"roof\":{\"latitude\":41.398202,\"longitude\":2.204745}},\"link\":\"/v3/places/4bfeda76369476b0adf58c1f\",\"location\":{\"address\":\"Rambla Poblenou 11-13\",\"admin_region\":\"Cataluña\",\"country\":\"ES\",\"formatted_address\":\"Rambla Poblenou 11-13, 08005 Barcelona Catalonia\",\"locality\":\"Barcelona\",\"postcode\":\"08005\",\"region\":\"Catalonia\"},\"name\":\"Caffè Blu\",\"related_places\":{},\"timezone\":\"Europe/Madrid\"},{\"fsq_id\":\"4c1882866a21c9b64a24c997\",\"categories\":[{\"id\":13034,\"name\":\"Café\",\"icon\":{\"prefix\":\"https://ss3.4sqi.net/img/categories_v2/food/cafe_\",\"suffix\":\".png\"}},{\"id\":13065,\"name\":\"Restaurant\",\"icon\":{\"prefix\":\"https://ss3.4sqi.net/img/categories_v2/food/default_\",\"suffix\":\".png\"}}],\"chains\":[],\"distance\":1402,\"geocodes\":{\"main\":{\"latitude\":41.402328,\"longitude\":2.172256},\"roof\":{\"latitude\":41.402328,\"longitude\":2.172256}},\"link\":\"/v3/places/4c1882866a21c9b64a24c997\",\"location\":{\"address\":\"Plaça de la Sagrada Família, 6\",\"admin_region\":\"Cataluña\",\"country\":\"ES\",\"cross_street\":\"\",\"formatted_address\":\"Plaça de la Sagrada Família, 6, 08013 Barcelona Catalonia\",\"locality\":\"Barcelona\",\"postcode\":\"08013\",\"region\":\"Catalonia\"},\"name\":\"Piacere Caffe\",\"related_places\":{},\"timezone\":\"Europe/Madrid\"},{\"fsq_id\":\"5c3b17fd35f983002c8475a6\",\"categories\":[{\"id\":13065,\"name\":\"Restaurant\",\"icon\":{\"prefix\":\"https://ss3.4sqi.net/img/categories_v2/food/default_\",\"suffix\":\".png\"}}],\"chains\":[],\"distance\":1561,\"geocodes\":{\"main\":{\"latitude\":41.385753,\"longitude\":2.178313},\"roof\":{\"latitude\":41.385753,\"longitude\":2.178313}},\"link\":\"/v3/places/5c3b17fd35f983002c8475a6\",\"location\":{\"address\":\"Carrer de Freixures, 5\",\"admin_region\":\"Cataluña\",\"country\":\"ES\",\"cross_street\":\"\",\"formatted_address\":\"Carrer de Freixures, 5, 08003 Barcelona Catalonia\",\"locality\":\"Barcelona\",\"postcode\":\"08003\",\"region\":\"Catalonia\"},\"name\":\"Cucina e Caffé Blau\",\"related_places\":{},\"timezone\":\"Europe/Madrid\"},{\"fsq_id\":\"5be5daa39cadd9002c2f6475\",\"categories\":[{\"id\":13034,\"name\":\"Café\",\"icon\":{\"prefix\":\"https://ss3.4sqi.net/img/categories_v2/food/cafe_\",\"suffix\":\".png\"}},{\"id\":13065,\"name\":\"Restaurant\",\"icon\":{\"prefix\":\"https://ss3.4sqi.net/img/categories_v2/food/default_\",\"suffix\":\".png\"}}],\"chains\":[],\"distance\":1636,\"geocodes\":{\"main\":{\"latitude\":41.393614,\"longitude\":2.169268},\"roof\":{\"latitude\":41.393614,\"longitude\":2.169268}},\"link\":\"/v3/places/5be5daa39cadd9002c2f6475\",\"location\":{\"address\":\"Calle del Consell de Cent, 350\",\"admin_region\":\"Cataluña\",\"country\":\"ES\",\"cross_street\":\"C. del Bruc\",\"formatted_address\":\"Calle del Consell de Cent, 350 (C. del Bruc), 08009 Barcelona Catalonia\",\"locality\":\"Barcelona\",\"postcode\":\"08009\",\"region\":\"Catalonia\"},\"name\":\"Eroica Caffè Barcelona\",\"related_places\":{},\"timezone\":\"Europe/Madrid\"},{\"fsq_id\":\"4cd29a16d5d7a1cdb7017966\",\"categories\":[{\"id\":13035,\"name\":\"Coffee Shop\",\"icon\":{\"prefix\":\"https://ss3.4sqi.net/img/categories_v2/food/coffeeshop_\",\"suffix\":\".png\"}}],\"chains\":[],\"distance\":1636,\"geocodes\":{\"main\":{\"latitude\":41.386402,\"longitude\":2.175705},\"roof\":{\"latitude\":41.386402,\"longitude\":2.175705}},\"link\":\"/v3/places/4cd29a16d5d7a1cdb7017966\",\"location\":{\"address\":\"Vía Laietana, 44\",\"admin_region\":\"Cataluña\",\"country\":\"ES\",\"cross_street\":\"\",\"formatted_address\":\"Vía Laietana, 44, Barcelona Catalonia\",\"locality\":\"Barcelona\",\"region\":\"Catalonia\"},\"name\":\"Cappuccino Crema & Caffe\",\"related_places\":{},\"timezone\":\"Europe/Madrid\"},{\"fsq_id\":\"4c494c176594be9a9280e424\",\"categories\":[{\"id\":13003,\"name\":\"Bar\",\"icon\":{\"prefix\":\"https://ss3.4sqi.net/img/categories_v2/nightlife/pub_\",\"suffix\":\".png\"}},{\"id\":13034,\"name\":\"Café\",\"icon\":{\"prefix\":\"https://ss3.4sqi.net/img/categories_v2/food/cafe_\",\"suffix\":\".png\"}},{\"id\":13035,\"name\":\"Coffee Shop\",\"icon\":{\"prefix\":\"https://ss3.4sqi.net/img/categories_v2/food/coffeeshop_\",\"suffix\":\".png\"}}],\"chains\":[],\"distance\":1653,\"geocodes\":{\"main\":{\"latitude\":41.389037,\"longitude\":2.171844},\"roof\":{\"latitude\":41.389037,\"longitude\":2.171844}},\"link\":\"/v3/places/4c494c176594be9a9280e424\",\"location\":{\"address\":\"Pau Claris, 75\",\"admin_region\":\"Cataluña\",\"country\":\"ES\",\"cross_street\":\"\",\"formatted_address\":\"Pau Claris, 75, 08010 Barcelona Catalonia\",\"locality\":\"Barcelona\",\"postcode\":\"08010\",\"region\":\"Catalonia\"},\"name\":\"Il Caffe Di Francesco\",\"related_places\":{},\"timezone\":\"Europe/Madrid\"}],\"context\":{\"geo_bounds\":{\"circle\":{\"center\":{\"latitude\":41.3977461,\"longitude\":2.188060617},\"radius\":100000}}}}\n"
     ]
    }
   ],
   "source": [
    "import requests\n",
    "\n",
    "url = \"https://api.foursquare.com/v3/places/search?query=caffe&ll=41.3977461%2C2.188060617&radius=100000&sort=DISTANCE&limit=10\"\n",
    "\n",
    "headers = {\n",
    "    \"accept\": \"application/json\",\n",
    "    \"Authorization\": \"fsq3r/TpfzZa1Jt2dzQr5+9KGqJwk9feYwt5/xcu0g6pewc=\"\n",
    "}\n",
    "\n",
    "response = requests.get(url, headers=headers)\n",
    "\n",
    "print(response.text)"
   ]
  },
  {
   "cell_type": "code",
   "execution_count": 16,
   "id": "a5500ac4",
   "metadata": {},
   "outputs": [
    {
     "data": {
      "text/plain": [
       "10"
      ]
     },
     "execution_count": 16,
     "metadata": {},
     "output_type": "execute_result"
    }
   ],
   "source": [
    "len(response.json()[\"results\"])"
   ]
  },
  {
   "cell_type": "markdown",
   "id": "941b5dbf",
   "metadata": {},
   "source": [
    "# 3. Now get the 5 CLOSEST coffe places. Make use of params: limit, near?"
   ]
  },
  {
   "cell_type": "code",
   "execution_count": 17,
   "id": "6d806329",
   "metadata": {},
   "outputs": [
    {
     "name": "stdout",
     "output_type": "stream",
     "text": [
      "{\"results\":[{\"fsq_id\":\"ba6b948a1e5449b288c64a96\",\"categories\":[{\"id\":13029,\"name\":\"Brewery\",\"icon\":{\"prefix\":\"https://ss3.4sqi.net/img/categories_v2/food/brewery_\",\"suffix\":\".png\"}},{\"id\":13035,\"name\":\"Coffee Shop\",\"icon\":{\"prefix\":\"https://ss3.4sqi.net/img/categories_v2/food/coffeeshop_\",\"suffix\":\".png\"}},{\"id\":13065,\"name\":\"Restaurant\",\"icon\":{\"prefix\":\"https://ss3.4sqi.net/img/categories_v2/food/default_\",\"suffix\":\".png\"}}],\"chains\":[],\"distance\":931,\"geocodes\":{\"main\":{\"latitude\":41.392707,\"longitude\":2.196983},\"roof\":{\"latitude\":41.392707,\"longitude\":2.196983}},\"link\":\"/v3/places/ba6b948a1e5449b288c64a96\",\"location\":{\"address\":\"Calle Arquitecte Sert, 12\",\"admin_region\":\"Cataluña\",\"country\":\"ES\",\"formatted_address\":\"Calle Arquitecte Sert, 12, 08005 Barcelona Barcelona\",\"locality\":\"Barcelona\",\"postcode\":\"08005\",\"region\":\"Barcelona\"},\"name\":\"Caffe Da Giotto\",\"related_places\":{}},{\"fsq_id\":\"56730ba0498ea77d7cc095a0\",\"categories\":[{\"id\":13065,\"name\":\"Restaurant\",\"icon\":{\"prefix\":\"https://ss3.4sqi.net/img/categories_v2/food/default_\",\"suffix\":\".png\"}}],\"chains\":[],\"distance\":1199,\"geocodes\":{\"main\":{\"latitude\":41.392576,\"longitude\":2.200383},\"roof\":{\"latitude\":41.392576,\"longitude\":2.200383}},\"link\":\"/v3/places/56730ba0498ea77d7cc095a0\",\"location\":{\"address\":\"Plaza Tirant Lo Blanc, 2\",\"admin_region\":\"Cataluña\",\"country\":\"ES\",\"cross_street\":\"\",\"formatted_address\":\"Plaza Tirant Lo Blanc, 2, 08005 Barcelona Catalonia\",\"locality\":\"Barcelona\",\"postcode\":\"08005\",\"region\":\"Catalonia\"},\"name\":\"Garden Caffé\",\"related_places\":{},\"timezone\":\"Europe/Madrid\"},{\"fsq_id\":\"5a683866f8cbd43a1956ab7b\",\"categories\":[{\"id\":13035,\"name\":\"Coffee Shop\",\"icon\":{\"prefix\":\"https://ss3.4sqi.net/img/categories_v2/food/coffeeshop_\",\"suffix\":\".png\"}},{\"id\":13065,\"name\":\"Restaurant\",\"icon\":{\"prefix\":\"https://ss3.4sqi.net/img/categories_v2/food/default_\",\"suffix\":\".png\"}}],\"chains\":[],\"distance\":1325,\"geocodes\":{\"main\":{\"latitude\":41.405402,\"longitude\":2.200337},\"roof\":{\"latitude\":41.405402,\"longitude\":2.200337}},\"link\":\"/v3/places/5a683866f8cbd43a1956ab7b\",\"location\":{\"address\":\"Calle de Bilbao, 98\",\"admin_region\":\"Cataluña\",\"country\":\"ES\",\"cross_street\":\"C. de Pere IV\",\"formatted_address\":\"Calle de Bilbao, 98 (C. de Pere IV), 08005 Barcelona Catalonia\",\"locality\":\"Barcelona\",\"postcode\":\"08005\",\"region\":\"Catalonia\"},\"name\":\"Caffeine\",\"related_places\":{},\"timezone\":\"Europe/Madrid\"},{\"fsq_id\":\"4e5b5e3e18a8c204752408f9\",\"categories\":[{\"id\":13034,\"name\":\"Café\",\"icon\":{\"prefix\":\"https://ss3.4sqi.net/img/categories_v2/food/cafe_\",\"suffix\":\".png\"}},{\"id\":13065,\"name\":\"Restaurant\",\"icon\":{\"prefix\":\"https://ss3.4sqi.net/img/categories_v2/food/default_\",\"suffix\":\".png\"}}],\"chains\":[],\"distance\":1344,\"geocodes\":{\"main\":{\"latitude\":41.392874,\"longitude\":2.173412},\"roof\":{\"latitude\":41.392874,\"longitude\":2.173412}},\"link\":\"/v3/places/4e5b5e3e18a8c204752408f9\",\"location\":{\"address\":\"Gran Vía de Les Corts Catalanes, 686\",\"admin_region\":\"Cataluña\",\"country\":\"ES\",\"cross_street\":\"C. Girona\",\"formatted_address\":\"Gran Vía de Les Corts Catalanes, 686 (C. Girona), 08010 Barcelona Catalonia\",\"locality\":\"Barcelona\",\"postcode\":\"08010\",\"region\":\"Catalonia\"},\"name\":\"Mo'no Caffè\",\"related_places\":{},\"timezone\":\"Europe/Madrid\"},{\"fsq_id\":\"4bfeda76369476b0adf58c1f\",\"categories\":[{\"id\":13003,\"name\":\"Bar\",\"icon\":{\"prefix\":\"https://ss3.4sqi.net/img/categories_v2/nightlife/pub_\",\"suffix\":\".png\"}},{\"id\":13035,\"name\":\"Coffee Shop\",\"icon\":{\"prefix\":\"https://ss3.4sqi.net/img/categories_v2/food/coffeeshop_\",\"suffix\":\".png\"}},{\"id\":13236,\"name\":\"Italian Restaurant\",\"icon\":{\"prefix\":\"https://ss3.4sqi.net/img/categories_v2/food/italian_\",\"suffix\":\".png\"}}],\"chains\":[],\"distance\":1375,\"geocodes\":{\"main\":{\"latitude\":41.398202,\"longitude\":2.204745},\"roof\":{\"latitude\":41.398202,\"longitude\":2.204745}},\"link\":\"/v3/places/4bfeda76369476b0adf58c1f\",\"location\":{\"address\":\"Rambla Poblenou 11-13\",\"admin_region\":\"Cataluña\",\"country\":\"ES\",\"formatted_address\":\"Rambla Poblenou 11-13, 08005 Barcelona Catalonia\",\"locality\":\"Barcelona\",\"postcode\":\"08005\",\"region\":\"Catalonia\"},\"name\":\"Caffè Blu\",\"related_places\":{},\"timezone\":\"Europe/Madrid\"}],\"context\":{\"geo_bounds\":{\"circle\":{\"center\":{\"latitude\":41.3977461,\"longitude\":2.188060617},\"radius\":100000}}}}\n"
     ]
    }
   ],
   "source": [
    "import requests\n",
    "\n",
    "url = \"https://api.foursquare.com/v3/places/search?query=caffe&ll=41.3977461%2C2.188060617&radius=100000&sort=DISTANCE&limit=5\"\n",
    "\n",
    "headers = {\n",
    "    \"accept\": \"application/json\",\n",
    "    \"Authorization\": \"fsq3r/TpfzZa1Jt2dzQr5+9KGqJwk9feYwt5/xcu0g6pewc=\"\n",
    "}\n",
    "\n",
    "response = requests.get(url, headers=headers)\n",
    "\n",
    "print(response.text)"
   ]
  },
  {
   "cell_type": "code",
   "execution_count": 18,
   "id": "d04fe37a",
   "metadata": {},
   "outputs": [
    {
     "data": {
      "text/plain": [
       "5"
      ]
     },
     "execution_count": 18,
     "metadata": {},
     "output_type": "execute_result"
    }
   ],
   "source": [
    "len(response.json()[\"results\"])"
   ]
  },
  {
   "attachments": {},
   "cell_type": "markdown",
   "id": "d19904e8",
   "metadata": {},
   "source": [
    "# 4. Define a function that returns name, lat, long for starbucks OR restaurants AND for any given location"
   ]
  },
  {
   "cell_type": "code",
   "execution_count": 26,
   "id": "1fad5153",
   "metadata": {},
   "outputs": [
    {
     "name": "stdout",
     "output_type": "stream",
     "text": [
      "{\"message\":\"May pass only one of radius (for ip biasing), ne/sw, near, or ll/radius\"}\n"
     ]
    }
   ],
   "source": [
    "def foursquare_places (venue, coordinates):\n",
    "    import requests\n",
    "\n",
    "url = \"https://api.foursquare.com/v3/places/search?query=starbucks&ll=41.3977461%2C2.188060617&radius=2000&near=ironhack&sort=DISTANCE\"\n",
    "\n",
    "headers = {\n",
    "    \"accept\": \"application/json\",\n",
    "    \"Authorization\": \"fsq3r/TpfzZa1Jt2dzQr5+9KGqJwk9feYwt5/xcu0g6pewc=\"\n",
    "}\n",
    "\n",
    "response = requests.get(url, headers=headers)\n",
    "print(response.text)\n",
    "pass"
   ]
  },
  {
   "cell_type": "markdown",
   "id": "1836c1a1",
   "metadata": {},
   "source": [
    "# 5. Export it into data folder as a json: `data/coffe_shops.json`"
   ]
  },
  {
   "cell_type": "code",
   "execution_count": 22,
   "id": "1990c4c1",
   "metadata": {},
   "outputs": [
    {
     "name": "stdout",
     "output_type": "stream",
     "text": [
      "Failed to retrieve API data. Error code: 400\n"
     ]
    }
   ],
   "source": [
    "if response.status_code == 200:\n",
    "    data = response.json()\n",
    "    with open(\"data/coffe_shops.json\", \"w\") as file:\n",
    "        json.dump(data, file)\n",
    "else:\n",
    "    print(\"Failed to retrieve API data. Error code:\", response.status_code)"
   ]
  },
  {
   "cell_type": "markdown",
   "id": "2d77e99d",
   "metadata": {},
   "source": [
    "# BONUS: load it into MongoDB in a collection named \"ironcoffee\" using pymongo"
   ]
  },
  {
   "cell_type": "code",
   "execution_count": null,
   "id": "85b94955",
   "metadata": {},
   "outputs": [],
   "source": [
    "# your code here"
   ]
  }
 ],
 "metadata": {
  "kernelspec": {
   "display_name": "ironhack",
   "language": "python",
   "name": "python3"
  },
  "language_info": {
   "codemirror_mode": {
    "name": "ipython",
    "version": 3
   },
   "file_extension": ".py",
   "mimetype": "text/x-python",
   "name": "python",
   "nbconvert_exporter": "python",
   "pygments_lexer": "ipython3",
   "version": "3.9.12"
  },
  "toc": {
   "base_numbering": 1,
   "nav_menu": {},
   "number_sections": true,
   "sideBar": true,
   "skip_h1_title": false,
   "title_cell": "Table of Contents",
   "title_sidebar": "Contents",
   "toc_cell": false,
   "toc_position": {},
   "toc_section_display": true,
   "toc_window_display": true
  },
  "vscode": {
   "interpreter": {
    "hash": "82abc7b490bdca0a0926c123976b296da33c0333d87d0021eb92d39b0b4d3cac"
   }
  }
 },
 "nbformat": 4,
 "nbformat_minor": 5
}
