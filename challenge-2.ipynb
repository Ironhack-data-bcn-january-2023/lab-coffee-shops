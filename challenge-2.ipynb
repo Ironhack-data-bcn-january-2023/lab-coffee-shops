{
 "cells": [
  {
   "cell_type": "markdown",
   "id": "0809e785",
   "metadata": {},
   "source": [
    "# 1. Import the necessary libraries for you to be able to query 4square API"
   ]
  },
  {
   "cell_type": "code",
   "execution_count": 1,
   "id": "9b373771",
   "metadata": {},
   "outputs": [],
   "source": [
    "import requests\n",
    "import json\n",
    "import pandas as pd\n",
    "from getpass import getpass"
   ]
  },
  {
   "cell_type": "code",
   "execution_count": 2,
   "id": "c34dda6c",
   "metadata": {},
   "outputs": [],
   "source": [
    "import folium\n",
    "from folium import Choropleth, Circle, Marker, Icon, Map\n",
    "from folium.plugins import HeatMap, MarkerCluster\n",
    "import pandas as pd"
   ]
  },
  {
   "cell_type": "code",
   "execution_count": 3,
   "id": "dd6e6fce",
   "metadata": {},
   "outputs": [],
   "source": [
    "import os\n",
    "import requests\n",
    "import json\n",
    "from dotenv import load_dotenv\n",
    "import pandas as pd\n",
    "from getpass import getpass\n",
    "import geopandas as gpd\n",
    "from cartoframes.viz import Map, Layer, popup_element\n",
    "from dotenv import load_dotenv"
   ]
  },
  {
   "cell_type": "code",
   "execution_count": 4,
   "id": "63ee2d1f",
   "metadata": {},
   "outputs": [
    {
     "data": {
      "text/plain": [
       "True"
      ]
     },
     "execution_count": 4,
     "metadata": {},
     "output_type": "execute_result"
    }
   ],
   "source": [
    "load_dotenv()"
   ]
  },
  {
   "cell_type": "markdown",
   "id": "e94dce92",
   "metadata": {},
   "source": [
    "# 2. Get names and location of the 10 coffee places by passing Ironhack as your location"
   ]
  },
  {
   "cell_type": "code",
   "execution_count": 5,
   "id": "1d72f571",
   "metadata": {},
   "outputs": [],
   "source": [
    "# your code here\n",
    "token = getpass()"
   ]
  },
  {
   "cell_type": "code",
   "execution_count": 6,
   "id": "0873c307",
   "metadata": {},
   "outputs": [],
   "source": [
    "where = \"Carrer de pamplona, 96, 08018, Barcelona, Spain\""
   ]
  },
  {
   "cell_type": "code",
   "execution_count": 7,
   "id": "c75379ad",
   "metadata": {},
   "outputs": [
    {
     "data": {
      "text/plain": [
       "'https://geocode.xyz/Carrer de pamplona, 96, 08018, Barcelona, Spain?json=1'"
      ]
     },
     "execution_count": 7,
     "metadata": {},
     "output_type": "execute_result"
    }
   ],
   "source": [
    "url_geocode = f\"https://geocode.xyz/{where}?json=1\"\n",
    "url_geocode"
   ]
  },
  {
   "cell_type": "code",
   "execution_count": 8,
   "id": "51c64de2",
   "metadata": {},
   "outputs": [
    {
     "data": {
      "text/plain": [
       "{'standard': {'stnumber': '96',\n",
       "  'addresst': 'Carrer de Pamplona',\n",
       "  'statename': 'Catalonia',\n",
       "  'postal': '08018',\n",
       "  'region': 'Catalonia',\n",
       "  'prov': 'ES',\n",
       "  'city': 'Barcelona',\n",
       "  'countryname': 'Spain',\n",
       "  'confidence': '0.90'},\n",
       " 'longt': '2.18997',\n",
       " 'alt': {},\n",
       " 'elevation': {},\n",
       " 'latt': '41.39789'}"
      ]
     },
     "execution_count": 8,
     "metadata": {},
     "output_type": "execute_result"
    }
   ],
   "source": [
    "requests.get(url_geocode).json()"
   ]
  },
  {
   "cell_type": "code",
   "execution_count": 9,
   "id": "9592041b",
   "metadata": {},
   "outputs": [],
   "source": [
    "bar_long = 2.18997\n",
    "bar_lat = 41.39789"
   ]
  },
  {
   "cell_type": "code",
   "execution_count": 10,
   "id": "f74687cf",
   "metadata": {},
   "outputs": [],
   "source": [
    "query = \"Cafeteria\""
   ]
  },
  {
   "cell_type": "code",
   "execution_count": 44,
   "id": "6a2ee3e7",
   "metadata": {},
   "outputs": [],
   "source": [
    "import requests\n",
    "\n",
    "url = \"https://api.foursquare.com/v3/places/search?query=coffee&limit=10\"\n",
    "\n",
    "headers = {\n",
    "    \"accept\": \"application/json\",\n",
    "    \"Authorization\": token\n",
    "}\n",
    "\n",
    "response = requests.get(url, headers=headers)"
   ]
  },
  {
   "cell_type": "code",
   "execution_count": 47,
   "id": "d7fcb1fc",
   "metadata": {},
   "outputs": [
    {
     "data": {
      "text/plain": [
       "{'results': [{'fsq_id': '58a196a45cab2f7fd67c7384',\n",
       "   'categories': [{'id': 13034,\n",
       "     'name': 'Café',\n",
       "     'icon': {'prefix': 'https://ss3.4sqi.net/img/categories_v2/food/cafe_',\n",
       "      'suffix': '.png'}},\n",
       "    {'id': 13035,\n",
       "     'name': 'Coffee Shop',\n",
       "     'icon': {'prefix': 'https://ss3.4sqi.net/img/categories_v2/food/coffeeshop_',\n",
       "      'suffix': '.png'}}],\n",
       "   'chains': [],\n",
       "   'distance': 311,\n",
       "   'geocodes': {'main': {'latitude': 41.384525, 'longitude': 2.168502},\n",
       "    'roof': {'latitude': 41.384525, 'longitude': 2.168502}},\n",
       "   'link': '/v3/places/58a196a45cab2f7fd67c7384',\n",
       "   'location': {'address': 'Calle de Les Ramelleres, 16',\n",
       "    'admin_region': 'Cataluña',\n",
       "    'country': 'ES',\n",
       "    'cross_street': '',\n",
       "    'formatted_address': 'Calle de Les Ramelleres, 16, 08001 Barcelona Catalonia',\n",
       "    'locality': 'Barcelona',\n",
       "    'postcode': '08001',\n",
       "    'region': 'Catalonia'},\n",
       "   'name': 'Dalston Coffee',\n",
       "   'related_places': {},\n",
       "   'timezone': 'Europe/Madrid'},\n",
       "  {'fsq_id': '5cd80cf92bf29b002d5bd7ff',\n",
       "   'categories': [{'id': 13034,\n",
       "     'name': 'Café',\n",
       "     'icon': {'prefix': 'https://ss3.4sqi.net/img/categories_v2/food/cafe_',\n",
       "      'suffix': '.png'}}],\n",
       "   'chains': [],\n",
       "   'distance': 381,\n",
       "   'geocodes': {'main': {'latitude': 41.38368, 'longitude': 2.168826},\n",
       "    'roof': {'latitude': 41.38368, 'longitude': 2.168826}},\n",
       "   'link': '/v3/places/5cd80cf92bf29b002d5bd7ff',\n",
       "   'location': {'address': \"Carrer D'Elisabets, 6\",\n",
       "    'admin_region': 'Cataluña',\n",
       "    'country': 'ES',\n",
       "    'cross_street': '',\n",
       "    'formatted_address': \"Carrer D'Elisabets, 6, 08001 Barcelona Catalonia\",\n",
       "    'locality': 'Barcelona',\n",
       "    'postcode': '08001',\n",
       "    'region': 'Catalonia'},\n",
       "   'name': 'Barcentral',\n",
       "   'related_places': {'parent': {'fsq_id': '4b71cd74f964a5204b5d2de3',\n",
       "     'name': 'La Central del Raval'}},\n",
       "   'timezone': 'Europe/Madrid'},\n",
       "  {'fsq_id': '56d728de498e1991afe71512',\n",
       "   'categories': [{'id': 13035,\n",
       "     'name': 'Coffee Shop',\n",
       "     'icon': {'prefix': 'https://ss3.4sqi.net/img/categories_v2/food/coffeeshop_',\n",
       "      'suffix': '.png'}},\n",
       "    {'id': 13042,\n",
       "     'name': 'Cupcake Shop',\n",
       "     'icon': {'prefix': 'https://ss3.4sqi.net/img/categories_v2/food/cupcakes_',\n",
       "      'suffix': '.png'}},\n",
       "    {'id': 13043,\n",
       "     'name': 'Donut Shop',\n",
       "     'icon': {'prefix': 'https://ss3.4sqi.net/img/categories_v2/food/donuts_',\n",
       "      'suffix': '.png'}}],\n",
       "   'chains': [],\n",
       "   'distance': 304,\n",
       "   'geocodes': {'main': {'latitude': 41.384669, 'longitude': 2.168349},\n",
       "    'roof': {'latitude': 41.384669, 'longitude': 2.168349}},\n",
       "   'link': '/v3/places/56d728de498e1991afe71512',\n",
       "   'location': {'address': 'Carrer de Les Ramelleres, 26',\n",
       "    'admin_region': 'Cataluña',\n",
       "    'country': 'ES',\n",
       "    'cross_street': '',\n",
       "    'formatted_address': 'Carrer de Les Ramelleres, 26, 08001 Barcelona Catalonia',\n",
       "    'locality': 'Barcelona',\n",
       "    'postcode': '08001',\n",
       "    'region': 'Catalonia'},\n",
       "   'name': 'Chök',\n",
       "   'related_places': {},\n",
       "   'timezone': 'Europe/Madrid'},\n",
       "  {'fsq_id': '52017967501928a80a428098',\n",
       "   'categories': [{'id': 13043,\n",
       "     'name': 'Donut Shop',\n",
       "     'icon': {'prefix': 'https://ss3.4sqi.net/img/categories_v2/food/donuts_',\n",
       "      'suffix': '.png'}},\n",
       "    {'id': 13065,\n",
       "     'name': 'Restaurant',\n",
       "     'icon': {'prefix': 'https://ss3.4sqi.net/img/categories_v2/food/default_',\n",
       "      'suffix': '.png'}}],\n",
       "   'chains': [],\n",
       "   'distance': 473,\n",
       "   'geocodes': {'main': {'latitude': 41.382801, 'longitude': 2.171393},\n",
       "    'roof': {'latitude': 41.382801, 'longitude': 2.171393}},\n",
       "   'link': '/v3/places/52017967501928a80a428098',\n",
       "   'location': {'address': 'Carrer de Carme, 3',\n",
       "    'admin_region': 'Cataluña',\n",
       "    'country': 'ES',\n",
       "    'formatted_address': 'Carrer de Carme, 3, 08001 Barcelona Catalonia',\n",
       "    'locality': 'Barcelona',\n",
       "    'postcode': '08001',\n",
       "    'region': 'Catalonia'},\n",
       "   'name': 'Chok - The Chocolate Kitchen',\n",
       "   'related_places': {},\n",
       "   'timezone': 'Europe/Madrid'},\n",
       "  {'fsq_id': '5932b36367af3a528d8b1696',\n",
       "   'categories': [{'id': 13003,\n",
       "     'name': 'Bar',\n",
       "     'icon': {'prefix': 'https://ss3.4sqi.net/img/categories_v2/nightlife/pub_',\n",
       "      'suffix': '.png'}},\n",
       "    {'id': 13034,\n",
       "     'name': 'Café',\n",
       "     'icon': {'prefix': 'https://ss3.4sqi.net/img/categories_v2/food/cafe_',\n",
       "      'suffix': '.png'}},\n",
       "    {'id': 13035,\n",
       "     'name': 'Coffee Shop',\n",
       "     'icon': {'prefix': 'https://ss3.4sqi.net/img/categories_v2/food/coffeeshop_',\n",
       "      'suffix': '.png'}}],\n",
       "   'chains': [],\n",
       "   'distance': 575,\n",
       "   'geocodes': {'main': {'latitude': 41.38361, 'longitude': 2.164875},\n",
       "    'roof': {'latitude': 41.38361, 'longitude': 2.164875}},\n",
       "   'link': '/v3/places/5932b36367af3a528d8b1696',\n",
       "   'location': {'address': 'Carrer de la Verge, 1',\n",
       "    'admin_region': 'Cataluña',\n",
       "    'country': 'ES',\n",
       "    'cross_street': 'C. de Valldonzella',\n",
       "    'formatted_address': 'Carrer de la Verge, 1 (C. de Valldonzella), 08001 Barcelona Catalonia',\n",
       "    'locality': 'Barcelona',\n",
       "    'postcode': '08001',\n",
       "    'region': 'Catalonia'},\n",
       "   'name': 'Departure Coffee Co',\n",
       "   'related_places': {},\n",
       "   'timezone': 'Europe/Madrid'},\n",
       "  {'fsq_id': '52fafeb4498e411285ad33be',\n",
       "   'categories': [{'id': 13003,\n",
       "     'name': 'Bar',\n",
       "     'icon': {'prefix': 'https://ss3.4sqi.net/img/categories_v2/nightlife/pub_',\n",
       "      'suffix': '.png'}},\n",
       "    {'id': 13034,\n",
       "     'name': 'Café',\n",
       "     'icon': {'prefix': 'https://ss3.4sqi.net/img/categories_v2/food/cafe_',\n",
       "      'suffix': '.png'}},\n",
       "    {'id': 13035,\n",
       "     'name': 'Coffee Shop',\n",
       "     'icon': {'prefix': 'https://ss3.4sqi.net/img/categories_v2/food/coffeeshop_',\n",
       "      'suffix': '.png'}}],\n",
       "   'chains': [],\n",
       "   'distance': 625,\n",
       "   'geocodes': {'main': {'latitude': 41.388989, 'longitude': 2.177167},\n",
       "    'roof': {'latitude': 41.388989, 'longitude': 2.177167}},\n",
       "   'link': '/v3/places/52fafeb4498e411285ad33be',\n",
       "   'location': {'address': 'Pasatge Sert, 12',\n",
       "    'admin_region': 'Cataluña',\n",
       "    'country': 'ES',\n",
       "    'cross_street': 'C. de Trafalgar',\n",
       "    'formatted_address': 'Pasatge Sert, 12 (C. de Trafalgar), 08003 Barcelona Catalonia',\n",
       "    'locality': 'Barcelona',\n",
       "    'postcode': '08003',\n",
       "    'region': 'Catalonia'},\n",
       "   'name': 'Nømad Coffee Lab & Shop',\n",
       "   'related_places': {'children': []},\n",
       "   'timezone': 'Europe/Madrid'},\n",
       "  {'fsq_id': '5040f5e5e4b06be18fa8af73',\n",
       "   'categories': [{'id': 13303,\n",
       "     'name': 'Mexican Restaurant',\n",
       "     'icon': {'prefix': 'https://ss3.4sqi.net/img/categories_v2/food/mexican_',\n",
       "      'suffix': '.png'}}],\n",
       "   'chains': [],\n",
       "   'distance': 529,\n",
       "   'geocodes': {'main': {'latitude': 41.382226, 'longitude': 2.168842},\n",
       "    'roof': {'latitude': 41.382226, 'longitude': 2.168842}},\n",
       "   'link': '/v3/places/5040f5e5e4b06be18fa8af73',\n",
       "   'location': {'address': 'Pintor Fortuny, 31',\n",
       "    'admin_region': 'Cataluña',\n",
       "    'country': 'ES',\n",
       "    'cross_street': 'C. Doctor Dou',\n",
       "    'formatted_address': 'Pintor Fortuny, 31 (C. Doctor Dou), 08001 Barcelona Catalonia',\n",
       "    'locality': 'Barcelona',\n",
       "    'postcode': '08001',\n",
       "    'region': 'Catalonia'},\n",
       "   'name': 'Caravelle',\n",
       "   'related_places': {},\n",
       "   'timezone': 'Europe/Madrid'},\n",
       "  {'fsq_id': '5a1e8e634382ab7bf85940f3',\n",
       "   'categories': [{'id': 13034,\n",
       "     'name': 'Café',\n",
       "     'icon': {'prefix': 'https://ss3.4sqi.net/img/categories_v2/food/cafe_',\n",
       "      'suffix': '.png'}}],\n",
       "   'chains': [],\n",
       "   'distance': 671,\n",
       "   'geocodes': {'main': {'latitude': 41.388319, 'longitude': 2.177882},\n",
       "    'roof': {'latitude': 41.388319, 'longitude': 2.177882}},\n",
       "   'link': '/v3/places/5a1e8e634382ab7bf85940f3',\n",
       "   'location': {'address': \"Calle D'en Mònec, 6\",\n",
       "    'admin_region': 'Cataluña',\n",
       "    'country': 'ES',\n",
       "    'cross_street': '',\n",
       "    'formatted_address': \"Calle D'en Mònec, 6, 08003 Barcelona Catalonia\",\n",
       "    'locality': 'Barcelona',\n",
       "    'postcode': '08003',\n",
       "    'region': 'Catalonia'},\n",
       "   'name': 'La Masala Cafe',\n",
       "   'related_places': {},\n",
       "   'timezone': 'Europe/Madrid'},\n",
       "  {'fsq_id': '4eeb30149a52f269b6e6d37f',\n",
       "   'categories': [{'id': 13003,\n",
       "     'name': 'Bar',\n",
       "     'icon': {'prefix': 'https://ss3.4sqi.net/img/categories_v2/nightlife/pub_',\n",
       "      'suffix': '.png'}},\n",
       "    {'id': 13034,\n",
       "     'name': 'Café',\n",
       "     'icon': {'prefix': 'https://ss3.4sqi.net/img/categories_v2/food/cafe_',\n",
       "      'suffix': '.png'}},\n",
       "    {'id': 13065,\n",
       "     'name': 'Restaurant',\n",
       "     'icon': {'prefix': 'https://ss3.4sqi.net/img/categories_v2/food/default_',\n",
       "      'suffix': '.png'}}],\n",
       "   'chains': [],\n",
       "   'distance': 461,\n",
       "   'geocodes': {'main': {'latitude': 41.38645, 'longitude': 2.175654},\n",
       "    'roof': {'latitude': 41.38645, 'longitude': 2.175654}},\n",
       "   'link': '/v3/places/4eeb30149a52f269b6e6d37f',\n",
       "   'location': {'address': 'Vía Laietana, 46',\n",
       "    'admin_region': 'Cataluña',\n",
       "    'country': 'ES',\n",
       "    'cross_street': 'Sant Pere Més Baix',\n",
       "    'formatted_address': 'Vía Laietana, 46 (Sant Pere Més Baix), 08003 Barcelona Catalonia',\n",
       "    'locality': 'Barcelona',\n",
       "    'postcode': '08003',\n",
       "    'region': 'Catalonia'},\n",
       "   'name': 'Churrería Laietana',\n",
       "   'related_places': {},\n",
       "   'timezone': 'Europe/Madrid'},\n",
       "  {'fsq_id': '4bb4fd36b1edef3b74692cdd',\n",
       "   'categories': [{'id': 13036,\n",
       "     'name': 'Tea Room',\n",
       "     'icon': {'prefix': 'https://ss3.4sqi.net/img/categories_v2/food/tearoom_',\n",
       "      'suffix': '.png'}},\n",
       "    {'id': 13345,\n",
       "     'name': 'Spanish Restaurant',\n",
       "     'icon': {'prefix': 'https://ss3.4sqi.net/img/categories_v2/food/spanish_',\n",
       "      'suffix': '.png'}}],\n",
       "   'chains': [],\n",
       "   'distance': 698,\n",
       "   'geocodes': {'main': {'latitude': 41.382539, 'longitude': 2.176081},\n",
       "    'roof': {'latitude': 41.382539, 'longitude': 2.176081}},\n",
       "   'link': '/v3/places/4bb4fd36b1edef3b74692cdd',\n",
       "   'location': {'address': 'Carrer Sant Domenec del Call, 4',\n",
       "    'admin_region': 'Cataluña',\n",
       "    'country': 'ES',\n",
       "    'cross_street': '',\n",
       "    'formatted_address': 'Carrer Sant Domenec del Call, 4, 08002 Barcelona Catalonia',\n",
       "    'locality': 'Barcelona',\n",
       "    'postcode': '08002',\n",
       "    'region': 'Catalonia'},\n",
       "   'name': 'Salterio',\n",
       "   'related_places': {},\n",
       "   'timezone': 'Europe/Madrid'}],\n",
       " 'context': {'geo_bounds': {'circle': {'center': {'latitude': 41.387,\n",
       "     'longitude': 2.1701},\n",
       "    'radius': 22000}}}}"
      ]
     },
     "execution_count": 47,
     "metadata": {},
     "output_type": "execute_result"
    }
   ],
   "source": [
    "response.json()"
   ]
  },
  {
   "cell_type": "code",
   "execution_count": 48,
   "id": "c591f1f0",
   "metadata": {},
   "outputs": [
    {
     "data": {
      "text/plain": [
       "{'latitude': 41.384525, 'longitude': 2.168502}"
      ]
     },
     "execution_count": 48,
     "metadata": {},
     "output_type": "execute_result"
    }
   ],
   "source": [
    "coordinates = response.json()[\"results\"][0][\"geocodes\"][\"main\"]\n",
    "coordinates"
   ]
  },
  {
   "cell_type": "code",
   "execution_count": 49,
   "id": "31cc007f",
   "metadata": {},
   "outputs": [],
   "source": [
    "lat, lon = coordinates[\"latitude\"], coordinates[\"longitude\"]"
   ]
  },
  {
   "cell_type": "code",
   "execution_count": 50,
   "id": "328ad9b7",
   "metadata": {},
   "outputs": [
    {
     "data": {
      "text/plain": [
       "'Dalston Coffee'"
      ]
     },
     "execution_count": 50,
     "metadata": {},
     "output_type": "execute_result"
    }
   ],
   "source": [
    "name = response.json()[\"results\"][0][\"name\"]\n",
    "name"
   ]
  },
  {
   "cell_type": "code",
   "execution_count": 51,
   "id": "15073f46",
   "metadata": {},
   "outputs": [],
   "source": [
    "def name_coordinates (dict_):\n",
    "    \n",
    "    processed_dict = {\"name\": dict_[\"name\"],\n",
    "                     \"lat\": dict_[\"geocodes\"][\"main\"][\"latitude\"],\n",
    "                     \"lon\": dict_[\"geocodes\"][\"main\"][\"longitude\"]}\n",
    "    \n",
    "    return processed_dict"
   ]
  },
  {
   "cell_type": "code",
   "execution_count": 52,
   "id": "e7e7d23e",
   "metadata": {},
   "outputs": [
    {
     "data": {
      "text/plain": [
       "{'name': 'Dalston Coffee', 'lat': 41.384525, 'lon': 2.168502}"
      ]
     },
     "execution_count": 52,
     "metadata": {},
     "output_type": "execute_result"
    }
   ],
   "source": [
    "name_coordinates (response.json()[\"results\"][0])"
   ]
  },
  {
   "cell_type": "code",
   "execution_count": 53,
   "id": "385bd2bd",
   "metadata": {},
   "outputs": [],
   "source": [
    "new_list = []\n",
    "for i in response.json()[\"results\"]:\n",
    "    new_list.append(name_coordinates(i))"
   ]
  },
  {
   "cell_type": "code",
   "execution_count": 54,
   "id": "8a5efc43",
   "metadata": {},
   "outputs": [
    {
     "data": {
      "text/html": [
       "<div>\n",
       "<style scoped>\n",
       "    .dataframe tbody tr th:only-of-type {\n",
       "        vertical-align: middle;\n",
       "    }\n",
       "\n",
       "    .dataframe tbody tr th {\n",
       "        vertical-align: top;\n",
       "    }\n",
       "\n",
       "    .dataframe thead th {\n",
       "        text-align: right;\n",
       "    }\n",
       "</style>\n",
       "<table border=\"1\" class=\"dataframe\">\n",
       "  <thead>\n",
       "    <tr style=\"text-align: right;\">\n",
       "      <th></th>\n",
       "      <th>name</th>\n",
       "      <th>lat</th>\n",
       "      <th>lon</th>\n",
       "    </tr>\n",
       "  </thead>\n",
       "  <tbody>\n",
       "    <tr>\n",
       "      <th>0</th>\n",
       "      <td>Dalston Coffee</td>\n",
       "      <td>41.384525</td>\n",
       "      <td>2.168502</td>\n",
       "    </tr>\n",
       "    <tr>\n",
       "      <th>1</th>\n",
       "      <td>Barcentral</td>\n",
       "      <td>41.383680</td>\n",
       "      <td>2.168826</td>\n",
       "    </tr>\n",
       "    <tr>\n",
       "      <th>2</th>\n",
       "      <td>Chök</td>\n",
       "      <td>41.384669</td>\n",
       "      <td>2.168349</td>\n",
       "    </tr>\n",
       "    <tr>\n",
       "      <th>3</th>\n",
       "      <td>Chok - The Chocolate Kitchen</td>\n",
       "      <td>41.382801</td>\n",
       "      <td>2.171393</td>\n",
       "    </tr>\n",
       "    <tr>\n",
       "      <th>4</th>\n",
       "      <td>Departure Coffee Co</td>\n",
       "      <td>41.383610</td>\n",
       "      <td>2.164875</td>\n",
       "    </tr>\n",
       "    <tr>\n",
       "      <th>5</th>\n",
       "      <td>Nømad Coffee Lab &amp; Shop</td>\n",
       "      <td>41.388989</td>\n",
       "      <td>2.177167</td>\n",
       "    </tr>\n",
       "    <tr>\n",
       "      <th>6</th>\n",
       "      <td>Caravelle</td>\n",
       "      <td>41.382226</td>\n",
       "      <td>2.168842</td>\n",
       "    </tr>\n",
       "    <tr>\n",
       "      <th>7</th>\n",
       "      <td>La Masala Cafe</td>\n",
       "      <td>41.388319</td>\n",
       "      <td>2.177882</td>\n",
       "    </tr>\n",
       "    <tr>\n",
       "      <th>8</th>\n",
       "      <td>Churrería Laietana</td>\n",
       "      <td>41.386450</td>\n",
       "      <td>2.175654</td>\n",
       "    </tr>\n",
       "    <tr>\n",
       "      <th>9</th>\n",
       "      <td>Salterio</td>\n",
       "      <td>41.382539</td>\n",
       "      <td>2.176081</td>\n",
       "    </tr>\n",
       "  </tbody>\n",
       "</table>\n",
       "</div>"
      ],
      "text/plain": [
       "                           name        lat       lon\n",
       "0                Dalston Coffee  41.384525  2.168502\n",
       "1                    Barcentral  41.383680  2.168826\n",
       "2                          Chök  41.384669  2.168349\n",
       "3  Chok - The Chocolate Kitchen  41.382801  2.171393\n",
       "4           Departure Coffee Co  41.383610  2.164875\n",
       "5       Nømad Coffee Lab & Shop  41.388989  2.177167\n",
       "6                     Caravelle  41.382226  2.168842\n",
       "7                La Masala Cafe  41.388319  2.177882\n",
       "8            Churrería Laietana  41.386450  2.175654\n",
       "9                      Salterio  41.382539  2.176081"
      ]
     },
     "execution_count": 54,
     "metadata": {},
     "output_type": "execute_result"
    }
   ],
   "source": [
    "df = pd.DataFrame(new_list)\n",
    "df"
   ]
  },
  {
   "cell_type": "code",
   "execution_count": null,
   "id": "e7a7b959",
   "metadata": {},
   "outputs": [],
   "source": []
  },
  {
   "cell_type": "markdown",
   "id": "fda8ddff",
   "metadata": {},
   "source": [
    "3. Now get the 5 CLOSEST coffe places. Make use of params: limit, near?"
   ]
  },
  {
   "cell_type": "code",
   "execution_count": null,
   "id": "7b06f31a",
   "metadata": {},
   "outputs": [],
   "source": []
  },
  {
   "cell_type": "code",
   "execution_count": 90,
   "id": "6e13c373",
   "metadata": {},
   "outputs": [],
   "source": [
    "url = \"https://api.foursquare.com/v3/places/search?query=coffee&ll=41.384525%2C2.168502&radius=1000&limit=5\"\n",
    "\n",
    "headers = {\n",
    "    \"accept\": \"application/json\",\n",
    "    \"Authorization\": token\n",
    "}\n",
    "\n",
    "response = requests.get(url, headers=headers)\n"
   ]
  },
  {
   "cell_type": "code",
   "execution_count": 91,
   "id": "8124e49a",
   "metadata": {},
   "outputs": [
    {
     "data": {
      "text/plain": [
       "{'results': [{'fsq_id': '58a196a45cab2f7fd67c7384',\n",
       "   'categories': [{'id': 13034,\n",
       "     'name': 'Café',\n",
       "     'icon': {'prefix': 'https://ss3.4sqi.net/img/categories_v2/food/cafe_',\n",
       "      'suffix': '.png'}},\n",
       "    {'id': 13035,\n",
       "     'name': 'Coffee Shop',\n",
       "     'icon': {'prefix': 'https://ss3.4sqi.net/img/categories_v2/food/coffeeshop_',\n",
       "      'suffix': '.png'}}],\n",
       "   'chains': [],\n",
       "   'distance': 14,\n",
       "   'geocodes': {'main': {'latitude': 41.384525, 'longitude': 2.168502},\n",
       "    'roof': {'latitude': 41.384525, 'longitude': 2.168502}},\n",
       "   'link': '/v3/places/58a196a45cab2f7fd67c7384',\n",
       "   'location': {'address': 'Calle de Les Ramelleres, 16',\n",
       "    'admin_region': 'Cataluña',\n",
       "    'country': 'ES',\n",
       "    'cross_street': '',\n",
       "    'formatted_address': 'Calle de Les Ramelleres, 16, 08001 Barcelona Catalonia',\n",
       "    'locality': 'Barcelona',\n",
       "    'postcode': '08001',\n",
       "    'region': 'Catalonia'},\n",
       "   'name': 'Dalston Coffee',\n",
       "   'related_places': {},\n",
       "   'timezone': 'Europe/Madrid'},\n",
       "  {'fsq_id': '56d728de498e1991afe71512',\n",
       "   'categories': [{'id': 13035,\n",
       "     'name': 'Coffee Shop',\n",
       "     'icon': {'prefix': 'https://ss3.4sqi.net/img/categories_v2/food/coffeeshop_',\n",
       "      'suffix': '.png'}},\n",
       "    {'id': 13042,\n",
       "     'name': 'Cupcake Shop',\n",
       "     'icon': {'prefix': 'https://ss3.4sqi.net/img/categories_v2/food/cupcakes_',\n",
       "      'suffix': '.png'}},\n",
       "    {'id': 13043,\n",
       "     'name': 'Donut Shop',\n",
       "     'icon': {'prefix': 'https://ss3.4sqi.net/img/categories_v2/food/donuts_',\n",
       "      'suffix': '.png'}}],\n",
       "   'chains': [],\n",
       "   'distance': 21,\n",
       "   'geocodes': {'main': {'latitude': 41.384669, 'longitude': 2.168349},\n",
       "    'roof': {'latitude': 41.384669, 'longitude': 2.168349}},\n",
       "   'link': '/v3/places/56d728de498e1991afe71512',\n",
       "   'location': {'address': 'Carrer de Les Ramelleres, 26',\n",
       "    'admin_region': 'Cataluña',\n",
       "    'country': 'ES',\n",
       "    'cross_street': '',\n",
       "    'formatted_address': 'Carrer de Les Ramelleres, 26, 08001 Barcelona Catalonia',\n",
       "    'locality': 'Barcelona',\n",
       "    'postcode': '08001',\n",
       "    'region': 'Catalonia'},\n",
       "   'name': 'Chök',\n",
       "   'related_places': {},\n",
       "   'timezone': 'Europe/Madrid'},\n",
       "  {'fsq_id': '5cd80cf92bf29b002d5bd7ff',\n",
       "   'categories': [{'id': 13034,\n",
       "     'name': 'Café',\n",
       "     'icon': {'prefix': 'https://ss3.4sqi.net/img/categories_v2/food/cafe_',\n",
       "      'suffix': '.png'}}],\n",
       "   'chains': [],\n",
       "   'distance': 96,\n",
       "   'geocodes': {'main': {'latitude': 41.38368, 'longitude': 2.168826},\n",
       "    'roof': {'latitude': 41.38368, 'longitude': 2.168826}},\n",
       "   'link': '/v3/places/5cd80cf92bf29b002d5bd7ff',\n",
       "   'location': {'address': \"Carrer D'Elisabets, 6\",\n",
       "    'admin_region': 'Cataluña',\n",
       "    'country': 'ES',\n",
       "    'cross_street': '',\n",
       "    'formatted_address': \"Carrer D'Elisabets, 6, 08001 Barcelona Catalonia\",\n",
       "    'locality': 'Barcelona',\n",
       "    'postcode': '08001',\n",
       "    'region': 'Catalonia'},\n",
       "   'name': 'Barcentral',\n",
       "   'related_places': {'parent': {'fsq_id': '4b71cd74f964a5204b5d2de3',\n",
       "     'name': 'La Central del Raval'}},\n",
       "   'timezone': 'Europe/Madrid'},\n",
       "  {'fsq_id': '4bade1adf964a520c76f3be3',\n",
       "   'categories': [{'id': 13034,\n",
       "     'name': 'Café',\n",
       "     'icon': {'prefix': 'https://ss3.4sqi.net/img/categories_v2/food/cafe_',\n",
       "      'suffix': '.png'}},\n",
       "    {'id': 13035,\n",
       "     'name': 'Coffee Shop',\n",
       "     'icon': {'prefix': 'https://ss3.4sqi.net/img/categories_v2/food/coffeeshop_',\n",
       "      'suffix': '.png'}},\n",
       "    {'id': 13236,\n",
       "     'name': 'Italian Restaurant',\n",
       "     'icon': {'prefix': 'https://ss3.4sqi.net/img/categories_v2/food/italian_',\n",
       "      'suffix': '.png'}}],\n",
       "   'chains': [],\n",
       "   'distance': 108,\n",
       "   'geocodes': {'main': {'latitude': 41.383811, 'longitude': 2.169646},\n",
       "    'roof': {'latitude': 41.383811, 'longitude': 2.169646}},\n",
       "   'link': '/v3/places/4bade1adf964a520c76f3be3',\n",
       "   'location': {'address': 'Plaza Bonsuccés, 6',\n",
       "    'address_extended': 'Bajo',\n",
       "    'admin_region': 'Cataluña',\n",
       "    'country': 'ES',\n",
       "    'cross_street': '',\n",
       "    'formatted_address': 'Plaza Bonsuccés, 6, 08001 Barcelona Catalonia',\n",
       "    'locality': 'Barcelona',\n",
       "    'postcode': '08001',\n",
       "    'region': 'Catalonia'},\n",
       "   'name': 'Buenas Migas',\n",
       "   'related_places': {},\n",
       "   'timezone': 'Europe/Madrid'},\n",
       "  {'fsq_id': '50df215ce4b09e22f1f7a693',\n",
       "   'categories': [{'id': 13034,\n",
       "     'name': 'Café',\n",
       "     'icon': {'prefix': 'https://ss3.4sqi.net/img/categories_v2/food/cafe_',\n",
       "      'suffix': '.png'}},\n",
       "    {'id': 13035,\n",
       "     'name': 'Coffee Shop',\n",
       "     'icon': {'prefix': 'https://ss3.4sqi.net/img/categories_v2/food/coffeeshop_',\n",
       "      'suffix': '.png'}},\n",
       "    {'id': 13036,\n",
       "     'name': 'Tea Room',\n",
       "     'icon': {'prefix': 'https://ss3.4sqi.net/img/categories_v2/food/tearoom_',\n",
       "      'suffix': '.png'}}],\n",
       "   'chains': [],\n",
       "   'distance': 117,\n",
       "   'geocodes': {'main': {'latitude': 41.384116, 'longitude': 2.1698},\n",
       "    'roof': {'latitude': 41.384116, 'longitude': 2.1698}},\n",
       "   'link': '/v3/places/50df215ce4b09e22f1f7a693',\n",
       "   'location': {'address': 'Plaça del Bonsuccès, 7',\n",
       "    'admin_region': 'Cataluña',\n",
       "    'country': 'ES',\n",
       "    'cross_street': '',\n",
       "    'formatted_address': 'Plaça del Bonsuccès, 7, 08001 Barcelona Catalonia',\n",
       "    'locality': 'Barcelona',\n",
       "    'postcode': '08001',\n",
       "    'region': 'Catalonia'},\n",
       "   'name': 'Bubbolitas',\n",
       "   'related_places': {},\n",
       "   'timezone': 'Europe/Madrid'}],\n",
       " 'context': {'geo_bounds': {'circle': {'center': {'latitude': 41.384525,\n",
       "     'longitude': 2.168502},\n",
       "    'radius': 1000}}}}"
      ]
     },
     "execution_count": 91,
     "metadata": {},
     "output_type": "execute_result"
    }
   ],
   "source": [
    "\n",
    "response.json()"
   ]
  },
  {
   "cell_type": "code",
   "execution_count": 92,
   "id": "894c90e1",
   "metadata": {},
   "outputs": [],
   "source": [
    "coordinates = response.json()[\"results\"][0][\"geocodes\"][\"main\"]\n"
   ]
  },
  {
   "cell_type": "code",
   "execution_count": 93,
   "id": "f591a820",
   "metadata": {},
   "outputs": [],
   "source": [
    "lat, lon = coordinates[\"latitude\"], coordinates[\"longitude\"]"
   ]
  },
  {
   "cell_type": "code",
   "execution_count": 94,
   "id": "aeeaaf07",
   "metadata": {},
   "outputs": [
    {
     "data": {
      "text/plain": [
       "'Dalston Coffee'"
      ]
     },
     "execution_count": 94,
     "metadata": {},
     "output_type": "execute_result"
    }
   ],
   "source": [
    "name = response.json()[\"results\"][0][\"name\"]\n",
    "name"
   ]
  },
  {
   "cell_type": "code",
   "execution_count": 95,
   "id": "4c93b6bd",
   "metadata": {},
   "outputs": [],
   "source": [
    "def name_coordinates (dict_):\n",
    "    \n",
    "    processed_dict = {\"name\": dict_[\"name\"],\n",
    "                     \"lat\": dict_[\"geocodes\"][\"main\"][\"latitude\"],\n",
    "                     \"lon\": dict_[\"geocodes\"][\"main\"][\"longitude\"]}\n",
    "    \n",
    "    return processed_dict"
   ]
  },
  {
   "cell_type": "code",
   "execution_count": 96,
   "id": "e82d609f",
   "metadata": {},
   "outputs": [
    {
     "data": {
      "text/plain": [
       "{'name': 'Dalston Coffee', 'lat': 41.384525, 'lon': 2.168502}"
      ]
     },
     "execution_count": 96,
     "metadata": {},
     "output_type": "execute_result"
    }
   ],
   "source": [
    "name_coordinates (response.json()[\"results\"][0])"
   ]
  },
  {
   "cell_type": "code",
   "execution_count": 97,
   "id": "e382624d",
   "metadata": {},
   "outputs": [],
   "source": [
    "new_list = []\n",
    "for i in response.json()[\"results\"]:\n",
    "    new_list.append(name_coordinates(i))"
   ]
  },
  {
   "cell_type": "code",
   "execution_count": 98,
   "id": "abc1bfc9",
   "metadata": {},
   "outputs": [
    {
     "data": {
      "text/html": [
       "<div>\n",
       "<style scoped>\n",
       "    .dataframe tbody tr th:only-of-type {\n",
       "        vertical-align: middle;\n",
       "    }\n",
       "\n",
       "    .dataframe tbody tr th {\n",
       "        vertical-align: top;\n",
       "    }\n",
       "\n",
       "    .dataframe thead th {\n",
       "        text-align: right;\n",
       "    }\n",
       "</style>\n",
       "<table border=\"1\" class=\"dataframe\">\n",
       "  <thead>\n",
       "    <tr style=\"text-align: right;\">\n",
       "      <th></th>\n",
       "      <th>name</th>\n",
       "      <th>lat</th>\n",
       "      <th>lon</th>\n",
       "    </tr>\n",
       "  </thead>\n",
       "  <tbody>\n",
       "    <tr>\n",
       "      <th>0</th>\n",
       "      <td>Dalston Coffee</td>\n",
       "      <td>41.384525</td>\n",
       "      <td>2.168502</td>\n",
       "    </tr>\n",
       "    <tr>\n",
       "      <th>1</th>\n",
       "      <td>Chök</td>\n",
       "      <td>41.384669</td>\n",
       "      <td>2.168349</td>\n",
       "    </tr>\n",
       "    <tr>\n",
       "      <th>2</th>\n",
       "      <td>Barcentral</td>\n",
       "      <td>41.383680</td>\n",
       "      <td>2.168826</td>\n",
       "    </tr>\n",
       "    <tr>\n",
       "      <th>3</th>\n",
       "      <td>Buenas Migas</td>\n",
       "      <td>41.383811</td>\n",
       "      <td>2.169646</td>\n",
       "    </tr>\n",
       "    <tr>\n",
       "      <th>4</th>\n",
       "      <td>Bubbolitas</td>\n",
       "      <td>41.384116</td>\n",
       "      <td>2.169800</td>\n",
       "    </tr>\n",
       "  </tbody>\n",
       "</table>\n",
       "</div>"
      ],
      "text/plain": [
       "             name        lat       lon\n",
       "0  Dalston Coffee  41.384525  2.168502\n",
       "1            Chök  41.384669  2.168349\n",
       "2      Barcentral  41.383680  2.168826\n",
       "3    Buenas Migas  41.383811  2.169646\n",
       "4      Bubbolitas  41.384116  2.169800"
      ]
     },
     "execution_count": 98,
     "metadata": {},
     "output_type": "execute_result"
    }
   ],
   "source": [
    "df = pd.DataFrame(new_list)\n",
    "df"
   ]
  },
  {
   "cell_type": "markdown",
   "id": "d19904e8",
   "metadata": {},
   "source": [
    "# 4. Define a function that returns name, lat, long for starbucks OR restaurants AND for any given location"
   ]
  },
  {
   "cell_type": "code",
   "execution_count": 112,
   "id": "1fad5153",
   "metadata": {},
   "outputs": [],
   "source": [
    "\n",
    "def foursquare_places(location, venue):\n",
    "    \n",
    "    url = \"https://api.foursquare.com/v3/places/search?query=coffee&chains=\tab4c54c0-d68a-012e-5619-003048cad9da&limit=10\" #your_url\n",
    "    \n",
    "    headers = {\n",
    "        \"accept\": \"application/json\",\n",
    "        \"Authorization\": token\n",
    "    }\n",
    "    \n",
    "    response = requests.get(url, headers=headers)\n",
    "\n",
    "    if response.status_code != 200:\n",
    "        return None\n",
    "\n",
    "    def name_coordinates(dict_):\n",
    "        processed_dict = {\"name\": dict_[\"name\"],\n",
    "                          \"lat\": dict_[\"location\"][\"lat\"],\n",
    "                          \"lon\": dict_[\"location\"][\"lng\"]}\n",
    "        return processed_dict\n",
    "\n",
    "    new_list = []\n",
    "    for i in response.json()[\"results\"]:\n",
    "        new_list.append(name_coordinates(i))\n",
    "\n",
    "    return new_list\n"
   ]
  },
  {
   "cell_type": "code",
   "execution_count": 115,
   "id": "1a8a5ab8",
   "metadata": {},
   "outputs": [],
   "source": [
    "def name_coordinates (dict_):  \n",
    "    processed_dict = {\"name\": dict_[\"name\"],\n",
    "                     \"lat\": dict_[\"geocodes\"][\"main\"][\"latitude\"],\n",
    "                     \"lon\": dict_[\"geocodes\"][\"main\"][\"longitude\"]}\n",
    "    return processed_dict"
   ]
  },
  {
   "cell_type": "code",
   "execution_count": 132,
   "id": "8d71ea3a",
   "metadata": {},
   "outputs": [],
   "source": [
    "def foursquare_places (venue, coordinates):\n",
    "    url = f\"https://api.foursquare.com/v3/places/search?query={venue}&ll={coordinates}1&limit=10\"\n",
    "    headers = {\n",
    "    \"accept\": \"application/json\",\n",
    "    \"Authorization\": (token)\n",
    "    }\n",
    "    response = requests.get(url, headers=headers)\n",
    "       \n",
    "    coordinates = response.json()[\"results\"][0][\"geocodes\"][\"main\"]\n",
    "    lat, lon = coordinates[\"latitude\"], coordinates[\"longitude\"]\n",
    "    name = response.json()[\"results\"][0][\"name\"]\n",
    "    name_coordinates(response.json()[\"results\"][0])\n",
    "    \n",
    "    new_list2 = []\n",
    "    for i in response.json()[\"results\"]:\n",
    "        new_list2.append(name_coordinates(i))\n",
    "        \n",
    "    return pd.DataFrame(new_list2)\n",
    "\n",
    "\n"
   ]
  },
  {
   "cell_type": "code",
   "execution_count": 133,
   "id": "78dc964d",
   "metadata": {},
   "outputs": [
    {
     "data": {
      "text/html": [
       "<div>\n",
       "<style scoped>\n",
       "    .dataframe tbody tr th:only-of-type {\n",
       "        vertical-align: middle;\n",
       "    }\n",
       "\n",
       "    .dataframe tbody tr th {\n",
       "        vertical-align: top;\n",
       "    }\n",
       "\n",
       "    .dataframe thead th {\n",
       "        text-align: right;\n",
       "    }\n",
       "</style>\n",
       "<table border=\"1\" class=\"dataframe\">\n",
       "  <thead>\n",
       "    <tr style=\"text-align: right;\">\n",
       "      <th></th>\n",
       "      <th>name</th>\n",
       "      <th>lat</th>\n",
       "      <th>lon</th>\n",
       "    </tr>\n",
       "  </thead>\n",
       "  <tbody>\n",
       "    <tr>\n",
       "      <th>0</th>\n",
       "      <td>Restaurante SoMa</td>\n",
       "      <td>40.425047</td>\n",
       "      <td>-3.678081</td>\n",
       "    </tr>\n",
       "    <tr>\n",
       "      <th>1</th>\n",
       "      <td>Restaurante Soria</td>\n",
       "      <td>40.402668</td>\n",
       "      <td>-3.690501</td>\n",
       "    </tr>\n",
       "    <tr>\n",
       "      <th>2</th>\n",
       "      <td>Restaurante Si, No</td>\n",
       "      <td>40.420613</td>\n",
       "      <td>-3.698860</td>\n",
       "    </tr>\n",
       "    <tr>\n",
       "      <th>3</th>\n",
       "      <td>PadThaiWok. Malasaña</td>\n",
       "      <td>40.423051</td>\n",
       "      <td>-3.703115</td>\n",
       "    </tr>\n",
       "    <tr>\n",
       "      <th>4</th>\n",
       "      <td>Padthaiwok</td>\n",
       "      <td>40.411486</td>\n",
       "      <td>-3.709060</td>\n",
       "    </tr>\n",
       "    <tr>\n",
       "      <th>5</th>\n",
       "      <td>Restaurante Sidrería Carlos Tartiere</td>\n",
       "      <td>40.419490</td>\n",
       "      <td>-3.675066</td>\n",
       "    </tr>\n",
       "    <tr>\n",
       "      <th>6</th>\n",
       "      <td>Restaurante Samarkanda</td>\n",
       "      <td>40.407153</td>\n",
       "      <td>-3.691402</td>\n",
       "    </tr>\n",
       "    <tr>\n",
       "      <th>7</th>\n",
       "      <td>Restaurante Sombrero Azul</td>\n",
       "      <td>40.422968</td>\n",
       "      <td>-3.708127</td>\n",
       "    </tr>\n",
       "    <tr>\n",
       "      <th>8</th>\n",
       "      <td>Restaurante Salmantino</td>\n",
       "      <td>40.428669</td>\n",
       "      <td>-3.708941</td>\n",
       "    </tr>\n",
       "    <tr>\n",
       "      <th>9</th>\n",
       "      <td>Restaurantes.com</td>\n",
       "      <td>40.434511</td>\n",
       "      <td>-3.711609</td>\n",
       "    </tr>\n",
       "  </tbody>\n",
       "</table>\n",
       "</div>"
      ],
      "text/plain": [
       "                                   name        lat       lon\n",
       "0                      Restaurante SoMa  40.425047 -3.678081\n",
       "1                     Restaurante Soria  40.402668 -3.690501\n",
       "2                    Restaurante Si, No  40.420613 -3.698860\n",
       "3                  PadThaiWok. Malasaña  40.423051 -3.703115\n",
       "4                            Padthaiwok  40.411486 -3.709060\n",
       "5  Restaurante Sidrería Carlos Tartiere  40.419490 -3.675066\n",
       "6                Restaurante Samarkanda  40.407153 -3.691402\n",
       "7             Restaurante Sombrero Azul  40.422968 -3.708127\n",
       "8                Restaurante Salmantino  40.428669 -3.708941\n",
       "9                      Restaurantes.com  40.434511 -3.711609"
      ]
     },
     "execution_count": 133,
     "metadata": {},
     "output_type": "execute_result"
    }
   ],
   "source": [
    "restaurants = foursquare_places (\"restaurantes\", \"40.4169335,-3.7083759\")\n",
    "\n",
    "restaurants"
   ]
  },
  {
   "cell_type": "markdown",
   "id": "1836c1a1",
   "metadata": {},
   "source": [
    "# 5. Export it into data folder as a json: `data/coffe_shops.json`"
   ]
  },
  {
   "cell_type": "code",
   "execution_count": 134,
   "id": "ece8f565",
   "metadata": {},
   "outputs": [],
   "source": [
    "restaurants.to_json(\"/Users/victorramos/documents/ironhack/labs/week 4/lab-coffee-shops/restaurants.json\")"
   ]
  },
  {
   "cell_type": "markdown",
   "id": "2d77e99d",
   "metadata": {},
   "source": [
    "# BONUS: load it into MongoDB in a collection named \"ironcoffee\" using pymongo"
   ]
  },
  {
   "cell_type": "code",
   "execution_count": 19,
   "id": "85b94955",
   "metadata": {},
   "outputs": [],
   "source": [
    "# your code here\n"
   ]
  }
 ],
 "metadata": {
  "kernelspec": {
   "display_name": "ironhack",
   "language": "python",
   "name": "python3"
  },
  "language_info": {
   "codemirror_mode": {
    "name": "ipython",
    "version": 3
   },
   "file_extension": ".py",
   "mimetype": "text/x-python",
   "name": "python",
   "nbconvert_exporter": "python",
   "pygments_lexer": "ipython3",
   "version": "3.9.12"
  },
  "toc": {
   "base_numbering": 1,
   "nav_menu": {},
   "number_sections": true,
   "sideBar": true,
   "skip_h1_title": false,
   "title_cell": "Table of Contents",
   "title_sidebar": "Contents",
   "toc_cell": false,
   "toc_position": {},
   "toc_section_display": true,
   "toc_window_display": true
  },
  "vscode": {
   "interpreter": {
    "hash": "2a1c6cc0e575e53df702ef0d39cf984f93bf1844fc948c2624455db9fc96d405"
   }
  }
 },
 "nbformat": 4,
 "nbformat_minor": 5
}
