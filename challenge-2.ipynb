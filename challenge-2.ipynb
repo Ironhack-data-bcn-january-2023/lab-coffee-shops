{
 "cells": [
  {
   "cell_type": "markdown",
   "id": "0809e785",
   "metadata": {},
   "source": [
    "# 1. Import the necessary libraries for you to be able to query 4square API"
   ]
  },
  {
   "cell_type": "code",
   "execution_count": 6,
   "id": "9b373771",
   "metadata": {},
   "outputs": [],
   "source": [
    "import requests\n",
    "import json\n",
    "import pandas as pd\n",
    "import os \n",
    "from getpass import getpass\n",
    "from dotenv import load_dotenv"
   ]
  },
  {
   "cell_type": "code",
   "execution_count": 7,
   "id": "21a06642",
   "metadata": {},
   "outputs": [
    {
     "name": "stdout",
     "output_type": "stream",
     "text": [
      "········\n"
     ]
    }
   ],
   "source": [
    "token=getpass()"
   ]
  },
  {
   "cell_type": "code",
   "execution_count": 8,
   "id": "a765a7c9",
   "metadata": {},
   "outputs": [],
   "source": [
    "load_dotenv()\n",
    "\n",
    "api_key = os.getenv('foursquare_api_key')"
   ]
  },
  {
   "cell_type": "code",
   "execution_count": 9,
   "id": "ed65b99d",
   "metadata": {},
   "outputs": [
    {
     "name": "stdout",
     "output_type": "stream",
     "text": [
      "{\"results\":[{\"fsq_id\":\"4fda2fc2e4b02b4ce2b26007\",\"categories\":[{\"id\":13034,\"name\":\"Café\",\"icon\":{\"prefix\":\"https://ss3.4sqi.net/img/categories_v2/food/cafe_\",\"suffix\":\".png\"}},{\"id\":13035,\"name\":\"Coffee Shop\",\"icon\":{\"prefix\":\"https://ss3.4sqi.net/img/categories_v2/food/coffeeshop_\",\"suffix\":\".png\"}},{\"id\":13065,\"name\":\"Restaurant\",\"icon\":{\"prefix\":\"https://ss3.4sqi.net/img/categories_v2/food/default_\",\"suffix\":\".png\"}}],\"chains\":[],\"distance\":654,\"geocodes\":{\"main\":{\"latitude\":41.38264,\"longitude\":2.175303},\"roof\":{\"latitude\":41.38264,\"longitude\":2.175303}},\"link\":\"/v3/places/4fda2fc2e4b02b4ce2b26007\",\"location\":{\"address\":\"Carrer de l'Arc de Sant Ramon del Call, 11\",\"admin_region\":\"Cataluña\",\"country\":\"ES\",\"cross_street\":\"\",\"formatted_address\":\"Carrer de l'Arc de Sant Ramon del Call, 11, 08002 Barcelona Catalonia\",\"locality\":\"Barcelona\",\"postcode\":\"08002\",\"region\":\"Catalonia\"},\"name\":\"Satan's Coffee Corner\",\"related_places\":{},\"timezone\":\"Europe/Madrid\"},{\"fsq_id\":\"52fafeb4498e411285ad33be\",\"categories\":[{\"id\":13003,\"name\":\"Bar\",\"icon\":{\"prefix\":\"https://ss3.4sqi.net/img/categories_v2/nightlife/pub_\",\"suffix\":\".png\"}},{\"id\":13034,\"name\":\"Café\",\"icon\":{\"prefix\":\"https://ss3.4sqi.net/img/categories_v2/food/cafe_\",\"suffix\":\".png\"}},{\"id\":13035,\"name\":\"Coffee Shop\",\"icon\":{\"prefix\":\"https://ss3.4sqi.net/img/categories_v2/food/coffeeshop_\",\"suffix\":\".png\"}}],\"chains\":[],\"distance\":625,\"geocodes\":{\"main\":{\"latitude\":41.388989,\"longitude\":2.177167},\"roof\":{\"latitude\":41.388989,\"longitude\":2.177167}},\"link\":\"/v3/places/52fafeb4498e411285ad33be\",\"location\":{\"address\":\"Pasatge Sert, 12\",\"admin_region\":\"Cataluña\",\"country\":\"ES\",\"cross_street\":\"C. de Trafalgar\",\"formatted_address\":\"Pasatge Sert, 12 (C. de Trafalgar), 08003 Barcelona Catalonia\",\"locality\":\"Barcelona\",\"postcode\":\"08003\",\"region\":\"Catalonia\"},\"name\":\"Nømad Coffee Lab & Shop\",\"related_places\":{\"children\":[]},\"timezone\":\"Europe/Madrid\"},{\"fsq_id\":\"4b89528ef964a520852b32e3\",\"categories\":[{\"id\":13035,\"name\":\"Coffee Shop\",\"icon\":{\"prefix\":\"https://ss3.4sqi.net/img/categories_v2/food/coffeeshop_\",\"suffix\":\".png\"}},{\"id\":13036,\"name\":\"Tea Room\",\"icon\":{\"prefix\":\"https://ss3.4sqi.net/img/categories_v2/food/tearoom_\",\"suffix\":\".png\"}},{\"id\":13039,\"name\":\"Deli\",\"icon\":{\"prefix\":\"https://ss3.4sqi.net/img/categories_v2/food/deli_\",\"suffix\":\".png\"}}],\"chains\":[],\"distance\":979,\"geocodes\":{\"main\":{\"latitude\":41.383541,\"longitude\":2.180957},\"roof\":{\"latitude\":41.383541,\"longitude\":2.180957}},\"link\":\"/v3/places/4b89528ef964a520852b32e3\",\"location\":{\"address\":\"Argenteria, 64\",\"admin_region\":\"Cataluña\",\"country\":\"ES\",\"formatted_address\":\"Argenteria, 64, 08003 Barcelona Catalonia\",\"locality\":\"Barcelona\",\"postcode\":\"08003\",\"region\":\"Catalonia\"},\"name\":\"Cafés el Magnífico\",\"related_places\":{},\"timezone\":\"Europe/Madrid\"},{\"fsq_id\":\"5698d01a498e9b5bf6bad803\",\"categories\":[{\"id\":13003,\"name\":\"Bar\",\"icon\":{\"prefix\":\"https://ss3.4sqi.net/img/categories_v2/nightlife/pub_\",\"suffix\":\".png\"}},{\"id\":13035,\"name\":\"Coffee Shop\",\"icon\":{\"prefix\":\"https://ss3.4sqi.net/img/categories_v2/food/coffeeshop_\",\"suffix\":\".png\"}},{\"id\":13065,\"name\":\"Restaurant\",\"icon\":{\"prefix\":\"https://ss3.4sqi.net/img/categories_v2/food/default_\",\"suffix\":\".png\"}}],\"chains\":[],\"distance\":819,\"geocodes\":{\"main\":{\"latitude\":41.393575,\"longitude\":2.174295},\"roof\":{\"latitude\":41.393575,\"longitude\":2.174295}},\"link\":\"/v3/places/5698d01a498e9b5bf6bad803\",\"location\":{\"address\":\"Gran Vía de Les Corts Catalanes, 700\",\"admin_region\":\"Cataluña\",\"country\":\"ES\",\"cross_street\":\"\",\"formatted_address\":\"Gran Vía de Les Corts Catalanes, 700, 08010 Barcelona Catalonia\",\"locality\":\"Barcelona\",\"postcode\":\"08010\",\"region\":\"Catalonia\"},\"name\":\"Satan's Coffee\",\"related_places\":{\"parent\":{\"fsq_id\":\"569b92b5498e7d195229c6de\",\"name\":\"Hotel Casa Bonay\"}},\"timezone\":\"Europe/Madrid\"},{\"fsq_id\":\"5753f3e3498e1f2cea0834f8\",\"categories\":[{\"id\":13003,\"name\":\"Bar\",\"icon\":{\"prefix\":\"https://ss3.4sqi.net/img/categories_v2/nightlife/pub_\",\"suffix\":\".png\"}},{\"id\":13035,\"name\":\"Coffee Shop\",\"icon\":{\"prefix\":\"https://ss3.4sqi.net/img/categories_v2/food/coffeeshop_\",\"suffix\":\".png\"}},{\"id\":13065,\"name\":\"Restaurant\",\"icon\":{\"prefix\":\"https://ss3.4sqi.net/img/categories_v2/food/default_\",\"suffix\":\".png\"}}],\"chains\":[],\"distance\":2866,\"geocodes\":{\"main\":{\"latitude\":41.388351,\"longitude\":2.135953},\"roof\":{\"latitude\":41.388351,\"longitude\":2.135953}},\"link\":\"/v3/places/5753f3e3498e1f2cea0834f8\",\"location\":{\"address\":\"Carrer Déu I Mata, 62 Bajo\",\"admin_region\":\"Cataluña\",\"country\":\"ES\",\"cross_street\":\"C. de Deu i Mata\",\"formatted_address\":\"Carrer Déu I Mata, 62 Bajo (C. de Deu i Mata), 08029 Barcelona Catalonia\",\"locality\":\"Barcelona\",\"postcode\":\"08029\",\"region\":\"Catalonia\"},\"name\":\"Hidden Café Barcelona\",\"related_places\":{},\"timezone\":\"Europe/Madrid\"},{\"fsq_id\":\"57ff4bde38fa1e8f0810a46d\",\"categories\":[{\"id\":13035,\"name\":\"Coffee Shop\",\"icon\":{\"prefix\":\"https://ss3.4sqi.net/img/categories_v2/food/coffeeshop_\",\"suffix\":\".png\"}},{\"id\":13065,\"name\":\"Restaurant\",\"icon\":{\"prefix\":\"https://ss3.4sqi.net/img/categories_v2/food/default_\",\"suffix\":\".png\"}}],\"chains\":[],\"distance\":1078,\"geocodes\":{\"main\":{\"latitude\":41.387825,\"longitude\":2.157221},\"roof\":{\"latitude\":41.387825,\"longitude\":2.157221}},\"link\":\"/v3/places/57ff4bde38fa1e8f0810a46d\",\"location\":{\"address\":\"Carrer de València, 190\",\"admin_region\":\"Cataluña\",\"country\":\"ES\",\"cross_street\":\"C. de València\",\"formatted_address\":\"Carrer de València, 190 (C. de València), 08011 Barcelona Catalonia\",\"locality\":\"Barcelona\",\"postcode\":\"08011\",\"region\":\"Catalonia\"},\"name\":\"Roast Club\",\"related_places\":{},\"timezone\":\"Europe/Madrid\"},{\"fsq_id\":\"550a913c498ebde0f6d594b3\",\"categories\":[{\"id\":13034,\"name\":\"Café\",\"icon\":{\"prefix\":\"https://ss3.4sqi.net/img/categories_v2/food/cafe_\",\"suffix\":\".png\"}},{\"id\":13035,\"name\":\"Coffee Shop\",\"icon\":{\"prefix\":\"https://ss3.4sqi.net/img/categories_v2/food/coffeeshop_\",\"suffix\":\".png\"}},{\"id\":13377,\"name\":\"Vegan and Vegetarian Restaurant\",\"icon\":{\"prefix\":\"https://ss3.4sqi.net/img/categories_v2/food/vegetarian_\",\"suffix\":\".png\"}}],\"chains\":[],\"distance\":1171,\"geocodes\":{\"main\":{\"latitude\":41.378049,\"longitude\":2.177796},\"roof\":{\"latitude\":41.378049,\"longitude\":2.177796}},\"link\":\"/v3/places/550a913c498ebde0f6d594b3\",\"location\":{\"address\":\"Passatge de la Pau, 11\",\"admin_region\":\"Cataluña\",\"country\":\"ES\",\"cross_street\":\"\",\"formatted_address\":\"Passatge de la Pau, 11, 08002 Barcelona Catalonia\",\"locality\":\"Barcelona\",\"postcode\":\"08002\",\"region\":\"Catalonia\"},\"name\":\"Federal\",\"related_places\":{},\"timezone\":\"Europe/Madrid\"},{\"fsq_id\":\"562ddf43498ee3bd9ed1c999\",\"categories\":[{\"id\":13034,\"name\":\"Café\",\"icon\":{\"prefix\":\"https://ss3.4sqi.net/img/categories_v2/food/cafe_\",\"suffix\":\".png\"}},{\"id\":13035,\"name\":\"Coffee Shop\",\"icon\":{\"prefix\":\"https://ss3.4sqi.net/img/categories_v2/food/coffeeshop_\",\"suffix\":\".png\"}},{\"id\":13065,\"name\":\"Restaurant\",\"icon\":{\"prefix\":\"https://ss3.4sqi.net/img/categories_v2/food/default_\",\"suffix\":\".png\"}}],\"chains\":[],\"distance\":1834,\"geocodes\":{\"main\":{\"latitude\":41.400981,\"longitude\":2.159596},\"roof\":{\"latitude\":41.400981,\"longitude\":2.159596}},\"link\":\"/v3/places/562ddf43498ee3bd9ed1c999\",\"location\":{\"address\":\"Siracusa, 13\",\"admin_region\":\"Cataluña\",\"country\":\"ES\",\"formatted_address\":\"Siracusa, 13, 08012 Barcelona Catalonia\",\"locality\":\"Barcelona\",\"postcode\":\"08012\",\"region\":\"Catalonia\"},\"name\":\"Syra Coffee\",\"related_places\":{},\"timezone\":\"Europe/Madrid\"},{\"fsq_id\":\"58a196a45cab2f7fd67c7384\",\"categories\":[{\"id\":13034,\"name\":\"Café\",\"icon\":{\"prefix\":\"https://ss3.4sqi.net/img/categories_v2/food/cafe_\",\"suffix\":\".png\"}},{\"id\":13035,\"name\":\"Coffee Shop\",\"icon\":{\"prefix\":\"https://ss3.4sqi.net/img/categories_v2/food/coffeeshop_\",\"suffix\":\".png\"}}],\"chains\":[],\"distance\":311,\"geocodes\":{\"main\":{\"latitude\":41.384525,\"longitude\":2.168502},\"roof\":{\"latitude\":41.384525,\"longitude\":2.168502}},\"link\":\"/v3/places/58a196a45cab2f7fd67c7384\",\"location\":{\"address\":\"Calle de Les Ramelleres, 16\",\"admin_region\":\"Cataluña\",\"country\":\"ES\",\"cross_street\":\"\",\"formatted_address\":\"Calle de Les Ramelleres, 16, 08001 Barcelona Catalonia\",\"locality\":\"Barcelona\",\"postcode\":\"08001\",\"region\":\"Catalonia\"},\"name\":\"Dalston Coffee\",\"related_places\":{},\"timezone\":\"Europe/Madrid\"},{\"fsq_id\":\"555f2357498ee6528074710b\",\"categories\":[{\"id\":13034,\"name\":\"Café\",\"icon\":{\"prefix\":\"https://ss3.4sqi.net/img/categories_v2/food/cafe_\",\"suffix\":\".png\"}},{\"id\":13035,\"name\":\"Coffee Shop\",\"icon\":{\"prefix\":\"https://ss3.4sqi.net/img/categories_v2/food/coffeeshop_\",\"suffix\":\".png\"}},{\"id\":13065,\"name\":\"Restaurant\",\"icon\":{\"prefix\":\"https://ss3.4sqi.net/img/categories_v2/food/default_\",\"suffix\":\".png\"}}],\"chains\":[],\"distance\":2454,\"geocodes\":{\"main\":{\"latitude\":41.398735,\"longitude\":2.195069},\"roof\":{\"latitude\":41.398735,\"longitude\":2.195069}},\"link\":\"/v3/places/555f2357498ee6528074710b\",\"location\":{\"address\":\"Carrer Badajoz, 95\",\"admin_region\":\"Cataluña\",\"country\":\"ES\",\"cross_street\":\"\",\"formatted_address\":\"Carrer Badajoz, 95, 08005 Barcelona Catalonia\",\"locality\":\"Barcelona\",\"postcode\":\"08005\",\"region\":\"Catalonia\"},\"name\":\"Espai Joliu\",\"related_places\":{},\"timezone\":\"Europe/Madrid\"}],\"context\":{\"geo_bounds\":{\"circle\":{\"center\":{\"latitude\":41.387,\"longitude\":2.1701},\"radius\":22000}}}}\n"
     ]
    }
   ],
   "source": [
    "url = \"https://api.foursquare.com/v3/places/search?query=coffe&limit=10\"\n",
    "\n",
    "headers = {\"accept\": \"application/json\", \"Authorization\":f\"{token}\"}\n",
    "\n",
    "response = requests.get(url, headers=headers)\n",
    "\n",
    "print(response.text)"
   ]
  },
  {
   "cell_type": "code",
   "execution_count": 10,
   "id": "f2f80602",
   "metadata": {},
   "outputs": [
    {
     "data": {
      "text/plain": [
       "10"
      ]
     },
     "execution_count": 10,
     "metadata": {},
     "output_type": "execute_result"
    }
   ],
   "source": [
    "len(response.json()[\"results\"])"
   ]
  },
  {
   "cell_type": "code",
   "execution_count": 11,
   "id": "0d9ca142",
   "metadata": {},
   "outputs": [
    {
     "data": {
      "text/plain": [
       "dict_keys(['results', 'context'])"
      ]
     },
     "execution_count": 11,
     "metadata": {},
     "output_type": "execute_result"
    }
   ],
   "source": [
    "response.json().keys()"
   ]
  },
  {
   "cell_type": "code",
   "execution_count": 12,
   "id": "dc3df9df",
   "metadata": {},
   "outputs": [
    {
     "data": {
      "text/plain": [
       "{'latitude': 41.38264, 'longitude': 2.175303}"
      ]
     },
     "execution_count": 12,
     "metadata": {},
     "output_type": "execute_result"
    }
   ],
   "source": [
    "coordinates = response.json()[\"results\"][0][\"geocodes\"][\"main\"]\n",
    "coordinates"
   ]
  },
  {
   "cell_type": "markdown",
   "id": "e94dce92",
   "metadata": {},
   "source": [
    "# 2. Get names and location of the 10 coffee places by passing Ironhack as your location"
   ]
  },
  {
   "cell_type": "code",
   "execution_count": 13,
   "id": "1d72f571",
   "metadata": {},
   "outputs": [],
   "source": [
    "lat, lon = coordinates[\"latitude\"], coordinates[\"longitude\"]# your code here"
   ]
  },
  {
   "cell_type": "code",
   "execution_count": 14,
   "id": "56925414",
   "metadata": {},
   "outputs": [
    {
     "data": {
      "text/plain": [
       "\"Satan's Coffee Corner\""
      ]
     },
     "execution_count": 14,
     "metadata": {},
     "output_type": "execute_result"
    }
   ],
   "source": [
    "name = response.json()[\"results\"][0][\"name\"]\n",
    "name"
   ]
  },
  {
   "cell_type": "code",
   "execution_count": 15,
   "id": "3c68c42e",
   "metadata": {},
   "outputs": [],
   "source": [
    "def name_coordinates (dict_):\n",
    "    \n",
    "    processed_dict = {\"name\": dict_[\"name\"],\n",
    "                     \"lat\": dict_[\"geocodes\"][\"main\"][\"latitude\"],\n",
    "                     \"lon\": dict_[\"geocodes\"][\"main\"][\"longitude\"]}\n",
    "    \n",
    "    return processed_dict"
   ]
  },
  {
   "cell_type": "code",
   "execution_count": 16,
   "id": "5dab48e6",
   "metadata": {},
   "outputs": [
    {
     "data": {
      "text/plain": [
       "{'name': \"Satan's Coffee Corner\", 'lat': 41.38264, 'lon': 2.175303}"
      ]
     },
     "execution_count": 16,
     "metadata": {},
     "output_type": "execute_result"
    }
   ],
   "source": [
    "name_coordinates (response.json()[\"results\"][0])"
   ]
  },
  {
   "cell_type": "code",
   "execution_count": 17,
   "id": "8f08d28b",
   "metadata": {},
   "outputs": [],
   "source": [
    "new_list = []\n",
    "for i in response.json()[\"results\"]:\n",
    "    new_list.append(name_coordinates(i))"
   ]
  },
  {
   "cell_type": "code",
   "execution_count": 18,
   "id": "40a3ffc2",
   "metadata": {},
   "outputs": [
    {
     "data": {
      "text/plain": [
       "[{'name': \"Satan's Coffee Corner\", 'lat': 41.38264, 'lon': 2.175303},\n",
       " {'name': 'Nømad Coffee Lab & Shop', 'lat': 41.388989, 'lon': 2.177167},\n",
       " {'name': 'Cafés el Magnífico', 'lat': 41.383541, 'lon': 2.180957},\n",
       " {'name': \"Satan's Coffee\", 'lat': 41.393575, 'lon': 2.174295},\n",
       " {'name': 'Hidden Café Barcelona', 'lat': 41.388351, 'lon': 2.135953},\n",
       " {'name': 'Roast Club', 'lat': 41.387825, 'lon': 2.157221},\n",
       " {'name': 'Federal', 'lat': 41.378049, 'lon': 2.177796},\n",
       " {'name': 'Syra Coffee', 'lat': 41.400981, 'lon': 2.159596},\n",
       " {'name': 'Dalston Coffee', 'lat': 41.384525, 'lon': 2.168502},\n",
       " {'name': 'Espai Joliu', 'lat': 41.398735, 'lon': 2.195069}]"
      ]
     },
     "execution_count": 18,
     "metadata": {},
     "output_type": "execute_result"
    }
   ],
   "source": [
    "new_list"
   ]
  },
  {
   "cell_type": "code",
   "execution_count": 19,
   "id": "3abd204f",
   "metadata": {},
   "outputs": [
    {
     "data": {
      "text/html": [
       "<div>\n",
       "<style scoped>\n",
       "    .dataframe tbody tr th:only-of-type {\n",
       "        vertical-align: middle;\n",
       "    }\n",
       "\n",
       "    .dataframe tbody tr th {\n",
       "        vertical-align: top;\n",
       "    }\n",
       "\n",
       "    .dataframe thead th {\n",
       "        text-align: right;\n",
       "    }\n",
       "</style>\n",
       "<table border=\"1\" class=\"dataframe\">\n",
       "  <thead>\n",
       "    <tr style=\"text-align: right;\">\n",
       "      <th></th>\n",
       "      <th>name</th>\n",
       "      <th>lat</th>\n",
       "      <th>lon</th>\n",
       "    </tr>\n",
       "  </thead>\n",
       "  <tbody>\n",
       "    <tr>\n",
       "      <th>0</th>\n",
       "      <td>Satan's Coffee Corner</td>\n",
       "      <td>41.382640</td>\n",
       "      <td>2.175303</td>\n",
       "    </tr>\n",
       "    <tr>\n",
       "      <th>1</th>\n",
       "      <td>Nømad Coffee Lab &amp; Shop</td>\n",
       "      <td>41.388989</td>\n",
       "      <td>2.177167</td>\n",
       "    </tr>\n",
       "    <tr>\n",
       "      <th>2</th>\n",
       "      <td>Cafés el Magnífico</td>\n",
       "      <td>41.383541</td>\n",
       "      <td>2.180957</td>\n",
       "    </tr>\n",
       "    <tr>\n",
       "      <th>3</th>\n",
       "      <td>Satan's Coffee</td>\n",
       "      <td>41.393575</td>\n",
       "      <td>2.174295</td>\n",
       "    </tr>\n",
       "    <tr>\n",
       "      <th>4</th>\n",
       "      <td>Hidden Café Barcelona</td>\n",
       "      <td>41.388351</td>\n",
       "      <td>2.135953</td>\n",
       "    </tr>\n",
       "    <tr>\n",
       "      <th>5</th>\n",
       "      <td>Roast Club</td>\n",
       "      <td>41.387825</td>\n",
       "      <td>2.157221</td>\n",
       "    </tr>\n",
       "    <tr>\n",
       "      <th>6</th>\n",
       "      <td>Federal</td>\n",
       "      <td>41.378049</td>\n",
       "      <td>2.177796</td>\n",
       "    </tr>\n",
       "    <tr>\n",
       "      <th>7</th>\n",
       "      <td>Syra Coffee</td>\n",
       "      <td>41.400981</td>\n",
       "      <td>2.159596</td>\n",
       "    </tr>\n",
       "    <tr>\n",
       "      <th>8</th>\n",
       "      <td>Dalston Coffee</td>\n",
       "      <td>41.384525</td>\n",
       "      <td>2.168502</td>\n",
       "    </tr>\n",
       "    <tr>\n",
       "      <th>9</th>\n",
       "      <td>Espai Joliu</td>\n",
       "      <td>41.398735</td>\n",
       "      <td>2.195069</td>\n",
       "    </tr>\n",
       "  </tbody>\n",
       "</table>\n",
       "</div>"
      ],
      "text/plain": [
       "                      name        lat       lon\n",
       "0    Satan's Coffee Corner  41.382640  2.175303\n",
       "1  Nømad Coffee Lab & Shop  41.388989  2.177167\n",
       "2       Cafés el Magnífico  41.383541  2.180957\n",
       "3           Satan's Coffee  41.393575  2.174295\n",
       "4    Hidden Café Barcelona  41.388351  2.135953\n",
       "5               Roast Club  41.387825  2.157221\n",
       "6                  Federal  41.378049  2.177796\n",
       "7              Syra Coffee  41.400981  2.159596\n",
       "8           Dalston Coffee  41.384525  2.168502\n",
       "9              Espai Joliu  41.398735  2.195069"
      ]
     },
     "execution_count": 19,
     "metadata": {},
     "output_type": "execute_result"
    }
   ],
   "source": [
    "cafe_df = pd.DataFrame(new_list)\n",
    "cafe_df"
   ]
  },
  {
   "cell_type": "markdown",
   "id": "941b5dbf",
   "metadata": {},
   "source": [
    "# 3. Now get the 5 CLOSEST coffe places. Make use of params: limit, near?"
   ]
  },
  {
   "cell_type": "code",
   "execution_count": 25,
   "id": "fda8ddff",
   "metadata": {},
   "outputs": [
    {
     "name": "stdout",
     "output_type": "stream",
     "text": [
      "{\"results\":[{\"fsq_id\":\"4cf147e31d18a143f13652ec\",\"categories\":[{\"id\":13322,\"name\":\"Peruvian Restaurant\",\"icon\":{\"prefix\":\"https://ss3.4sqi.net/img/categories_v2/food/peruvian_\",\"suffix\":\".png\"}},{\"id\":13338,\"name\":\"Seafood Restaurant\",\"icon\":{\"prefix\":\"https://ss3.4sqi.net/img/categories_v2/food/seafood_\",\"suffix\":\".png\"}},{\"id\":13343,\"name\":\"South American Restaurant\",\"icon\":{\"prefix\":\"https://ss3.4sqi.net/img/categories_v2/food/argentinian_\",\"suffix\":\".png\"}}],\"chains\":[],\"distance\":104,\"geocodes\":{\"main\":{\"latitude\":41.389885,\"longitude\":2.195099},\"roof\":{\"latitude\":41.389885,\"longitude\":2.195099}},\"link\":\"/v3/places/4cf147e31d18a143f13652ec\",\"location\":{\"address\":\"Avenida Icària, 131\",\"admin_region\":\"Cataluña\",\"country\":\"ES\",\"cross_street\":\"\",\"formatted_address\":\"Avenida Icària, 131, 08005 Barcelona Catalonia\",\"locality\":\"Barcelona\",\"postcode\":\"08005\",\"region\":\"Catalonia\"},\"name\":\"Café Ninoska\",\"related_places\":{},\"timezone\":\"Europe/Madrid\"},{\"fsq_id\":\"4b659ce3f964a52071f62ae3\",\"categories\":[{\"id\":13003,\"name\":\"Bar\",\"icon\":{\"prefix\":\"https://ss3.4sqi.net/img/categories_v2/nightlife/pub_\",\"suffix\":\".png\"}},{\"id\":13034,\"name\":\"Café\",\"icon\":{\"prefix\":\"https://ss3.4sqi.net/img/categories_v2/food/cafe_\",\"suffix\":\".png\"}},{\"id\":13065,\"name\":\"Restaurant\",\"icon\":{\"prefix\":\"https://ss3.4sqi.net/img/categories_v2/food/default_\",\"suffix\":\".png\"}}],\"chains\":[],\"distance\":221,\"geocodes\":{\"main\":{\"latitude\":41.388631,\"longitude\":2.195668},\"roof\":{\"latitude\":41.388631,\"longitude\":2.195668}},\"link\":\"/v3/places/4b659ce3f964a52071f62ae3\",\"location\":{\"address\":\"Calle Marina, 20\",\"admin_region\":\"Cataluña\",\"country\":\"ES\",\"formatted_address\":\"Calle Marina, 20, 08005 Barcelona Catalonia\",\"locality\":\"Barcelona\",\"postcode\":\"08005\",\"region\":\"Catalonia\"},\"name\":\"Rembrandt Cafe\",\"related_places\":{},\"timezone\":\"Europe/Madrid\"},{\"fsq_id\":\"4b9a82e1f964a52052bc35e3\",\"categories\":[{\"id\":13034,\"name\":\"Café\",\"icon\":{\"prefix\":\"https://ss3.4sqi.net/img/categories_v2/food/cafe_\",\"suffix\":\".png\"}},{\"id\":13035,\"name\":\"Coffee Shop\",\"icon\":{\"prefix\":\"https://ss3.4sqi.net/img/categories_v2/food/coffeeshop_\",\"suffix\":\".png\"}},{\"id\":13065,\"name\":\"Restaurant\",\"icon\":{\"prefix\":\"https://ss3.4sqi.net/img/categories_v2/food/default_\",\"suffix\":\".png\"}}],\"chains\":[],\"distance\":268,\"geocodes\":{\"main\":{\"latitude\":41.390286,\"longitude\":2.190933},\"roof\":{\"latitude\":41.390286,\"longitude\":2.190933}},\"link\":\"/v3/places/4b9a82e1f964a52052bc35e3\",\"location\":{\"address\":\"Carrer de Ramon Trias Fargas, 42\",\"admin_region\":\"Cataluña\",\"country\":\"ES\",\"formatted_address\":\"Carrer de Ramon Trias Fargas, 42, 08005 Barcelona Catalonia\",\"locality\":\"Barcelona\",\"postcode\":\"08005\",\"region\":\"Catalonia\"},\"name\":\"El Cafe de la Pompeu\",\"related_places\":{},\"timezone\":\"Europe/Madrid\"},{\"fsq_id\":\"4dfcf0d2aeb7594e8621dd87\",\"categories\":[{\"id\":13034,\"name\":\"Café\",\"icon\":{\"prefix\":\"https://ss3.4sqi.net/img/categories_v2/food/cafe_\",\"suffix\":\".png\"}}],\"chains\":[],\"distance\":283,\"geocodes\":{\"main\":{\"latitude\":41.387816,\"longitude\":2.193371},\"roof\":{\"latitude\":41.387816,\"longitude\":2.193371}},\"link\":\"/v3/places/4dfcf0d2aeb7594e8621dd87\",\"location\":{\"address\":\"Dr. Trueta, 81\",\"admin_region\":\"Cataluña\",\"country\":\"ES\",\"formatted_address\":\"Dr. Trueta, 81, 08005 Barcelona Catalonia\",\"locality\":\"Barcelona\",\"postcode\":\"08005\",\"region\":\"Catalonia\"},\"name\":\"Café Icaria\",\"related_places\":{},\"timezone\":\"Europe/Madrid\"},{\"fsq_id\":\"55aaa570498e61368347efa9\",\"categories\":[{\"id\":13031,\"name\":\"Burger Joint\",\"icon\":{\"prefix\":\"https://ss3.4sqi.net/img/categories_v2/food/burger_\",\"suffix\":\".png\"}},{\"id\":13302,\"name\":\"Mediterranean Restaurant\",\"icon\":{\"prefix\":\"https://ss3.4sqi.net/img/categories_v2/food/mediterranean_\",\"suffix\":\".png\"}},{\"id\":13377,\"name\":\"Vegan and Vegetarian Restaurant\",\"icon\":{\"prefix\":\"https://ss3.4sqi.net/img/categories_v2/food/vegetarian_\",\"suffix\":\".png\"}}],\"chains\":[],\"distance\":316,\"geocodes\":{\"main\":{\"latitude\":41.390752,\"longitude\":2.190341},\"roof\":{\"latitude\":41.390752,\"longitude\":2.190341}},\"link\":\"/v3/places/55aaa570498e61368347efa9\",\"location\":{\"address\":\"Carrer Sardenya, 48\",\"admin_region\":\"Cataluña\",\"country\":\"ES\",\"cross_street\":\"Ramon Turró\",\"formatted_address\":\"Carrer Sardenya, 48 (Ramon Turró), 08005 Barcelona Catalonia\",\"locality\":\"Barcelona\",\"postcode\":\"08005\",\"region\":\"Catalonia\"},\"name\":\"Menssana\",\"related_places\":{},\"timezone\":\"Europe/Madrid\"}],\"context\":{\"geo_bounds\":{\"circle\":{\"center\":{\"latitude\":41.3903565,\"longitude\":2.1941694},\"radius\":22000}}}}\n"
     ]
    }
   ],
   "source": [
    "url = \"https://api.foursquare.com/v3/places/search?query=cafe&ll=41.3903565%2C2.1941694&sort=DISTANCE&limit=5\"\n",
    "\n",
    "headers = {\"accept\": \"application/json\", \"Authorization\":f\"{token}\"}\n",
    "\n",
    "response = requests.get(url, headers=headers)\n",
    "\n",
    "print(response.text)"
   ]
  },
  {
   "cell_type": "code",
   "execution_count": 26,
   "id": "7544e1ee",
   "metadata": {},
   "outputs": [
    {
     "data": {
      "text/plain": [
       "[{'fsq_id': '4cf147e31d18a143f13652ec',\n",
       "  'categories': [{'id': 13322,\n",
       "    'name': 'Peruvian Restaurant',\n",
       "    'icon': {'prefix': 'https://ss3.4sqi.net/img/categories_v2/food/peruvian_',\n",
       "     'suffix': '.png'}},\n",
       "   {'id': 13338,\n",
       "    'name': 'Seafood Restaurant',\n",
       "    'icon': {'prefix': 'https://ss3.4sqi.net/img/categories_v2/food/seafood_',\n",
       "     'suffix': '.png'}},\n",
       "   {'id': 13343,\n",
       "    'name': 'South American Restaurant',\n",
       "    'icon': {'prefix': 'https://ss3.4sqi.net/img/categories_v2/food/argentinian_',\n",
       "     'suffix': '.png'}}],\n",
       "  'chains': [],\n",
       "  'distance': 104,\n",
       "  'geocodes': {'main': {'latitude': 41.389885, 'longitude': 2.195099},\n",
       "   'roof': {'latitude': 41.389885, 'longitude': 2.195099}},\n",
       "  'link': '/v3/places/4cf147e31d18a143f13652ec',\n",
       "  'location': {'address': 'Avenida Icària, 131',\n",
       "   'admin_region': 'Cataluña',\n",
       "   'country': 'ES',\n",
       "   'cross_street': '',\n",
       "   'formatted_address': 'Avenida Icària, 131, 08005 Barcelona Catalonia',\n",
       "   'locality': 'Barcelona',\n",
       "   'postcode': '08005',\n",
       "   'region': 'Catalonia'},\n",
       "  'name': 'Café Ninoska',\n",
       "  'related_places': {},\n",
       "  'timezone': 'Europe/Madrid'},\n",
       " {'fsq_id': '4b659ce3f964a52071f62ae3',\n",
       "  'categories': [{'id': 13003,\n",
       "    'name': 'Bar',\n",
       "    'icon': {'prefix': 'https://ss3.4sqi.net/img/categories_v2/nightlife/pub_',\n",
       "     'suffix': '.png'}},\n",
       "   {'id': 13034,\n",
       "    'name': 'Café',\n",
       "    'icon': {'prefix': 'https://ss3.4sqi.net/img/categories_v2/food/cafe_',\n",
       "     'suffix': '.png'}},\n",
       "   {'id': 13065,\n",
       "    'name': 'Restaurant',\n",
       "    'icon': {'prefix': 'https://ss3.4sqi.net/img/categories_v2/food/default_',\n",
       "     'suffix': '.png'}}],\n",
       "  'chains': [],\n",
       "  'distance': 221,\n",
       "  'geocodes': {'main': {'latitude': 41.388631, 'longitude': 2.195668},\n",
       "   'roof': {'latitude': 41.388631, 'longitude': 2.195668}},\n",
       "  'link': '/v3/places/4b659ce3f964a52071f62ae3',\n",
       "  'location': {'address': 'Calle Marina, 20',\n",
       "   'admin_region': 'Cataluña',\n",
       "   'country': 'ES',\n",
       "   'formatted_address': 'Calle Marina, 20, 08005 Barcelona Catalonia',\n",
       "   'locality': 'Barcelona',\n",
       "   'postcode': '08005',\n",
       "   'region': 'Catalonia'},\n",
       "  'name': 'Rembrandt Cafe',\n",
       "  'related_places': {},\n",
       "  'timezone': 'Europe/Madrid'},\n",
       " {'fsq_id': '4b9a82e1f964a52052bc35e3',\n",
       "  'categories': [{'id': 13034,\n",
       "    'name': 'Café',\n",
       "    'icon': {'prefix': 'https://ss3.4sqi.net/img/categories_v2/food/cafe_',\n",
       "     'suffix': '.png'}},\n",
       "   {'id': 13035,\n",
       "    'name': 'Coffee Shop',\n",
       "    'icon': {'prefix': 'https://ss3.4sqi.net/img/categories_v2/food/coffeeshop_',\n",
       "     'suffix': '.png'}},\n",
       "   {'id': 13065,\n",
       "    'name': 'Restaurant',\n",
       "    'icon': {'prefix': 'https://ss3.4sqi.net/img/categories_v2/food/default_',\n",
       "     'suffix': '.png'}}],\n",
       "  'chains': [],\n",
       "  'distance': 268,\n",
       "  'geocodes': {'main': {'latitude': 41.390286, 'longitude': 2.190933},\n",
       "   'roof': {'latitude': 41.390286, 'longitude': 2.190933}},\n",
       "  'link': '/v3/places/4b9a82e1f964a52052bc35e3',\n",
       "  'location': {'address': 'Carrer de Ramon Trias Fargas, 42',\n",
       "   'admin_region': 'Cataluña',\n",
       "   'country': 'ES',\n",
       "   'formatted_address': 'Carrer de Ramon Trias Fargas, 42, 08005 Barcelona Catalonia',\n",
       "   'locality': 'Barcelona',\n",
       "   'postcode': '08005',\n",
       "   'region': 'Catalonia'},\n",
       "  'name': 'El Cafe de la Pompeu',\n",
       "  'related_places': {},\n",
       "  'timezone': 'Europe/Madrid'},\n",
       " {'fsq_id': '4dfcf0d2aeb7594e8621dd87',\n",
       "  'categories': [{'id': 13034,\n",
       "    'name': 'Café',\n",
       "    'icon': {'prefix': 'https://ss3.4sqi.net/img/categories_v2/food/cafe_',\n",
       "     'suffix': '.png'}}],\n",
       "  'chains': [],\n",
       "  'distance': 283,\n",
       "  'geocodes': {'main': {'latitude': 41.387816, 'longitude': 2.193371},\n",
       "   'roof': {'latitude': 41.387816, 'longitude': 2.193371}},\n",
       "  'link': '/v3/places/4dfcf0d2aeb7594e8621dd87',\n",
       "  'location': {'address': 'Dr. Trueta, 81',\n",
       "   'admin_region': 'Cataluña',\n",
       "   'country': 'ES',\n",
       "   'formatted_address': 'Dr. Trueta, 81, 08005 Barcelona Catalonia',\n",
       "   'locality': 'Barcelona',\n",
       "   'postcode': '08005',\n",
       "   'region': 'Catalonia'},\n",
       "  'name': 'Café Icaria',\n",
       "  'related_places': {},\n",
       "  'timezone': 'Europe/Madrid'},\n",
       " {'fsq_id': '55aaa570498e61368347efa9',\n",
       "  'categories': [{'id': 13031,\n",
       "    'name': 'Burger Joint',\n",
       "    'icon': {'prefix': 'https://ss3.4sqi.net/img/categories_v2/food/burger_',\n",
       "     'suffix': '.png'}},\n",
       "   {'id': 13302,\n",
       "    'name': 'Mediterranean Restaurant',\n",
       "    'icon': {'prefix': 'https://ss3.4sqi.net/img/categories_v2/food/mediterranean_',\n",
       "     'suffix': '.png'}},\n",
       "   {'id': 13377,\n",
       "    'name': 'Vegan and Vegetarian Restaurant',\n",
       "    'icon': {'prefix': 'https://ss3.4sqi.net/img/categories_v2/food/vegetarian_',\n",
       "     'suffix': '.png'}}],\n",
       "  'chains': [],\n",
       "  'distance': 316,\n",
       "  'geocodes': {'main': {'latitude': 41.390752, 'longitude': 2.190341},\n",
       "   'roof': {'latitude': 41.390752, 'longitude': 2.190341}},\n",
       "  'link': '/v3/places/55aaa570498e61368347efa9',\n",
       "  'location': {'address': 'Carrer Sardenya, 48',\n",
       "   'admin_region': 'Cataluña',\n",
       "   'country': 'ES',\n",
       "   'cross_street': 'Ramon Turró',\n",
       "   'formatted_address': 'Carrer Sardenya, 48 (Ramon Turró), 08005 Barcelona Catalonia',\n",
       "   'locality': 'Barcelona',\n",
       "   'postcode': '08005',\n",
       "   'region': 'Catalonia'},\n",
       "  'name': 'Menssana',\n",
       "  'related_places': {},\n",
       "  'timezone': 'Europe/Madrid'}]"
      ]
     },
     "execution_count": 26,
     "metadata": {},
     "output_type": "execute_result"
    }
   ],
   "source": [
    "response.json()[\"results\"]"
   ]
  },
  {
   "cell_type": "code",
   "execution_count": 27,
   "id": "3d567493",
   "metadata": {},
   "outputs": [
    {
     "data": {
      "text/plain": [
       "{'latitude': 41.389885, 'longitude': 2.195099}"
      ]
     },
     "execution_count": 27,
     "metadata": {},
     "output_type": "execute_result"
    }
   ],
   "source": [
    "coordinates = response.json()[\"results\"][0][\"geocodes\"][\"main\"]\n",
    "coordinates"
   ]
  },
  {
   "cell_type": "code",
   "execution_count": 28,
   "id": "bc06183e",
   "metadata": {},
   "outputs": [],
   "source": [
    "lat, lon = coordinates[\"latitude\"], coordinates[\"longitude\"]"
   ]
  },
  {
   "cell_type": "code",
   "execution_count": 29,
   "id": "91882a3a",
   "metadata": {},
   "outputs": [
    {
     "data": {
      "text/plain": [
       "'Café Ninoska'"
      ]
     },
     "execution_count": 29,
     "metadata": {},
     "output_type": "execute_result"
    }
   ],
   "source": [
    "name = response.json()[\"results\"][0][\"name\"]\n",
    "name"
   ]
  },
  {
   "cell_type": "code",
   "execution_count": 30,
   "id": "b590bb14",
   "metadata": {},
   "outputs": [],
   "source": [
    "def name_coordinates (dict_):\n",
    "    \n",
    "    processed_dict = {\"name\": dict_[\"name\"],\n",
    "                     \"lat\": dict_[\"geocodes\"][\"main\"][\"latitude\"],\n",
    "                     \"lon\": dict_[\"geocodes\"][\"main\"][\"longitude\"]}\n",
    "    \n",
    "    return processed_dict"
   ]
  },
  {
   "cell_type": "code",
   "execution_count": 31,
   "id": "1efc909d",
   "metadata": {},
   "outputs": [
    {
     "data": {
      "text/plain": [
       "{'name': 'Café Ninoska', 'lat': 41.389885, 'lon': 2.195099}"
      ]
     },
     "execution_count": 31,
     "metadata": {},
     "output_type": "execute_result"
    }
   ],
   "source": [
    "name_coordinates (response.json()[\"results\"][0])"
   ]
  },
  {
   "cell_type": "code",
   "execution_count": 32,
   "id": "24bb01e6",
   "metadata": {},
   "outputs": [
    {
     "data": {
      "text/plain": [
       "[{'name': 'Café Ninoska', 'lat': 41.389885, 'lon': 2.195099},\n",
       " {'name': 'Rembrandt Cafe', 'lat': 41.388631, 'lon': 2.195668},\n",
       " {'name': 'El Cafe de la Pompeu', 'lat': 41.390286, 'lon': 2.190933},\n",
       " {'name': 'Café Icaria', 'lat': 41.387816, 'lon': 2.193371},\n",
       " {'name': 'Menssana', 'lat': 41.390752, 'lon': 2.190341}]"
      ]
     },
     "execution_count": 32,
     "metadata": {},
     "output_type": "execute_result"
    }
   ],
   "source": [
    "new_list = []\n",
    "for i in response.json()[\"results\"]:\n",
    "    new_list.append(name_coordinates(i))\n",
    "new_list"
   ]
  },
  {
   "cell_type": "code",
   "execution_count": 33,
   "id": "c9f0ed23",
   "metadata": {},
   "outputs": [
    {
     "data": {
      "text/html": [
       "<div>\n",
       "<style scoped>\n",
       "    .dataframe tbody tr th:only-of-type {\n",
       "        vertical-align: middle;\n",
       "    }\n",
       "\n",
       "    .dataframe tbody tr th {\n",
       "        vertical-align: top;\n",
       "    }\n",
       "\n",
       "    .dataframe thead th {\n",
       "        text-align: right;\n",
       "    }\n",
       "</style>\n",
       "<table border=\"1\" class=\"dataframe\">\n",
       "  <thead>\n",
       "    <tr style=\"text-align: right;\">\n",
       "      <th></th>\n",
       "      <th>name</th>\n",
       "      <th>lat</th>\n",
       "      <th>lon</th>\n",
       "    </tr>\n",
       "  </thead>\n",
       "  <tbody>\n",
       "    <tr>\n",
       "      <th>0</th>\n",
       "      <td>Café Ninoska</td>\n",
       "      <td>41.389885</td>\n",
       "      <td>2.195099</td>\n",
       "    </tr>\n",
       "    <tr>\n",
       "      <th>1</th>\n",
       "      <td>Rembrandt Cafe</td>\n",
       "      <td>41.388631</td>\n",
       "      <td>2.195668</td>\n",
       "    </tr>\n",
       "    <tr>\n",
       "      <th>2</th>\n",
       "      <td>El Cafe de la Pompeu</td>\n",
       "      <td>41.390286</td>\n",
       "      <td>2.190933</td>\n",
       "    </tr>\n",
       "    <tr>\n",
       "      <th>3</th>\n",
       "      <td>Café Icaria</td>\n",
       "      <td>41.387816</td>\n",
       "      <td>2.193371</td>\n",
       "    </tr>\n",
       "    <tr>\n",
       "      <th>4</th>\n",
       "      <td>Menssana</td>\n",
       "      <td>41.390752</td>\n",
       "      <td>2.190341</td>\n",
       "    </tr>\n",
       "  </tbody>\n",
       "</table>\n",
       "</div>"
      ],
      "text/plain": [
       "                   name        lat       lon\n",
       "0          Café Ninoska  41.389885  2.195099\n",
       "1        Rembrandt Cafe  41.388631  2.195668\n",
       "2  El Cafe de la Pompeu  41.390286  2.190933\n",
       "3           Café Icaria  41.387816  2.193371\n",
       "4              Menssana  41.390752  2.190341"
      ]
     },
     "execution_count": 33,
     "metadata": {},
     "output_type": "execute_result"
    }
   ],
   "source": [
    "top_5_cafe_df = pd.DataFrame(new_list)\n",
    "top_5_cafe_df"
   ]
  },
  {
   "cell_type": "markdown",
   "id": "d19904e8",
   "metadata": {},
   "source": [
    "# 4. Define a function that returns name, lat, long for starbucks OR restaurants AND for any given location"
   ]
  },
  {
   "cell_type": "code",
   "execution_count": 34,
   "id": "1fad5153",
   "metadata": {},
   "outputs": [],
   "source": [
    "def foursquare_places (venue, coordinates):\n",
    "    import requests\n",
    "\n",
    "    url = f\"https://api.foursquare.com/v3/places/search?query={venue}&ll={coordinates}&sort=DISTANCE&limit=5\"\n",
    "\n",
    "    headers = {\n",
    "        \"accept\": \"application/json\",\n",
    "        \"Authorization\": \"fsq3m5AWFLg0cJa50Q1XjCojp3IpsdrNo8XSKCoCI30gFIc=\"\n",
    "    }\n",
    "\n",
    "    response = requests.get(url, headers=headers)\n",
    "    response.json()[\"results\"]\n",
    "    coordinates = response.json()[\"results\"][0][\"geocodes\"][\"main\"]\n",
    "    lat, lon = coordinates[\"latitude\"], coordinates[\"longitude\"]\n",
    "    name = response.json()[\"results\"][0][\"name\"]\n",
    "    name_coordinates (response.json()[\"results\"][0])\n",
    "    new_list_3 = []\n",
    "    for i in response.json()[\"results\"]:\n",
    "        new_list.append(name_coordinates(i))\n",
    "    starbucks_df = pd.DataFrame(new_list)\n",
    "\n",
    "    \n",
    "    return starbucks_df"
   ]
  },
  {
   "cell_type": "code",
   "execution_count": 35,
   "id": "0d67b988",
   "metadata": {},
   "outputs": [
    {
     "data": {
      "text/html": [
       "<div>\n",
       "<style scoped>\n",
       "    .dataframe tbody tr th:only-of-type {\n",
       "        vertical-align: middle;\n",
       "    }\n",
       "\n",
       "    .dataframe tbody tr th {\n",
       "        vertical-align: top;\n",
       "    }\n",
       "\n",
       "    .dataframe thead th {\n",
       "        text-align: right;\n",
       "    }\n",
       "</style>\n",
       "<table border=\"1\" class=\"dataframe\">\n",
       "  <thead>\n",
       "    <tr style=\"text-align: right;\">\n",
       "      <th></th>\n",
       "      <th>name</th>\n",
       "      <th>lat</th>\n",
       "      <th>lon</th>\n",
       "    </tr>\n",
       "  </thead>\n",
       "  <tbody>\n",
       "    <tr>\n",
       "      <th>0</th>\n",
       "      <td>Café Ninoska</td>\n",
       "      <td>41.389885</td>\n",
       "      <td>2.195099</td>\n",
       "    </tr>\n",
       "    <tr>\n",
       "      <th>1</th>\n",
       "      <td>Rembrandt Cafe</td>\n",
       "      <td>41.388631</td>\n",
       "      <td>2.195668</td>\n",
       "    </tr>\n",
       "    <tr>\n",
       "      <th>2</th>\n",
       "      <td>El Cafe de la Pompeu</td>\n",
       "      <td>41.390286</td>\n",
       "      <td>2.190933</td>\n",
       "    </tr>\n",
       "    <tr>\n",
       "      <th>3</th>\n",
       "      <td>Café Icaria</td>\n",
       "      <td>41.387816</td>\n",
       "      <td>2.193371</td>\n",
       "    </tr>\n",
       "    <tr>\n",
       "      <th>4</th>\n",
       "      <td>Menssana</td>\n",
       "      <td>41.390752</td>\n",
       "      <td>2.190341</td>\n",
       "    </tr>\n",
       "    <tr>\n",
       "      <th>5</th>\n",
       "      <td>Starbucks</td>\n",
       "      <td>41.383506</td>\n",
       "      <td>2.181090</td>\n",
       "    </tr>\n",
       "    <tr>\n",
       "      <th>6</th>\n",
       "      <td>Starbucks</td>\n",
       "      <td>41.385209</td>\n",
       "      <td>2.177359</td>\n",
       "    </tr>\n",
       "    <tr>\n",
       "      <th>7</th>\n",
       "      <td>Starbucks</td>\n",
       "      <td>41.404985</td>\n",
       "      <td>2.192439</td>\n",
       "    </tr>\n",
       "    <tr>\n",
       "      <th>8</th>\n",
       "      <td>Starbucks</td>\n",
       "      <td>41.382413</td>\n",
       "      <td>2.176695</td>\n",
       "    </tr>\n",
       "    <tr>\n",
       "      <th>9</th>\n",
       "      <td>Starbucks</td>\n",
       "      <td>41.388819</td>\n",
       "      <td>2.171884</td>\n",
       "    </tr>\n",
       "  </tbody>\n",
       "</table>\n",
       "</div>"
      ],
      "text/plain": [
       "                   name        lat       lon\n",
       "0          Café Ninoska  41.389885  2.195099\n",
       "1        Rembrandt Cafe  41.388631  2.195668\n",
       "2  El Cafe de la Pompeu  41.390286  2.190933\n",
       "3           Café Icaria  41.387816  2.193371\n",
       "4              Menssana  41.390752  2.190341\n",
       "5             Starbucks  41.383506  2.181090\n",
       "6             Starbucks  41.385209  2.177359\n",
       "7             Starbucks  41.404985  2.192439\n",
       "8             Starbucks  41.382413  2.176695\n",
       "9             Starbucks  41.388819  2.171884"
      ]
     },
     "execution_count": 35,
     "metadata": {},
     "output_type": "execute_result"
    }
   ],
   "source": [
    "x = foursquare_places (\"starbucks\", \"41.3903565,2.1941694\")\n",
    "x"
   ]
  },
  {
   "cell_type": "markdown",
   "id": "1836c1a1",
   "metadata": {},
   "source": [
    "# 5. Export it into data folder as a json: `data/coffe_shops.json`"
   ]
  },
  {
   "cell_type": "code",
   "execution_count": null,
   "id": "7ac5f2a8",
   "metadata": {},
   "outputs": [],
   "source": [
    "x.to_json('coffe_shops.json')"
   ]
  },
  {
   "cell_type": "markdown",
   "id": "2d77e99d",
   "metadata": {},
   "source": [
    "# BONUS: load it into MongoDB in a collection named \"ironcoffee\" using pymongo"
   ]
  },
  {
   "cell_type": "code",
   "execution_count": null,
   "id": "85b94955",
   "metadata": {},
   "outputs": [],
   "source": [
    "# your code here"
   ]
  }
 ],
 "metadata": {
  "kernelspec": {
   "display_name": "ironhack",
   "language": "python",
   "name": "ironhack"
  },
  "language_info": {
   "codemirror_mode": {
    "name": "ipython",
    "version": 3
   },
   "file_extension": ".py",
   "mimetype": "text/x-python",
   "name": "python",
   "nbconvert_exporter": "python",
   "pygments_lexer": "ipython3",
   "version": "3.10.4"
  },
  "toc": {
   "base_numbering": 1,
   "nav_menu": {},
   "number_sections": true,
   "sideBar": true,
   "skip_h1_title": false,
   "title_cell": "Table of Contents",
   "title_sidebar": "Contents",
   "toc_cell": false,
   "toc_position": {},
   "toc_section_display": true,
   "toc_window_display": true
  }
 },
 "nbformat": 4,
 "nbformat_minor": 5
}
