{
 "cells": [
  {
   "cell_type": "markdown",
   "id": "0809e785",
   "metadata": {},
   "source": [
    "# 1. Import the necessary libraries for you to be able to query 4square API"
   ]
  },
  {
   "cell_type": "code",
   "execution_count": 1,
   "id": "9b373771",
   "metadata": {},
   "outputs": [],
   "source": [
    "import requests\n",
    "import json\n",
    "import pandas as pd\n",
    "from getpass import getpass\n",
    "import dotenv\n",
    "from dotenv import load_dotenv\n",
    "import os "
   ]
  },
  {
   "cell_type": "code",
   "execution_count": 2,
   "id": "2a926029",
   "metadata": {},
   "outputs": [],
   "source": [
    "load_dotenv()\n",
    "token = os.getenv('4sqtoken')"
   ]
  },
  {
   "cell_type": "markdown",
   "id": "e94dce92",
   "metadata": {},
   "source": [
    "# 2. Get names and location of the 10 coffee places by passing Ironhack as your location"
   ]
  },
  {
   "cell_type": "code",
   "execution_count": 3,
   "id": "1d72f571",
   "metadata": {},
   "outputs": [
    {
     "name": "stdout",
     "output_type": "stream",
     "text": [
      "{\"results\":[{\"fsq_id\":\"5b8521d489e490002cefef18\",\"categories\":[{\"id\":13035,\"name\":\"Coffee Shop\",\"icon\":{\"prefix\":\"https://ss3.4sqi.net/img/categories_v2/food/coffeeshop_\",\"suffix\":\".png\"}},{\"id\":13065,\"name\":\"Restaurant\",\"icon\":{\"prefix\":\"https://ss3.4sqi.net/img/categories_v2/food/default_\",\"suffix\":\".png\"}}],\"chains\":[],\"distance\":567,\"geocodes\":{\"main\":{\"latitude\":41.396989,\"longitude\":2.183409},\"roof\":{\"latitude\":41.396989,\"longitude\":2.183409}},\"link\":\"/v3/places/5b8521d489e490002cefef18\",\"location\":{\"address\":\"Ausiàs Marc, 151\",\"admin_region\":\"Cataluña\",\"country\":\"ES\",\"formatted_address\":\"Ausiàs Marc, 151, 08013 Barcelona Catalonia\",\"locality\":\"Barcelona\",\"postcode\":\"08013\",\"region\":\"Catalonia\"},\"name\":\"Three Marks Coffee\",\"related_places\":{},\"timezone\":\"Europe/Madrid\"},{\"fsq_id\":\"556d6217498ef50c5d323048\",\"categories\":[{\"id\":13003,\"name\":\"Bar\",\"icon\":{\"prefix\":\"https://ss3.4sqi.net/img/categories_v2/nightlife/pub_\",\"suffix\":\".png\"}},{\"id\":13035,\"name\":\"Coffee Shop\",\"icon\":{\"prefix\":\"https://ss3.4sqi.net/img/categories_v2/food/coffeeshop_\",\"suffix\":\".png\"}}],\"chains\":[],\"distance\":458,\"geocodes\":{\"main\":{\"latitude\":41.397977,\"longitude\":2.195589},\"roof\":{\"latitude\":41.397977,\"longitude\":2.195589}},\"link\":\"/v3/places/556d6217498ef50c5d323048\",\"location\":{\"address\":\"Calle de Pujades, 95\",\"admin_region\":\"Cataluña\",\"country\":\"ES\",\"cross_street\":\"C. de Badajoz\",\"formatted_address\":\"Calle de Pujades, 95 (C. de Badajoz), 08005 Barcelona\",\"locality\":\"Barcelona\",\"postcode\":\"08005\"},\"name\":\"Nømad Roaster's Home\",\"related_places\":{},\"timezone\":\"Europe/Madrid\"},{\"fsq_id\":\"4fca1199e4b0de8041df5164\",\"categories\":[{\"id\":13034,\"name\":\"Café\",\"icon\":{\"prefix\":\"https://ss3.4sqi.net/img/categories_v2/food/cafe_\",\"suffix\":\".png\"}},{\"id\":13046,\"name\":\"Ice Cream Parlor\",\"icon\":{\"prefix\":\"https://ss3.4sqi.net/img/categories_v2/food/icecream_\",\"suffix\":\".png\"}},{\"id\":13065,\"name\":\"Restaurant\",\"icon\":{\"prefix\":\"https://ss3.4sqi.net/img/categories_v2/food/default_\",\"suffix\":\".png\"}}],\"chains\":[],\"distance\":1733,\"geocodes\":{\"main\":{\"latitude\":41.38321,\"longitude\":2.182748},\"roof\":{\"latitude\":41.38321,\"longitude\":2.182748}},\"link\":\"/v3/places/4fca1199e4b0de8041df5164\",\"location\":{\"address\":\"Plaza de Palau, 4\",\"admin_region\":\"Cataluña\",\"country\":\"ES\",\"cross_street\":\"\",\"formatted_address\":\"Plaza de Palau, 4, 08003 Barcelona Catalonia\",\"locality\":\"Barcelona\",\"postcode\":\"08003\",\"region\":\"Catalonia\"},\"name\":\"Gocce di latte\",\"related_places\":{},\"timezone\":\"Europe/Madrid\"},{\"fsq_id\":\"52fafeb4498e411285ad33be\",\"categories\":[{\"id\":13003,\"name\":\"Bar\",\"icon\":{\"prefix\":\"https://ss3.4sqi.net/img/categories_v2/nightlife/pub_\",\"suffix\":\".png\"}},{\"id\":13034,\"name\":\"Café\",\"icon\":{\"prefix\":\"https://ss3.4sqi.net/img/categories_v2/food/cafe_\",\"suffix\":\".png\"}},{\"id\":13035,\"name\":\"Coffee Shop\",\"icon\":{\"prefix\":\"https://ss3.4sqi.net/img/categories_v2/food/coffeeshop_\",\"suffix\":\".png\"}}],\"chains\":[],\"distance\":1465,\"geocodes\":{\"main\":{\"latitude\":41.388989,\"longitude\":2.177167},\"roof\":{\"latitude\":41.388989,\"longitude\":2.177167}},\"link\":\"/v3/places/52fafeb4498e411285ad33be\",\"location\":{\"address\":\"Pasatge Sert, 12\",\"admin_region\":\"Cataluña\",\"country\":\"ES\",\"cross_street\":\"C. de Trafalgar\",\"formatted_address\":\"Pasatge Sert, 12 (C. de Trafalgar), 08003 Barcelona Catalonia\",\"locality\":\"Barcelona\",\"postcode\":\"08003\",\"region\":\"Catalonia\"},\"name\":\"Nømad Coffee Lab & Shop\",\"related_places\":{\"children\":[]},\"timezone\":\"Europe/Madrid\"},{\"fsq_id\":\"57ff4bde38fa1e8f0810a46d\",\"categories\":[{\"id\":13035,\"name\":\"Coffee Shop\",\"icon\":{\"prefix\":\"https://ss3.4sqi.net/img/categories_v2/food/coffeeshop_\",\"suffix\":\".png\"}},{\"id\":13065,\"name\":\"Restaurant\",\"icon\":{\"prefix\":\"https://ss3.4sqi.net/img/categories_v2/food/default_\",\"suffix\":\".png\"}}],\"chains\":[],\"distance\":2970,\"geocodes\":{\"main\":{\"latitude\":41.387825,\"longitude\":2.157221},\"roof\":{\"latitude\":41.387825,\"longitude\":2.157221}},\"link\":\"/v3/places/57ff4bde38fa1e8f0810a46d\",\"location\":{\"address\":\"Carrer de València, 190\",\"admin_region\":\"Cataluña\",\"country\":\"ES\",\"cross_street\":\"C. de València\",\"formatted_address\":\"Carrer de València, 190 (C. de València), 08011 Barcelona Catalonia\",\"locality\":\"Barcelona\",\"postcode\":\"08011\",\"region\":\"Catalonia\"},\"name\":\"Roast Club\",\"related_places\":{},\"timezone\":\"Europe/Madrid\"},{\"fsq_id\":\"58a196a45cab2f7fd67c7384\",\"categories\":[{\"id\":13034,\"name\":\"Café\",\"icon\":{\"prefix\":\"https://ss3.4sqi.net/img/categories_v2/food/cafe_\",\"suffix\":\".png\"}},{\"id\":13035,\"name\":\"Coffee Shop\",\"icon\":{\"prefix\":\"https://ss3.4sqi.net/img/categories_v2/food/coffeeshop_\",\"suffix\":\".png\"}}],\"chains\":[],\"distance\":2343,\"geocodes\":{\"main\":{\"latitude\":41.384525,\"longitude\":2.168502},\"roof\":{\"latitude\":41.384525,\"longitude\":2.168502}},\"link\":\"/v3/places/58a196a45cab2f7fd67c7384\",\"location\":{\"address\":\"Calle de Les Ramelleres, 16\",\"admin_region\":\"Cataluña\",\"country\":\"ES\",\"cross_street\":\"\",\"formatted_address\":\"Calle de Les Ramelleres, 16, 08001 Barcelona Catalonia\",\"locality\":\"Barcelona\",\"postcode\":\"08001\",\"region\":\"Catalonia\"},\"name\":\"Dalston Coffee\",\"related_places\":{},\"timezone\":\"Europe/Madrid\"},{\"fsq_id\":\"553a8e6c498e67e9192da0db\",\"categories\":[{\"id\":13035,\"name\":\"Coffee Shop\",\"icon\":{\"prefix\":\"https://ss3.4sqi.net/img/categories_v2/food/coffeeshop_\",\"suffix\":\".png\"}},{\"id\":13065,\"name\":\"Restaurant\",\"icon\":{\"prefix\":\"https://ss3.4sqi.net/img/categories_v2/food/default_\",\"suffix\":\".png\"}}],\"chains\":[],\"distance\":2949,\"geocodes\":{\"main\":{\"latitude\":41.398136,\"longitude\":2.154765},\"roof\":{\"latitude\":41.398136,\"longitude\":2.154765}},\"link\":\"/v3/places/553a8e6c498e67e9192da0db\",\"location\":{\"address\":\"Carrer de Luis Antúnez, 18\",\"admin_region\":\"Cataluña\",\"country\":\"ES\",\"cross_street\":\"C. de Neptú\",\"formatted_address\":\"Carrer de Luis Antúnez, 18 (C. de Neptú), 08006 Barcelona Catalonia\",\"locality\":\"Barcelona\",\"postcode\":\"08006\",\"region\":\"Catalonia\"},\"name\":\"SlowMov\",\"related_places\":{},\"timezone\":\"Europe/Madrid\"},{\"fsq_id\":\"562ddf43498ee3bd9ed1c999\",\"categories\":[{\"id\":13034,\"name\":\"Café\",\"icon\":{\"prefix\":\"https://ss3.4sqi.net/img/categories_v2/food/cafe_\",\"suffix\":\".png\"}},{\"id\":13035,\"name\":\"Coffee Shop\",\"icon\":{\"prefix\":\"https://ss3.4sqi.net/img/categories_v2/food/coffeeshop_\",\"suffix\":\".png\"}},{\"id\":13065,\"name\":\"Restaurant\",\"icon\":{\"prefix\":\"https://ss3.4sqi.net/img/categories_v2/food/default_\",\"suffix\":\".png\"}}],\"chains\":[],\"distance\":2593,\"geocodes\":{\"main\":{\"latitude\":41.400981,\"longitude\":2.159596},\"roof\":{\"latitude\":41.400981,\"longitude\":2.159596}},\"link\":\"/v3/places/562ddf43498ee3bd9ed1c999\",\"location\":{\"address\":\"Siracusa, 13\",\"admin_region\":\"Cataluña\",\"country\":\"ES\",\"formatted_address\":\"Siracusa, 13, 08012 Barcelona Catalonia\",\"locality\":\"Barcelona\",\"postcode\":\"08012\",\"region\":\"Catalonia\"},\"name\":\"Syra Coffee\",\"related_places\":{},\"timezone\":\"Europe/Madrid\"},{\"fsq_id\":\"5698d01a498e9b5bf6bad803\",\"categories\":[{\"id\":13003,\"name\":\"Bar\",\"icon\":{\"prefix\":\"https://ss3.4sqi.net/img/categories_v2/nightlife/pub_\",\"suffix\":\".png\"}},{\"id\":13035,\"name\":\"Coffee Shop\",\"icon\":{\"prefix\":\"https://ss3.4sqi.net/img/categories_v2/food/coffeeshop_\",\"suffix\":\".png\"}},{\"id\":13065,\"name\":\"Restaurant\",\"icon\":{\"prefix\":\"https://ss3.4sqi.net/img/categories_v2/food/default_\",\"suffix\":\".png\"}}],\"chains\":[],\"distance\":1415,\"geocodes\":{\"main\":{\"latitude\":41.393575,\"longitude\":2.174295},\"roof\":{\"latitude\":41.393575,\"longitude\":2.174295}},\"link\":\"/v3/places/5698d01a498e9b5bf6bad803\",\"location\":{\"address\":\"Gran Vía de Les Corts Catalanes, 700\",\"admin_region\":\"Cataluña\",\"country\":\"ES\",\"cross_street\":\"\",\"formatted_address\":\"Gran Vía de Les Corts Catalanes, 700, 08010 Barcelona Catalonia\",\"locality\":\"Barcelona\",\"postcode\":\"08010\",\"region\":\"Catalonia\"},\"name\":\"Satan's Coffee\",\"related_places\":{\"parent\":{\"fsq_id\":\"569b92b5498e7d195229c6de\",\"name\":\"Hotel Casa Bonay\"}},\"timezone\":\"Europe/Madrid\"},{\"fsq_id\":\"5cb5ca8fb1538e002c03442c\",\"categories\":[{\"id\":13035,\"name\":\"Coffee Shop\",\"icon\":{\"prefix\":\"https://ss3.4sqi.net/img/categories_v2/food/coffeeshop_\",\"suffix\":\".png\"}}],\"chains\":[],\"distance\":1047,\"geocodes\":{\"main\":{\"latitude\":41.394562,\"longitude\":2.178425}},\"link\":\"/v3/places/5cb5ca8fb1538e002c03442c\",\"location\":{\"address\":\"Calle de Roger de Flor, 102\",\"admin_region\":\"Cataluña\",\"country\":\"ES\",\"cross_street\":\"\",\"formatted_address\":\"Calle de Roger de Flor, 102, 08013 Barcelona Catalonia\",\"locality\":\"Barcelona\",\"postcode\":\"08013\",\"region\":\"Catalonia\"},\"name\":\"Brew Coffee\",\"related_places\":{},\"timezone\":\"Europe/Madrid\"}],\"context\":{\"geo_bounds\":{\"circle\":{\"center\":{\"latitude\":41.3977421,\"longitude\":2.190249315},\"radius\":22000}}}}\n"
     ]
    }
   ],
   "source": [
    "\n",
    "url1 = \"https://api.foursquare.com/v3/places/search?ll=41.3977421%2C2.190249315&categories=13032&limit=10\"\n",
    "\n",
    "headers = {\"accept\": \"application/json\",\n",
    "            \"Authorization\": token }\n",
    "\n",
    "response1 = requests.get(url1, headers=headers)\n",
    "\n",
    "print(response1.text)"
   ]
  },
  {
   "cell_type": "code",
   "execution_count": 4,
   "id": "6f129d56",
   "metadata": {},
   "outputs": [
    {
     "data": {
      "text/html": [
       "<div>\n",
       "<style scoped>\n",
       "    .dataframe tbody tr th:only-of-type {\n",
       "        vertical-align: middle;\n",
       "    }\n",
       "\n",
       "    .dataframe tbody tr th {\n",
       "        vertical-align: top;\n",
       "    }\n",
       "\n",
       "    .dataframe thead th {\n",
       "        text-align: right;\n",
       "    }\n",
       "</style>\n",
       "<table border=\"1\" class=\"dataframe\">\n",
       "  <thead>\n",
       "    <tr style=\"text-align: right;\">\n",
       "      <th></th>\n",
       "      <th>name</th>\n",
       "      <th>location</th>\n",
       "    </tr>\n",
       "  </thead>\n",
       "  <tbody>\n",
       "    <tr>\n",
       "      <th>0</th>\n",
       "      <td>Three Marks Coffee</td>\n",
       "      <td>{'address': 'Ausiàs Marc, 151', 'admin_region'...</td>\n",
       "    </tr>\n",
       "    <tr>\n",
       "      <th>1</th>\n",
       "      <td>Nømad Roaster's Home</td>\n",
       "      <td>{'address': 'Calle de Pujades, 95', 'admin_reg...</td>\n",
       "    </tr>\n",
       "    <tr>\n",
       "      <th>2</th>\n",
       "      <td>Gocce di latte</td>\n",
       "      <td>{'address': 'Plaza de Palau, 4', 'admin_region...</td>\n",
       "    </tr>\n",
       "    <tr>\n",
       "      <th>3</th>\n",
       "      <td>Nømad Coffee Lab &amp; Shop</td>\n",
       "      <td>{'address': 'Pasatge Sert, 12', 'admin_region'...</td>\n",
       "    </tr>\n",
       "    <tr>\n",
       "      <th>4</th>\n",
       "      <td>Roast Club</td>\n",
       "      <td>{'address': 'Carrer de València, 190', 'admin_...</td>\n",
       "    </tr>\n",
       "    <tr>\n",
       "      <th>5</th>\n",
       "      <td>Dalston Coffee</td>\n",
       "      <td>{'address': 'Calle de Les Ramelleres, 16', 'ad...</td>\n",
       "    </tr>\n",
       "    <tr>\n",
       "      <th>6</th>\n",
       "      <td>SlowMov</td>\n",
       "      <td>{'address': 'Carrer de Luis Antúnez, 18', 'adm...</td>\n",
       "    </tr>\n",
       "    <tr>\n",
       "      <th>7</th>\n",
       "      <td>Syra Coffee</td>\n",
       "      <td>{'address': 'Siracusa, 13', 'admin_region': 'C...</td>\n",
       "    </tr>\n",
       "    <tr>\n",
       "      <th>8</th>\n",
       "      <td>Satan's Coffee</td>\n",
       "      <td>{'address': 'Gran Vía de Les Corts Catalanes, ...</td>\n",
       "    </tr>\n",
       "    <tr>\n",
       "      <th>9</th>\n",
       "      <td>Brew Coffee</td>\n",
       "      <td>{'address': 'Calle de Roger de Flor, 102', 'ad...</td>\n",
       "    </tr>\n",
       "  </tbody>\n",
       "</table>\n",
       "</div>"
      ],
      "text/plain": [
       "                      name                                           location\n",
       "0       Three Marks Coffee  {'address': 'Ausiàs Marc, 151', 'admin_region'...\n",
       "1     Nømad Roaster's Home  {'address': 'Calle de Pujades, 95', 'admin_reg...\n",
       "2           Gocce di latte  {'address': 'Plaza de Palau, 4', 'admin_region...\n",
       "3  Nømad Coffee Lab & Shop  {'address': 'Pasatge Sert, 12', 'admin_region'...\n",
       "4               Roast Club  {'address': 'Carrer de València, 190', 'admin_...\n",
       "5           Dalston Coffee  {'address': 'Calle de Les Ramelleres, 16', 'ad...\n",
       "6                  SlowMov  {'address': 'Carrer de Luis Antúnez, 18', 'adm...\n",
       "7              Syra Coffee  {'address': 'Siracusa, 13', 'admin_region': 'C...\n",
       "8           Satan's Coffee  {'address': 'Gran Vía de Les Corts Catalanes, ...\n",
       "9              Brew Coffee  {'address': 'Calle de Roger de Flor, 102', 'ad..."
      ]
     },
     "execution_count": 4,
     "metadata": {},
     "output_type": "execute_result"
    }
   ],
   "source": [
    "jason = response1.json()\n",
    "results = jason['results']\n",
    "df = pd.DataFrame(results)\n",
    "df_name_location = df[['name','location']]\n",
    "df_name_location\n",
    "\n"
   ]
  },
  {
   "cell_type": "markdown",
   "id": "941b5dbf",
   "metadata": {},
   "source": [
    "# 3. Now get the 5 CLOSEST coffe places. Make use of params: limit, near?"
   ]
  },
  {
   "cell_type": "code",
   "execution_count": 5,
   "id": "fda8ddff",
   "metadata": {},
   "outputs": [
    {
     "name": "stdout",
     "output_type": "stream",
     "text": [
      "{\"results\":[{\"fsq_id\":\"530c5e6911d2be0b8d22e27a\",\"categories\":[{\"id\":13034,\"name\":\"Café\",\"icon\":{\"prefix\":\"https://ss3.4sqi.net/img/categories_v2/food/cafe_\",\"suffix\":\".png\"}},{\"id\":13035,\"name\":\"Coffee Shop\",\"icon\":{\"prefix\":\"https://ss3.4sqi.net/img/categories_v2/food/coffeeshop_\",\"suffix\":\".png\"}},{\"id\":13065,\"name\":\"Restaurant\",\"icon\":{\"prefix\":\"https://ss3.4sqi.net/img/categories_v2/food/default_\",\"suffix\":\".png\"}}],\"chains\":[],\"distance\":135,\"geocodes\":{\"main\":{\"latitude\":41.396876,\"longitude\":2.191489},\"roof\":{\"latitude\":41.396876,\"longitude\":2.191489}},\"link\":\"/v3/places/530c5e6911d2be0b8d22e27a\",\"location\":{\"address\":\"Calle Pamplona, 88\",\"admin_region\":\"Cataluña\",\"country\":\"ES\",\"cross_street\":\"C. de Pallars\",\"formatted_address\":\"Calle Pamplona, 88 (C. de Pallars), 08018 Barcelona Catalonia\",\"locality\":\"Barcelona\",\"postcode\":\"08018\",\"region\":\"Catalonia\"},\"name\":\"Skye coffee co\",\"related_places\":{},\"timezone\":\"Europe/Madrid\"},{\"fsq_id\":\"555f2357498ee6528074710b\",\"categories\":[{\"id\":13034,\"name\":\"Café\",\"icon\":{\"prefix\":\"https://ss3.4sqi.net/img/categories_v2/food/cafe_\",\"suffix\":\".png\"}},{\"id\":13035,\"name\":\"Coffee Shop\",\"icon\":{\"prefix\":\"https://ss3.4sqi.net/img/categories_v2/food/coffeeshop_\",\"suffix\":\".png\"}},{\"id\":13065,\"name\":\"Restaurant\",\"icon\":{\"prefix\":\"https://ss3.4sqi.net/img/categories_v2/food/default_\",\"suffix\":\".png\"}}],\"chains\":[],\"distance\":409,\"geocodes\":{\"main\":{\"latitude\":41.398735,\"longitude\":2.195069},\"roof\":{\"latitude\":41.398735,\"longitude\":2.195069}},\"link\":\"/v3/places/555f2357498ee6528074710b\",\"location\":{\"address\":\"Carrer Badajoz, 95\",\"admin_region\":\"Cataluña\",\"country\":\"ES\",\"cross_street\":\"\",\"formatted_address\":\"Carrer Badajoz, 95, 08005 Barcelona Catalonia\",\"locality\":\"Barcelona\",\"postcode\":\"08005\",\"region\":\"Catalonia\"},\"name\":\"Espai Joliu\",\"related_places\":{},\"timezone\":\"Europe/Madrid\"},{\"fsq_id\":\"556d6217498ef50c5d323048\",\"categories\":[{\"id\":13003,\"name\":\"Bar\",\"icon\":{\"prefix\":\"https://ss3.4sqi.net/img/categories_v2/nightlife/pub_\",\"suffix\":\".png\"}},{\"id\":13035,\"name\":\"Coffee Shop\",\"icon\":{\"prefix\":\"https://ss3.4sqi.net/img/categories_v2/food/coffeeshop_\",\"suffix\":\".png\"}}],\"chains\":[],\"distance\":458,\"geocodes\":{\"main\":{\"latitude\":41.397977,\"longitude\":2.195589},\"roof\":{\"latitude\":41.397977,\"longitude\":2.195589}},\"link\":\"/v3/places/556d6217498ef50c5d323048\",\"location\":{\"address\":\"Calle de Pujades, 95\",\"admin_region\":\"Cataluña\",\"country\":\"ES\",\"cross_street\":\"C. de Badajoz\",\"formatted_address\":\"Calle de Pujades, 95 (C. de Badajoz), 08005 Barcelona\",\"locality\":\"Barcelona\",\"postcode\":\"08005\"},\"name\":\"Nømad Roaster's Home\",\"related_places\":{},\"timezone\":\"Europe/Madrid\"},{\"fsq_id\":\"5d4bd14db633a60008a721b0\",\"categories\":[{\"id\":13035,\"name\":\"Coffee Shop\",\"icon\":{\"prefix\":\"https://ss3.4sqi.net/img/categories_v2/food/coffeeshop_\",\"suffix\":\".png\"}}],\"chains\":[],\"distance\":347,\"geocodes\":{\"main\":{\"latitude\":41.396518,\"longitude\":2.19417},\"roof\":{\"latitude\":41.396518,\"longitude\":2.19417}},\"link\":\"/v3/places/5d4bd14db633a60008a721b0\",\"location\":{\"address\":\"Calle de Pujades, 100\",\"admin_region\":\"Cataluña\",\"country\":\"ES\",\"cross_street\":\"C. d'Àlaba\",\"formatted_address\":\"Calle de Pujades, 100 (C. d'Àlaba), 08005 Barcelona Catalonia\",\"locality\":\"Barcelona\",\"postcode\":\"08005\",\"region\":\"Catalonia\"},\"name\":\"Syra Coffee Poblenou\",\"related_places\":{},\"timezone\":\"Europe/Madrid\"},{\"fsq_id\":\"4e15b15d18384368edd1d202\",\"categories\":[{\"id\":13034,\"name\":\"Café\",\"icon\":{\"prefix\":\"https://ss3.4sqi.net/img/categories_v2/food/cafe_\",\"suffix\":\".png\"}},{\"id\":13302,\"name\":\"Mediterranean Restaurant\",\"icon\":{\"prefix\":\"https://ss3.4sqi.net/img/categories_v2/food/mediterranean_\",\"suffix\":\".png\"}}],\"chains\":[],\"distance\":455,\"geocodes\":{\"main\":{\"latitude\":41.398365,\"longitude\":2.195559},\"roof\":{\"latitude\":41.398365,\"longitude\":2.195559}},\"link\":\"/v3/places/4e15b15d18384368edd1d202\",\"location\":{\"address\":\"Calle Badajoz, 83\",\"admin_region\":\"Cataluña\",\"country\":\"ES\",\"formatted_address\":\"Calle Badajoz, 83, 08005 Barcelona Catalonia\",\"locality\":\"Barcelona\",\"postcode\":\"08005\",\"region\":\"Catalonia\"},\"name\":\"Market Cuina Fresca\",\"related_places\":{},\"timezone\":\"Europe/Madrid\"}],\"context\":{\"geo_bounds\":{\"circle\":{\"center\":{\"latitude\":41.3977421,\"longitude\":2.190249315},\"radius\":500}}}}\n"
     ]
    }
   ],
   "source": [
    "url2 =  \"https://api.foursquare.com/v3/places/search?ll=41.3977421%2C2.190249315&radius=500&categories=13032&limit=5\"\n",
    "response2 = requests.get(url2, headers=headers)\n",
    "print (response2.text)\n"
   ]
  },
  {
   "cell_type": "code",
   "execution_count": 32,
   "id": "df21f804",
   "metadata": {},
   "outputs": [
    {
     "data": {
      "text/html": [
       "<div>\n",
       "<style scoped>\n",
       "    .dataframe tbody tr th:only-of-type {\n",
       "        vertical-align: middle;\n",
       "    }\n",
       "\n",
       "    .dataframe tbody tr th {\n",
       "        vertical-align: top;\n",
       "    }\n",
       "\n",
       "    .dataframe thead th {\n",
       "        text-align: right;\n",
       "    }\n",
       "</style>\n",
       "<table border=\"1\" class=\"dataframe\">\n",
       "  <thead>\n",
       "    <tr style=\"text-align: right;\">\n",
       "      <th></th>\n",
       "      <th>name</th>\n",
       "      <th>geocodes</th>\n",
       "    </tr>\n",
       "  </thead>\n",
       "  <tbody>\n",
       "    <tr>\n",
       "      <th>0</th>\n",
       "      <td>Skye coffee co</td>\n",
       "      <td>{'main': {'latitude': 41.396876, 'longitude': ...</td>\n",
       "    </tr>\n",
       "    <tr>\n",
       "      <th>1</th>\n",
       "      <td>Espai Joliu</td>\n",
       "      <td>{'main': {'latitude': 41.398735, 'longitude': ...</td>\n",
       "    </tr>\n",
       "    <tr>\n",
       "      <th>2</th>\n",
       "      <td>Nømad Roaster's Home</td>\n",
       "      <td>{'main': {'latitude': 41.397977, 'longitude': ...</td>\n",
       "    </tr>\n",
       "    <tr>\n",
       "      <th>3</th>\n",
       "      <td>Syra Coffee Poblenou</td>\n",
       "      <td>{'main': {'latitude': 41.396518, 'longitude': ...</td>\n",
       "    </tr>\n",
       "    <tr>\n",
       "      <th>4</th>\n",
       "      <td>Market Cuina Fresca</td>\n",
       "      <td>{'main': {'latitude': 41.398365, 'longitude': ...</td>\n",
       "    </tr>\n",
       "  </tbody>\n",
       "</table>\n",
       "</div>"
      ],
      "text/plain": [
       "                   name                                           geocodes\n",
       "0        Skye coffee co  {'main': {'latitude': 41.396876, 'longitude': ...\n",
       "1           Espai Joliu  {'main': {'latitude': 41.398735, 'longitude': ...\n",
       "2  Nømad Roaster's Home  {'main': {'latitude': 41.397977, 'longitude': ...\n",
       "3  Syra Coffee Poblenou  {'main': {'latitude': 41.396518, 'longitude': ...\n",
       "4   Market Cuina Fresca  {'main': {'latitude': 41.398365, 'longitude': ..."
      ]
     },
     "execution_count": 32,
     "metadata": {},
     "output_type": "execute_result"
    }
   ],
   "source": [
    "json_response2 = response2.json()\n",
    "results2 = json_response2['results']\n",
    "df2 = pd.DataFrame(results2)\n",
    "df_name_location2 = df2[['name','geocodes']]\n",
    "df_name_location2\n"
   ]
  },
  {
   "cell_type": "markdown",
   "id": "d19904e8",
   "metadata": {},
   "source": [
    "# 4. Define a function that returns name, lat, long for starbucks OR restaurants AND for any given location"
   ]
  },
  {
   "cell_type": "code",
   "execution_count": 33,
   "id": "1fad5153",
   "metadata": {},
   "outputs": [],
   "source": [
    "\n",
    "\n",
    "def foursquare_places (venue, lat, long):\n",
    "    url3 = f\"https://api.foursquare.com/v3/places/search?query={venue}&ll={lat}%2C{long}&limit=10\"\n",
    "    response3 = requests.get(url3, headers=headers)\n",
    "    json_response3= response3.json()\n",
    "    results3 = json_response3['results']\n",
    "    df3 = pd.DataFrame(results3)\n",
    "    df_name_location3 = df3[['name','geocodes']]\n",
    "\n",
    "\n",
    "    return df_name_location3\n",
    "function_response = foursquare_places('coffe',41.3977421,2.190249315)"
   ]
  },
  {
   "cell_type": "markdown",
   "id": "1836c1a1",
   "metadata": {},
   "source": [
    "# 5. Export it into data folder as a json: `data/coffe_shops.json`"
   ]
  },
  {
   "cell_type": "code",
   "execution_count": 39,
   "id": "7ac5f2a8",
   "metadata": {},
   "outputs": [],
   "source": [
    "function_response.to_json(r'../lab-coffee-shops-sergi/data/coffe_shope.json')\n"
   ]
  },
  {
   "cell_type": "markdown",
   "id": "2d77e99d",
   "metadata": {},
   "source": [
    "# BONUS: load it into MongoDB in a collection named \"ironcoffee\" using pymongo"
   ]
  },
  {
   "cell_type": "code",
   "execution_count": 36,
   "id": "85b94955",
   "metadata": {},
   "outputs": [],
   "source": [
    "import pymongo \n"
   ]
  },
  {
   "cell_type": "code",
   "execution_count": 40,
   "id": "4f383210",
   "metadata": {},
   "outputs": [],
   "source": [
    "client = pymongo.MongoClient('localhost:27017')\n",
    "dabatase = client['ironhack']\n",
    "collection = dabatase.get_collection('ironcoffee')"
   ]
  },
  {
   "cell_type": "code",
   "execution_count": 42,
   "id": "f7b07782",
   "metadata": {},
   "outputs": [
    {
     "data": {
      "text/plain": [
       "{'name': {'0': \"Satan's Coffee Corner\",\n",
       "  '1': 'Nømad Coffee Lab & Shop',\n",
       "  '2': 'Cafés el Magnífico',\n",
       "  '3': \"Satan's Coffee\",\n",
       "  '4': 'Hidden Café Barcelona',\n",
       "  '5': 'Roast Club',\n",
       "  '6': 'Espai Joliu',\n",
       "  '7': 'Federal',\n",
       "  '8': 'Syra Coffee',\n",
       "  '9': 'Dalston Coffee'},\n",
       " 'geocodes': {'0': {'main': {'latitude': 41.38264, 'longitude': 2.175303},\n",
       "   'roof': {'latitude': 41.38264, 'longitude': 2.175303}},\n",
       "  '1': {'main': {'latitude': 41.388989, 'longitude': 2.177167},\n",
       "   'roof': {'latitude': 41.388989, 'longitude': 2.177167}},\n",
       "  '2': {'main': {'latitude': 41.383541, 'longitude': 2.180957},\n",
       "   'roof': {'latitude': 41.383541, 'longitude': 2.180957}},\n",
       "  '3': {'main': {'latitude': 41.393575, 'longitude': 2.174295},\n",
       "   'roof': {'latitude': 41.393575, 'longitude': 2.174295}},\n",
       "  '4': {'main': {'latitude': 41.388351, 'longitude': 2.135953},\n",
       "   'roof': {'latitude': 41.388351, 'longitude': 2.135953}},\n",
       "  '5': {'main': {'latitude': 41.387825, 'longitude': 2.157221},\n",
       "   'roof': {'latitude': 41.387825, 'longitude': 2.157221}},\n",
       "  '6': {'main': {'latitude': 41.398735, 'longitude': 2.195069},\n",
       "   'roof': {'latitude': 41.398735, 'longitude': 2.195069}},\n",
       "  '7': {'main': {'latitude': 41.378049, 'longitude': 2.177796},\n",
       "   'roof': {'latitude': 41.378049, 'longitude': 2.177796}},\n",
       "  '8': {'main': {'latitude': 41.400981, 'longitude': 2.159596},\n",
       "   'roof': {'latitude': 41.400981, 'longitude': 2.159596}},\n",
       "  '9': {'main': {'latitude': 41.384525, 'longitude': 2.168502},\n",
       "   'roof': {'latitude': 41.384525, 'longitude': 2.168502}}}}"
      ]
     },
     "execution_count": 42,
     "metadata": {},
     "output_type": "execute_result"
    }
   ],
   "source": [
    "with open ('../lab-coffee-shops-sergi/data/coffe_shope.json') as f:\n",
    "    data = json.load(f)\n",
    "data\n"
   ]
  },
  {
   "cell_type": "code",
   "execution_count": 43,
   "id": "5af823c4",
   "metadata": {},
   "outputs": [],
   "source": [
    "dataframeto = pd.DataFrame(data)"
   ]
  },
  {
   "cell_type": "code",
   "execution_count": 44,
   "id": "b8ef633e",
   "metadata": {},
   "outputs": [],
   "source": [
    "dict_ = dataframeto.to_dict(orient='records')"
   ]
  },
  {
   "cell_type": "code",
   "execution_count": 45,
   "id": "78facdf8",
   "metadata": {},
   "outputs": [
    {
     "data": {
      "text/plain": [
       "<pymongo.results.InsertManyResult at 0x10f72a140>"
      ]
     },
     "execution_count": 45,
     "metadata": {},
     "output_type": "execute_result"
    }
   ],
   "source": [
    "collection.insert_many(dict_)"
   ]
  },
  {
   "cell_type": "code",
   "execution_count": null,
   "id": "fc3bae3b",
   "metadata": {},
   "outputs": [],
   "source": []
  }
 ],
 "metadata": {
  "kernelspec": {
   "display_name": "ironhack",
   "language": "python",
   "name": "python3"
  },
  "language_info": {
   "codemirror_mode": {
    "name": "ipython",
    "version": 3
   },
   "file_extension": ".py",
   "mimetype": "text/x-python",
   "name": "python",
   "nbconvert_exporter": "python",
   "pygments_lexer": "ipython3",
   "version": "3.10.9"
  },
  "toc": {
   "base_numbering": 1,
   "nav_menu": {},
   "number_sections": true,
   "sideBar": true,
   "skip_h1_title": false,
   "title_cell": "Table of Contents",
   "title_sidebar": "Contents",
   "toc_cell": false,
   "toc_position": {},
   "toc_section_display": true,
   "toc_window_display": true
  },
  "vscode": {
   "interpreter": {
    "hash": "01693d08c76e0fb3e71da81b986e1b86f0c52bf5753630df6eccc1049caafb5a"
   }
  }
 },
 "nbformat": 4,
 "nbformat_minor": 5
}
