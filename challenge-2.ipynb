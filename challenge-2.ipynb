{
 "cells": [
  {
   "cell_type": "markdown",
   "id": "0809e785",
   "metadata": {},
   "source": [
    "# 1. Import the necessary libraries for you to be able to query 4square API"
   ]
  },
  {
   "cell_type": "code",
   "execution_count": 1,
   "id": "9b373771",
   "metadata": {},
   "outputs": [],
   "source": [
    "import requests\n",
    "import json\n",
    "import pandas as pd\n",
    "from getpass import getpass\n",
    "from dotenv import load_dotenv"
   ]
  },
  {
   "cell_type": "markdown",
   "id": "e94dce92",
   "metadata": {},
   "source": [
    "# 2. Get names and location of the 10 coffee places by passing Ironhack as your location"
   ]
  },
  {
   "cell_type": "code",
   "execution_count": 2,
   "id": "634d0410",
   "metadata": {},
   "outputs": [
    {
     "name": "stdout",
     "output_type": "stream",
     "text": [
      "········\n"
     ]
    }
   ],
   "source": [
    "token = getpass()"
   ]
  },
  {
   "cell_type": "code",
   "execution_count": 3,
   "id": "0cbd88f0",
   "metadata": {},
   "outputs": [],
   "source": [
    "import requests\n",
    "\n",
    "url = \"https://api.foursquare.com/v3/places/search?query=coffee%20place&near=Ironhack%20Barcelona&limit=10\"\n",
    "\n",
    "headers = {\n",
    "    \"accept\": \"application/json\",\n",
    "    \"Authorization\": (token)\n",
    "}\n",
    "\n",
    "response = requests.get(url, headers=headers)"
   ]
  },
  {
   "cell_type": "code",
   "execution_count": 4,
   "id": "58700aec",
   "metadata": {},
   "outputs": [
    {
     "data": {
      "text/plain": [
       "\"Satan's Coffee Corner\""
      ]
     },
     "execution_count": 4,
     "metadata": {},
     "output_type": "execute_result"
    }
   ],
   "source": [
    "name = response.json()['results'][0]['name']\n",
    "name"
   ]
  },
  {
   "cell_type": "code",
   "execution_count": 5,
   "id": "fd52cd05",
   "metadata": {},
   "outputs": [
    {
     "data": {
      "text/plain": [
       "\"Carrer de l'Arc de Sant Ramon del Call, 11\""
      ]
     },
     "execution_count": 5,
     "metadata": {},
     "output_type": "execute_result"
    }
   ],
   "source": [
    "address = response.json()['results'][0]['location']['address']\n",
    "address"
   ]
  },
  {
   "cell_type": "code",
   "execution_count": 6,
   "id": "e6e58d8f",
   "metadata": {},
   "outputs": [],
   "source": [
    "def name_address (dict_):\n",
    "    \n",
    "    processed_dict = {\"name\": dict_[\"name\"],\n",
    "                     \"address\": dict_['location']['address']}\n",
    "    \n",
    "    return processed_dict"
   ]
  },
  {
   "cell_type": "code",
   "execution_count": 7,
   "id": "478e41a1",
   "metadata": {},
   "outputs": [
    {
     "data": {
      "text/plain": [
       "{'name': \"Satan's Coffee Corner\",\n",
       " 'address': \"Carrer de l'Arc de Sant Ramon del Call, 11\"}"
      ]
     },
     "execution_count": 7,
     "metadata": {},
     "output_type": "execute_result"
    }
   ],
   "source": [
    "name_address (response.json()[\"results\"][0])"
   ]
  },
  {
   "cell_type": "code",
   "execution_count": 8,
   "id": "9f381f81",
   "metadata": {},
   "outputs": [
    {
     "data": {
      "text/plain": [
       "[{'name': \"Satan's Coffee Corner\",\n",
       "  'address': \"Carrer de l'Arc de Sant Ramon del Call, 11\"},\n",
       " {'name': 'Nømad Coffee Lab & Shop', 'address': 'Pasatge Sert, 12'},\n",
       " {'name': 'Cafés el Magnífico', 'address': 'Argenteria, 64'},\n",
       " {'name': \"Satan's Coffee\", 'address': 'Gran Vía de Les Corts Catalanes, 700'},\n",
       " {'name': 'Roast Club', 'address': 'Carrer de València, 190'},\n",
       " {'name': 'Hidden Café Barcelona', 'address': 'Carrer Déu I Mata, 62 Bajo'},\n",
       " {'name': 'Syra Coffee', 'address': 'Siracusa, 13'},\n",
       " {'name': 'Dalston Coffee', 'address': 'Calle de Les Ramelleres, 16'},\n",
       " {'name': 'Federal', 'address': 'Passatge de la Pau, 11'},\n",
       " {'name': 'Cosmo', 'address': 'Enric Granados, 3'}]"
      ]
     },
     "execution_count": 8,
     "metadata": {},
     "output_type": "execute_result"
    }
   ],
   "source": [
    "new_list = []\n",
    "for i in response.json()[\"results\"]:\n",
    "    new_list.append(name_address (i))\n",
    "new_list"
   ]
  },
  {
   "cell_type": "markdown",
   "id": "941b5dbf",
   "metadata": {},
   "source": [
    "# 3. Now get the 5 CLOSEST coffe places. Make use of params: limit, near?"
   ]
  },
  {
   "cell_type": "code",
   "execution_count": 9,
   "id": "fda8ddff",
   "metadata": {},
   "outputs": [],
   "source": [
    "url2 = \"https://api.foursquare.com/v3/places/search?query=coffee%20place&near=Ironhack%20Barcelona&limit=5\"\n",
    "\n",
    "headers = {\n",
    "    \"accept\": \"application/json\",\n",
    "    \"Authorization\": (token)\n",
    "}\n",
    "\n",
    "response2 = requests.get(url2, headers=headers)\n"
   ]
  },
  {
   "cell_type": "code",
   "execution_count": 10,
   "id": "13f072d7",
   "metadata": {},
   "outputs": [
    {
     "data": {
      "text/plain": [
       "\"Satan's Coffee Corner\""
      ]
     },
     "execution_count": 10,
     "metadata": {},
     "output_type": "execute_result"
    }
   ],
   "source": [
    "name = response2.json()['results'][0]['name']\n",
    "name"
   ]
  },
  {
   "cell_type": "code",
   "execution_count": 11,
   "id": "4ab2fbb8",
   "metadata": {},
   "outputs": [],
   "source": [
    "address = response2.json()['results'][0]['location']['address']"
   ]
  },
  {
   "cell_type": "code",
   "execution_count": 12,
   "id": "e804733b",
   "metadata": {},
   "outputs": [
    {
     "data": {
      "text/plain": [
       "{'name': \"Satan's Coffee Corner\",\n",
       " 'address': \"Carrer de l'Arc de Sant Ramon del Call, 11\"}"
      ]
     },
     "execution_count": 12,
     "metadata": {},
     "output_type": "execute_result"
    }
   ],
   "source": [
    "name_address (response2.json()[\"results\"][0])"
   ]
  },
  {
   "cell_type": "code",
   "execution_count": 15,
   "id": "0f41e351",
   "metadata": {},
   "outputs": [
    {
     "data": {
      "text/plain": [
       "[{'name': \"Satan's Coffee Corner\",\n",
       "  'address': \"Carrer de l'Arc de Sant Ramon del Call, 11\"},\n",
       " {'name': 'Nømad Coffee Lab & Shop', 'address': 'Pasatge Sert, 12'},\n",
       " {'name': 'Cafés el Magnífico', 'address': 'Argenteria, 64'},\n",
       " {'name': \"Satan's Coffee\", 'address': 'Gran Vía de Les Corts Catalanes, 700'},\n",
       " {'name': 'Roast Club', 'address': 'Carrer de València, 190'}]"
      ]
     },
     "execution_count": 15,
     "metadata": {},
     "output_type": "execute_result"
    }
   ],
   "source": [
    "new_list_1 = []\n",
    "for i in response2.json()[\"results\"]:\n",
    "    new_list_1.append(name_address (i))\n",
    "new_list_1"
   ]
  },
  {
   "cell_type": "markdown",
   "id": "d19904e8",
   "metadata": {},
   "source": [
    "# 4. Define a function that returns name, lat, long for starbucks OR restaurants AND for any given location"
   ]
  },
  {
   "cell_type": "code",
   "execution_count": 16,
   "id": "4edebce9",
   "metadata": {},
   "outputs": [],
   "source": [
    "def name_coordinates (dict_):  \n",
    "    processed_dict = {\"name\": dict_[\"name\"],\n",
    "                     \"lat\": dict_[\"geocodes\"][\"main\"][\"latitude\"],\n",
    "                     \"lon\": dict_[\"geocodes\"][\"main\"][\"longitude\"]}\n",
    "    \n",
    "    return processed_dict"
   ]
  },
  {
   "cell_type": "code",
   "execution_count": 17,
   "id": "d563b9f3",
   "metadata": {},
   "outputs": [],
   "source": [
    "def foursquare_places (venue, coordinates):\n",
    "\n",
    "    url = f\"https://api.foursquare.com/v3/places/search?query={venue}&ll={coordinates}1&limit=10\"\n",
    "\n",
    "    headers = {\n",
    "    \"accept\": \"application/json\",\n",
    "    \"Authorization\": (token)\n",
    "    }\n",
    "\n",
    "    response = requests.get(url, headers=headers)\n",
    "       \n",
    "    coordinates = response.json()[\"results\"][0][\"geocodes\"][\"main\"]\n",
    "    lat, lon = coordinates[\"latitude\"], coordinates[\"longitude\"]\n",
    "    name = response.json()[\"results\"][0][\"name\"]\n",
    "    name_coordinates(response.json()[\"results\"][0])\n",
    "    \n",
    "    new_list4 = []\n",
    "    for i in response.json()[\"results\"]:\n",
    "        new_list4.append(name_coordinates(i))\n",
    "        \n",
    "    return pd.DataFrame(new_list4)\n"
   ]
  },
  {
   "cell_type": "code",
   "execution_count": 18,
   "id": "fa70f4c4",
   "metadata": {},
   "outputs": [],
   "source": [
    "data = foursquare_places ('coffee shop', \"41.385071%2C2.142335\")"
   ]
  },
  {
   "cell_type": "code",
   "execution_count": 19,
   "id": "1117113a",
   "metadata": {},
   "outputs": [
    {
     "data": {
      "text/html": [
       "<div>\n",
       "<style scoped>\n",
       "    .dataframe tbody tr th:only-of-type {\n",
       "        vertical-align: middle;\n",
       "    }\n",
       "\n",
       "    .dataframe tbody tr th {\n",
       "        vertical-align: top;\n",
       "    }\n",
       "\n",
       "    .dataframe thead th {\n",
       "        text-align: right;\n",
       "    }\n",
       "</style>\n",
       "<table border=\"1\" class=\"dataframe\">\n",
       "  <thead>\n",
       "    <tr style=\"text-align: right;\">\n",
       "      <th></th>\n",
       "      <th>name</th>\n",
       "      <th>lat</th>\n",
       "      <th>lon</th>\n",
       "    </tr>\n",
       "  </thead>\n",
       "  <tbody>\n",
       "    <tr>\n",
       "      <th>0</th>\n",
       "      <td>Satan's Coffee Corner</td>\n",
       "      <td>41.382640</td>\n",
       "      <td>2.175303</td>\n",
       "    </tr>\n",
       "    <tr>\n",
       "      <th>1</th>\n",
       "      <td>Nømad Coffee Lab &amp; Shop</td>\n",
       "      <td>41.388989</td>\n",
       "      <td>2.177167</td>\n",
       "    </tr>\n",
       "    <tr>\n",
       "      <th>2</th>\n",
       "      <td>Cafés el Magnífico</td>\n",
       "      <td>41.383541</td>\n",
       "      <td>2.180957</td>\n",
       "    </tr>\n",
       "    <tr>\n",
       "      <th>3</th>\n",
       "      <td>Hidden Café Barcelona</td>\n",
       "      <td>41.388351</td>\n",
       "      <td>2.135953</td>\n",
       "    </tr>\n",
       "    <tr>\n",
       "      <th>4</th>\n",
       "      <td>Satan's Coffee</td>\n",
       "      <td>41.393575</td>\n",
       "      <td>2.174295</td>\n",
       "    </tr>\n",
       "    <tr>\n",
       "      <th>5</th>\n",
       "      <td>Roast Club</td>\n",
       "      <td>41.387825</td>\n",
       "      <td>2.157221</td>\n",
       "    </tr>\n",
       "    <tr>\n",
       "      <th>6</th>\n",
       "      <td>Syra Coffee</td>\n",
       "      <td>41.400981</td>\n",
       "      <td>2.159596</td>\n",
       "    </tr>\n",
       "    <tr>\n",
       "      <th>7</th>\n",
       "      <td>Federal</td>\n",
       "      <td>41.378049</td>\n",
       "      <td>2.177796</td>\n",
       "    </tr>\n",
       "    <tr>\n",
       "      <th>8</th>\n",
       "      <td>Dalston Coffee</td>\n",
       "      <td>41.384525</td>\n",
       "      <td>2.168502</td>\n",
       "    </tr>\n",
       "    <tr>\n",
       "      <th>9</th>\n",
       "      <td>SlowMov</td>\n",
       "      <td>41.398136</td>\n",
       "      <td>2.154765</td>\n",
       "    </tr>\n",
       "  </tbody>\n",
       "</table>\n",
       "</div>"
      ],
      "text/plain": [
       "                      name        lat       lon\n",
       "0    Satan's Coffee Corner  41.382640  2.175303\n",
       "1  Nømad Coffee Lab & Shop  41.388989  2.177167\n",
       "2       Cafés el Magnífico  41.383541  2.180957\n",
       "3    Hidden Café Barcelona  41.388351  2.135953\n",
       "4           Satan's Coffee  41.393575  2.174295\n",
       "5               Roast Club  41.387825  2.157221\n",
       "6              Syra Coffee  41.400981  2.159596\n",
       "7                  Federal  41.378049  2.177796\n",
       "8           Dalston Coffee  41.384525  2.168502\n",
       "9                  SlowMov  41.398136  2.154765"
      ]
     },
     "execution_count": 19,
     "metadata": {},
     "output_type": "execute_result"
    }
   ],
   "source": [
    "data"
   ]
  },
  {
   "cell_type": "markdown",
   "id": "1836c1a1",
   "metadata": {},
   "source": [
    "# 5. Export it into data folder as a json: `data/coffe_shops.json`"
   ]
  },
  {
   "cell_type": "code",
   "execution_count": 20,
   "id": "559d7942",
   "metadata": {},
   "outputs": [],
   "source": [
    "data.to_json('data/coffee_shops.json')"
   ]
  },
  {
   "cell_type": "markdown",
   "id": "2d77e99d",
   "metadata": {},
   "source": [
    "# BONUS: load it into MongoDB in a collection named \"ironcoffee\" using pymongo"
   ]
  },
  {
   "cell_type": "code",
   "execution_count": null,
   "id": "85b94955",
   "metadata": {},
   "outputs": [],
   "source": [
    "# your code here"
   ]
  }
 ],
 "metadata": {
  "kernelspec": {
   "display_name": "ironhack",
   "language": "python",
   "name": "ironhack"
  },
  "language_info": {
   "codemirror_mode": {
    "name": "ipython",
    "version": 3
   },
   "file_extension": ".py",
   "mimetype": "text/x-python",
   "name": "python",
   "nbconvert_exporter": "python",
   "pygments_lexer": "ipython3",
   "version": "3.9.15"
  },
  "toc": {
   "base_numbering": 1,
   "nav_menu": {},
   "number_sections": true,
   "sideBar": true,
   "skip_h1_title": false,
   "title_cell": "Table of Contents",
   "title_sidebar": "Contents",
   "toc_cell": false,
   "toc_position": {},
   "toc_section_display": true,
   "toc_window_display": true
  }
 },
 "nbformat": 4,
 "nbformat_minor": 5
}
