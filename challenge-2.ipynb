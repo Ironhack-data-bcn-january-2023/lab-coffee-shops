{
 "cells": [
  {
   "cell_type": "markdown",
   "id": "0809e785",
   "metadata": {},
   "source": [
    "# 1. Import the necessary libraries for you to be able to query 4square API"
   ]
  },
  {
   "cell_type": "code",
   "execution_count": 1,
   "id": "9b373771",
   "metadata": {},
   "outputs": [],
   "source": [
    "import requests\n",
    "import json\n",
    "import pandas as pd\n",
    "from getpass import getpass"
   ]
  },
  {
   "cell_type": "code",
   "execution_count": 2,
   "id": "f10bd076",
   "metadata": {},
   "outputs": [
    {
     "name": "stdout",
     "output_type": "stream",
     "text": [
      "········\n"
     ]
    }
   ],
   "source": [
    "client_id = getpass()"
   ]
  },
  {
   "cell_type": "code",
   "execution_count": 3,
   "id": "35b20b4d",
   "metadata": {},
   "outputs": [
    {
     "name": "stdout",
     "output_type": "stream",
     "text": [
      "········\n"
     ]
    }
   ],
   "source": [
    "token = getpass()"
   ]
  },
  {
   "cell_type": "markdown",
   "id": "e94dce92",
   "metadata": {},
   "source": [
    "# 2. Get names and location of the 10 coffee places by passing Ironhack as your location"
   ]
  },
  {
   "cell_type": "code",
   "execution_count": 4,
   "id": "07be9fef",
   "metadata": {},
   "outputs": [],
   "source": [
    "where = \"Carrer Pamplona, 96, 08018, Barcelona, Spain\""
   ]
  },
  {
   "cell_type": "code",
   "execution_count": 5,
   "id": "44e21ba6",
   "metadata": {},
   "outputs": [],
   "source": [
    "url_geocode = f\"https://geocode.xyz/{where}?json=1\""
   ]
  },
  {
   "cell_type": "code",
   "execution_count": 6,
   "id": "56d59eeb",
   "metadata": {
    "scrolled": true
   },
   "outputs": [
    {
     "data": {
      "text/plain": [
       "{'standard': {'stnumber': '96',\n",
       "  'addresst': 'Pamplona',\n",
       "  'statename': 'Catalonia',\n",
       "  'postal': '08018',\n",
       "  'region': 'Catalonia',\n",
       "  'prov': 'ES',\n",
       "  'city': 'Barcelona',\n",
       "  'countryname': 'Spain',\n",
       "  'confidence': '0.8'},\n",
       " 'longt': '2.19035',\n",
       " 'alt': {},\n",
       " 'elevation': {},\n",
       " 'latt': '41.39780'}"
      ]
     },
     "execution_count": 6,
     "metadata": {},
     "output_type": "execute_result"
    }
   ],
   "source": [
    "requests.get(url_geocode).json()"
   ]
  },
  {
   "cell_type": "code",
   "execution_count": 7,
   "id": "3522e5af",
   "metadata": {},
   "outputs": [],
   "source": [
    "ironhack_long = 2.19035\n",
    "ironhack_lat = -41.39780"
   ]
  },
  {
   "cell_type": "code",
   "execution_count": 8,
   "id": "448714f3",
   "metadata": {},
   "outputs": [],
   "source": [
    "query = \"coffee\""
   ]
  },
  {
   "cell_type": "code",
   "execution_count": 28,
   "id": "5148a1b6",
   "metadata": {},
   "outputs": [
    {
     "data": {
      "text/plain": [
       "<Response [200]>"
      ]
     },
     "execution_count": 28,
     "metadata": {},
     "output_type": "execute_result"
    }
   ],
   "source": [
    "url = 'https://api.foursquare.com/v3/places/search'\n",
    "\n",
    "params = {\n",
    "  \t\"query\": \"coffee\",\n",
    "  \t\"ll\": \"41.39780,2.19035\",\n",
    "  \t\"open_now\": \"true\",\n",
    "  \t\"sort\":\"DISTANCE\",\n",
    "    \"limit\": 10\n",
    "}\n",
    "\n",
    "headers = {\n",
    "    \"accept\": \"application/json\",\n",
    "    \"Authorization\": token\n",
    "}\n",
    "\n",
    "response = requests.request(\"GET\", url, params=params, headers=headers)\n",
    "response"
   ]
  },
  {
   "cell_type": "code",
   "execution_count": 29,
   "id": "f565d535",
   "metadata": {},
   "outputs": [
    {
     "data": {
      "text/plain": [
       "{'fsq_id': '53e1ef97498e1c99b383dc75',\n",
       " 'categories': [{'id': 11130,\n",
       "   'name': 'Office Building',\n",
       "   'icon': {'prefix': 'https://ss3.4sqi.net/img/categories_v2/building/default_',\n",
       "    'suffix': '.png'}}],\n",
       " 'chains': [],\n",
       " 'distance': 124,\n",
       " 'geocodes': {'main': {'latitude': 41.396993, 'longitude': 2.191171},\n",
       "  'roof': {'latitude': 41.396993, 'longitude': 2.191171}},\n",
       " 'link': '/v3/places/53e1ef97498e1c99b383dc75',\n",
       " 'location': {'address': 'Carrer Pamplona, 88',\n",
       "  'admin_region': 'Cataluña',\n",
       "  'country': 'ES',\n",
       "  'cross_street': '',\n",
       "  'formatted_address': 'Carrer Pamplona, 88, 08018 Barcelona Catalonia',\n",
       "  'locality': 'Barcelona',\n",
       "  'postcode': '08018',\n",
       "  'region': 'Catalonia'},\n",
       " 'name': 'Espacio 88',\n",
       " 'related_places': {},\n",
       " 'timezone': 'Europe/Madrid'}"
      ]
     },
     "execution_count": 29,
     "metadata": {},
     "output_type": "execute_result"
    }
   ],
   "source": [
    "response.json()[\"results\"][0]"
   ]
  },
  {
   "cell_type": "code",
   "execution_count": 30,
   "id": "8e0cbeae",
   "metadata": {},
   "outputs": [],
   "source": [
    "def name_coordinates (dict_):\n",
    "    \n",
    "    processed_dict = {\"name\": dict_[\"name\"],\n",
    "                     \"location\": dict_[\"location\"][\"address\"]}\n",
    "    \n",
    "    return processed_dict"
   ]
  },
  {
   "cell_type": "code",
   "execution_count": 33,
   "id": "d459b14c",
   "metadata": {},
   "outputs": [
    {
     "data": {
      "text/plain": [
       "{'name': 'Espacio 88', 'location': 'Carrer Pamplona, 88'}"
      ]
     },
     "execution_count": 33,
     "metadata": {},
     "output_type": "execute_result"
    }
   ],
   "source": [
    "coffee_shops = name_coordinates(response.json()[\"results\"][0])\n",
    "coffee_shops"
   ]
  },
  {
   "cell_type": "code",
   "execution_count": 35,
   "id": "3f1de5c5",
   "metadata": {},
   "outputs": [],
   "source": [
    "coffee_shops_list = []\n",
    "for i in response.json()[\"results\"]:\n",
    "    coffee_shops_list.append(name_coordinates(i))"
   ]
  },
  {
   "cell_type": "code",
   "execution_count": 36,
   "id": "1d72f571",
   "metadata": {},
   "outputs": [
    {
     "data": {
      "text/plain": [
       "[{'name': 'Espacio 88', 'location': 'Carrer Pamplona, 88'},\n",
       " {'name': 'Skye coffee co', 'location': 'Calle Pamplona, 88'},\n",
       " {'name': 'Espai Joliu', 'location': 'Carrer Badajoz, 95'},\n",
       " {'name': 'Granja Mabel', 'location': 'Marina, 114-116'},\n",
       " {'name': 'Market Cuina Fresca', 'location': 'Calle Badajoz, 83'},\n",
       " {'name': \"Nømad Roaster's Home\", 'location': 'Calle de Pujades, 95'},\n",
       " {'name': 'De Pa i Xocolata', 'location': 'Carrer de la Marina, 92'},\n",
       " {'name': 'Cacho', 'location': 'Carrer de Llull, 27'},\n",
       " {'name': 'Three Marks Coffee', 'location': 'Ausiàs Marc, 151'},\n",
       " {'name': 'Súper coffee & food store',\n",
       "  'location': 'Carrer de Roc Boronat, 102'}]"
      ]
     },
     "execution_count": 36,
     "metadata": {},
     "output_type": "execute_result"
    }
   ],
   "source": [
    "coffee_shops_list"
   ]
  },
  {
   "cell_type": "markdown",
   "id": "941b5dbf",
   "metadata": {},
   "source": [
    "# 3. Now get the 5 CLOSEST coffe places. Make use of params: limit, near?"
   ]
  },
  {
   "cell_type": "code",
   "execution_count": 39,
   "id": "fda8ddff",
   "metadata": {},
   "outputs": [
    {
     "data": {
      "text/plain": [
       "<Response [200]>"
      ]
     },
     "execution_count": 39,
     "metadata": {},
     "output_type": "execute_result"
    }
   ],
   "source": [
    "url = 'https://api.foursquare.com/v3/places/search'\n",
    "\n",
    "params = {\n",
    "  \t\"query\": \"coffee\",\n",
    "  \t\"ll\": \"41.39780,2.19035\",\n",
    "  \t\"open_now\": \"true\",\n",
    "  \t\"sort\":\"DISTANCE\",\n",
    "    \"limit\": 5,\n",
    "    \"radius\": 500\n",
    "}\n",
    "\n",
    "headers = {\n",
    "    \"accept\": \"application/json\",\n",
    "    \"Authorization\": token\n",
    "}\n",
    "\n",
    "response = requests.request(\"GET\", url, params=params, headers=headers)\n",
    "response"
   ]
  },
  {
   "cell_type": "code",
   "execution_count": 40,
   "id": "59137e60",
   "metadata": {},
   "outputs": [
    {
     "data": {
      "text/plain": [
       "{'fsq_id': '53e1ef97498e1c99b383dc75',\n",
       " 'categories': [{'id': 11130,\n",
       "   'name': 'Office Building',\n",
       "   'icon': {'prefix': 'https://ss3.4sqi.net/img/categories_v2/building/default_',\n",
       "    'suffix': '.png'}}],\n",
       " 'chains': [],\n",
       " 'distance': 124,\n",
       " 'geocodes': {'main': {'latitude': 41.396993, 'longitude': 2.191171},\n",
       "  'roof': {'latitude': 41.396993, 'longitude': 2.191171}},\n",
       " 'link': '/v3/places/53e1ef97498e1c99b383dc75',\n",
       " 'location': {'address': 'Carrer Pamplona, 88',\n",
       "  'admin_region': 'Cataluña',\n",
       "  'country': 'ES',\n",
       "  'cross_street': '',\n",
       "  'formatted_address': 'Carrer Pamplona, 88, 08018 Barcelona Catalonia',\n",
       "  'locality': 'Barcelona',\n",
       "  'postcode': '08018',\n",
       "  'region': 'Catalonia'},\n",
       " 'name': 'Espacio 88',\n",
       " 'related_places': {},\n",
       " 'timezone': 'Europe/Madrid'}"
      ]
     },
     "execution_count": 40,
     "metadata": {},
     "output_type": "execute_result"
    }
   ],
   "source": [
    "response.json()[\"results\"][0]"
   ]
  },
  {
   "cell_type": "code",
   "execution_count": 41,
   "id": "3910217e",
   "metadata": {},
   "outputs": [
    {
     "data": {
      "text/plain": [
       "{'name': 'Espacio 88', 'location': 'Carrer Pamplona, 88'}"
      ]
     },
     "execution_count": 41,
     "metadata": {},
     "output_type": "execute_result"
    }
   ],
   "source": [
    "closest_cs = name_coordinates(response.json()[\"results\"][0])\n",
    "closest_cs"
   ]
  },
  {
   "cell_type": "code",
   "execution_count": 42,
   "id": "51587ea7",
   "metadata": {},
   "outputs": [],
   "source": [
    "closest_cs_list = []\n",
    "for i in response.json()[\"results\"]:\n",
    "    closest_cs_list.append(name_coordinates(i))"
   ]
  },
  {
   "cell_type": "code",
   "execution_count": 43,
   "id": "095e508e",
   "metadata": {},
   "outputs": [
    {
     "data": {
      "text/plain": [
       "[{'name': 'Espacio 88', 'location': 'Carrer Pamplona, 88'},\n",
       " {'name': 'Skye coffee co', 'location': 'Calle Pamplona, 88'},\n",
       " {'name': 'Bar Sancho', 'location': 'Sancho de Ávila, 7'},\n",
       " {'name': 'Andalucia Restaurante', 'location': 'Avenida Meridiana, 30-32'},\n",
       " {'name': 'Espai Joliu', 'location': 'Carrer Badajoz, 95'}]"
      ]
     },
     "execution_count": 43,
     "metadata": {},
     "output_type": "execute_result"
    }
   ],
   "source": [
    "closest_cs_list"
   ]
  },
  {
   "cell_type": "markdown",
   "id": "d19904e8",
   "metadata": {},
   "source": [
    "# 4. Define a function that returns name, lat, long for starbucks OR restaurants AND for any given location"
   ]
  },
  {
   "cell_type": "code",
   "execution_count": 110,
   "id": "99ed9fd1",
   "metadata": {},
   "outputs": [],
   "source": [
    "def name_coordinates (dict_):  \n",
    "    processed_dict = {\"name\": dict_[\"name\"],\n",
    "                     \"lat\": dict_[\"geocodes\"][\"main\"][\"latitude\"],\n",
    "                     \"lon\": dict_[\"geocodes\"][\"main\"][\"longitude\"]}\n",
    "    \n",
    "    return processed_dict"
   ]
  },
  {
   "cell_type": "code",
   "execution_count": 111,
   "id": "a811c611",
   "metadata": {},
   "outputs": [],
   "source": [
    "def foursquare_places (venue, coordinates):\n",
    "    url = f\"https://api.foursquare.com/v3/places/search?query={venue}&ll={coordinates}1&limit=10\"\n",
    "    headers = {\n",
    "    \"accept\": \"application/json\",\n",
    "    \"Authorization\": (token)\n",
    "    }\n",
    "    response = requests.get(url, headers=headers)\n",
    "       \n",
    "    coordinates = response.json()[\"results\"][0][\"geocodes\"][\"main\"]\n",
    "    lat, lon = coordinates[\"latitude\"], coordinates[\"longitude\"]\n",
    "    name = response.json()[\"results\"][0][\"name\"]\n",
    "    name_coordinates(response.json()[\"results\"][0])\n",
    "    \n",
    "    new_list4 = []\n",
    "    for i in response.json()[\"results\"]:\n",
    "        new_list4.append(name_coordinates(i))\n",
    "        \n",
    "    return pd.DataFrame(new_list4)"
   ]
  },
  {
   "cell_type": "code",
   "execution_count": 118,
   "id": "78b1cd51",
   "metadata": {},
   "outputs": [
    {
     "data": {
      "text/html": [
       "<div>\n",
       "<style scoped>\n",
       "    .dataframe tbody tr th:only-of-type {\n",
       "        vertical-align: middle;\n",
       "    }\n",
       "\n",
       "    .dataframe tbody tr th {\n",
       "        vertical-align: top;\n",
       "    }\n",
       "\n",
       "    .dataframe thead th {\n",
       "        text-align: right;\n",
       "    }\n",
       "</style>\n",
       "<table border=\"1\" class=\"dataframe\">\n",
       "  <thead>\n",
       "    <tr style=\"text-align: right;\">\n",
       "      <th></th>\n",
       "      <th>name</th>\n",
       "      <th>lat</th>\n",
       "      <th>lon</th>\n",
       "    </tr>\n",
       "  </thead>\n",
       "  <tbody>\n",
       "    <tr>\n",
       "      <th>0</th>\n",
       "      <td>Oporto restaurante</td>\n",
       "      <td>41.402084</td>\n",
       "      <td>2.175296</td>\n",
       "    </tr>\n",
       "    <tr>\n",
       "      <th>1</th>\n",
       "      <td>La Selva</td>\n",
       "      <td>41.408707</td>\n",
       "      <td>2.173608</td>\n",
       "    </tr>\n",
       "    <tr>\n",
       "      <th>2</th>\n",
       "      <td>The Venue Steakhouse</td>\n",
       "      <td>41.402476</td>\n",
       "      <td>2.169318</td>\n",
       "    </tr>\n",
       "    <tr>\n",
       "      <th>3</th>\n",
       "      <td>El Ruedo</td>\n",
       "      <td>41.410868</td>\n",
       "      <td>2.181183</td>\n",
       "    </tr>\n",
       "    <tr>\n",
       "      <th>4</th>\n",
       "      <td>Parking Pizza</td>\n",
       "      <td>41.396301</td>\n",
       "      <td>2.174171</td>\n",
       "    </tr>\n",
       "    <tr>\n",
       "      <th>5</th>\n",
       "      <td>Gorria</td>\n",
       "      <td>41.398758</td>\n",
       "      <td>2.177978</td>\n",
       "    </tr>\n",
       "    <tr>\n",
       "      <th>6</th>\n",
       "      <td>Can Kenji</td>\n",
       "      <td>41.400368</td>\n",
       "      <td>2.166290</td>\n",
       "    </tr>\n",
       "    <tr>\n",
       "      <th>7</th>\n",
       "      <td>Vivant</td>\n",
       "      <td>41.396101</td>\n",
       "      <td>2.172563</td>\n",
       "    </tr>\n",
       "    <tr>\n",
       "      <th>8</th>\n",
       "      <td>Billy Brunch</td>\n",
       "      <td>41.397712</td>\n",
       "      <td>2.169312</td>\n",
       "    </tr>\n",
       "    <tr>\n",
       "      <th>9</th>\n",
       "      <td>Comida de Olla</td>\n",
       "      <td>41.412203</td>\n",
       "      <td>2.164128</td>\n",
       "    </tr>\n",
       "  </tbody>\n",
       "</table>\n",
       "</div>"
      ],
      "text/plain": [
       "                   name        lat       lon\n",
       "0    Oporto restaurante  41.402084  2.175296\n",
       "1              La Selva  41.408707  2.173608\n",
       "2  The Venue Steakhouse  41.402476  2.169318\n",
       "3              El Ruedo  41.410868  2.181183\n",
       "4         Parking Pizza  41.396301  2.174171\n",
       "5                Gorria  41.398758  2.177978\n",
       "6             Can Kenji  41.400368  2.166290\n",
       "7                Vivant  41.396101  2.172563\n",
       "8          Billy Brunch  41.397712  2.169312\n",
       "9        Comida de Olla  41.412203  2.164128"
      ]
     },
     "execution_count": 118,
     "metadata": {},
     "output_type": "execute_result"
    }
   ],
   "source": [
    "restaurants = foursquare_places(\"restaurant\", \"41.4052325,2.1750585\")\n",
    "restaurants"
   ]
  },
  {
   "cell_type": "markdown",
   "id": "1836c1a1",
   "metadata": {},
   "source": [
    "# 5. Export it into data folder as a json: `data/coffe_shops.json`"
   ]
  },
  {
   "cell_type": "code",
   "execution_count": 116,
   "id": "7ac5f2a8",
   "metadata": {},
   "outputs": [],
   "source": [
    "restaurants.to_json('../lab-coffee-shops/restaurants.json')"
   ]
  },
  {
   "cell_type": "markdown",
   "id": "2d77e99d",
   "metadata": {},
   "source": [
    "# BONUS: load it into MongoDB in a collection named \"ironcoffee\" using pymongo"
   ]
  },
  {
   "cell_type": "code",
   "execution_count": null,
   "id": "85b94955",
   "metadata": {},
   "outputs": [],
   "source": [
    "# your code here"
   ]
  }
 ],
 "metadata": {
  "kernelspec": {
   "display_name": "ironhack",
   "language": "python",
   "name": "ironhack"
  },
  "language_info": {
   "codemirror_mode": {
    "name": "ipython",
    "version": 3
   },
   "file_extension": ".py",
   "mimetype": "text/x-python",
   "name": "python",
   "nbconvert_exporter": "python",
   "pygments_lexer": "ipython3",
   "version": "3.9.12"
  },
  "toc": {
   "base_numbering": 1,
   "nav_menu": {},
   "number_sections": true,
   "sideBar": true,
   "skip_h1_title": false,
   "title_cell": "Table of Contents",
   "title_sidebar": "Contents",
   "toc_cell": false,
   "toc_position": {},
   "toc_section_display": true,
   "toc_window_display": false
  }
 },
 "nbformat": 4,
 "nbformat_minor": 5
}
