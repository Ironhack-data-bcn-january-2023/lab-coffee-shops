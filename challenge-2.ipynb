{
 "cells": [
  {
   "cell_type": "markdown",
   "id": "0809e785",
   "metadata": {},
   "source": [
    "# 1. Import the necessary libraries for you to be able to query 4square API"
   ]
  },
  {
   "cell_type": "code",
   "execution_count": 1,
   "id": "9b373771",
   "metadata": {},
   "outputs": [],
   "source": [
    "import requests\n",
    "import json\n",
    "import pandas as pd\n",
    "from getpass import getpass\n",
    "import dotenv "
   ]
  },
  {
   "cell_type": "code",
   "execution_count": 2,
   "id": "3e3ec73a",
   "metadata": {},
   "outputs": [],
   "source": [
    "token = getpass()"
   ]
  },
  {
   "cell_type": "markdown",
   "id": "e94dce92",
   "metadata": {},
   "source": [
    "# 2. Get names and location of the 10 coffee places by passing Ironhack as your location"
   ]
  },
  {
   "cell_type": "code",
   "execution_count": 12,
   "id": "1d72f571",
   "metadata": {},
   "outputs": [],
   "source": [
    "\n",
    "\n",
    "url = \"https://api.foursquare.com/v3/places/search?query=Coffee%20place&near=Ironhack%20Barcelona&limit=10\"\n",
    "\n",
    "headers = {\n",
    "    \"accept\": \"application/json\",\n",
    "    \"Authorization\": (token)\n",
    "}\n",
    "\n",
    "response = requests.get(url, headers=headers)\n",
    "\n",
    "\n"
   ]
  },
  {
   "cell_type": "code",
   "execution_count": 20,
   "id": "cdd63ff2",
   "metadata": {},
   "outputs": [
    {
     "data": {
      "text/plain": [
       "[{'name': \"Satan's Coffee Corner\",\n",
       "  'location': \"Carrer de l'Arc de Sant Ramon del Call, 11\"},\n",
       " {'name': 'Nømad Coffee Lab & Shop', 'location': 'Pasatge Sert, 12'},\n",
       " {'name': 'Cafés el Magnífico', 'location': 'Argenteria, 64'},\n",
       " {'name': \"Satan's Coffee\",\n",
       "  'location': 'Gran Vía de Les Corts Catalanes, 700'},\n",
       " {'name': 'Roast Club', 'location': 'Carrer de València, 190'},\n",
       " {'name': 'Hidden Café Barcelona', 'location': 'Carrer Déu I Mata, 62 Bajo'},\n",
       " {'name': 'Syra Coffee', 'location': 'Siracusa, 13'},\n",
       " {'name': 'Dalston Coffee', 'location': 'Calle de Les Ramelleres, 16'},\n",
       " {'name': 'Federal', 'location': 'Passatge de la Pau, 11'},\n",
       " {'name': 'Cosmo', 'location': 'Enric Granados, 3'}]"
      ]
     },
     "execution_count": 20,
     "metadata": {},
     "output_type": "execute_result"
    }
   ],
   "source": [
    "def name_location (dict_):\n",
    "    \n",
    "    processed_dict = {\"name\": dict_[\"name\"],\n",
    "                     \"location\": dict_[\"location\"][\"address\"]}\n",
    "    \n",
    "    return processed_dict\n",
    "\n",
    "name_location(response.json()[\"results\"][0])\n",
    "\n",
    "ten_shops = []\n",
    "for i in response.json()[\"results\"]:\n",
    "    ten_shops.append(name_location(i))\n",
    "\n",
    "ten_shops\n"
   ]
  },
  {
   "cell_type": "markdown",
   "id": "941b5dbf",
   "metadata": {},
   "source": [
    "# 3. Now get the 5 CLOSEST coffe places. Make use of params: limit, near?"
   ]
  },
  {
   "cell_type": "code",
   "execution_count": 140,
   "id": "fda8ddff",
   "metadata": {},
   "outputs": [
    {
     "data": {
      "text/plain": [
       "[{'name': 'Roast Club', 'location': 'Carrer de València, 190'},\n",
       " {'name': 'Robata', 'location': \"Carrer D'Enric Granados, 55\"},\n",
       " {'name': 'La Pastisseria Barcelona', 'location': 'Aragó, 228'},\n",
       " {'name': 'Brunch & Cake', 'location': 'Enric Granados, 19'},\n",
       " {'name': 'DelaCrem', 'location': 'Enric Granados, 15-17'}]"
      ]
     },
     "execution_count": 140,
     "metadata": {},
     "output_type": "execute_result"
    }
   ],
   "source": [
    "url = \"https://api.foursquare.com/v3/places/search?query=Coffee%20place&near=Ironhack%20Barcelona&sort=DISTANCE&limit=5\"\n",
    "\n",
    "headers = {\n",
    "    \"accept\": \"application/json\",\n",
    "    \"Authorization\": (token)\n",
    "}\n",
    "\n",
    "response = requests.get(url, headers=headers)\n",
    "\n",
    "five_shops = []\n",
    "for i in response.json()[\"results\"]:\n",
    "    five_shops.append(name_location(i))\n",
    "\n",
    "five_shops\n",
    "\n"
   ]
  },
  {
   "cell_type": "markdown",
   "id": "d19904e8",
   "metadata": {},
   "source": [
    "# 4. Define a function that returns name, lat, long for starbucks OR restaurants AND for any given location"
   ]
  },
  {
   "cell_type": "code",
   "execution_count": 152,
   "id": "1fad5153",
   "metadata": {},
   "outputs": [],
   "source": []
  },
  {
   "cell_type": "code",
   "execution_count": 172,
   "id": "c878f1d9",
   "metadata": {},
   "outputs": [],
   "source": [
    "def foursquare_places(venue, coordinates):\n",
    "    url = f\"https://api.foursquare.com/v3/places/search?query={venue}&ll={coordinates}&limit=10\"\n",
    "    headers = {\n",
    "        \"accept\": \"application/json\",\n",
    "        \"Authorization\": (token)\n",
    "        }\n",
    "    response = requests.get(url, headers=headers)\n",
    "    results = response.json()[\"results\"]\n",
    "    processed_dict = [{\"name\": result[\"name\"],\n",
    "                     \"latitude\": result[\"geocodes\"][\"main\"][\"latitude\"],\n",
    "                     \"longitude\": result[\"geocodes\"][\"main\"][\"longitude\"]} for result in results]\n",
    "    \n",
    "    df = pd.DataFrame(processed_dict)\n",
    "    return df\n"
   ]
  },
  {
   "cell_type": "code",
   "execution_count": 193,
   "id": "50b4b852",
   "metadata": {},
   "outputs": [],
   "source": [
    "df = foursquare_places(\"Coffee shop\", \"41.8781,-87.6298\")"
   ]
  },
  {
   "cell_type": "code",
   "execution_count": 183,
   "id": "11066710",
   "metadata": {},
   "outputs": [],
   "source": []
  },
  {
   "cell_type": "code",
   "execution_count": null,
   "id": "ef872648",
   "metadata": {},
   "outputs": [],
   "source": []
  },
  {
   "cell_type": "code",
   "execution_count": null,
   "id": "6af70bc1",
   "metadata": {},
   "outputs": [],
   "source": []
  },
  {
   "cell_type": "markdown",
   "id": "1836c1a1",
   "metadata": {},
   "source": [
    "# 5. Export it into data folder as a json: `data/coffe_shops.json`"
   ]
  },
  {
   "cell_type": "code",
   "execution_count": 194,
   "id": "7ac5f2a8",
   "metadata": {},
   "outputs": [],
   "source": [
    "df = data.to_json()"
   ]
  },
  {
   "cell_type": "code",
   "execution_count": 196,
   "id": "555885a8",
   "metadata": {},
   "outputs": [],
   "source": [
    "with open(\"coffe_shops.json\", \"w\") as f:\n",
    "    json.dump(df, f)"
   ]
  },
  {
   "cell_type": "markdown",
   "id": "2d77e99d",
   "metadata": {},
   "source": [
    "# BONUS: load it into MongoDB in a collection named \"ironcoffee\" using pymongo"
   ]
  },
  {
   "cell_type": "code",
   "execution_count": null,
   "id": "85b94955",
   "metadata": {},
   "outputs": [],
   "source": [
    "# your code here"
   ]
  }
 ],
 "metadata": {
  "kernelspec": {
   "display_name": "ironhack",
   "language": "python",
   "name": "ironhack"
  },
  "language_info": {
   "codemirror_mode": {
    "name": "ipython",
    "version": 3
   },
   "file_extension": ".py",
   "mimetype": "text/x-python",
   "name": "python",
   "nbconvert_exporter": "python",
   "pygments_lexer": "ipython3",
   "version": "3.10.8"
  },
  "toc": {
   "base_numbering": 1,
   "nav_menu": {},
   "number_sections": true,
   "sideBar": true,
   "skip_h1_title": false,
   "title_cell": "Table of Contents",
   "title_sidebar": "Contents",
   "toc_cell": false,
   "toc_position": {},
   "toc_section_display": true,
   "toc_window_display": true
  }
 },
 "nbformat": 4,
 "nbformat_minor": 5
}
