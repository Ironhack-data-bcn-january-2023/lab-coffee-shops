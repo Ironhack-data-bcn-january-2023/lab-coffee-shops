{
 "cells": [
  {
   "cell_type": "markdown",
   "id": "0809e785",
   "metadata": {},
   "source": [
    "# 1. Import the necessary libraries for you to be able to query 4square API"
   ]
  },
  {
   "cell_type": "code",
   "execution_count": 1,
   "id": "9b373771",
   "metadata": {},
   "outputs": [],
   "source": [
    "import requests\n",
    "import json\n",
    "import pandas as pd\n",
    "from getpass import getpass\n",
    "from dotenv import load_dotenv\n",
    "import os\n",
    "from pandas.io.json import json_normalize\n",
    "import folium\n",
    "from geopy.geocoders import Nominatim"
   ]
  },
  {
   "cell_type": "code",
   "execution_count": 32,
   "id": "86b1c967",
   "metadata": {},
   "outputs": [
    {
     "data": {
      "text/plain": [
       "True"
      ]
     },
     "execution_count": 32,
     "metadata": {},
     "output_type": "execute_result"
    }
   ],
   "source": [
    "load_dotenv()"
   ]
  },
  {
   "cell_type": "code",
   "execution_count": 33,
   "id": "65ff7319",
   "metadata": {},
   "outputs": [],
   "source": [
    "password_2 = os.getenv('key_')"
   ]
  },
  {
   "cell_type": "code",
   "execution_count": 34,
   "id": "7078c3a0",
   "metadata": {},
   "outputs": [
    {
     "name": "stdout",
     "output_type": "stream",
     "text": [
      "fsq3TswzhUKwfxpIRVt7Y1DznLxOZyNxYR9sbumWi9UObHg=\n"
     ]
    }
   ],
   "source": [
    "print(password_2)"
   ]
  },
  {
   "cell_type": "markdown",
   "id": "e94dce92",
   "metadata": {},
   "source": [
    "# 2. Get names and location of the 10 coffee places by passing Ironhack as your location"
   ]
  },
  {
   "cell_type": "code",
   "execution_count": 58,
   "id": "b44ebd7c",
   "metadata": {},
   "outputs": [],
   "source": [
    "import time\n",
    "\n",
    "def get_coordinates (place):\n",
    "    url_geocode = f\"https://geocode.xyz/{place}?json=1\"\n",
    "    \n",
    "    # place_coordinates = {\"type\": \"Point\", \n",
    "                            # \"coordinates\": [latitude, longitude]}\n",
    "    \n",
    "    try:\n",
    "        res = requests.get(url_geocode).json()\n",
    "        return res[\"longt\"], res[\"latt\"]\n",
    "    except:\n",
    "        print(f\"Sorry, no matches for {place}\")\n",
    "        time.sleep(3)\n",
    "        get_coordinates (place)"
   ]
  },
  {
   "cell_type": "code",
   "execution_count": 59,
   "id": "73a0da8f",
   "metadata": {},
   "outputs": [],
   "source": [
    "ironhack = get_coordinates (\"Poblenou, Barcelona\")"
   ]
  },
  {
   "cell_type": "code",
   "execution_count": 65,
   "id": "debe36c5",
   "metadata": {},
   "outputs": [
    {
     "data": {
      "text/plain": [
       "('2.20291', '41.40336')"
      ]
     },
     "execution_count": 65,
     "metadata": {},
     "output_type": "execute_result"
    }
   ],
   "source": [
    "ironhack"
   ]
  },
  {
   "cell_type": "code",
   "execution_count": 66,
   "id": "2a86a7fd",
   "metadata": {},
   "outputs": [],
   "source": [
    "query = 'Coffee Shop'"
   ]
  },
  {
   "cell_type": "code",
   "execution_count": 124,
   "id": "47f3d859",
   "metadata": {},
   "outputs": [
    {
     "data": {
      "text/plain": [
       "<Response [200]>"
      ]
     },
     "execution_count": 124,
     "metadata": {},
     "output_type": "execute_result"
    }
   ],
   "source": [
    "url = \"https://api.foursquare.com/v3/places/search\"\n",
    "\n",
    "params = {\n",
    "  \t\"query\": \"coffee\",\n",
    "  \t\"near\": \"Ironhack Barcelona\",\n",
    "  \t\"sort\": \"DISTANCE\"\n",
    "}\n",
    "\n",
    "headers = {\n",
    "    \"accept\": \"application/json\",\n",
    "    \"Authorization\": password_2\n",
    "}\n",
    "\n",
    "response = requests.get(url, headers=headers ,params=params)\n",
    "response"
   ]
  },
  {
   "cell_type": "code",
   "execution_count": 125,
   "id": "3126ac31",
   "metadata": {},
   "outputs": [
    {
     "data": {
      "text/plain": [
       "10"
      ]
     },
     "execution_count": 125,
     "metadata": {},
     "output_type": "execute_result"
    }
   ],
   "source": [
    "len(response.json()[\"results\"])"
   ]
  },
  {
   "cell_type": "code",
   "execution_count": 126,
   "id": "a313b943",
   "metadata": {},
   "outputs": [
    {
     "data": {
      "text/plain": [
       "'Santagloria'"
      ]
     },
     "execution_count": 126,
     "metadata": {},
     "output_type": "execute_result"
    }
   ],
   "source": [
    "response.json()[\"results\"][0]['name']"
   ]
  },
  {
   "cell_type": "code",
   "execution_count": 127,
   "id": "96bf9f78",
   "metadata": {},
   "outputs": [
    {
     "data": {
      "text/plain": [
       "dict"
      ]
     },
     "execution_count": 127,
     "metadata": {},
     "output_type": "execute_result"
    }
   ],
   "source": [
    "type(response.json()['results'][0])"
   ]
  },
  {
   "cell_type": "code",
   "execution_count": 128,
   "id": "a1cfafa7",
   "metadata": {},
   "outputs": [
    {
     "data": {
      "text/plain": [
       "\"Carrer D'Aribau, 36\""
      ]
     },
     "execution_count": 128,
     "metadata": {},
     "output_type": "execute_result"
    }
   ],
   "source": [
    "response.json()[\"results\"][4]['location']['address']"
   ]
  },
  {
   "cell_type": "code",
   "execution_count": 129,
   "id": "42074e66",
   "metadata": {},
   "outputs": [],
   "source": [
    "respo = response.json()[\"results\"]"
   ]
  },
  {
   "cell_type": "code",
   "execution_count": 149,
   "id": "cbb8e3dc",
   "metadata": {},
   "outputs": [],
   "source": [
    "def name_coordinates (json_response):\n",
    "    processed_dict = {\n",
    "        'name': [],\n",
    "        'location': []\n",
    "    }\n",
    "\n",
    "    for i in range(len(json_response)):\n",
    "        processed_dict['name'].append(json_response[i]['name'])\n",
    "        processed_dict['location'].append(json_response[i]['location']['address'])\n",
    "    \n",
    "    df = pd.DataFrame(processed_dict)\n",
    "\n",
    "    return df"
   ]
  },
  {
   "cell_type": "code",
   "execution_count": 150,
   "id": "edaf1a4d",
   "metadata": {},
   "outputs": [],
   "source": [
    "x = name_coordinates(respo)"
   ]
  },
  {
   "cell_type": "code",
   "execution_count": 151,
   "id": "c470d5a2",
   "metadata": {},
   "outputs": [
    {
     "data": {
      "text/html": [
       "<div>\n",
       "<style scoped>\n",
       "    .dataframe tbody tr th:only-of-type {\n",
       "        vertical-align: middle;\n",
       "    }\n",
       "\n",
       "    .dataframe tbody tr th {\n",
       "        vertical-align: top;\n",
       "    }\n",
       "\n",
       "    .dataframe thead th {\n",
       "        text-align: right;\n",
       "    }\n",
       "</style>\n",
       "<table border=\"1\" class=\"dataframe\">\n",
       "  <thead>\n",
       "    <tr style=\"text-align: right;\">\n",
       "      <th></th>\n",
       "      <th>name</th>\n",
       "      <th>location</th>\n",
       "    </tr>\n",
       "  </thead>\n",
       "  <tbody>\n",
       "    <tr>\n",
       "      <th>0</th>\n",
       "      <td>Santagloria</td>\n",
       "      <td>Calle D'Aribau, 72</td>\n",
       "    </tr>\n",
       "    <tr>\n",
       "      <th>1</th>\n",
       "      <td>Bagoa</td>\n",
       "      <td>Calle Consell de Cent, 325</td>\n",
       "    </tr>\n",
       "    <tr>\n",
       "      <th>2</th>\n",
       "      <td>Roast Club</td>\n",
       "      <td>Carrer de València, 190</td>\n",
       "    </tr>\n",
       "    <tr>\n",
       "      <th>3</th>\n",
       "      <td>Creps Barcelona</td>\n",
       "      <td>Enric Granados, 38</td>\n",
       "    </tr>\n",
       "    <tr>\n",
       "      <th>4</th>\n",
       "      <td>El Arbol Brunch</td>\n",
       "      <td>Carrer D'Aribau, 36</td>\n",
       "    </tr>\n",
       "    <tr>\n",
       "      <th>5</th>\n",
       "      <td>Cafes Caracas</td>\n",
       "      <td>Casanova, 125</td>\n",
       "    </tr>\n",
       "    <tr>\n",
       "      <th>6</th>\n",
       "      <td>Cosmo</td>\n",
       "      <td>Enric Granados, 3</td>\n",
       "    </tr>\n",
       "    <tr>\n",
       "      <th>7</th>\n",
       "      <td>La Central</td>\n",
       "      <td>Calle Mallorca, 237</td>\n",
       "    </tr>\n",
       "    <tr>\n",
       "      <th>8</th>\n",
       "      <td>Baldomero</td>\n",
       "      <td>Pasatge de Mercader, 16</td>\n",
       "    </tr>\n",
       "    <tr>\n",
       "      <th>9</th>\n",
       "      <td>Cookona</td>\n",
       "      <td>Carrer Rosselló 160</td>\n",
       "    </tr>\n",
       "  </tbody>\n",
       "</table>\n",
       "</div>"
      ],
      "text/plain": [
       "              name                    location\n",
       "0      Santagloria          Calle D'Aribau, 72\n",
       "1            Bagoa  Calle Consell de Cent, 325\n",
       "2       Roast Club     Carrer de València, 190\n",
       "3  Creps Barcelona          Enric Granados, 38\n",
       "4  El Arbol Brunch         Carrer D'Aribau, 36\n",
       "5    Cafes Caracas               Casanova, 125\n",
       "6            Cosmo           Enric Granados, 3\n",
       "7       La Central         Calle Mallorca, 237\n",
       "8        Baldomero     Pasatge de Mercader, 16\n",
       "9          Cookona         Carrer Rosselló 160"
      ]
     },
     "execution_count": 151,
     "metadata": {},
     "output_type": "execute_result"
    }
   ],
   "source": [
    "x"
   ]
  },
  {
   "attachments": {},
   "cell_type": "markdown",
   "id": "941b5dbf",
   "metadata": {},
   "source": [
    "# 3. Now get the 5 CLOSEST coffee places. Make use of params: limit, near?"
   ]
  },
  {
   "cell_type": "code",
   "execution_count": 156,
   "id": "fda8ddff",
   "metadata": {},
   "outputs": [],
   "source": [
    "# your code here\n",
    "import requests\n",
    "\n",
    "url = \"https://api.foursquare.com/v3/places/search\"\n",
    "\n",
    "params = {\n",
    "  \t\"query\": \"coffee\",\n",
    "    \"near\": \"Ironhack Barcelona\",\n",
    "  \t\"limit\": \"5\",\n",
    "  \t\"sort\":\"DISTANCE\"\n",
    "}\n",
    "\n",
    "headers = {\n",
    "    \"Accept\": \"application/json\",\n",
    "    \"Authorization\": password_2\n",
    "}\n",
    "\n",
    "response_3 = requests.request(\"GET\", url, params=params, headers=headers)\n",
    "\n",
    "res_3 = response_3.json()['results']"
   ]
  },
  {
   "cell_type": "code",
   "execution_count": 157,
   "id": "6ef57d13",
   "metadata": {},
   "outputs": [],
   "source": [
    "a = name_coordinates(res_3)"
   ]
  },
  {
   "cell_type": "code",
   "execution_count": 158,
   "id": "7f1aa1b3",
   "metadata": {},
   "outputs": [
    {
     "data": {
      "text/html": [
       "<div>\n",
       "<style scoped>\n",
       "    .dataframe tbody tr th:only-of-type {\n",
       "        vertical-align: middle;\n",
       "    }\n",
       "\n",
       "    .dataframe tbody tr th {\n",
       "        vertical-align: top;\n",
       "    }\n",
       "\n",
       "    .dataframe thead th {\n",
       "        text-align: right;\n",
       "    }\n",
       "</style>\n",
       "<table border=\"1\" class=\"dataframe\">\n",
       "  <thead>\n",
       "    <tr style=\"text-align: right;\">\n",
       "      <th></th>\n",
       "      <th>name</th>\n",
       "      <th>location</th>\n",
       "    </tr>\n",
       "  </thead>\n",
       "  <tbody>\n",
       "    <tr>\n",
       "      <th>0</th>\n",
       "      <td>Santagloria</td>\n",
       "      <td>Calle D'Aribau, 72</td>\n",
       "    </tr>\n",
       "    <tr>\n",
       "      <th>1</th>\n",
       "      <td>Bagoa</td>\n",
       "      <td>Calle Consell de Cent, 325</td>\n",
       "    </tr>\n",
       "    <tr>\n",
       "      <th>2</th>\n",
       "      <td>Roast Club</td>\n",
       "      <td>Carrer de València, 190</td>\n",
       "    </tr>\n",
       "    <tr>\n",
       "      <th>3</th>\n",
       "      <td>Creps Barcelona</td>\n",
       "      <td>Enric Granados, 38</td>\n",
       "    </tr>\n",
       "    <tr>\n",
       "      <th>4</th>\n",
       "      <td>El Arbol Brunch</td>\n",
       "      <td>Carrer D'Aribau, 36</td>\n",
       "    </tr>\n",
       "  </tbody>\n",
       "</table>\n",
       "</div>"
      ],
      "text/plain": [
       "              name                    location\n",
       "0      Santagloria          Calle D'Aribau, 72\n",
       "1            Bagoa  Calle Consell de Cent, 325\n",
       "2       Roast Club     Carrer de València, 190\n",
       "3  Creps Barcelona          Enric Granados, 38\n",
       "4  El Arbol Brunch         Carrer D'Aribau, 36"
      ]
     },
     "execution_count": 158,
     "metadata": {},
     "output_type": "execute_result"
    }
   ],
   "source": [
    "a"
   ]
  },
  {
   "cell_type": "markdown",
   "id": "d19904e8",
   "metadata": {},
   "source": [
    "# 4. Define a function that returns name, lat, long for starbucks OR restaurants AND for any given location"
   ]
  },
  {
   "cell_type": "code",
   "execution_count": 133,
   "id": "1fad5153",
   "metadata": {},
   "outputs": [],
   "source": [
    "def foursquare_places (venue, coordinates):\n",
    "    import requests\n",
    "\n",
    "    url = \"https://api.foursquare.com/v3/places/search\"\n",
    "\n",
    "    params = {\n",
    "  \t\"query\": venue,\n",
    "  \t\"ll\": coordinates,\n",
    "  \t\"sort\":\"DISTANCE\"\n",
    "        }\n",
    "\n",
    "    headers = {\n",
    "    \"Accept\": \"application/json\",\n",
    "    \"Authorization\": password_2\n",
    "        }\n",
    "\n",
    "    response = requests.request(\"GET\", url, params=params, headers=headers)\n",
    "    return len(response.json())\n"
   ]
  },
  {
   "cell_type": "code",
   "execution_count": 134,
   "id": "b3d56a83",
   "metadata": {},
   "outputs": [
    {
     "data": {
      "text/plain": [
       "1"
      ]
     },
     "execution_count": 134,
     "metadata": {},
     "output_type": "execute_result"
    }
   ],
   "source": [
    "foursquare_places ('Starbucks',('41.40336', '2.20291'))"
   ]
  },
  {
   "cell_type": "markdown",
   "id": "1836c1a1",
   "metadata": {},
   "source": [
    "# 5. Export it into data folder as a json: `data/coffe_shops.json`"
   ]
  },
  {
   "cell_type": "code",
   "execution_count": null,
   "id": "7ac5f2a8",
   "metadata": {},
   "outputs": [],
   "source": [
    "# your code here\n"
   ]
  },
  {
   "cell_type": "markdown",
   "id": "2d77e99d",
   "metadata": {},
   "source": [
    "# BONUS: load it into MongoDB in a collection named \"ironcoffee\" using pymongo"
   ]
  },
  {
   "cell_type": "code",
   "execution_count": 135,
   "id": "85b94955",
   "metadata": {},
   "outputs": [],
   "source": [
    "# your code here\n",
    "import pymongo\n",
    "\n",
    "client = pymongo.MongoClient(\"localhost:27017\")\n",
    "db = client[\"coffeeshops\"]\n",
    "c = db.get_collection(\"coffeeshops\")\n",
    "c.find_one()"
   ]
  },
  {
   "cell_type": "code",
   "execution_count": 136,
   "id": "7b061a12",
   "metadata": {},
   "outputs": [],
   "source": [
    "c.find_one()"
   ]
  }
 ],
 "metadata": {
  "kernelspec": {
   "display_name": "ironhack",
   "language": "python",
   "name": "ironhack"
  },
  "language_info": {
   "codemirror_mode": {
    "name": "ipython",
    "version": 3
   },
   "file_extension": ".py",
   "mimetype": "text/x-python",
   "name": "python",
   "nbconvert_exporter": "python",
   "pygments_lexer": "ipython3",
   "version": "3.9.12"
  },
  "toc": {
   "base_numbering": 1,
   "nav_menu": {},
   "number_sections": true,
   "sideBar": true,
   "skip_h1_title": false,
   "title_cell": "Table of Contents",
   "title_sidebar": "Contents",
   "toc_cell": false,
   "toc_position": {},
   "toc_section_display": true,
   "toc_window_display": true
  }
 },
 "nbformat": 4,
 "nbformat_minor": 5
}
