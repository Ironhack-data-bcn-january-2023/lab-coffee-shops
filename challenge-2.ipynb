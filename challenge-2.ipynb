{
 "cells": [
  {
   "cell_type": "markdown",
   "id": "0809e785",
   "metadata": {},
   "source": [
    "# 1. Import the necessary libraries for you to be able to query 4square API"
   ]
  },
  {
   "cell_type": "code",
   "execution_count": 2,
   "id": "9b373771",
   "metadata": {},
   "outputs": [],
   "source": [
    "import requests\n",
    "import json\n",
    "import pandas as pd\n",
    "from getpass import getpass\n",
    "import os\n",
    "from dotenv import load_dotenv"
   ]
  },
  {
   "cell_type": "markdown",
   "id": "e94dce92",
   "metadata": {},
   "source": [
    "# 2. Get names and location of the 10 coffee places by passing Ironhack as your location"
   ]
  },
  {
   "cell_type": "code",
   "execution_count": 3,
   "id": "1d72f571",
   "metadata": {},
   "outputs": [
    {
     "data": {
      "text/plain": [
       "True"
      ]
     },
     "execution_count": 3,
     "metadata": {},
     "output_type": "execute_result"
    }
   ],
   "source": [
    "load_dotenv()"
   ]
  },
  {
   "cell_type": "code",
   "execution_count": 4,
   "id": "2d086fc0",
   "metadata": {},
   "outputs": [],
   "source": [
    "fsq_tok = os.getenv(\"foursquare_key\")"
   ]
  },
  {
   "cell_type": "code",
   "execution_count": 22,
   "id": "1d2aa815",
   "metadata": {},
   "outputs": [
    {
     "name": "stdout",
     "output_type": "stream",
     "text": [
      "{\"results\":[{\"fsq_id\":\"555f2357498ee6528074710b\",\"categories\":[{\"id\":13034,\"name\":\"Café\",\"icon\":{\"prefix\":\"https://ss3.4sqi.net/img/categories_v2/food/cafe_\",\"suffix\":\".png\"}},{\"id\":13035,\"name\":\"Coffee Shop\",\"icon\":{\"prefix\":\"https://ss3.4sqi.net/img/categories_v2/food/coffeeshop_\",\"suffix\":\".png\"}},{\"id\":13065,\"name\":\"Restaurant\",\"icon\":{\"prefix\":\"https://ss3.4sqi.net/img/categories_v2/food/default_\",\"suffix\":\".png\"}}],\"chains\":[],\"distance\":437,\"geocodes\":{\"main\":{\"latitude\":41.398735,\"longitude\":2.195069},\"roof\":{\"latitude\":41.398735,\"longitude\":2.195069}},\"link\":\"/v3/places/555f2357498ee6528074710b\",\"location\":{\"address\":\"Carrer Badajoz, 95\",\"admin_region\":\"Cataluña\",\"country\":\"ES\",\"cross_street\":\"\",\"formatted_address\":\"Carrer Badajoz, 95, 08005 Barcelona Catalonia\",\"locality\":\"Barcelona\",\"postcode\":\"08005\",\"region\":\"Catalonia\"},\"name\":\"Espai Joliu\",\"related_places\":{},\"timezone\":\"Europe/Madrid\"},{\"fsq_id\":\"5b8521d489e490002cefef18\",\"categories\":[{\"id\":13035,\"name\":\"Coffee Shop\",\"icon\":{\"prefix\":\"https://ss3.4sqi.net/img/categories_v2/food/coffeeshop_\",\"suffix\":\".png\"}},{\"id\":13065,\"name\":\"Restaurant\",\"icon\":{\"prefix\":\"https://ss3.4sqi.net/img/categories_v2/food/default_\",\"suffix\":\".png\"}}],\"chains\":[],\"distance\":537,\"geocodes\":{\"main\":{\"latitude\":41.396989,\"longitude\":2.183409},\"roof\":{\"latitude\":41.396989,\"longitude\":2.183409}},\"link\":\"/v3/places/5b8521d489e490002cefef18\",\"location\":{\"address\":\"Ausiàs Marc, 151\",\"admin_region\":\"Cataluña\",\"country\":\"ES\",\"formatted_address\":\"Ausiàs Marc, 151, 08013 Barcelona Catalonia\",\"locality\":\"Barcelona\",\"postcode\":\"08013\",\"region\":\"Catalonia\"},\"name\":\"Three Marks Coffee\",\"related_places\":{},\"timezone\":\"Europe/Madrid\"},{\"fsq_id\":\"530c5e6911d2be0b8d22e27a\",\"categories\":[{\"id\":13034,\"name\":\"Café\",\"icon\":{\"prefix\":\"https://ss3.4sqi.net/img/categories_v2/food/cafe_\",\"suffix\":\".png\"}},{\"id\":13035,\"name\":\"Coffee Shop\",\"icon\":{\"prefix\":\"https://ss3.4sqi.net/img/categories_v2/food/coffeeshop_\",\"suffix\":\".png\"}},{\"id\":13065,\"name\":\"Restaurant\",\"icon\":{\"prefix\":\"https://ss3.4sqi.net/img/categories_v2/food/default_\",\"suffix\":\".png\"}}],\"chains\":[],\"distance\":164,\"geocodes\":{\"main\":{\"latitude\":41.396876,\"longitude\":2.191489},\"roof\":{\"latitude\":41.396876,\"longitude\":2.191489}},\"link\":\"/v3/places/530c5e6911d2be0b8d22e27a\",\"location\":{\"address\":\"Calle Pamplona, 88\",\"admin_region\":\"Cataluña\",\"country\":\"ES\",\"cross_street\":\"C. de Pallars\",\"formatted_address\":\"Calle Pamplona, 88 (C. de Pallars), 08018 Barcelona Catalonia\",\"locality\":\"Barcelona\",\"postcode\":\"08018\",\"region\":\"Catalonia\"},\"name\":\"Skye coffee co\",\"related_places\":{},\"timezone\":\"Europe/Madrid\"},{\"fsq_id\":\"556d6217498ef50c5d323048\",\"categories\":[{\"id\":13003,\"name\":\"Bar\",\"icon\":{\"prefix\":\"https://ss3.4sqi.net/img/categories_v2/nightlife/pub_\",\"suffix\":\".png\"}},{\"id\":13035,\"name\":\"Coffee Shop\",\"icon\":{\"prefix\":\"https://ss3.4sqi.net/img/categories_v2/food/coffeeshop_\",\"suffix\":\".png\"}}],\"chains\":[],\"distance\":489,\"geocodes\":{\"main\":{\"latitude\":41.397977,\"longitude\":2.195589},\"roof\":{\"latitude\":41.397977,\"longitude\":2.195589}},\"link\":\"/v3/places/556d6217498ef50c5d323048\",\"location\":{\"address\":\"Calle de Pujades, 95\",\"admin_region\":\"Cataluña\",\"country\":\"ES\",\"cross_street\":\"C. de Badajoz\",\"formatted_address\":\"Calle de Pujades, 95 (C. de Badajoz), 08005 Barcelona\",\"locality\":\"Barcelona\",\"postcode\":\"08005\"},\"name\":\"Nømad Roaster's Home\",\"related_places\":{},\"timezone\":\"Europe/Madrid\"},{\"fsq_id\":\"55c4c7b0498e0593fc56c435\",\"categories\":[{\"id\":13035,\"name\":\"Coffee Shop\",\"icon\":{\"prefix\":\"https://ss3.4sqi.net/img/categories_v2/food/coffeeshop_\",\"suffix\":\".png\"}},{\"id\":13145,\"name\":\"Fast Food Restaurant\",\"icon\":{\"prefix\":\"https://ss3.4sqi.net/img/categories_v2/food/fastfood_\",\"suffix\":\".png\"}}],\"chains\":[],\"distance\":669,\"geocodes\":{\"main\":{\"latitude\":41.402197,\"longitude\":2.195696},\"roof\":{\"latitude\":41.402197,\"longitude\":2.195696}},\"link\":\"/v3/places/55c4c7b0498e0593fc56c435\",\"location\":{\"address\":\"Carrer de Roc Boronat, 102\",\"admin_region\":\"Cataluña\",\"country\":\"ES\",\"cross_street\":\"Sancho d'Avila/ Almogavers\",\"formatted_address\":\"Carrer de Roc Boronat, 102 (Sancho d'Avila/ Almogavers), 08018 Barcelona Catalonia\",\"locality\":\"Barcelona\",\"postcode\":\"08018\",\"region\":\"Catalonia\"},\"name\":\"Súper coffee & food store\",\"related_places\":{},\"timezone\":\"Europe/Madrid\"},{\"fsq_id\":\"4f7176cde4b0d1b3a40615ff\",\"categories\":[{\"id\":13034,\"name\":\"Café\",\"icon\":{\"prefix\":\"https://ss3.4sqi.net/img/categories_v2/food/cafe_\",\"suffix\":\".png\"}},{\"id\":13039,\"name\":\"Deli\",\"icon\":{\"prefix\":\"https://ss3.4sqi.net/img/categories_v2/food/deli_\",\"suffix\":\".png\"}},{\"id\":13079,\"name\":\"Brazilian Restaurant\",\"icon\":{\"prefix\":\"https://ss3.4sqi.net/img/categories_v2/food/argentinian_\",\"suffix\":\".png\"}}],\"chains\":[],\"distance\":719,\"geocodes\":{\"main\":{\"latitude\":41.392081,\"longitude\":2.185666},\"roof\":{\"latitude\":41.392081,\"longitude\":2.185666}},\"link\":\"/v3/places/4f7176cde4b0d1b3a40615ff\",\"location\":{\"address\":\"Lington, 17\",\"admin_region\":\"Cataluña\",\"country\":\"ES\",\"cross_street\":\"Wellington\",\"formatted_address\":\"Lington, 17 (Wellington), 08018 Barcelona Catalonia\",\"locality\":\"Barcelona\",\"postcode\":\"08018\",\"region\":\"Catalonia\"},\"name\":\"Santa Fe\",\"related_places\":{},\"timezone\":\"Europe/Madrid\"},{\"fsq_id\":\"5cb5ca8fb1538e002c03442c\",\"categories\":[{\"id\":13035,\"name\":\"Coffee Shop\",\"icon\":{\"prefix\":\"https://ss3.4sqi.net/img/categories_v2/food/coffeeshop_\",\"suffix\":\".png\"}}],\"chains\":[],\"distance\":1021,\"geocodes\":{\"main\":{\"latitude\":41.394562,\"longitude\":2.178425}},\"link\":\"/v3/places/5cb5ca8fb1538e002c03442c\",\"location\":{\"address\":\"Calle de Roger de Flor, 102\",\"admin_region\":\"Cataluña\",\"country\":\"ES\",\"cross_street\":\"\",\"formatted_address\":\"Calle de Roger de Flor, 102, 08013 Barcelona Catalonia\",\"locality\":\"Barcelona\",\"postcode\":\"08013\",\"region\":\"Catalonia\"},\"name\":\"Brew Coffee\",\"related_places\":{},\"timezone\":\"Europe/Madrid\"},{\"fsq_id\":\"5d4bd14db633a60008a721b0\",\"categories\":[{\"id\":13035,\"name\":\"Coffee Shop\",\"icon\":{\"prefix\":\"https://ss3.4sqi.net/img/categories_v2/food/coffeeshop_\",\"suffix\":\".png\"}}],\"chains\":[],\"distance\":380,\"geocodes\":{\"main\":{\"latitude\":41.396518,\"longitude\":2.19417},\"roof\":{\"latitude\":41.396518,\"longitude\":2.19417}},\"link\":\"/v3/places/5d4bd14db633a60008a721b0\",\"location\":{\"address\":\"Calle de Pujades, 100\",\"admin_region\":\"Cataluña\",\"country\":\"ES\",\"cross_street\":\"C. d'Àlaba\",\"formatted_address\":\"Calle de Pujades, 100 (C. d'Àlaba), 08005 Barcelona Catalonia\",\"locality\":\"Barcelona\",\"postcode\":\"08005\",\"region\":\"Catalonia\"},\"name\":\"Syra Coffee Poblenou\",\"related_places\":{},\"timezone\":\"Europe/Madrid\"},{\"fsq_id\":\"5cf510f0031320002cbd5af8\",\"categories\":[{\"id\":13035,\"name\":\"Coffee Shop\",\"icon\":{\"prefix\":\"https://ss3.4sqi.net/img/categories_v2/food/coffeeshop_\",\"suffix\":\".png\"}},{\"id\":13065,\"name\":\"Restaurant\",\"icon\":{\"prefix\":\"https://ss3.4sqi.net/img/categories_v2/food/default_\",\"suffix\":\".png\"}}],\"chains\":[],\"distance\":680,\"geocodes\":{\"main\":{\"latitude\":41.392543,\"longitude\":2.185749},\"roof\":{\"latitude\":41.392543,\"longitude\":2.185749}},\"link\":\"/v3/places/5cf510f0031320002cbd5af8\",\"location\":{\"address\":\"Calle de Buenaventura Muñoz, 31\",\"admin_region\":\"Cataluña\",\"country\":\"ES\",\"cross_street\":\"\",\"formatted_address\":\"Calle de Buenaventura Muñoz, 31, 08018 Barcelona Catalonia\",\"locality\":\"Barcelona\",\"postcode\":\"08018\",\"region\":\"Catalonia\"},\"name\":\"Orval\",\"related_places\":{},\"timezone\":\"Europe/Madrid\"},{\"fsq_id\":\"4ffd87dde4b07010c000f79b\",\"categories\":[{\"id\":13002,\"name\":\"Bakery\",\"icon\":{\"prefix\":\"https://ss3.4sqi.net/img/categories_v2/food/bakery_\",\"suffix\":\".png\"}},{\"id\":13034,\"name\":\"Café\",\"icon\":{\"prefix\":\"https://ss3.4sqi.net/img/categories_v2/food/cafe_\",\"suffix\":\".png\"}},{\"id\":13065,\"name\":\"Restaurant\",\"icon\":{\"prefix\":\"https://ss3.4sqi.net/img/categories_v2/food/default_\",\"suffix\":\".png\"}}],\"chains\":[],\"distance\":1071,\"geocodes\":{\"main\":{\"latitude\":41.396371,\"longitude\":2.177069},\"roof\":{\"latitude\":41.396371,\"longitude\":2.177069}},\"link\":\"/v3/places/4ffd87dde4b07010c000f79b\",\"location\":{\"address\":\"Gran Vía de Les Corts Catalanes, 677\",\"admin_region\":\"Cataluña\",\"country\":\"ES\",\"cross_street\":\"btwn c/ Nàpols & c/ Roger de Flor\",\"formatted_address\":\"Gran Vía de Les Corts Catalanes, 677 (btwn c/ Nàpols & c/ Roger de Flor), 08013 Barcelona Catalonia\",\"locality\":\"Barcelona\",\"postcode\":\"08013\",\"region\":\"Catalonia\"},\"name\":\"El Petit Princep\",\"related_places\":{},\"timezone\":\"Europe/Madrid\"}],\"context\":{\"geo_bounds\":{\"circle\":{\"center\":{\"latitude\":41.3978348,\"longitude\":2.1898718},\"radius\":22000}}}}\n"
     ]
    }
   ],
   "source": [
    "url = \"https://api.foursquare.com/v3/places/search?query=coffee&ll=41.3978348%2C2.1898718&categories=13032&limit=10\"\n",
    "\n",
    "headers = {\n",
    "    \"accept\": \"application/json\",\n",
    "    \"Authorization\": fsq_tok\n",
    "}\n",
    "\n",
    "response = requests.get(url, headers=headers)\n",
    "\n",
    "print(response.text)"
   ]
  },
  {
   "cell_type": "code",
   "execution_count": 23,
   "id": "b1ed1f1f",
   "metadata": {},
   "outputs": [],
   "source": [
    "full_response = response.json()\n",
    "#r_j[\"results\"][0][\"name\"]\n",
    "#r_j[\"results\"][0][\"location\"][\"address\"]"
   ]
  },
  {
   "cell_type": "code",
   "execution_count": 26,
   "id": "aef482f1",
   "metadata": {},
   "outputs": [
    {
     "data": {
      "text/html": [
       "<div>\n",
       "<style scoped>\n",
       "    .dataframe tbody tr th:only-of-type {\n",
       "        vertical-align: middle;\n",
       "    }\n",
       "\n",
       "    .dataframe tbody tr th {\n",
       "        vertical-align: top;\n",
       "    }\n",
       "\n",
       "    .dataframe thead th {\n",
       "        text-align: right;\n",
       "    }\n",
       "</style>\n",
       "<table border=\"1\" class=\"dataframe\">\n",
       "  <thead>\n",
       "    <tr style=\"text-align: right;\">\n",
       "      <th></th>\n",
       "      <th>name</th>\n",
       "      <th>location</th>\n",
       "    </tr>\n",
       "  </thead>\n",
       "  <tbody>\n",
       "    <tr>\n",
       "      <th>0</th>\n",
       "      <td>Espai Joliu</td>\n",
       "      <td>{'address': 'Carrer Badajoz, 95', 'admin_regio...</td>\n",
       "    </tr>\n",
       "    <tr>\n",
       "      <th>1</th>\n",
       "      <td>Three Marks Coffee</td>\n",
       "      <td>{'address': 'Ausiàs Marc, 151', 'admin_region'...</td>\n",
       "    </tr>\n",
       "    <tr>\n",
       "      <th>2</th>\n",
       "      <td>Skye coffee co</td>\n",
       "      <td>{'address': 'Calle Pamplona, 88', 'admin_regio...</td>\n",
       "    </tr>\n",
       "    <tr>\n",
       "      <th>3</th>\n",
       "      <td>Nømad Roaster's Home</td>\n",
       "      <td>{'address': 'Calle de Pujades, 95', 'admin_reg...</td>\n",
       "    </tr>\n",
       "    <tr>\n",
       "      <th>4</th>\n",
       "      <td>Súper coffee &amp; food store</td>\n",
       "      <td>{'address': 'Carrer de Roc Boronat, 102', 'adm...</td>\n",
       "    </tr>\n",
       "    <tr>\n",
       "      <th>5</th>\n",
       "      <td>Santa Fe</td>\n",
       "      <td>{'address': 'Lington, 17', 'admin_region': 'Ca...</td>\n",
       "    </tr>\n",
       "    <tr>\n",
       "      <th>6</th>\n",
       "      <td>Brew Coffee</td>\n",
       "      <td>{'address': 'Calle de Roger de Flor, 102', 'ad...</td>\n",
       "    </tr>\n",
       "    <tr>\n",
       "      <th>7</th>\n",
       "      <td>Syra Coffee Poblenou</td>\n",
       "      <td>{'address': 'Calle de Pujades, 100', 'admin_re...</td>\n",
       "    </tr>\n",
       "    <tr>\n",
       "      <th>8</th>\n",
       "      <td>Orval</td>\n",
       "      <td>{'address': 'Calle de Buenaventura Muñoz, 31',...</td>\n",
       "    </tr>\n",
       "    <tr>\n",
       "      <th>9</th>\n",
       "      <td>El Petit Princep</td>\n",
       "      <td>{'address': 'Gran Vía de Les Corts Catalanes, ...</td>\n",
       "    </tr>\n",
       "  </tbody>\n",
       "</table>\n",
       "</div>"
      ],
      "text/plain": [
       "                        name  \\\n",
       "0                Espai Joliu   \n",
       "1         Three Marks Coffee   \n",
       "2             Skye coffee co   \n",
       "3       Nømad Roaster's Home   \n",
       "4  Súper coffee & food store   \n",
       "5                   Santa Fe   \n",
       "6                Brew Coffee   \n",
       "7       Syra Coffee Poblenou   \n",
       "8                      Orval   \n",
       "9           El Petit Princep   \n",
       "\n",
       "                                            location  \n",
       "0  {'address': 'Carrer Badajoz, 95', 'admin_regio...  \n",
       "1  {'address': 'Ausiàs Marc, 151', 'admin_region'...  \n",
       "2  {'address': 'Calle Pamplona, 88', 'admin_regio...  \n",
       "3  {'address': 'Calle de Pujades, 95', 'admin_reg...  \n",
       "4  {'address': 'Carrer de Roc Boronat, 102', 'adm...  \n",
       "5  {'address': 'Lington, 17', 'admin_region': 'Ca...  \n",
       "6  {'address': 'Calle de Roger de Flor, 102', 'ad...  \n",
       "7  {'address': 'Calle de Pujades, 100', 'admin_re...  \n",
       "8  {'address': 'Calle de Buenaventura Muñoz, 31',...  \n",
       "9  {'address': 'Gran Vía de Les Corts Catalanes, ...  "
      ]
     },
     "execution_count": 26,
     "metadata": {},
     "output_type": "execute_result"
    }
   ],
   "source": [
    "location_data = pd.DataFrame(full_response[\"results\"])\n",
    "location_data[[\"name\",\"location\"]]"
   ]
  },
  {
   "cell_type": "markdown",
   "id": "941b5dbf",
   "metadata": {},
   "source": [
    "# 3. Now get the 5 CLOSEST coffe places. Make use of params: limit, near?"
   ]
  },
  {
   "cell_type": "code",
   "execution_count": 27,
   "id": "fda8ddff",
   "metadata": {},
   "outputs": [
    {
     "name": "stdout",
     "output_type": "stream",
     "text": [
      "{\"results\":[{\"fsq_id\":\"555f2357498ee6528074710b\",\"categories\":[{\"id\":13034,\"name\":\"Café\",\"icon\":{\"prefix\":\"https://ss3.4sqi.net/img/categories_v2/food/cafe_\",\"suffix\":\".png\"}},{\"id\":13035,\"name\":\"Coffee Shop\",\"icon\":{\"prefix\":\"https://ss3.4sqi.net/img/categories_v2/food/coffeeshop_\",\"suffix\":\".png\"}},{\"id\":13065,\"name\":\"Restaurant\",\"icon\":{\"prefix\":\"https://ss3.4sqi.net/img/categories_v2/food/default_\",\"suffix\":\".png\"}}],\"chains\":[],\"distance\":437,\"geocodes\":{\"main\":{\"latitude\":41.398735,\"longitude\":2.195069},\"roof\":{\"latitude\":41.398735,\"longitude\":2.195069}},\"link\":\"/v3/places/555f2357498ee6528074710b\",\"location\":{\"address\":\"Carrer Badajoz, 95\",\"admin_region\":\"Cataluña\",\"country\":\"ES\",\"cross_street\":\"\",\"formatted_address\":\"Carrer Badajoz, 95, 08005 Barcelona Catalonia\",\"locality\":\"Barcelona\",\"postcode\":\"08005\",\"region\":\"Catalonia\"},\"name\":\"Espai Joliu\",\"related_places\":{},\"timezone\":\"Europe/Madrid\"},{\"fsq_id\":\"5b8521d489e490002cefef18\",\"categories\":[{\"id\":13035,\"name\":\"Coffee Shop\",\"icon\":{\"prefix\":\"https://ss3.4sqi.net/img/categories_v2/food/coffeeshop_\",\"suffix\":\".png\"}},{\"id\":13065,\"name\":\"Restaurant\",\"icon\":{\"prefix\":\"https://ss3.4sqi.net/img/categories_v2/food/default_\",\"suffix\":\".png\"}}],\"chains\":[],\"distance\":537,\"geocodes\":{\"main\":{\"latitude\":41.396989,\"longitude\":2.183409},\"roof\":{\"latitude\":41.396989,\"longitude\":2.183409}},\"link\":\"/v3/places/5b8521d489e490002cefef18\",\"location\":{\"address\":\"Ausiàs Marc, 151\",\"admin_region\":\"Cataluña\",\"country\":\"ES\",\"formatted_address\":\"Ausiàs Marc, 151, 08013 Barcelona Catalonia\",\"locality\":\"Barcelona\",\"postcode\":\"08013\",\"region\":\"Catalonia\"},\"name\":\"Three Marks Coffee\",\"related_places\":{},\"timezone\":\"Europe/Madrid\"},{\"fsq_id\":\"530c5e6911d2be0b8d22e27a\",\"categories\":[{\"id\":13034,\"name\":\"Café\",\"icon\":{\"prefix\":\"https://ss3.4sqi.net/img/categories_v2/food/cafe_\",\"suffix\":\".png\"}},{\"id\":13035,\"name\":\"Coffee Shop\",\"icon\":{\"prefix\":\"https://ss3.4sqi.net/img/categories_v2/food/coffeeshop_\",\"suffix\":\".png\"}},{\"id\":13065,\"name\":\"Restaurant\",\"icon\":{\"prefix\":\"https://ss3.4sqi.net/img/categories_v2/food/default_\",\"suffix\":\".png\"}}],\"chains\":[],\"distance\":164,\"geocodes\":{\"main\":{\"latitude\":41.396876,\"longitude\":2.191489},\"roof\":{\"latitude\":41.396876,\"longitude\":2.191489}},\"link\":\"/v3/places/530c5e6911d2be0b8d22e27a\",\"location\":{\"address\":\"Calle Pamplona, 88\",\"admin_region\":\"Cataluña\",\"country\":\"ES\",\"cross_street\":\"C. de Pallars\",\"formatted_address\":\"Calle Pamplona, 88 (C. de Pallars), 08018 Barcelona Catalonia\",\"locality\":\"Barcelona\",\"postcode\":\"08018\",\"region\":\"Catalonia\"},\"name\":\"Skye coffee co\",\"related_places\":{},\"timezone\":\"Europe/Madrid\"},{\"fsq_id\":\"556d6217498ef50c5d323048\",\"categories\":[{\"id\":13003,\"name\":\"Bar\",\"icon\":{\"prefix\":\"https://ss3.4sqi.net/img/categories_v2/nightlife/pub_\",\"suffix\":\".png\"}},{\"id\":13035,\"name\":\"Coffee Shop\",\"icon\":{\"prefix\":\"https://ss3.4sqi.net/img/categories_v2/food/coffeeshop_\",\"suffix\":\".png\"}}],\"chains\":[],\"distance\":489,\"geocodes\":{\"main\":{\"latitude\":41.397977,\"longitude\":2.195589},\"roof\":{\"latitude\":41.397977,\"longitude\":2.195589}},\"link\":\"/v3/places/556d6217498ef50c5d323048\",\"location\":{\"address\":\"Calle de Pujades, 95\",\"admin_region\":\"Cataluña\",\"country\":\"ES\",\"cross_street\":\"C. de Badajoz\",\"formatted_address\":\"Calle de Pujades, 95 (C. de Badajoz), 08005 Barcelona\",\"locality\":\"Barcelona\",\"postcode\":\"08005\"},\"name\":\"Nømad Roaster's Home\",\"related_places\":{},\"timezone\":\"Europe/Madrid\"},{\"fsq_id\":\"55c4c7b0498e0593fc56c435\",\"categories\":[{\"id\":13035,\"name\":\"Coffee Shop\",\"icon\":{\"prefix\":\"https://ss3.4sqi.net/img/categories_v2/food/coffeeshop_\",\"suffix\":\".png\"}},{\"id\":13145,\"name\":\"Fast Food Restaurant\",\"icon\":{\"prefix\":\"https://ss3.4sqi.net/img/categories_v2/food/fastfood_\",\"suffix\":\".png\"}}],\"chains\":[],\"distance\":669,\"geocodes\":{\"main\":{\"latitude\":41.402197,\"longitude\":2.195696},\"roof\":{\"latitude\":41.402197,\"longitude\":2.195696}},\"link\":\"/v3/places/55c4c7b0498e0593fc56c435\",\"location\":{\"address\":\"Carrer de Roc Boronat, 102\",\"admin_region\":\"Cataluña\",\"country\":\"ES\",\"cross_street\":\"Sancho d'Avila/ Almogavers\",\"formatted_address\":\"Carrer de Roc Boronat, 102 (Sancho d'Avila/ Almogavers), 08018 Barcelona Catalonia\",\"locality\":\"Barcelona\",\"postcode\":\"08018\",\"region\":\"Catalonia\"},\"name\":\"Súper coffee & food store\",\"related_places\":{},\"timezone\":\"Europe/Madrid\"},{\"fsq_id\":\"4f7176cde4b0d1b3a40615ff\",\"categories\":[{\"id\":13034,\"name\":\"Café\",\"icon\":{\"prefix\":\"https://ss3.4sqi.net/img/categories_v2/food/cafe_\",\"suffix\":\".png\"}},{\"id\":13039,\"name\":\"Deli\",\"icon\":{\"prefix\":\"https://ss3.4sqi.net/img/categories_v2/food/deli_\",\"suffix\":\".png\"}},{\"id\":13079,\"name\":\"Brazilian Restaurant\",\"icon\":{\"prefix\":\"https://ss3.4sqi.net/img/categories_v2/food/argentinian_\",\"suffix\":\".png\"}}],\"chains\":[],\"distance\":719,\"geocodes\":{\"main\":{\"latitude\":41.392081,\"longitude\":2.185666},\"roof\":{\"latitude\":41.392081,\"longitude\":2.185666}},\"link\":\"/v3/places/4f7176cde4b0d1b3a40615ff\",\"location\":{\"address\":\"Lington, 17\",\"admin_region\":\"Cataluña\",\"country\":\"ES\",\"cross_street\":\"Wellington\",\"formatted_address\":\"Lington, 17 (Wellington), 08018 Barcelona Catalonia\",\"locality\":\"Barcelona\",\"postcode\":\"08018\",\"region\":\"Catalonia\"},\"name\":\"Santa Fe\",\"related_places\":{},\"timezone\":\"Europe/Madrid\"},{\"fsq_id\":\"5cb5ca8fb1538e002c03442c\",\"categories\":[{\"id\":13035,\"name\":\"Coffee Shop\",\"icon\":{\"prefix\":\"https://ss3.4sqi.net/img/categories_v2/food/coffeeshop_\",\"suffix\":\".png\"}}],\"chains\":[],\"distance\":1021,\"geocodes\":{\"main\":{\"latitude\":41.394562,\"longitude\":2.178425}},\"link\":\"/v3/places/5cb5ca8fb1538e002c03442c\",\"location\":{\"address\":\"Calle de Roger de Flor, 102\",\"admin_region\":\"Cataluña\",\"country\":\"ES\",\"cross_street\":\"\",\"formatted_address\":\"Calle de Roger de Flor, 102, 08013 Barcelona Catalonia\",\"locality\":\"Barcelona\",\"postcode\":\"08013\",\"region\":\"Catalonia\"},\"name\":\"Brew Coffee\",\"related_places\":{},\"timezone\":\"Europe/Madrid\"},{\"fsq_id\":\"5d4bd14db633a60008a721b0\",\"categories\":[{\"id\":13035,\"name\":\"Coffee Shop\",\"icon\":{\"prefix\":\"https://ss3.4sqi.net/img/categories_v2/food/coffeeshop_\",\"suffix\":\".png\"}}],\"chains\":[],\"distance\":380,\"geocodes\":{\"main\":{\"latitude\":41.396518,\"longitude\":2.19417},\"roof\":{\"latitude\":41.396518,\"longitude\":2.19417}},\"link\":\"/v3/places/5d4bd14db633a60008a721b0\",\"location\":{\"address\":\"Calle de Pujades, 100\",\"admin_region\":\"Cataluña\",\"country\":\"ES\",\"cross_street\":\"C. d'Àlaba\",\"formatted_address\":\"Calle de Pujades, 100 (C. d'Àlaba), 08005 Barcelona Catalonia\",\"locality\":\"Barcelona\",\"postcode\":\"08005\",\"region\":\"Catalonia\"},\"name\":\"Syra Coffee Poblenou\",\"related_places\":{},\"timezone\":\"Europe/Madrid\"},{\"fsq_id\":\"5cf510f0031320002cbd5af8\",\"categories\":[{\"id\":13035,\"name\":\"Coffee Shop\",\"icon\":{\"prefix\":\"https://ss3.4sqi.net/img/categories_v2/food/coffeeshop_\",\"suffix\":\".png\"}},{\"id\":13065,\"name\":\"Restaurant\",\"icon\":{\"prefix\":\"https://ss3.4sqi.net/img/categories_v2/food/default_\",\"suffix\":\".png\"}}],\"chains\":[],\"distance\":680,\"geocodes\":{\"main\":{\"latitude\":41.392543,\"longitude\":2.185749},\"roof\":{\"latitude\":41.392543,\"longitude\":2.185749}},\"link\":\"/v3/places/5cf510f0031320002cbd5af8\",\"location\":{\"address\":\"Calle de Buenaventura Muñoz, 31\",\"admin_region\":\"Cataluña\",\"country\":\"ES\",\"cross_street\":\"\",\"formatted_address\":\"Calle de Buenaventura Muñoz, 31, 08018 Barcelona Catalonia\",\"locality\":\"Barcelona\",\"postcode\":\"08018\",\"region\":\"Catalonia\"},\"name\":\"Orval\",\"related_places\":{},\"timezone\":\"Europe/Madrid\"},{\"fsq_id\":\"4ffd87dde4b07010c000f79b\",\"categories\":[{\"id\":13002,\"name\":\"Bakery\",\"icon\":{\"prefix\":\"https://ss3.4sqi.net/img/categories_v2/food/bakery_\",\"suffix\":\".png\"}},{\"id\":13034,\"name\":\"Café\",\"icon\":{\"prefix\":\"https://ss3.4sqi.net/img/categories_v2/food/cafe_\",\"suffix\":\".png\"}},{\"id\":13065,\"name\":\"Restaurant\",\"icon\":{\"prefix\":\"https://ss3.4sqi.net/img/categories_v2/food/default_\",\"suffix\":\".png\"}}],\"chains\":[],\"distance\":1071,\"geocodes\":{\"main\":{\"latitude\":41.396371,\"longitude\":2.177069},\"roof\":{\"latitude\":41.396371,\"longitude\":2.177069}},\"link\":\"/v3/places/4ffd87dde4b07010c000f79b\",\"location\":{\"address\":\"Gran Vía de Les Corts Catalanes, 677\",\"admin_region\":\"Cataluña\",\"country\":\"ES\",\"cross_street\":\"btwn c/ Nàpols & c/ Roger de Flor\",\"formatted_address\":\"Gran Vía de Les Corts Catalanes, 677 (btwn c/ Nàpols & c/ Roger de Flor), 08013 Barcelona Catalonia\",\"locality\":\"Barcelona\",\"postcode\":\"08013\",\"region\":\"Catalonia\"},\"name\":\"El Petit Princep\",\"related_places\":{},\"timezone\":\"Europe/Madrid\"}],\"context\":{\"geo_bounds\":{\"circle\":{\"center\":{\"latitude\":41.3978348,\"longitude\":2.1898718},\"radius\":22000}}}}\n"
     ]
    }
   ],
   "source": [
    "import requests\n",
    "\n",
    "url = \"https://api.foursquare.com/v3/places/search?query=coffee&ll=41.3978348%2C2.1898718&radius=500&categories=13032&limit=5\"\n",
    "\n",
    "headers = {\n",
    "    \"accept\": \"application/json\",\n",
    "    \"Authorization\": fsq_tok\n",
    "}\n",
    "\n",
    "response2 = requests.get(url, headers=headers)\n",
    "\n",
    "print(response.text)"
   ]
  },
  {
   "cell_type": "code",
   "execution_count": 28,
   "id": "1fc49a98",
   "metadata": {},
   "outputs": [
    {
     "data": {
      "text/html": [
       "<div>\n",
       "<style scoped>\n",
       "    .dataframe tbody tr th:only-of-type {\n",
       "        vertical-align: middle;\n",
       "    }\n",
       "\n",
       "    .dataframe tbody tr th {\n",
       "        vertical-align: top;\n",
       "    }\n",
       "\n",
       "    .dataframe thead th {\n",
       "        text-align: right;\n",
       "    }\n",
       "</style>\n",
       "<table border=\"1\" class=\"dataframe\">\n",
       "  <thead>\n",
       "    <tr style=\"text-align: right;\">\n",
       "      <th></th>\n",
       "      <th>name</th>\n",
       "      <th>location</th>\n",
       "    </tr>\n",
       "  </thead>\n",
       "  <tbody>\n",
       "    <tr>\n",
       "      <th>0</th>\n",
       "      <td>Skye coffee co</td>\n",
       "      <td>{'address': 'Calle Pamplona, 88', 'admin_regio...</td>\n",
       "    </tr>\n",
       "    <tr>\n",
       "      <th>1</th>\n",
       "      <td>Cafeteria Botanica</td>\n",
       "      <td>{'address': 'Calle D'Àlaba, 100', 'admin_regio...</td>\n",
       "    </tr>\n",
       "    <tr>\n",
       "      <th>2</th>\n",
       "      <td>Bar Sancho</td>\n",
       "      <td>{'address': 'Sancho de Ávila, 7', 'admin_regio...</td>\n",
       "    </tr>\n",
       "    <tr>\n",
       "      <th>3</th>\n",
       "      <td>Syra Coffee Poblenou</td>\n",
       "      <td>{'address': 'Calle de Pujades, 100', 'admin_re...</td>\n",
       "    </tr>\n",
       "    <tr>\n",
       "      <th>4</th>\n",
       "      <td>Espai Joliu</td>\n",
       "      <td>{'address': 'Carrer Badajoz, 95', 'admin_regio...</td>\n",
       "    </tr>\n",
       "  </tbody>\n",
       "</table>\n",
       "</div>"
      ],
      "text/plain": [
       "                   name                                           location\n",
       "0        Skye coffee co  {'address': 'Calle Pamplona, 88', 'admin_regio...\n",
       "1    Cafeteria Botanica  {'address': 'Calle D'Àlaba, 100', 'admin_regio...\n",
       "2            Bar Sancho  {'address': 'Sancho de Ávila, 7', 'admin_regio...\n",
       "3  Syra Coffee Poblenou  {'address': 'Calle de Pujades, 100', 'admin_re...\n",
       "4           Espai Joliu  {'address': 'Carrer Badajoz, 95', 'admin_regio..."
      ]
     },
     "execution_count": 28,
     "metadata": {},
     "output_type": "execute_result"
    }
   ],
   "source": [
    "full_response2 = response2.json()\n",
    "location_data2 = pd.DataFrame(full_response2[\"results\"])\n",
    "location_data2[[\"name\",\"location\"]]"
   ]
  },
  {
   "cell_type": "markdown",
   "id": "d19904e8",
   "metadata": {},
   "source": [
    "# 4. Define a function that returns name, lat, long for starbucks OR restaurants AND for any given location"
   ]
  },
  {
   "cell_type": "code",
   "execution_count": 29,
   "id": "1fad5153",
   "metadata": {},
   "outputs": [],
   "source": [
    "def foursquare_places (venue, coordinates):\n",
    "\n",
    "    url = f\"https://api.foursquare.com/v3/places/search?query={venue}&ll={coordinates[0]}%2C{coordinates[1]}&limit=5\"\n",
    "\n",
    "    headers = {\n",
    "        \"accept\": \"application/json\",\n",
    "        \"Authorization\": \"fsq_tok\"\n",
    "    }\n",
    "\n",
    "    response = requests.get(url, headers=headers)\n",
    "    full_response = response.json()\n",
    "    location_data = pd.DataFrame(full_response2[\"results\"])\n",
    "    #display(location_data[[\"name\",\"location\"]])\n",
    "    return location_data[[\"name\",\"location\"]]"
   ]
  },
  {
   "cell_type": "code",
   "execution_count": 32,
   "id": "52ef330f",
   "metadata": {},
   "outputs": [
    {
     "data": {
      "text/html": [
       "<div>\n",
       "<style scoped>\n",
       "    .dataframe tbody tr th:only-of-type {\n",
       "        vertical-align: middle;\n",
       "    }\n",
       "\n",
       "    .dataframe tbody tr th {\n",
       "        vertical-align: top;\n",
       "    }\n",
       "\n",
       "    .dataframe thead th {\n",
       "        text-align: right;\n",
       "    }\n",
       "</style>\n",
       "<table border=\"1\" class=\"dataframe\">\n",
       "  <thead>\n",
       "    <tr style=\"text-align: right;\">\n",
       "      <th></th>\n",
       "      <th>name</th>\n",
       "      <th>location</th>\n",
       "    </tr>\n",
       "  </thead>\n",
       "  <tbody>\n",
       "    <tr>\n",
       "      <th>0</th>\n",
       "      <td>Skye coffee co</td>\n",
       "      <td>{'address': 'Calle Pamplona, 88', 'admin_regio...</td>\n",
       "    </tr>\n",
       "    <tr>\n",
       "      <th>1</th>\n",
       "      <td>Cafeteria Botanica</td>\n",
       "      <td>{'address': 'Calle D'Àlaba, 100', 'admin_regio...</td>\n",
       "    </tr>\n",
       "    <tr>\n",
       "      <th>2</th>\n",
       "      <td>Bar Sancho</td>\n",
       "      <td>{'address': 'Sancho de Ávila, 7', 'admin_regio...</td>\n",
       "    </tr>\n",
       "    <tr>\n",
       "      <th>3</th>\n",
       "      <td>Syra Coffee Poblenou</td>\n",
       "      <td>{'address': 'Calle de Pujades, 100', 'admin_re...</td>\n",
       "    </tr>\n",
       "    <tr>\n",
       "      <th>4</th>\n",
       "      <td>Espai Joliu</td>\n",
       "      <td>{'address': 'Carrer Badajoz, 95', 'admin_regio...</td>\n",
       "    </tr>\n",
       "  </tbody>\n",
       "</table>\n",
       "</div>"
      ],
      "text/plain": [
       "                   name                                           location\n",
       "0        Skye coffee co  {'address': 'Calle Pamplona, 88', 'admin_regio...\n",
       "1    Cafeteria Botanica  {'address': 'Calle D'Àlaba, 100', 'admin_regio...\n",
       "2            Bar Sancho  {'address': 'Sancho de Ávila, 7', 'admin_regio...\n",
       "3  Syra Coffee Poblenou  {'address': 'Calle de Pujades, 100', 'admin_re...\n",
       "4           Espai Joliu  {'address': 'Carrer Badajoz, 95', 'admin_regio..."
      ]
     },
     "execution_count": 32,
     "metadata": {},
     "output_type": "execute_result"
    }
   ],
   "source": [
    "df = foursquare_places (\"coffee\", [41.397834,2.1898718])\n",
    "df"
   ]
  },
  {
   "cell_type": "markdown",
   "id": "1836c1a1",
   "metadata": {},
   "source": [
    "# 5. Export it into data folder as a json: `data/coffe_shops.json`"
   ]
  },
  {
   "cell_type": "code",
   "execution_count": 33,
   "id": "7ac5f2a8",
   "metadata": {},
   "outputs": [],
   "source": [
    "df.to_json('../lab-coffee-shops/data/coffe_shops.json')"
   ]
  },
  {
   "cell_type": "markdown",
   "id": "2d77e99d",
   "metadata": {},
   "source": [
    "# BONUS: load it into MongoDB in a collection named \"ironcoffee\" using pymongo"
   ]
  },
  {
   "cell_type": "code",
   "execution_count": 38,
   "id": "85b94955",
   "metadata": {},
   "outputs": [],
   "source": [
    "import pymongo\n",
    "\n",
    "client = pymongo.MongoClient(\"localhost:27017\")\n",
    "db = client[\"ironhack\"]\n",
    "c = db.get_collection(\"ironcoffee\")\n",
    "c.find_one()"
   ]
  },
  {
   "cell_type": "code",
   "execution_count": 39,
   "id": "a84543bd",
   "metadata": {},
   "outputs": [],
   "source": [
    "with open('../lab-coffee-shops/data/coffe_shops.json') as f:\n",
    "    data = json.load(f)"
   ]
  },
  {
   "cell_type": "code",
   "execution_count": 50,
   "id": "25e887d1",
   "metadata": {},
   "outputs": [
    {
     "data": {
      "text/html": [
       "<div>\n",
       "<style scoped>\n",
       "    .dataframe tbody tr th:only-of-type {\n",
       "        vertical-align: middle;\n",
       "    }\n",
       "\n",
       "    .dataframe tbody tr th {\n",
       "        vertical-align: top;\n",
       "    }\n",
       "\n",
       "    .dataframe thead th {\n",
       "        text-align: right;\n",
       "    }\n",
       "</style>\n",
       "<table border=\"1\" class=\"dataframe\">\n",
       "  <thead>\n",
       "    <tr style=\"text-align: right;\">\n",
       "      <th></th>\n",
       "      <th>name</th>\n",
       "      <th>location</th>\n",
       "    </tr>\n",
       "  </thead>\n",
       "  <tbody>\n",
       "    <tr>\n",
       "      <th>0</th>\n",
       "      <td>Skye coffee co</td>\n",
       "      <td>{'address': 'Calle Pamplona, 88', 'admin_regio...</td>\n",
       "    </tr>\n",
       "    <tr>\n",
       "      <th>1</th>\n",
       "      <td>Cafeteria Botanica</td>\n",
       "      <td>{'address': 'Calle D'Àlaba, 100', 'admin_regio...</td>\n",
       "    </tr>\n",
       "    <tr>\n",
       "      <th>2</th>\n",
       "      <td>Bar Sancho</td>\n",
       "      <td>{'address': 'Sancho de Ávila, 7', 'admin_regio...</td>\n",
       "    </tr>\n",
       "    <tr>\n",
       "      <th>3</th>\n",
       "      <td>Syra Coffee Poblenou</td>\n",
       "      <td>{'address': 'Calle de Pujades, 100', 'admin_re...</td>\n",
       "    </tr>\n",
       "    <tr>\n",
       "      <th>4</th>\n",
       "      <td>Espai Joliu</td>\n",
       "      <td>{'address': 'Carrer Badajoz, 95', 'admin_regio...</td>\n",
       "    </tr>\n",
       "  </tbody>\n",
       "</table>\n",
       "</div>"
      ],
      "text/plain": [
       "                   name                                           location\n",
       "0        Skye coffee co  {'address': 'Calle Pamplona, 88', 'admin_regio...\n",
       "1    Cafeteria Botanica  {'address': 'Calle D'Àlaba, 100', 'admin_regio...\n",
       "2            Bar Sancho  {'address': 'Sancho de Ávila, 7', 'admin_regio...\n",
       "3  Syra Coffee Poblenou  {'address': 'Calle de Pujades, 100', 'admin_re...\n",
       "4           Espai Joliu  {'address': 'Carrer Badajoz, 95', 'admin_regio..."
      ]
     },
     "execution_count": 50,
     "metadata": {},
     "output_type": "execute_result"
    }
   ],
   "source": [
    "data2 = pd.DataFrame(data)\n",
    "data2 = data2[['name','location']]\n",
    "data2"
   ]
  },
  {
   "cell_type": "code",
   "execution_count": 51,
   "id": "9b792ebd",
   "metadata": {},
   "outputs": [
    {
     "data": {
      "text/plain": [
       "[{'name': 'Skye coffee co',\n",
       "  'location': {'address': 'Calle Pamplona, 88',\n",
       "   'admin_region': 'Cataluña',\n",
       "   'country': 'ES',\n",
       "   'cross_street': 'C. de Pallars',\n",
       "   'formatted_address': 'Calle Pamplona, 88 (C. de Pallars), 08018 Barcelona Catalonia',\n",
       "   'locality': 'Barcelona',\n",
       "   'postcode': '08018',\n",
       "   'region': 'Catalonia'}},\n",
       " {'name': 'Cafeteria Botanica',\n",
       "  'location': {'address': \"Calle D'Àlaba, 100\",\n",
       "   'admin_region': 'Cataluña',\n",
       "   'country': 'ES',\n",
       "   'cross_street': '',\n",
       "   'formatted_address': \"Calle D'Àlaba, 100, 08018 Barcelona Catalonia\",\n",
       "   'locality': 'Barcelona',\n",
       "   'postcode': '08018',\n",
       "   'region': 'Catalonia'}},\n",
       " {'name': 'Bar Sancho',\n",
       "  'location': {'address': 'Sancho de Ávila, 7',\n",
       "   'admin_region': 'Cataluña',\n",
       "   'country': 'ES',\n",
       "   'cross_street': '',\n",
       "   'formatted_address': 'Sancho de Ávila, 7, 08018 Barcelona Catalonia',\n",
       "   'locality': 'Barcelona',\n",
       "   'postcode': '08018',\n",
       "   'region': 'Catalonia'}},\n",
       " {'name': 'Syra Coffee Poblenou',\n",
       "  'location': {'address': 'Calle de Pujades, 100',\n",
       "   'admin_region': 'Cataluña',\n",
       "   'country': 'ES',\n",
       "   'cross_street': \"C. d'Àlaba\",\n",
       "   'formatted_address': \"Calle de Pujades, 100 (C. d'Àlaba), 08005 Barcelona Catalonia\",\n",
       "   'locality': 'Barcelona',\n",
       "   'postcode': '08005',\n",
       "   'region': 'Catalonia'}},\n",
       " {'name': 'Espai Joliu',\n",
       "  'location': {'address': 'Carrer Badajoz, 95',\n",
       "   'admin_region': 'Cataluña',\n",
       "   'country': 'ES',\n",
       "   'cross_street': '',\n",
       "   'formatted_address': 'Carrer Badajoz, 95, 08005 Barcelona Catalonia',\n",
       "   'locality': 'Barcelona',\n",
       "   'postcode': '08005',\n",
       "   'region': 'Catalonia'}}]"
      ]
     },
     "execution_count": 51,
     "metadata": {},
     "output_type": "execute_result"
    }
   ],
   "source": [
    "dict_ = data2.to_dict(orient='records')\n",
    "dict_"
   ]
  },
  {
   "cell_type": "code",
   "execution_count": 52,
   "id": "f03bcf73",
   "metadata": {},
   "outputs": [
    {
     "data": {
      "text/plain": [
       "<pymongo.results.InsertManyResult at 0x7fe98e079ee0>"
      ]
     },
     "execution_count": 52,
     "metadata": {},
     "output_type": "execute_result"
    }
   ],
   "source": [
    "c.insert_many(dict_)"
   ]
  }
 ],
 "metadata": {
  "kernelspec": {
   "display_name": "ironhack",
   "language": "python",
   "name": "ironhack"
  },
  "language_info": {
   "codemirror_mode": {
    "name": "ipython",
    "version": 3
   },
   "file_extension": ".py",
   "mimetype": "text/x-python",
   "name": "python",
   "nbconvert_exporter": "python",
   "pygments_lexer": "ipython3",
   "version": "3.9.12"
  },
  "toc": {
   "base_numbering": 1,
   "nav_menu": {},
   "number_sections": true,
   "sideBar": true,
   "skip_h1_title": false,
   "title_cell": "Table of Contents",
   "title_sidebar": "Contents",
   "toc_cell": false,
   "toc_position": {},
   "toc_section_display": true,
   "toc_window_display": true
  }
 },
 "nbformat": 4,
 "nbformat_minor": 5
}
