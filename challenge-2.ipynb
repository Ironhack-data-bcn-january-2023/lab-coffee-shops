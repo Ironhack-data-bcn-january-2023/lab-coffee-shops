{
 "cells": [
  {
   "cell_type": "markdown",
   "id": "0809e785",
   "metadata": {},
   "source": [
    "# 1. Import the necessary libraries for you to be able to query 4square API"
   ]
  },
  {
   "cell_type": "code",
   "execution_count": 5,
   "id": "9b373771",
   "metadata": {},
   "outputs": [],
   "source": [
    "import requests\n",
    "import json\n",
    "import pandas as pd\n",
    "from getpass import getpass\n",
    "import os\n",
    "from dotenv import load_dotenv"
   ]
  },
  {
   "cell_type": "markdown",
   "id": "e94dce92",
   "metadata": {},
   "source": [
    "# 2. Get names and location of the 10 coffee places by passing Ironhack as your location"
   ]
  },
  {
   "cell_type": "code",
   "execution_count": 7,
   "id": "1d72f571",
   "metadata": {},
   "outputs": [
    {
     "name": "stdout",
     "output_type": "stream",
     "text": [
      "{'results': [{'fsq_id': '5a1e8e634382ab7bf85940f3', 'categories': [{'id': 13034, 'name': 'Café', 'icon': {'prefix': 'https://ss3.4sqi.net/img/categories_v2/food/cafe_', 'suffix': '.png'}}], 'chains': [], 'distance': 249, 'geocodes': {'main': {'latitude': 41.388319, 'longitude': 2.177882}, 'roof': {'latitude': 41.388319, 'longitude': 2.177882}}, 'link': '/v3/places/5a1e8e634382ab7bf85940f3', 'location': {'address': \"Calle D'en Mònec, 6\", 'admin_region': 'Cataluña', 'country': 'ES', 'cross_street': '', 'formatted_address': \"Calle D'en Mònec, 6, 08003 Barcelona Catalonia\", 'locality': 'Barcelona', 'postcode': '08003', 'region': 'Catalonia'}, 'name': 'La Masala Cafe', 'related_places': {}, 'timezone': 'Europe/Madrid'}], 'context': {'geo_bounds': {'circle': {'center': {'latitude': 41.39, 'longitude': 2.18}, 'radius': 500}}}}\n"
     ]
    }
   ],
   "source": [
    "load_dotenv()\n",
    "\n",
    "url = \"https://api.foursquare.com/v3/places/search\"\n",
    "\n",
    "params = {\n",
    "    \"query\": \"cafe\",\n",
    "    \"ll\": \"41.39,2.18\",\n",
    "    \"radius\": 500,\n",
    "    \"limit\": 1\n",
    "}\n",
    "\n",
    "headers = {\n",
    "    \"Authorization\": os.getenv(\"passwd\"),\n",
    "    \"accept\": \"application/json\"\n",
    "}\n",
    "\n",
    "response = requests.get(url, params=params, headers=headers)\n",
    "\n",
    "# Check the status code to see if the request was successful\n",
    "if response.status_code == 200:\n",
    "    # If successful, the response JSON will be in the `response.json()` dictionary\n",
    "    result = response.json()\n",
    "    print(result)\n",
    "else:\n",
    "    # If the request was unsuccessful, print the status code and text\n",
    "    print(f\"Request failed with status code {response.status_code}: {response.text}\")"
   ]
  },
  {
   "cell_type": "markdown",
   "id": "941b5dbf",
   "metadata": {},
   "source": [
    "# 3. Now get the 5 CLOSEST coffe places. Make use of params: limit, near?"
   ]
  },
  {
   "cell_type": "code",
   "execution_count": 10,
   "id": "fda8ddff",
   "metadata": {},
   "outputs": [
    {
     "name": "stdout",
     "output_type": "stream",
     "text": [
      "{'results': [{'fsq_id': '4bb9f03653649c74b46748fb', 'categories': [{'id': 13034, 'name': 'Café', 'icon': {'prefix': 'https://ss3.4sqi.net/img/categories_v2/food/cafe_', 'suffix': '.png'}}, {'id': 13035, 'name': 'Coffee Shop', 'icon': {'prefix': 'https://ss3.4sqi.net/img/categories_v2/food/coffeeshop_', 'suffix': '.png'}}, {'id': 13345, 'name': 'Spanish Restaurant', 'icon': {'prefix': 'https://ss3.4sqi.net/img/categories_v2/food/spanish_', 'suffix': '.png'}}], 'chains': [], 'distance': 134, 'geocodes': {'main': {'latitude': 41.389473, 'longitude': 2.181254}, 'roof': {'latitude': 41.389473, 'longitude': 2.181254}}, 'link': '/v3/places/4bb9f03653649c74b46748fb', 'location': {'address': 'Calle del Comerç, 4', 'admin_region': 'Cataluña', 'country': 'ES', 'formatted_address': 'Calle del Comerç, 4, 08003 Barcelona Catalonia', 'locality': 'Barcelona', 'postcode': '08003', 'region': 'Catalonia'}, 'name': 'El Montana Cafè & Restaurant', 'related_places': {}, 'timezone': 'Europe/Madrid'}, {'fsq_id': '53846d40498e22b2a68f9c68', 'categories': [{'id': 13034, 'name': 'Café', 'icon': {'prefix': 'https://ss3.4sqi.net/img/categories_v2/food/cafe_', 'suffix': '.png'}}], 'chains': [], 'distance': 246, 'geocodes': {'main': {'latitude': 41.390593, 'longitude': 2.177152}}, 'link': '/v3/places/53846d40498e22b2a68f9c68', 'location': {'address': 'Ronda de Sant Pere, 54', 'admin_region': 'Cataluña', 'country': 'ES', 'cross_street': '', 'formatted_address': 'Ronda de Sant Pere, 54, 08010 Barcelona Catalonia', 'locality': 'Barcelona', 'postcode': '08010', 'region': 'Catalonia'}, 'name': 'Hanami Cafe', 'related_places': {}, 'timezone': 'Europe/Madrid'}, {'fsq_id': '60b21df95770813c5246d618', 'categories': [{'id': 13034, 'name': 'Café', 'icon': {'prefix': 'https://ss3.4sqi.net/img/categories_v2/food/cafe_', 'suffix': '.png'}}, {'id': 13065, 'name': 'Restaurant', 'icon': {'prefix': 'https://ss3.4sqi.net/img/categories_v2/food/default_', 'suffix': '.png'}}], 'chains': [], 'distance': 133, 'geocodes': {'main': {'latitude': 41.390403, 'longitude': 2.178468}}, 'link': '/v3/places/60b21df95770813c5246d618', 'location': {'address': 'Carrer de Trafalgar, 66', 'admin_region': 'Cataluña', 'country': 'ES', 'cross_street': '', 'formatted_address': 'Carrer de Trafalgar, 66, 08003 Barcelona Catalonia', 'locality': 'Barcelona', 'postcode': '08003', 'region': 'Catalonia'}, 'name': 'Café 365', 'related_places': {}, 'timezone': 'Europe/Madrid'}, {'fsq_id': '4ea32a63e5facb29c795f50e', 'categories': [{'id': 13034, 'name': 'Café', 'icon': {'prefix': 'https://ss3.4sqi.net/img/categories_v2/food/cafe_', 'suffix': '.png'}}], 'chains': [], 'distance': 212, 'geocodes': {'main': {'latitude': 41.388645, 'longitude': 2.181801}}, 'link': '/v3/places/4ea32a63e5facb29c795f50e', 'location': {'address': 'Comerç 1', 'admin_region': 'Cataluña', 'country': 'ES', 'formatted_address': 'Comerç 1, Barcelona Catalonia', 'locality': 'Barcelona', 'region': 'Catalonia'}, 'name': 'Cafetería Belles Arts I', 'related_places': {}, 'timezone': 'Europe/Madrid'}, {'fsq_id': '4cb20b1fdb32f04d9c14cd4d', 'categories': [{'id': 13003, 'name': 'Bar', 'icon': {'prefix': 'https://ss3.4sqi.net/img/categories_v2/nightlife/pub_', 'suffix': '.png'}}], 'chains': [], 'distance': 155, 'geocodes': {'main': {'latitude': 41.388702, 'longitude': 2.180637}, 'roof': {'latitude': 41.388702, 'longitude': 2.180637}}, 'link': '/v3/places/4cb20b1fdb32f04d9c14cd4d', 'location': {'address': 'Portal Nou, 23', 'admin_region': 'Cataluña', 'country': 'ES', 'formatted_address': 'Portal Nou, 23, 08003 Barcelona Catalonia', 'locality': 'Barcelona', 'postcode': '08003', 'region': 'Catalonia'}, 'name': 'Pony Cafe', 'related_places': {}, 'timezone': 'Europe/Madrid'}], 'context': {'geo_bounds': {'circle': {'center': {'latitude': 41.39, 'longitude': 2.18}, 'radius': 250}}}}\n"
     ]
    }
   ],
   "source": [
    "# your code here\n",
    "import requests\n",
    "import os\n",
    "from dotenv import load_dotenv\n",
    "\n",
    "load_dotenv()\n",
    "\n",
    "url = \"https://api.foursquare.com/v3/places/search\"\n",
    "\n",
    "params = {\n",
    "    \"query\": \"cafe\",\n",
    "    \"ll\": \"41.39,2.18\",\n",
    "    \"radius\": 250,\n",
    "    \"limit\": 5\n",
    "}\n",
    "\n",
    "headers = {\n",
    "    \"Authorization\": os.getenv(\"passwd\"),\n",
    "    \"accept\": \"application/json\"\n",
    "}\n",
    "\n",
    "response = requests.get(url, params=params, headers=headers)\n",
    "\n",
    "# Check the status code to see if the request was successful\n",
    "if response.status_code == 200:\n",
    "    # If successful, the response JSON will be in the `response.json()` dictionary\n",
    "    result = response.json()\n",
    "    print(result)\n",
    "else:\n",
    "    # If the request was unsuccessful, print the status code and text\n",
    "    print(f\"Request failed with status code {response.status_code}: {response.text}\")\n"
   ]
  },
  {
   "cell_type": "markdown",
   "id": "d19904e8",
   "metadata": {},
   "source": [
    "# 4. Define a function that returns name, lat, long for starbucks OR restaurants AND for any given location"
   ]
  },
  {
   "cell_type": "code",
   "execution_count": 17,
   "id": "1fad5153",
   "metadata": {},
   "outputs": [],
   "source": [
    "load_dotenv()\n",
    "\n",
    "def search_places(coordinates, query, limit):\n",
    "    url = \"https://api.foursquare.com/v3/places/search\"\n",
    "\n",
    "    params = {\n",
    "        \"query\": query,\n",
    "        \"ll\": coordinates,\n",
    "        \"radius\": 5000,\n",
    "        \"limit\": limit\n",
    "    }\n",
    "\n",
    "    headers = {\n",
    "        \"Authorization\": os.getenv(\"passwd\"),\n",
    "        \"accept\": \"application/json\"\n",
    "    }\n",
    "\n",
    "    response = requests.get(url, params=params, headers=headers)\n",
    "\n",
    "    # Check the status code to see if the request was successful\n",
    "    if response.status_code == 200:\n",
    "        # If successful, the response JSON will be in the `response.json()` dictionary\n",
    "        result = response.json()\n",
    "        return result\n",
    "    else:\n",
    "        # If the request was unsuccessful, return the status code and text\n",
    "        return {\n",
    "            \"error\": {\n",
    "                \"status_code\": response.status_code,\n",
    "                \"message\": response.text\n",
    "            }\n",
    "        }"
   ]
  },
  {
   "cell_type": "code",
   "execution_count": 18,
   "id": "e99ac8a1-cda2-449a-8dbf-3a8e0ec0ad7f",
   "metadata": {},
   "outputs": [],
   "source": [
    "result = search_places(\"35.89,14.43\", \"McDonald's\", 5)\n"
   ]
  },
  {
   "cell_type": "code",
   "execution_count": 19,
   "id": "09f50ba6-1a12-40b6-935e-2b27ec4cb5e5",
   "metadata": {},
   "outputs": [
    {
     "data": {
      "text/plain": [
       "{'results': [{'fsq_id': '5352ac34498ed4c1fd3f1785',\n",
       "   'categories': [{'id': 13145,\n",
       "     'name': 'Fast Food Restaurant',\n",
       "     'icon': {'prefix': 'https://ss3.4sqi.net/img/categories_v2/food/fastfood_',\n",
       "      'suffix': '.png'}}],\n",
       "   'chains': [],\n",
       "   'distance': 1837,\n",
       "   'geocodes': {'main': {'latitude': 35.906162, 'longitude': 14.42568}},\n",
       "   'link': '/v3/places/5352ac34498ed4c1fd3f1785',\n",
       "   'location': {'address': 'Naxxar Road',\n",
       "    'country': 'MT',\n",
       "    'cross_street': '',\n",
       "    'formatted_address': 'Naxxar Road, Gharghur',\n",
       "    'locality': 'Gharghur'},\n",
       "   'name': \"McDonald's\",\n",
       "   'related_places': {},\n",
       "   'timezone': 'Europe/Malta'},\n",
       "  {'fsq_id': '533ef5c1498e1eb6bc9bef2b',\n",
       "   'categories': [{'id': 13145,\n",
       "     'name': 'Fast Food Restaurant',\n",
       "     'icon': {'prefix': 'https://ss3.4sqi.net/img/categories_v2/food/fastfood_',\n",
       "      'suffix': '.png'}}],\n",
       "   'chains': [],\n",
       "   'distance': 3759,\n",
       "   'geocodes': {'main': {'latitude': 35.916992, 'longitude': 14.455188}},\n",
       "   'link': '/v3/places/533ef5c1498e1eb6bc9bef2b',\n",
       "   'location': {'country': 'MT', 'cross_street': '', 'formatted_address': ''},\n",
       "   'name': \"McDonald's\",\n",
       "   'related_places': {},\n",
       "   'timezone': 'Europe/Malta'},\n",
       "  {'fsq_id': '4bbf093e82a2ef3b2d1e2cd2',\n",
       "   'categories': [{'id': 13145,\n",
       "     'name': 'Fast Food Restaurant',\n",
       "     'icon': {'prefix': 'https://ss3.4sqi.net/img/categories_v2/food/fastfood_',\n",
       "      'suffix': '.png'}}],\n",
       "   'chains': [],\n",
       "   'distance': 3071,\n",
       "   'geocodes': {'main': {'latitude': 35.896469, 'longitude': 14.463171}},\n",
       "   'link': '/v3/places/4bbf093e82a2ef3b2d1e2cd2',\n",
       "   'location': {'address': 'Valley Rd',\n",
       "    'country': 'MT',\n",
       "    'cross_street': '',\n",
       "    'formatted_address': 'Valley Rd, Birkirkara',\n",
       "    'locality': 'Birkirkara',\n",
       "    'region': 'Birkirkara'},\n",
       "   'name': \"McDonald's\",\n",
       "   'related_places': {},\n",
       "   'timezone': 'Europe/Malta'}],\n",
       " 'context': {'geo_bounds': {'circle': {'center': {'latitude': 35.89,\n",
       "     'longitude': 14.43},\n",
       "    'radius': 5000}}}}"
      ]
     },
     "execution_count": 19,
     "metadata": {},
     "output_type": "execute_result"
    }
   ],
   "source": [
    "result"
   ]
  },
  {
   "cell_type": "markdown",
   "id": "1836c1a1",
   "metadata": {},
   "source": [
    "# 5. Export it into data folder as a json: `data/coffe_shops.json`"
   ]
  },
  {
   "cell_type": "code",
   "execution_count": 28,
   "id": "7ac5f2a8",
   "metadata": {},
   "outputs": [
    {
     "name": "stdout",
     "output_type": "stream",
     "text": [
      "{'results': [{'fsq_id': '4d0e497a7d28721e9070fd20', 'categories': [{'id': 13145, 'name': 'Fast Food Restaurant', 'icon': {'prefix': 'https://ss3.4sqi.net/img/categories_v2/food/fastfood_', 'suffix': '.png'}}], 'chains': [], 'distance': 7172, 'geocodes': {'main': {'latitude': 35.851613, 'longitude': 14.494035}}, 'link': '/v3/places/4d0e497a7d28721e9070fd20', 'location': {'address': 'Aviation St.', 'country': 'MT', 'cross_street': 'MLA Airport', 'formatted_address': 'Aviation St. (MLA Airport), Kirkop', 'locality': 'Kirkop', 'region': 'Kirkop'}, 'name': \"McDonald's\", 'related_places': {}, 'timezone': 'Europe/Malta'}, {'fsq_id': '533ef5c1498e1eb6bc9bef2b', 'categories': [{'id': 13145, 'name': 'Fast Food Restaurant', 'icon': {'prefix': 'https://ss3.4sqi.net/img/categories_v2/food/fastfood_', 'suffix': '.png'}}], 'chains': [], 'distance': 3759, 'geocodes': {'main': {'latitude': 35.916992, 'longitude': 14.455188}}, 'link': '/v3/places/533ef5c1498e1eb6bc9bef2b', 'location': {'country': 'MT', 'cross_street': '', 'formatted_address': ''}, 'name': \"McDonald's\", 'related_places': {}, 'timezone': 'Europe/Malta'}, {'fsq_id': '5352ac34498ed4c1fd3f1785', 'categories': [{'id': 13145, 'name': 'Fast Food Restaurant', 'icon': {'prefix': 'https://ss3.4sqi.net/img/categories_v2/food/fastfood_', 'suffix': '.png'}}], 'chains': [], 'distance': 1837, 'geocodes': {'main': {'latitude': 35.906162, 'longitude': 14.42568}}, 'link': '/v3/places/5352ac34498ed4c1fd3f1785', 'location': {'address': 'Naxxar Road', 'country': 'MT', 'cross_street': '', 'formatted_address': 'Naxxar Road, Gharghur', 'locality': 'Gharghur'}, 'name': \"McDonald's\", 'related_places': {}, 'timezone': 'Europe/Malta'}, {'fsq_id': '51a14ae7498ec461cfafa1b4', 'categories': [{'id': 13145, 'name': 'Fast Food Restaurant', 'icon': {'prefix': 'https://ss3.4sqi.net/img/categories_v2/food/fastfood_', 'suffix': '.png'}}], 'chains': [], 'distance': 7169, 'geocodes': {'main': {'latitude': 35.90869, 'longitude': 14.50623}}, 'link': '/v3/places/51a14ae7498ec461cfafa1b4', 'location': {'address': 'The Strand', 'country': 'MT', 'formatted_address': 'The Strand, Sliema', 'locality': 'Sliema'}, 'name': \"McDonald's\", 'related_places': {}, 'timezone': 'Europe/Malta'}, {'fsq_id': '4bbf093e82a2ef3b2d1e2cd2', 'categories': [{'id': 13145, 'name': 'Fast Food Restaurant', 'icon': {'prefix': 'https://ss3.4sqi.net/img/categories_v2/food/fastfood_', 'suffix': '.png'}}], 'chains': [], 'distance': 3071, 'geocodes': {'main': {'latitude': 35.896469, 'longitude': 14.463171}}, 'link': '/v3/places/4bbf093e82a2ef3b2d1e2cd2', 'location': {'address': 'Valley Rd', 'country': 'MT', 'cross_street': '', 'formatted_address': 'Valley Rd, Birkirkara', 'locality': 'Birkirkara', 'region': 'Birkirkara'}, 'name': \"McDonald's\", 'related_places': {}, 'timezone': 'Europe/Malta'}], 'context': {'geo_bounds': {'circle': {'center': {'latitude': 35.89, 'longitude': 14.43}, 'radius': 25000}}}}\n"
     ]
    }
   ],
   "source": [
    "# your code here\n",
    "load_dotenv()\n",
    "\n",
    "def search_places(coordinates, query, limit):\n",
    "    url = \"https://api.foursquare.com/v3/places/search\"\n",
    "\n",
    "    params = {\n",
    "        \"query\": query,\n",
    "        \"ll\": coordinates,\n",
    "        \"radius\": 25000,\n",
    "        \"limit\": limit\n",
    "    }\n",
    "\n",
    "    headers = {\n",
    "        \"Authorization\": os.getenv(\"passwd\"),\n",
    "        \"accept\": \"application/json\"\n",
    "    }\n",
    "\n",
    "    response = requests.get(url, params=params, headers=headers)\n",
    "\n",
    "    # Check the status code to see if the request was successful\n",
    "    if response.status_code == 200:\n",
    "        # If successful, the response JSON will be in the `response.json()` dictionary\n",
    "        result = response.json()\n",
    "        filename = f\"data/{query.replace(' ', '_')}.json\"\n",
    "        with open(filename, \"w\") as file:\n",
    "            json.dump(result, file)\n",
    "        return result\n",
    "    else:\n",
    "        # If the request was unsuccessful, return the status code and text\n",
    "        return {\n",
    "            \"error\": {\n",
    "                \"status_code\": response.status_code,\n",
    "                \"message\": response.text\n",
    "            }\n",
    "        }\n",
    "\n",
    "# Example usage:\n",
    "result = search_places(\"35.89,14.43\", \"McDonald's\", 5)\n",
    "print(result)\n"
   ]
  },
  {
   "cell_type": "markdown",
   "id": "2d77e99d",
   "metadata": {},
   "source": [
    "# BONUS: load it into MongoDB in a collection named \"ironcoffee\" using pymongo"
   ]
  },
  {
   "cell_type": "code",
   "execution_count": 24,
   "id": "85b94955",
   "metadata": {},
   "outputs": [],
   "source": [
    "# your code here\n",
    "import pymongo\n"
   ]
  },
  {
   "cell_type": "code",
   "execution_count": 27,
   "id": "75f726a4-1dd6-4e58-8b47-dbeda2f16f4d",
   "metadata": {},
   "outputs": [
    {
     "ename": "KeyError",
     "evalue": "'places'",
     "output_type": "error",
     "traceback": [
      "\u001b[0;31m---------------------------------------------------------------------------\u001b[0m",
      "\u001b[0;31mKeyError\u001b[0m                                  Traceback (most recent call last)",
      "Input \u001b[0;32mIn [27]\u001b[0m, in \u001b[0;36m<cell line: 43>\u001b[0;34m()\u001b[0m\n\u001b[1;32m     35\u001b[0m         \u001b[38;5;28;01mreturn\u001b[39;00m {\n\u001b[1;32m     36\u001b[0m             \u001b[38;5;124m\"\u001b[39m\u001b[38;5;124merror\u001b[39m\u001b[38;5;124m\"\u001b[39m: {\n\u001b[1;32m     37\u001b[0m                 \u001b[38;5;124m\"\u001b[39m\u001b[38;5;124mstatus_code\u001b[39m\u001b[38;5;124m\"\u001b[39m: response\u001b[38;5;241m.\u001b[39mstatus_code,\n\u001b[1;32m     38\u001b[0m                 \u001b[38;5;124m\"\u001b[39m\u001b[38;5;124mmessage\u001b[39m\u001b[38;5;124m\"\u001b[39m: response\u001b[38;5;241m.\u001b[39mtext\n\u001b[1;32m     39\u001b[0m             }\n\u001b[1;32m     40\u001b[0m         }\n\u001b[1;32m     42\u001b[0m \u001b[38;5;66;03m# Example usage:\u001b[39;00m\n\u001b[0;32m---> 43\u001b[0m result \u001b[38;5;241m=\u001b[39m \u001b[43msearch_places\u001b[49m\u001b[43m(\u001b[49m\u001b[38;5;124;43m\"\u001b[39;49m\u001b[38;5;124;43m35.89,14.43\u001b[39;49m\u001b[38;5;124;43m\"\u001b[39;49m\u001b[43m,\u001b[49m\u001b[43m \u001b[49m\u001b[38;5;124;43m\"\u001b[39;49m\u001b[38;5;124;43mMcDonald\u001b[39;49m\u001b[38;5;124;43m'\u001b[39;49m\u001b[38;5;124;43ms\u001b[39;49m\u001b[38;5;124;43m\"\u001b[39;49m\u001b[43m,\u001b[49m\u001b[43m \u001b[49m\u001b[38;5;241;43m5\u001b[39;49m\u001b[43m)\u001b[49m\n\u001b[1;32m     44\u001b[0m \u001b[38;5;28mprint\u001b[39m(result)\n",
      "Input \u001b[0;32mIn [27]\u001b[0m, in \u001b[0;36msearch_places\u001b[0;34m(coordinates, query, limit)\u001b[0m\n\u001b[1;32m     29\u001b[0m     db \u001b[38;5;241m=\u001b[39m client[\u001b[38;5;124m\"\u001b[39m\u001b[38;5;124mfoursquare\u001b[39m\u001b[38;5;124m\"\u001b[39m]\n\u001b[1;32m     30\u001b[0m     collection \u001b[38;5;241m=\u001b[39m db[\u001b[38;5;124m\"\u001b[39m\u001b[38;5;124mironcoffee\u001b[39m\u001b[38;5;124m\"\u001b[39m]\n\u001b[0;32m---> 31\u001b[0m     collection\u001b[38;5;241m.\u001b[39minsert_many(\u001b[43mresult\u001b[49m\u001b[43m[\u001b[49m\u001b[38;5;124;43m\"\u001b[39;49m\u001b[38;5;124;43mplaces\u001b[39;49m\u001b[38;5;124;43m\"\u001b[39;49m\u001b[43m]\u001b[49m[\u001b[38;5;124m\"\u001b[39m\u001b[38;5;124mitems\u001b[39m\u001b[38;5;124m\"\u001b[39m])\n\u001b[1;32m     32\u001b[0m     \u001b[38;5;28;01mreturn\u001b[39;00m result\n\u001b[1;32m     33\u001b[0m \u001b[38;5;28;01melse\u001b[39;00m:\n\u001b[1;32m     34\u001b[0m     \u001b[38;5;66;03m# If the request was unsuccessful, return the status code and text\u001b[39;00m\n",
      "\u001b[0;31mKeyError\u001b[0m: 'places'"
     ]
    }
   ],
   "source": [
    "load_dotenv()\n",
    "\n",
    "def search_places(coordinates, query, limit):\n",
    "    url = \"https://api.foursquare.com/v3/places/search\"\n",
    "\n",
    "    params = {\n",
    "        \"query\": query,\n",
    "        \"ll\": coordinates,\n",
    "        \"radius\": 500,\n",
    "        \"limit\": limit\n",
    "    }\n",
    "\n",
    "    headers = {\n",
    "        \"Authorization\": os.getenv(\"passwd\"),\n",
    "        \"accept\": \"application/json\"\n",
    "    }\n",
    "\n",
    "    response = requests.get(url, params=params, headers=headers)\n",
    "\n",
    "    # Check the status code to see if the request was successful\n",
    "    if response.status_code == 200:\n",
    "        # If successful, the response JSON will be in the `response.json()` dictionary\n",
    "        result = response.json()\n",
    "        filename = f\"data/{query.replace(' ', '_')}.json\"\n",
    "        with open(filename, \"w\") as file:\n",
    "            json.dump(result, file)\n",
    "\n",
    "        client = pymongo.MongoClient(os.getenv(\"MONGO_URI\"))\n",
    "        db = client[\"foursquare\"]\n",
    "        collection = db[\"ironcoffee\"]\n",
    "        collection.insert_many(result[\"places\"][\"items\"])\n",
    "        return result\n",
    "    else:\n",
    "        # If the request was unsuccessful, return the status code and text\n",
    "        return {\n",
    "            \"error\": {\n",
    "                \"status_code\": response.status_code,\n",
    "                \"message\": response.text\n",
    "            }\n",
    "        }\n",
    "\n",
    "# Example usage:\n",
    "result = search_places(\"35.89,14.43\", \"McDonald's\", 5)\n",
    "print(result)"
   ]
  },
  {
   "cell_type": "code",
   "execution_count": null,
   "id": "d1a97585-ed30-4c31-8405-923d2071afbe",
   "metadata": {},
   "outputs": [],
   "source": []
  }
 ],
 "metadata": {
  "kernelspec": {
   "display_name": "ironhack",
   "language": "python",
   "name": "ironhack"
  },
  "language_info": {
   "codemirror_mode": {
    "name": "ipython",
    "version": 3
   },
   "file_extension": ".py",
   "mimetype": "text/x-python",
   "name": "python",
   "nbconvert_exporter": "python",
   "pygments_lexer": "ipython3",
   "version": "3.10.4"
  },
  "toc": {
   "base_numbering": 1,
   "nav_menu": {},
   "number_sections": true,
   "sideBar": true,
   "skip_h1_title": false,
   "title_cell": "Table of Contents",
   "title_sidebar": "Contents",
   "toc_cell": false,
   "toc_position": {},
   "toc_section_display": true,
   "toc_window_display": true
  }
 },
 "nbformat": 4,
 "nbformat_minor": 5
}
