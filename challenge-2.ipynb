{
 "cells": [
  {
   "cell_type": "markdown",
   "id": "0809e785",
   "metadata": {},
   "source": [
    "# 1. Import the necessary libraries for you to be able to query 4square API"
   ]
  },
  {
   "cell_type": "code",
   "execution_count": 75,
   "id": "9b373771",
   "metadata": {},
   "outputs": [],
   "source": [
    "import requests\n",
    "import json\n",
    "import pandas as pd\n",
    "from getpass import getpass\n",
    "\n",
    "import os\n",
    "from dotenv import load_dotenv\n",
    "\n",
    "from pymongo import MongoClient"
   ]
  },
  {
   "cell_type": "code",
   "execution_count": 6,
   "id": "b08e806f",
   "metadata": {},
   "outputs": [
    {
     "data": {
      "text/plain": [
       "True"
      ]
     },
     "execution_count": 6,
     "metadata": {},
     "output_type": "execute_result"
    }
   ],
   "source": [
    "load_dotenv() "
   ]
  },
  {
   "cell_type": "markdown",
   "id": "e94dce92",
   "metadata": {},
   "source": [
    "# 2. Get names and location of the 10 coffee places by passing Ironhack as your location"
   ]
  },
  {
   "cell_type": "code",
   "execution_count": 1,
   "id": "1d72f571",
   "metadata": {},
   "outputs": [],
   "source": [
    "# your code here\n",
    "iron_lat= 41.3977421\n",
    "iron_lon=2.1902493"
   ]
  },
  {
   "cell_type": "code",
   "execution_count": 7,
   "id": "2556db6d",
   "metadata": {},
   "outputs": [],
   "source": [
    "passwd = os.getenv(\"passwd\")"
   ]
  },
  {
   "cell_type": "code",
   "execution_count": 23,
   "id": "c071afcc",
   "metadata": {},
   "outputs": [],
   "source": [
    "import requests\n",
    "\n",
    "url = \"https://api.foursquare.com/v3/places/search?query=coffee&ll=41.3977421%2C2.1902493&limit=10\"\n",
    "\n",
    "headers = {\n",
    "    \"accept\": \"application/json\",\n",
    "    \"Authorization\": \"fsq3r/TpfzZa1Jt2dzQr5+9KGqJwk9feYwt5/xcu0g6pewc=\"\n",
    "}\n",
    "\n",
    "\n",
    "response = requests.get(url, headers=headers)\n",
    "\n",
    "\n",
    "r = response.json()"
   ]
  },
  {
   "cell_type": "code",
   "execution_count": 39,
   "id": "3ac4b43b",
   "metadata": {},
   "outputs": [],
   "source": [
    "coffee_names =  [r['results'][i]['name'] for i in range(len(r['results'])) ]\n",
    "coffee_locations =  [r['results'][i]['location']['address'] for i in range(len(r['results'])) ]\n",
    "coffee_lat = [r['results'][i][\"geocodes\"][\"main\"]['latitude'] for i in range(len(r['results'])) ]\n",
    "coffee_lon = [r['results'][i][\"geocodes\"][\"main\"]['longitude'] for i in range(len(r['results'])) ]"
   ]
  },
  {
   "cell_type": "code",
   "execution_count": 42,
   "id": "0a19bcd7",
   "metadata": {},
   "outputs": [
    {
     "data": {
      "text/html": [
       "<div>\n",
       "<style scoped>\n",
       "    .dataframe tbody tr th:only-of-type {\n",
       "        vertical-align: middle;\n",
       "    }\n",
       "\n",
       "    .dataframe tbody tr th {\n",
       "        vertical-align: top;\n",
       "    }\n",
       "\n",
       "    .dataframe thead th {\n",
       "        text-align: right;\n",
       "    }\n",
       "</style>\n",
       "<table border=\"1\" class=\"dataframe\">\n",
       "  <thead>\n",
       "    <tr style=\"text-align: right;\">\n",
       "      <th></th>\n",
       "      <th>names</th>\n",
       "      <th>locations</th>\n",
       "      <th>lat</th>\n",
       "      <th>long</th>\n",
       "    </tr>\n",
       "  </thead>\n",
       "  <tbody>\n",
       "    <tr>\n",
       "      <th>0</th>\n",
       "      <td>Espai Joliu</td>\n",
       "      <td>Carrer Badajoz, 95</td>\n",
       "      <td>41.398735</td>\n",
       "      <td>2.195069</td>\n",
       "    </tr>\n",
       "    <tr>\n",
       "      <th>1</th>\n",
       "      <td>Skye coffee co</td>\n",
       "      <td>Calle Pamplona, 88</td>\n",
       "      <td>41.396876</td>\n",
       "      <td>2.191489</td>\n",
       "    </tr>\n",
       "    <tr>\n",
       "      <th>2</th>\n",
       "      <td>Nømad Roaster's Home</td>\n",
       "      <td>Calle de Pujades, 95</td>\n",
       "      <td>41.397977</td>\n",
       "      <td>2.195589</td>\n",
       "    </tr>\n",
       "    <tr>\n",
       "      <th>3</th>\n",
       "      <td>Three Marks Coffee</td>\n",
       "      <td>Ausiàs Marc, 151</td>\n",
       "      <td>41.396989</td>\n",
       "      <td>2.183409</td>\n",
       "    </tr>\n",
       "    <tr>\n",
       "      <th>4</th>\n",
       "      <td>Súper coffee &amp; food store</td>\n",
       "      <td>Carrer de Roc Boronat, 102</td>\n",
       "      <td>41.402197</td>\n",
       "      <td>2.195696</td>\n",
       "    </tr>\n",
       "    <tr>\n",
       "      <th>5</th>\n",
       "      <td>Santa Fe</td>\n",
       "      <td>Lington, 17</td>\n",
       "      <td>41.392081</td>\n",
       "      <td>2.185666</td>\n",
       "    </tr>\n",
       "    <tr>\n",
       "      <th>6</th>\n",
       "      <td>Syra Coffee Poblenou</td>\n",
       "      <td>Calle de Pujades, 100</td>\n",
       "      <td>41.396518</td>\n",
       "      <td>2.194170</td>\n",
       "    </tr>\n",
       "    <tr>\n",
       "      <th>7</th>\n",
       "      <td>Brew Coffee</td>\n",
       "      <td>Calle de Roger de Flor, 102</td>\n",
       "      <td>41.394562</td>\n",
       "      <td>2.178425</td>\n",
       "    </tr>\n",
       "    <tr>\n",
       "      <th>8</th>\n",
       "      <td>Orval</td>\n",
       "      <td>Calle de Buenaventura Muñoz, 31</td>\n",
       "      <td>41.392543</td>\n",
       "      <td>2.185749</td>\n",
       "    </tr>\n",
       "    <tr>\n",
       "      <th>9</th>\n",
       "      <td>El Petit Princep</td>\n",
       "      <td>Gran Vía de Les Corts Catalanes, 677</td>\n",
       "      <td>41.396371</td>\n",
       "      <td>2.177069</td>\n",
       "    </tr>\n",
       "  </tbody>\n",
       "</table>\n",
       "</div>"
      ],
      "text/plain": [
       "                       names                             locations        lat  \\\n",
       "0                Espai Joliu                    Carrer Badajoz, 95  41.398735   \n",
       "1             Skye coffee co                    Calle Pamplona, 88  41.396876   \n",
       "2       Nømad Roaster's Home                  Calle de Pujades, 95  41.397977   \n",
       "3         Three Marks Coffee                      Ausiàs Marc, 151  41.396989   \n",
       "4  Súper coffee & food store            Carrer de Roc Boronat, 102  41.402197   \n",
       "5                   Santa Fe                           Lington, 17  41.392081   \n",
       "6       Syra Coffee Poblenou                 Calle de Pujades, 100  41.396518   \n",
       "7                Brew Coffee           Calle de Roger de Flor, 102  41.394562   \n",
       "8                      Orval       Calle de Buenaventura Muñoz, 31  41.392543   \n",
       "9           El Petit Princep  Gran Vía de Les Corts Catalanes, 677  41.396371   \n",
       "\n",
       "       long  \n",
       "0  2.195069  \n",
       "1  2.191489  \n",
       "2  2.195589  \n",
       "3  2.183409  \n",
       "4  2.195696  \n",
       "5  2.185666  \n",
       "6  2.194170  \n",
       "7  2.178425  \n",
       "8  2.185749  \n",
       "9  2.177069  "
      ]
     },
     "execution_count": 42,
     "metadata": {},
     "output_type": "execute_result"
    }
   ],
   "source": [
    "coffee_places_df = pd.DataFrame({\n",
    "\"names\":coffee_names,\n",
    "\"locations\":coffee_locations,\n",
    "\"lat\":coffee_lat,\n",
    "\"long\":coffee_lon\n",
    "})\n",
    "\n",
    "coffee_places_df"
   ]
  },
  {
   "cell_type": "markdown",
   "id": "941b5dbf",
   "metadata": {},
   "source": [
    "# 3. Now get the 5 CLOSEST coffe places. Make use of params: limit, near?"
   ]
  },
  {
   "cell_type": "code",
   "execution_count": 44,
   "id": "fda8ddff",
   "metadata": {},
   "outputs": [
    {
     "data": {
      "text/html": [
       "<div>\n",
       "<style scoped>\n",
       "    .dataframe tbody tr th:only-of-type {\n",
       "        vertical-align: middle;\n",
       "    }\n",
       "\n",
       "    .dataframe tbody tr th {\n",
       "        vertical-align: top;\n",
       "    }\n",
       "\n",
       "    .dataframe thead th {\n",
       "        text-align: right;\n",
       "    }\n",
       "</style>\n",
       "<table border=\"1\" class=\"dataframe\">\n",
       "  <thead>\n",
       "    <tr style=\"text-align: right;\">\n",
       "      <th></th>\n",
       "      <th>names</th>\n",
       "      <th>locations</th>\n",
       "      <th>lat</th>\n",
       "      <th>long</th>\n",
       "    </tr>\n",
       "  </thead>\n",
       "  <tbody>\n",
       "    <tr>\n",
       "      <th>0</th>\n",
       "      <td>Skye coffee co</td>\n",
       "      <td>Calle Pamplona, 88</td>\n",
       "      <td>41.396876</td>\n",
       "      <td>2.191489</td>\n",
       "    </tr>\n",
       "    <tr>\n",
       "      <th>1</th>\n",
       "      <td>Cafeteria Botanica</td>\n",
       "      <td>Calle D'Àlaba, 100</td>\n",
       "      <td>41.398044</td>\n",
       "      <td>2.191915</td>\n",
       "    </tr>\n",
       "    <tr>\n",
       "      <th>2</th>\n",
       "      <td>Syra Coffee Poblenou</td>\n",
       "      <td>Calle de Pujades, 100</td>\n",
       "      <td>41.396518</td>\n",
       "      <td>2.194170</td>\n",
       "    </tr>\n",
       "    <tr>\n",
       "      <th>3</th>\n",
       "      <td>Espai Joliu</td>\n",
       "      <td>Carrer Badajoz, 95</td>\n",
       "      <td>41.398735</td>\n",
       "      <td>2.195069</td>\n",
       "    </tr>\n",
       "    <tr>\n",
       "      <th>4</th>\n",
       "      <td>Bar Sancho</td>\n",
       "      <td>Sancho de Ávila, 7</td>\n",
       "      <td>41.397037</td>\n",
       "      <td>2.187577</td>\n",
       "    </tr>\n",
       "  </tbody>\n",
       "</table>\n",
       "</div>"
      ],
      "text/plain": [
       "                  names              locations        lat      long\n",
       "0        Skye coffee co     Calle Pamplona, 88  41.396876  2.191489\n",
       "1    Cafeteria Botanica     Calle D'Àlaba, 100  41.398044  2.191915\n",
       "2  Syra Coffee Poblenou  Calle de Pujades, 100  41.396518  2.194170\n",
       "3           Espai Joliu     Carrer Badajoz, 95  41.398735  2.195069\n",
       "4            Bar Sancho     Sancho de Ávila, 7  41.397037  2.187577"
      ]
     },
     "execution_count": 44,
     "metadata": {},
     "output_type": "execute_result"
    }
   ],
   "source": [
    "# your code here\n",
    "\n",
    "import requests\n",
    "\n",
    "url = \"https://api.foursquare.com/v3/places/search?query=coffee&ll=41.3977421%2C2.1902493&radius=500&limit=5\"\n",
    "\n",
    "headers = {\n",
    "    \"accept\": \"application/json\",\n",
    "    \"Authorization\": \"fsq3r/TpfzZa1Jt2dzQr5+9KGqJwk9feYwt5/xcu0g6pewc=\"\n",
    "}\n",
    "\n",
    "response = requests.get(url, headers=headers)\n",
    "\n",
    "\n",
    "r2 = response.json()\n",
    "\n",
    "coffee_names =  [r2['results'][i]['name'] for i in range(len(r2['results'])) ]\n",
    "coffee_locations =  [r2['results'][i]['location']['address'] for i in range(len(r2['results'])) ]\n",
    "coffee_lat = [r2['results'][i][\"geocodes\"][\"main\"]['latitude'] for i in range(len(r2['results'])) ]\n",
    "coffee_lon = [r2['results'][i][\"geocodes\"][\"main\"]['longitude'] for i in range(len(r2['results'])) ]\n",
    "\n",
    "coffee_places_df2 = pd.DataFrame({\n",
    "\"names\":coffee_names,\n",
    "\"locations\":coffee_locations,\n",
    "\"lat\":coffee_lat,\n",
    "\"long\":coffee_lon\n",
    "})\n",
    "\n",
    "coffee_places_df2"
   ]
  },
  {
   "cell_type": "markdown",
   "id": "d19904e8",
   "metadata": {},
   "source": [
    "# 4. Define a function that returns name, lat, long for starbucks OR restaurants AND for any given location"
   ]
  },
  {
   "cell_type": "code",
   "execution_count": 53,
   "id": "1fad5153",
   "metadata": {},
   "outputs": [],
   "source": [
    "def foursquare_places (venue, coordinates):\n",
    "\n",
    "    url = f\"https://api.foursquare.com/v3/places/search?query={venue}&ll={coordinates[0]}%2C{coordinates[1]}&limit=10\"\n",
    "\n",
    "    headers = {\n",
    "        \"accept\": \"application/json\",\n",
    "        \"Authorization\": \"fsq3r/TpfzZa1Jt2dzQr5+9KGqJwk9feYwt5/xcu0g6pewc=\"\n",
    "    }\n",
    "\n",
    "    response = requests.get(url, headers=headers)\n",
    "\n",
    "\n",
    "    r2 = response.json()\n",
    "\n",
    "    names =  [r2['results'][i]['name'] for i in range(len(r2['results'])) ]\n",
    "    locations =  [r2['results'][i]['location']['address'] for i in range(len(r2['results'])) ]\n",
    "    lat = [r2['results'][i][\"geocodes\"][\"main\"]['latitude'] for i in range(len(r2['results'])) ]\n",
    "    lon = [r2['results'][i][\"geocodes\"][\"main\"]['longitude'] for i in range(len(r2['results'])) ]\n",
    "\n",
    "    df = pd.DataFrame({\n",
    "    \"names\":names,\n",
    "    \"locations\":locations,\n",
    "    \"lat\":lat,\n",
    "    \"long\":lon\n",
    "    })\n",
    "\n",
    "    return df"
   ]
  },
  {
   "cell_type": "code",
   "execution_count": 55,
   "id": "a3b86467",
   "metadata": {},
   "outputs": [],
   "source": [
    "coffee_json = foursquare_places(\"starbucks\",(41.39687,2.191489))"
   ]
  },
  {
   "cell_type": "markdown",
   "id": "1836c1a1",
   "metadata": {},
   "source": [
    "# 5. Export it into data folder as a json: `data/coffe_shops.json`"
   ]
  },
  {
   "cell_type": "code",
   "execution_count": 69,
   "id": "52f95e4b",
   "metadata": {},
   "outputs": [
    {
     "data": {
      "text/html": [
       "<div>\n",
       "<style scoped>\n",
       "    .dataframe tbody tr th:only-of-type {\n",
       "        vertical-align: middle;\n",
       "    }\n",
       "\n",
       "    .dataframe tbody tr th {\n",
       "        vertical-align: top;\n",
       "    }\n",
       "\n",
       "    .dataframe thead th {\n",
       "        text-align: right;\n",
       "    }\n",
       "</style>\n",
       "<table border=\"1\" class=\"dataframe\">\n",
       "  <thead>\n",
       "    <tr style=\"text-align: right;\">\n",
       "      <th></th>\n",
       "      <th>names</th>\n",
       "      <th>locations</th>\n",
       "      <th>lat</th>\n",
       "      <th>long</th>\n",
       "    </tr>\n",
       "  </thead>\n",
       "  <tbody>\n",
       "    <tr>\n",
       "      <th>0</th>\n",
       "      <td>Starbucks</td>\n",
       "      <td>Avinguda Diagonal, 208</td>\n",
       "      <td>41.404985</td>\n",
       "      <td>2.192439</td>\n",
       "    </tr>\n",
       "    <tr>\n",
       "      <th>1</th>\n",
       "      <td>Starbucks</td>\n",
       "      <td>Plaça de la Sagrada Família, 19</td>\n",
       "      <td>41.402337</td>\n",
       "      <td>2.174068</td>\n",
       "    </tr>\n",
       "    <tr>\n",
       "      <th>2</th>\n",
       "      <td>Starbucks</td>\n",
       "      <td>Calle Argentería, 61</td>\n",
       "      <td>41.383506</td>\n",
       "      <td>2.181090</td>\n",
       "    </tr>\n",
       "    <tr>\n",
       "      <th>3</th>\n",
       "      <td>Starbucks</td>\n",
       "      <td>Rambla de Canaletes, 109</td>\n",
       "      <td>41.383476</td>\n",
       "      <td>2.171057</td>\n",
       "    </tr>\n",
       "    <tr>\n",
       "      <th>4</th>\n",
       "      <td>Starbucks</td>\n",
       "      <td>Carrer D'Aragó, 271</td>\n",
       "      <td>41.392939</td>\n",
       "      <td>2.165386</td>\n",
       "    </tr>\n",
       "    <tr>\n",
       "      <th>5</th>\n",
       "      <td>Starbucks</td>\n",
       "      <td>Rambla de Catalunya, 10</td>\n",
       "      <td>41.388022</td>\n",
       "      <td>2.167940</td>\n",
       "    </tr>\n",
       "    <tr>\n",
       "      <th>6</th>\n",
       "      <td>Starbucks</td>\n",
       "      <td>Carrer de Pelai, 13-39</td>\n",
       "      <td>41.385779</td>\n",
       "      <td>2.167932</td>\n",
       "    </tr>\n",
       "    <tr>\n",
       "      <th>7</th>\n",
       "      <td>Starbucks</td>\n",
       "      <td>Ronda de Sant Pere, 17</td>\n",
       "      <td>41.388819</td>\n",
       "      <td>2.171884</td>\n",
       "    </tr>\n",
       "    <tr>\n",
       "      <th>8</th>\n",
       "      <td>Starbucks</td>\n",
       "      <td>Moll D'Espanya, 5</td>\n",
       "      <td>41.374808</td>\n",
       "      <td>2.182781</td>\n",
       "    </tr>\n",
       "    <tr>\n",
       "      <th>9</th>\n",
       "      <td>Starbucks</td>\n",
       "      <td>Rambla Canaletas, 89</td>\n",
       "      <td>41.381925</td>\n",
       "      <td>2.172230</td>\n",
       "    </tr>\n",
       "  </tbody>\n",
       "</table>\n",
       "</div>"
      ],
      "text/plain": [
       "       names                        locations        lat      long\n",
       "0  Starbucks           Avinguda Diagonal, 208  41.404985  2.192439\n",
       "1  Starbucks  Plaça de la Sagrada Família, 19  41.402337  2.174068\n",
       "2  Starbucks             Calle Argentería, 61  41.383506  2.181090\n",
       "3  Starbucks         Rambla de Canaletes, 109  41.383476  2.171057\n",
       "4  Starbucks              Carrer D'Aragó, 271  41.392939  2.165386\n",
       "5  Starbucks          Rambla de Catalunya, 10  41.388022  2.167940\n",
       "6  Starbucks           Carrer de Pelai, 13-39  41.385779  2.167932\n",
       "7  Starbucks           Ronda de Sant Pere, 17  41.388819  2.171884\n",
       "8  Starbucks                Moll D'Espanya, 5  41.374808  2.182781\n",
       "9  Starbucks             Rambla Canaletas, 89  41.381925  2.172230"
      ]
     },
     "execution_count": 69,
     "metadata": {},
     "output_type": "execute_result"
    }
   ],
   "source": [
    "coffee_json"
   ]
  },
  {
   "cell_type": "code",
   "execution_count": 73,
   "id": "7ac5f2a8",
   "metadata": {},
   "outputs": [],
   "source": [
    "# your code here\n",
    "coffee_json.to_json(\"data/coffe_shops.json\", orient=\"records\")"
   ]
  },
  {
   "cell_type": "markdown",
   "id": "2d77e99d",
   "metadata": {},
   "source": [
    "# BONUS: load it into MongoDB in a collection named \"ironcoffee\" using pymongo"
   ]
  },
  {
   "cell_type": "code",
   "execution_count": 82,
   "id": "85b94955",
   "metadata": {},
   "outputs": [],
   "source": [
    "# your code here\n",
    "\n",
    "client = MongoClient(\"localhost:27017\")\n",
    "db = client[\"ironhack\"]\n",
    "mycol = db.create_collection(\"ironcoffee\")\n"
   ]
  },
  {
   "cell_type": "code",
   "execution_count": 91,
   "id": "1d09f849",
   "metadata": {},
   "outputs": [
    {
     "data": {
      "text/plain": [
       "<pymongo.results.InsertManyResult at 0x21c6cfafc40>"
      ]
     },
     "execution_count": 91,
     "metadata": {},
     "output_type": "execute_result"
    }
   ],
   "source": [
    "ironcoffee = db[\"ironcoffee\"]\n",
    "\n",
    "with open(\"data\\coffe_shops.json\") as file:\n",
    "    file_data = json.load(file)\n",
    "\n",
    "\n",
    "ironcoffee.insert_many(file_data)"
   ]
  }
 ],
 "metadata": {
  "kernelspec": {
   "display_name": "ironhack",
   "language": "python",
   "name": "ironhack"
  },
  "language_info": {
   "codemirror_mode": {
    "name": "ipython",
    "version": 3
   },
   "file_extension": ".py",
   "mimetype": "text/x-python",
   "name": "python",
   "nbconvert_exporter": "python",
   "pygments_lexer": "ipython3",
   "version": "3.10.8"
  },
  "toc": {
   "base_numbering": 1,
   "nav_menu": {},
   "number_sections": true,
   "sideBar": true,
   "skip_h1_title": false,
   "title_cell": "Table of Contents",
   "title_sidebar": "Contents",
   "toc_cell": false,
   "toc_position": {},
   "toc_section_display": true,
   "toc_window_display": true
  }
 },
 "nbformat": 4,
 "nbformat_minor": 5
}
